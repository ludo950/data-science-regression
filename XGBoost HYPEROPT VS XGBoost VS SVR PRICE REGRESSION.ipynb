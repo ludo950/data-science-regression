{
 "cells": [
  {
   "cell_type": "markdown",
   "id": "friendly-poultry",
   "metadata": {},
   "source": [
    "# XGBoost HYPEROPT VS XGBoost VS SVR PRICE REGRESSION"
   ]
  },
  {
   "cell_type": "code",
   "execution_count": 336,
   "id": "martial-rotation",
   "metadata": {},
   "outputs": [],
   "source": [
    "from sklearn.model_selection import train_test_split\n",
    "from sklearn.model_selection import GridSearchCV, RandomizedSearchCV\n",
    "from sklearn.preprocessing import StandardScaler\n",
    "from sklearn.metrics import classification_report\n",
    "from sklearn.metrics import mean_squared_error\n",
    "import pandas as pd\n",
    "import matplotlib.pyplot as plt\n",
    "import numpy as np\n",
    "import seaborn as sns"
   ]
  },
  {
   "cell_type": "code",
   "execution_count": 337,
   "id": "ignored-contemporary",
   "metadata": {},
   "outputs": [],
   "source": [
    "df=pd.read_csv('audi.csv',skipinitialspace=True)"
   ]
  },
  {
   "cell_type": "markdown",
   "id": "eda88869",
   "metadata": {},
   "source": [
    "During the model deployment, I noticed that the values in the model columns had a blank space in front. For this reason, I decided to add \"skipinitialspace=True\" during the creation of the dataframe."
   ]
  },
  {
   "cell_type": "code",
   "execution_count": 338,
   "id": "later-probability",
   "metadata": {},
   "outputs": [
    {
     "data": {
      "text/html": [
       "<div>\n",
       "<style scoped>\n",
       "    .dataframe tbody tr th:only-of-type {\n",
       "        vertical-align: middle;\n",
       "    }\n",
       "\n",
       "    .dataframe tbody tr th {\n",
       "        vertical-align: top;\n",
       "    }\n",
       "\n",
       "    .dataframe thead th {\n",
       "        text-align: right;\n",
       "    }\n",
       "</style>\n",
       "<table border=\"1\" class=\"dataframe\">\n",
       "  <thead>\n",
       "    <tr style=\"text-align: right;\">\n",
       "      <th></th>\n",
       "      <th>model</th>\n",
       "      <th>year</th>\n",
       "      <th>price</th>\n",
       "      <th>transmission</th>\n",
       "      <th>mileage</th>\n",
       "      <th>fuelType</th>\n",
       "      <th>tax</th>\n",
       "      <th>mpg</th>\n",
       "      <th>engineSize</th>\n",
       "    </tr>\n",
       "  </thead>\n",
       "  <tbody>\n",
       "    <tr>\n",
       "      <th>0</th>\n",
       "      <td>A1</td>\n",
       "      <td>2017</td>\n",
       "      <td>12500</td>\n",
       "      <td>Manual</td>\n",
       "      <td>15735</td>\n",
       "      <td>Petrol</td>\n",
       "      <td>150</td>\n",
       "      <td>55.4</td>\n",
       "      <td>1.4</td>\n",
       "    </tr>\n",
       "    <tr>\n",
       "      <th>1</th>\n",
       "      <td>A6</td>\n",
       "      <td>2016</td>\n",
       "      <td>16500</td>\n",
       "      <td>Automatic</td>\n",
       "      <td>36203</td>\n",
       "      <td>Diesel</td>\n",
       "      <td>20</td>\n",
       "      <td>64.2</td>\n",
       "      <td>2.0</td>\n",
       "    </tr>\n",
       "    <tr>\n",
       "      <th>2</th>\n",
       "      <td>A1</td>\n",
       "      <td>2016</td>\n",
       "      <td>11000</td>\n",
       "      <td>Manual</td>\n",
       "      <td>29946</td>\n",
       "      <td>Petrol</td>\n",
       "      <td>30</td>\n",
       "      <td>55.4</td>\n",
       "      <td>1.4</td>\n",
       "    </tr>\n",
       "    <tr>\n",
       "      <th>3</th>\n",
       "      <td>A4</td>\n",
       "      <td>2017</td>\n",
       "      <td>16800</td>\n",
       "      <td>Automatic</td>\n",
       "      <td>25952</td>\n",
       "      <td>Diesel</td>\n",
       "      <td>145</td>\n",
       "      <td>67.3</td>\n",
       "      <td>2.0</td>\n",
       "    </tr>\n",
       "    <tr>\n",
       "      <th>4</th>\n",
       "      <td>A3</td>\n",
       "      <td>2019</td>\n",
       "      <td>17300</td>\n",
       "      <td>Manual</td>\n",
       "      <td>1998</td>\n",
       "      <td>Petrol</td>\n",
       "      <td>145</td>\n",
       "      <td>49.6</td>\n",
       "      <td>1.0</td>\n",
       "    </tr>\n",
       "  </tbody>\n",
       "</table>\n",
       "</div>"
      ],
      "text/plain": [
       "  model  year  price transmission  mileage fuelType  tax   mpg  engineSize\n",
       "0    A1  2017  12500       Manual    15735   Petrol  150  55.4         1.4\n",
       "1    A6  2016  16500    Automatic    36203   Diesel   20  64.2         2.0\n",
       "2    A1  2016  11000       Manual    29946   Petrol   30  55.4         1.4\n",
       "3    A4  2017  16800    Automatic    25952   Diesel  145  67.3         2.0\n",
       "4    A3  2019  17300       Manual     1998   Petrol  145  49.6         1.0"
      ]
     },
     "execution_count": 338,
     "metadata": {},
     "output_type": "execute_result"
    }
   ],
   "source": [
    "df.head()"
   ]
  },
  {
   "cell_type": "markdown",
   "id": "intended-worry",
   "metadata": {},
   "source": [
    "I will reorder the columns to group the categorical variables first and then the numerical ones"
   ]
  },
  {
   "cell_type": "code",
   "execution_count": 339,
   "id": "caring-defeat",
   "metadata": {},
   "outputs": [],
   "source": [
    "df=df[['model','year','transmission','fuelType','mileage','tax','mpg','engineSize','price']]"
   ]
  },
  {
   "cell_type": "code",
   "execution_count": 383,
   "id": "50c13bb9",
   "metadata": {},
   "outputs": [
    {
     "data": {
      "text/html": [
       "<div>\n",
       "<style scoped>\n",
       "    .dataframe tbody tr th:only-of-type {\n",
       "        vertical-align: middle;\n",
       "    }\n",
       "\n",
       "    .dataframe tbody tr th {\n",
       "        vertical-align: top;\n",
       "    }\n",
       "\n",
       "    .dataframe thead th {\n",
       "        text-align: right;\n",
       "    }\n",
       "</style>\n",
       "<table border=\"1\" class=\"dataframe\">\n",
       "  <thead>\n",
       "    <tr style=\"text-align: right;\">\n",
       "      <th></th>\n",
       "      <th>model</th>\n",
       "      <th>year</th>\n",
       "      <th>transmission</th>\n",
       "      <th>fuelType</th>\n",
       "      <th>mileage</th>\n",
       "      <th>tax</th>\n",
       "      <th>mpg</th>\n",
       "      <th>engineSize</th>\n",
       "      <th>price</th>\n",
       "    </tr>\n",
       "  </thead>\n",
       "  <tbody>\n",
       "    <tr>\n",
       "      <th>0</th>\n",
       "      <td>A1</td>\n",
       "      <td>2017</td>\n",
       "      <td>Manual</td>\n",
       "      <td>Petrol</td>\n",
       "      <td>15735</td>\n",
       "      <td>150</td>\n",
       "      <td>55.4</td>\n",
       "      <td>1.4</td>\n",
       "      <td>12500</td>\n",
       "    </tr>\n",
       "    <tr>\n",
       "      <th>1</th>\n",
       "      <td>A6</td>\n",
       "      <td>2016</td>\n",
       "      <td>Automatic</td>\n",
       "      <td>Diesel</td>\n",
       "      <td>36203</td>\n",
       "      <td>20</td>\n",
       "      <td>64.2</td>\n",
       "      <td>2.0</td>\n",
       "      <td>16500</td>\n",
       "    </tr>\n",
       "    <tr>\n",
       "      <th>2</th>\n",
       "      <td>A1</td>\n",
       "      <td>2016</td>\n",
       "      <td>Manual</td>\n",
       "      <td>Petrol</td>\n",
       "      <td>29946</td>\n",
       "      <td>30</td>\n",
       "      <td>55.4</td>\n",
       "      <td>1.4</td>\n",
       "      <td>11000</td>\n",
       "    </tr>\n",
       "    <tr>\n",
       "      <th>3</th>\n",
       "      <td>A4</td>\n",
       "      <td>2017</td>\n",
       "      <td>Automatic</td>\n",
       "      <td>Diesel</td>\n",
       "      <td>25952</td>\n",
       "      <td>145</td>\n",
       "      <td>67.3</td>\n",
       "      <td>2.0</td>\n",
       "      <td>16800</td>\n",
       "    </tr>\n",
       "    <tr>\n",
       "      <th>4</th>\n",
       "      <td>A3</td>\n",
       "      <td>2019</td>\n",
       "      <td>Manual</td>\n",
       "      <td>Petrol</td>\n",
       "      <td>1998</td>\n",
       "      <td>145</td>\n",
       "      <td>49.6</td>\n",
       "      <td>1.0</td>\n",
       "      <td>17300</td>\n",
       "    </tr>\n",
       "    <tr>\n",
       "      <th>5</th>\n",
       "      <td>A1</td>\n",
       "      <td>2016</td>\n",
       "      <td>Automatic</td>\n",
       "      <td>Petrol</td>\n",
       "      <td>32260</td>\n",
       "      <td>30</td>\n",
       "      <td>58.9</td>\n",
       "      <td>1.4</td>\n",
       "      <td>13900</td>\n",
       "    </tr>\n",
       "    <tr>\n",
       "      <th>6</th>\n",
       "      <td>A6</td>\n",
       "      <td>2016</td>\n",
       "      <td>Automatic</td>\n",
       "      <td>Diesel</td>\n",
       "      <td>76788</td>\n",
       "      <td>30</td>\n",
       "      <td>61.4</td>\n",
       "      <td>2.0</td>\n",
       "      <td>13250</td>\n",
       "    </tr>\n",
       "    <tr>\n",
       "      <th>7</th>\n",
       "      <td>A4</td>\n",
       "      <td>2016</td>\n",
       "      <td>Manual</td>\n",
       "      <td>Diesel</td>\n",
       "      <td>75185</td>\n",
       "      <td>20</td>\n",
       "      <td>70.6</td>\n",
       "      <td>2.0</td>\n",
       "      <td>11750</td>\n",
       "    </tr>\n",
       "    <tr>\n",
       "      <th>8</th>\n",
       "      <td>A3</td>\n",
       "      <td>2015</td>\n",
       "      <td>Manual</td>\n",
       "      <td>Petrol</td>\n",
       "      <td>46112</td>\n",
       "      <td>20</td>\n",
       "      <td>60.1</td>\n",
       "      <td>1.4</td>\n",
       "      <td>10200</td>\n",
       "    </tr>\n",
       "    <tr>\n",
       "      <th>9</th>\n",
       "      <td>A1</td>\n",
       "      <td>2016</td>\n",
       "      <td>Manual</td>\n",
       "      <td>Petrol</td>\n",
       "      <td>22451</td>\n",
       "      <td>30</td>\n",
       "      <td>55.4</td>\n",
       "      <td>1.4</td>\n",
       "      <td>12000</td>\n",
       "    </tr>\n",
       "  </tbody>\n",
       "</table>\n",
       "</div>"
      ],
      "text/plain": [
       "  model  year transmission fuelType  mileage  tax   mpg  engineSize  price\n",
       "0    A1  2017       Manual   Petrol    15735  150  55.4         1.4  12500\n",
       "1    A6  2016    Automatic   Diesel    36203   20  64.2         2.0  16500\n",
       "2    A1  2016       Manual   Petrol    29946   30  55.4         1.4  11000\n",
       "3    A4  2017    Automatic   Diesel    25952  145  67.3         2.0  16800\n",
       "4    A3  2019       Manual   Petrol     1998  145  49.6         1.0  17300\n",
       "5    A1  2016    Automatic   Petrol    32260   30  58.9         1.4  13900\n",
       "6    A6  2016    Automatic   Diesel    76788   30  61.4         2.0  13250\n",
       "7    A4  2016       Manual   Diesel    75185   20  70.6         2.0  11750\n",
       "8    A3  2015       Manual   Petrol    46112   20  60.1         1.4  10200\n",
       "9    A1  2016       Manual   Petrol    22451   30  55.4         1.4  12000"
      ]
     },
     "execution_count": 383,
     "metadata": {},
     "output_type": "execute_result"
    }
   ],
   "source": [
    "df.head(10)"
   ]
  },
  {
   "cell_type": "code",
   "execution_count": 341,
   "id": "mathematical-boards",
   "metadata": {},
   "outputs": [
    {
     "name": "stdout",
     "output_type": "stream",
     "text": [
      "<class 'pandas.core.frame.DataFrame'>\n",
      "RangeIndex: 10668 entries, 0 to 10667\n",
      "Data columns (total 9 columns):\n",
      " #   Column        Non-Null Count  Dtype  \n",
      "---  ------        --------------  -----  \n",
      " 0   model         10668 non-null  object \n",
      " 1   year          10668 non-null  int64  \n",
      " 2   transmission  10668 non-null  object \n",
      " 3   fuelType      10668 non-null  object \n",
      " 4   mileage       10668 non-null  int64  \n",
      " 5   tax           10668 non-null  int64  \n",
      " 6   mpg           10668 non-null  float64\n",
      " 7   engineSize    10668 non-null  float64\n",
      " 8   price         10668 non-null  int64  \n",
      "dtypes: float64(2), int64(4), object(3)\n",
      "memory usage: 750.2+ KB\n"
     ]
    }
   ],
   "source": [
    "df.info()"
   ]
  },
  {
   "cell_type": "markdown",
   "id": "7c9882ef",
   "metadata": {},
   "source": [
    "There are no missing values"
   ]
  },
  {
   "cell_type": "markdown",
   "id": "eb6485d2",
   "metadata": {},
   "source": [
    "# Cateogorical Encoding"
   ]
  },
  {
   "cell_type": "code",
   "execution_count": 342,
   "id": "through-treatment",
   "metadata": {},
   "outputs": [],
   "source": [
    "#Convert year column to object so we can include it in the categorical mask\n",
    "df['year']=df['year'].astype(object)"
   ]
  },
  {
   "cell_type": "code",
   "execution_count": 343,
   "id": "lesbian-muslim",
   "metadata": {},
   "outputs": [],
   "source": [
    "# Create a boolean mask for categorical columns\n",
    "categorical_mask = (df.dtypes == object)"
   ]
  },
  {
   "cell_type": "code",
   "execution_count": 344,
   "id": "signed-diesel",
   "metadata": {},
   "outputs": [],
   "source": [
    "categorical_columns = df.columns[categorical_mask].tolist()"
   ]
  },
  {
   "cell_type": "code",
   "execution_count": 345,
   "id": "mediterranean-burlington",
   "metadata": {},
   "outputs": [
    {
     "name": "stdout",
     "output_type": "stream",
     "text": [
      "  model  year transmission fuelType\n",
      "0    A1  2017       Manual   Petrol\n",
      "1    A6  2016    Automatic   Diesel\n",
      "2    A1  2016       Manual   Petrol\n",
      "3    A4  2017    Automatic   Diesel\n",
      "4    A3  2019       Manual   Petrol\n"
     ]
    }
   ],
   "source": [
    "print(df[categorical_columns].head())"
   ]
  },
  {
   "cell_type": "code",
   "execution_count": 346,
   "id": "divine-arnold",
   "metadata": {},
   "outputs": [
    {
     "data": {
      "text/html": [
       "<div>\n",
       "<style scoped>\n",
       "    .dataframe tbody tr th:only-of-type {\n",
       "        vertical-align: middle;\n",
       "    }\n",
       "\n",
       "    .dataframe tbody tr th {\n",
       "        vertical-align: top;\n",
       "    }\n",
       "\n",
       "    .dataframe thead th {\n",
       "        text-align: right;\n",
       "    }\n",
       "</style>\n",
       "<table border=\"1\" class=\"dataframe\">\n",
       "  <thead>\n",
       "    <tr style=\"text-align: right;\">\n",
       "      <th></th>\n",
       "      <th>model</th>\n",
       "      <th>year</th>\n",
       "      <th>transmission</th>\n",
       "      <th>fuelType</th>\n",
       "    </tr>\n",
       "  </thead>\n",
       "  <tbody>\n",
       "    <tr>\n",
       "      <th>count</th>\n",
       "      <td>10668</td>\n",
       "      <td>10668</td>\n",
       "      <td>10668</td>\n",
       "      <td>10668</td>\n",
       "    </tr>\n",
       "    <tr>\n",
       "      <th>unique</th>\n",
       "      <td>26</td>\n",
       "      <td>21</td>\n",
       "      <td>3</td>\n",
       "      <td>3</td>\n",
       "    </tr>\n",
       "    <tr>\n",
       "      <th>top</th>\n",
       "      <td>A3</td>\n",
       "      <td>2019</td>\n",
       "      <td>Manual</td>\n",
       "      <td>Diesel</td>\n",
       "    </tr>\n",
       "    <tr>\n",
       "      <th>freq</th>\n",
       "      <td>1929</td>\n",
       "      <td>3197</td>\n",
       "      <td>4369</td>\n",
       "      <td>5577</td>\n",
       "    </tr>\n",
       "  </tbody>\n",
       "</table>\n",
       "</div>"
      ],
      "text/plain": [
       "        model   year transmission fuelType\n",
       "count   10668  10668        10668    10668\n",
       "unique     26     21            3        3\n",
       "top        A3   2019       Manual   Diesel\n",
       "freq     1929   3197         4369     5577"
      ]
     },
     "execution_count": 346,
     "metadata": {},
     "output_type": "execute_result"
    }
   ],
   "source": [
    "df[categorical_columns].describe()"
   ]
  },
  {
   "cell_type": "code",
   "execution_count": 347,
   "id": "together-iceland",
   "metadata": {},
   "outputs": [],
   "source": [
    "#COLUMN TRANSFORMER to get OH conded cols!\n",
    "#This allows us to skip the label encoder and directly apply the one hot encoding!\n",
    "\n",
    "#from sklearn.preprocessing import OneHotEncoder\n",
    "#from sklearn.compose import ColumnTransformer\n",
    "#ct = ColumnTransformer([(categorical_columns, OneHotEncoder(), [0])], remainder = 'passthrough')\n",
    "#df[categorical_columns] = ct.fit_transform(df[categorical_columns])"
   ]
  },
  {
   "cell_type": "markdown",
   "id": "1c0f2a7c",
   "metadata": {},
   "source": [
    "## Analyze the engine size and mpg for each car model"
   ]
  },
  {
   "cell_type": "code",
   "execution_count": 348,
   "id": "c5d392b9",
   "metadata": {},
   "outputs": [
    {
     "data": {
      "text/html": [
       "<div>\n",
       "<style scoped>\n",
       "    .dataframe tbody tr th:only-of-type {\n",
       "        vertical-align: middle;\n",
       "    }\n",
       "\n",
       "    .dataframe tbody tr th {\n",
       "        vertical-align: top;\n",
       "    }\n",
       "\n",
       "    .dataframe thead th {\n",
       "        text-align: right;\n",
       "    }\n",
       "</style>\n",
       "<table border=\"1\" class=\"dataframe\">\n",
       "  <thead>\n",
       "    <tr style=\"text-align: right;\">\n",
       "      <th></th>\n",
       "      <th>model</th>\n",
       "      <th>year</th>\n",
       "      <th>transmission</th>\n",
       "      <th>fuelType</th>\n",
       "      <th>mpg</th>\n",
       "      <th>engineSize</th>\n",
       "    </tr>\n",
       "  </thead>\n",
       "  <tbody>\n",
       "    <tr>\n",
       "      <th>10632</th>\n",
       "      <td>A1</td>\n",
       "      <td>2010</td>\n",
       "      <td>Automatic</td>\n",
       "      <td>Petrol</td>\n",
       "      <td>53.3</td>\n",
       "      <td>1.4</td>\n",
       "    </tr>\n",
       "    <tr>\n",
       "      <th>9625</th>\n",
       "      <td>A1</td>\n",
       "      <td>2011</td>\n",
       "      <td>Manual</td>\n",
       "      <td>Diesel</td>\n",
       "      <td>70.6</td>\n",
       "      <td>1.6</td>\n",
       "    </tr>\n",
       "    <tr>\n",
       "      <th>9791</th>\n",
       "      <td>A1</td>\n",
       "      <td>2011</td>\n",
       "      <td>Manual</td>\n",
       "      <td>Petrol</td>\n",
       "      <td>53.3</td>\n",
       "      <td>1.4</td>\n",
       "    </tr>\n",
       "    <tr>\n",
       "      <th>7950</th>\n",
       "      <td>A1</td>\n",
       "      <td>2012</td>\n",
       "      <td>Manual</td>\n",
       "      <td>Diesel</td>\n",
       "      <td>74.3</td>\n",
       "      <td>1.6</td>\n",
       "    </tr>\n",
       "    <tr>\n",
       "      <th>8019</th>\n",
       "      <td>A1</td>\n",
       "      <td>2012</td>\n",
       "      <td>Manual</td>\n",
       "      <td>Petrol</td>\n",
       "      <td>53.3</td>\n",
       "      <td>1.4</td>\n",
       "    </tr>\n",
       "  </tbody>\n",
       "</table>\n",
       "</div>"
      ],
      "text/plain": [
       "      model  year transmission fuelType   mpg  engineSize\n",
       "10632    A1  2010    Automatic   Petrol  53.3         1.4\n",
       "9625     A1  2011       Manual   Diesel  70.6         1.6\n",
       "9791     A1  2011       Manual   Petrol  53.3         1.4\n",
       "7950     A1  2012       Manual   Diesel  74.3         1.6\n",
       "8019     A1  2012       Manual   Petrol  53.3         1.4"
      ]
     },
     "execution_count": 348,
     "metadata": {},
     "output_type": "execute_result"
    }
   ],
   "source": [
    "df_models=df.drop(['price','mileage','tax'], axis=1).drop_duplicates().sort_values(by=['model','year'])\n",
    "df_models.head()"
   ]
  },
  {
   "cell_type": "code",
   "execution_count": 349,
   "id": "73f8974f",
   "metadata": {},
   "outputs": [],
   "source": [
    "# Example of possible query from the user:\n",
    "feat=['A1','2017','Manual','Petrol','15735','150']"
   ]
  },
  {
   "cell_type": "code",
   "execution_count": 350,
   "id": "b82aa03c",
   "metadata": {},
   "outputs": [
    {
     "data": {
      "text/html": [
       "<div>\n",
       "<style scoped>\n",
       "    .dataframe tbody tr th:only-of-type {\n",
       "        vertical-align: middle;\n",
       "    }\n",
       "\n",
       "    .dataframe tbody tr th {\n",
       "        vertical-align: top;\n",
       "    }\n",
       "\n",
       "    .dataframe thead th {\n",
       "        text-align: right;\n",
       "    }\n",
       "</style>\n",
       "<table border=\"1\" class=\"dataframe\">\n",
       "  <thead>\n",
       "    <tr style=\"text-align: right;\">\n",
       "      <th></th>\n",
       "      <th>model</th>\n",
       "      <th>year</th>\n",
       "      <th>transmission</th>\n",
       "      <th>fuelType</th>\n",
       "      <th>mpg</th>\n",
       "      <th>engineSize</th>\n",
       "    </tr>\n",
       "  </thead>\n",
       "  <tbody>\n",
       "    <tr>\n",
       "      <th>0</th>\n",
       "      <td>A1</td>\n",
       "      <td>2017</td>\n",
       "      <td>Manual</td>\n",
       "      <td>Petrol</td>\n",
       "      <td>55.4</td>\n",
       "      <td>1.4</td>\n",
       "    </tr>\n",
       "    <tr>\n",
       "      <th>36</th>\n",
       "      <td>A1</td>\n",
       "      <td>2017</td>\n",
       "      <td>Manual</td>\n",
       "      <td>Petrol</td>\n",
       "      <td>67.3</td>\n",
       "      <td>1.0</td>\n",
       "    </tr>\n",
       "    <tr>\n",
       "      <th>94</th>\n",
       "      <td>A1</td>\n",
       "      <td>2017</td>\n",
       "      <td>Manual</td>\n",
       "      <td>Petrol</td>\n",
       "      <td>58.9</td>\n",
       "      <td>1.4</td>\n",
       "    </tr>\n",
       "    <tr>\n",
       "      <th>334</th>\n",
       "      <td>A1</td>\n",
       "      <td>2017</td>\n",
       "      <td>Manual</td>\n",
       "      <td>Petrol</td>\n",
       "      <td>57.6</td>\n",
       "      <td>1.4</td>\n",
       "    </tr>\n",
       "    <tr>\n",
       "      <th>548</th>\n",
       "      <td>A1</td>\n",
       "      <td>2017</td>\n",
       "      <td>Manual</td>\n",
       "      <td>Petrol</td>\n",
       "      <td>56.5</td>\n",
       "      <td>1.4</td>\n",
       "    </tr>\n",
       "    <tr>\n",
       "      <th>1376</th>\n",
       "      <td>A1</td>\n",
       "      <td>2017</td>\n",
       "      <td>Manual</td>\n",
       "      <td>Petrol</td>\n",
       "      <td>39.8</td>\n",
       "      <td>2.0</td>\n",
       "    </tr>\n",
       "    <tr>\n",
       "      <th>3228</th>\n",
       "      <td>A1</td>\n",
       "      <td>2017</td>\n",
       "      <td>Manual</td>\n",
       "      <td>Petrol</td>\n",
       "      <td>70.6</td>\n",
       "      <td>1.4</td>\n",
       "    </tr>\n",
       "    <tr>\n",
       "      <th>5675</th>\n",
       "      <td>A1</td>\n",
       "      <td>2017</td>\n",
       "      <td>Manual</td>\n",
       "      <td>Petrol</td>\n",
       "      <td>39.2</td>\n",
       "      <td>2.0</td>\n",
       "    </tr>\n",
       "    <tr>\n",
       "      <th>7782</th>\n",
       "      <td>A1</td>\n",
       "      <td>2017</td>\n",
       "      <td>Manual</td>\n",
       "      <td>Petrol</td>\n",
       "      <td>40.4</td>\n",
       "      <td>2.0</td>\n",
       "    </tr>\n",
       "  </tbody>\n",
       "</table>\n",
       "</div>"
      ],
      "text/plain": [
       "     model  year transmission fuelType   mpg  engineSize\n",
       "0       A1  2017       Manual   Petrol  55.4         1.4\n",
       "36      A1  2017       Manual   Petrol  67.3         1.0\n",
       "94      A1  2017       Manual   Petrol  58.9         1.4\n",
       "334     A1  2017       Manual   Petrol  57.6         1.4\n",
       "548     A1  2017       Manual   Petrol  56.5         1.4\n",
       "1376    A1  2017       Manual   Petrol  39.8         2.0\n",
       "3228    A1  2017       Manual   Petrol  70.6         1.4\n",
       "5675    A1  2017       Manual   Petrol  39.2         2.0\n",
       "7782    A1  2017       Manual   Petrol  40.4         2.0"
      ]
     },
     "execution_count": 350,
     "metadata": {},
     "output_type": "execute_result"
    }
   ],
   "source": [
    "df_models.loc[(df['model']==feat[0]) & (df_models['year']==int(feat[1])) & (df_models['transmission']==feat[2]) & (df_models['fuelType']==feat[3])]"
   ]
  },
  {
   "cell_type": "markdown",
   "id": "3da55b30",
   "metadata": {},
   "source": [
    "Apparently the mpg and enginesize can vary for the same car model of the same year. This means that the owner should manually input the values."
   ]
  },
  {
   "cell_type": "markdown",
   "id": "2902349d",
   "metadata": {},
   "source": [
    "## Encoding by get dummies (not good for model deployment)"
   ]
  },
  {
   "cell_type": "code",
   "execution_count": 351,
   "id": "compatible-polyester",
   "metadata": {},
   "outputs": [],
   "source": [
    "#Create a copy of the DF where we substitue the categorical column into more cols with dummies\n",
    "encoded_df=df.copy()\n",
    "encoded_df = pd.concat([df.drop(categorical_columns, axis=1), pd.get_dummies(df[categorical_columns], drop_first=True)], axis=1)"
   ]
  },
  {
   "cell_type": "markdown",
   "id": "informed-detail",
   "metadata": {},
   "source": [
    "## One Hot encoding"
   ]
  },
  {
   "cell_type": "code",
   "execution_count": 352,
   "id": "absent-attempt",
   "metadata": {},
   "outputs": [
    {
     "data": {
      "text/plain": [
       "OneHotEncoder()"
      ]
     },
     "execution_count": 352,
     "metadata": {},
     "output_type": "execute_result"
    }
   ],
   "source": [
    "from sklearn.preprocessing import OneHotEncoder\n",
    "enc = OneHotEncoder()\n",
    "enc.fit(df[categorical_columns])"
   ]
  },
  {
   "cell_type": "code",
   "execution_count": 353,
   "id": "68d6a99f",
   "metadata": {},
   "outputs": [
    {
     "data": {
      "text/html": [
       "<div>\n",
       "<style scoped>\n",
       "    .dataframe tbody tr th:only-of-type {\n",
       "        vertical-align: middle;\n",
       "    }\n",
       "\n",
       "    .dataframe tbody tr th {\n",
       "        vertical-align: top;\n",
       "    }\n",
       "\n",
       "    .dataframe thead th {\n",
       "        text-align: right;\n",
       "    }\n",
       "</style>\n",
       "<table border=\"1\" class=\"dataframe\">\n",
       "  <thead>\n",
       "    <tr style=\"text-align: right;\">\n",
       "      <th></th>\n",
       "      <th>model</th>\n",
       "      <th>year</th>\n",
       "      <th>transmission</th>\n",
       "      <th>fuelType</th>\n",
       "    </tr>\n",
       "  </thead>\n",
       "  <tbody>\n",
       "    <tr>\n",
       "      <th>0</th>\n",
       "      <td>A1</td>\n",
       "      <td>2017</td>\n",
       "      <td>Manual</td>\n",
       "      <td>Petrol</td>\n",
       "    </tr>\n",
       "    <tr>\n",
       "      <th>1</th>\n",
       "      <td>A6</td>\n",
       "      <td>2016</td>\n",
       "      <td>Automatic</td>\n",
       "      <td>Diesel</td>\n",
       "    </tr>\n",
       "    <tr>\n",
       "      <th>2</th>\n",
       "      <td>A1</td>\n",
       "      <td>2016</td>\n",
       "      <td>Manual</td>\n",
       "      <td>Petrol</td>\n",
       "    </tr>\n",
       "    <tr>\n",
       "      <th>3</th>\n",
       "      <td>A4</td>\n",
       "      <td>2017</td>\n",
       "      <td>Automatic</td>\n",
       "      <td>Diesel</td>\n",
       "    </tr>\n",
       "    <tr>\n",
       "      <th>4</th>\n",
       "      <td>A3</td>\n",
       "      <td>2019</td>\n",
       "      <td>Manual</td>\n",
       "      <td>Petrol</td>\n",
       "    </tr>\n",
       "  </tbody>\n",
       "</table>\n",
       "</div>"
      ],
      "text/plain": [
       "  model  year transmission fuelType\n",
       "0    A1  2017       Manual   Petrol\n",
       "1    A6  2016    Automatic   Diesel\n",
       "2    A1  2016       Manual   Petrol\n",
       "3    A4  2017    Automatic   Diesel\n",
       "4    A3  2019       Manual   Petrol"
      ]
     },
     "execution_count": 353,
     "metadata": {},
     "output_type": "execute_result"
    }
   ],
   "source": [
    "df[categorical_columns].head()"
   ]
  },
  {
   "cell_type": "code",
   "execution_count": 354,
   "id": "deluxe-semester",
   "metadata": {},
   "outputs": [
    {
     "data": {
      "text/plain": [
       "['encoder.joblib']"
      ]
     },
     "execution_count": 354,
     "metadata": {},
     "output_type": "execute_result"
    }
   ],
   "source": [
    "# for model deployment, both pickle and joblib work fine\n",
    "\n",
    "import pickle\n",
    "import joblib\n",
    "\n",
    "pickle.dump(enc, open('encoder.pkl','wb'))\n",
    "joblib.dump(enc, 'encoder.joblib')"
   ]
  },
  {
   "cell_type": "code",
   "execution_count": 355,
   "id": "front-berlin",
   "metadata": {},
   "outputs": [
    {
     "data": {
      "text/html": [
       "<div>\n",
       "<style scoped>\n",
       "    .dataframe tbody tr th:only-of-type {\n",
       "        vertical-align: middle;\n",
       "    }\n",
       "\n",
       "    .dataframe tbody tr th {\n",
       "        vertical-align: top;\n",
       "    }\n",
       "\n",
       "    .dataframe thead th {\n",
       "        text-align: right;\n",
       "    }\n",
       "</style>\n",
       "<table border=\"1\" class=\"dataframe\">\n",
       "  <thead>\n",
       "    <tr style=\"text-align: right;\">\n",
       "      <th></th>\n",
       "      <th>mileage</th>\n",
       "      <th>tax</th>\n",
       "      <th>mpg</th>\n",
       "      <th>engineSize</th>\n",
       "      <th>price</th>\n",
       "      <th>model_A1</th>\n",
       "      <th>model_A2</th>\n",
       "      <th>model_A3</th>\n",
       "      <th>model_A4</th>\n",
       "      <th>model_A5</th>\n",
       "      <th>...</th>\n",
       "      <th>year_2017</th>\n",
       "      <th>year_2018</th>\n",
       "      <th>year_2019</th>\n",
       "      <th>year_2020</th>\n",
       "      <th>transmission_Automatic</th>\n",
       "      <th>transmission_Manual</th>\n",
       "      <th>transmission_Semi-Auto</th>\n",
       "      <th>fuelType_Diesel</th>\n",
       "      <th>fuelType_Hybrid</th>\n",
       "      <th>fuelType_Petrol</th>\n",
       "    </tr>\n",
       "  </thead>\n",
       "  <tbody>\n",
       "    <tr>\n",
       "      <th>0</th>\n",
       "      <td>15735</td>\n",
       "      <td>150</td>\n",
       "      <td>55.4</td>\n",
       "      <td>1.4</td>\n",
       "      <td>12500</td>\n",
       "      <td>1</td>\n",
       "      <td>0</td>\n",
       "      <td>0</td>\n",
       "      <td>0</td>\n",
       "      <td>0</td>\n",
       "      <td>...</td>\n",
       "      <td>1</td>\n",
       "      <td>0</td>\n",
       "      <td>0</td>\n",
       "      <td>0</td>\n",
       "      <td>0</td>\n",
       "      <td>1</td>\n",
       "      <td>0</td>\n",
       "      <td>0</td>\n",
       "      <td>0</td>\n",
       "      <td>1</td>\n",
       "    </tr>\n",
       "    <tr>\n",
       "      <th>1</th>\n",
       "      <td>36203</td>\n",
       "      <td>20</td>\n",
       "      <td>64.2</td>\n",
       "      <td>2.0</td>\n",
       "      <td>16500</td>\n",
       "      <td>0</td>\n",
       "      <td>0</td>\n",
       "      <td>0</td>\n",
       "      <td>0</td>\n",
       "      <td>0</td>\n",
       "      <td>...</td>\n",
       "      <td>0</td>\n",
       "      <td>0</td>\n",
       "      <td>0</td>\n",
       "      <td>0</td>\n",
       "      <td>1</td>\n",
       "      <td>0</td>\n",
       "      <td>0</td>\n",
       "      <td>1</td>\n",
       "      <td>0</td>\n",
       "      <td>0</td>\n",
       "    </tr>\n",
       "    <tr>\n",
       "      <th>2</th>\n",
       "      <td>29946</td>\n",
       "      <td>30</td>\n",
       "      <td>55.4</td>\n",
       "      <td>1.4</td>\n",
       "      <td>11000</td>\n",
       "      <td>1</td>\n",
       "      <td>0</td>\n",
       "      <td>0</td>\n",
       "      <td>0</td>\n",
       "      <td>0</td>\n",
       "      <td>...</td>\n",
       "      <td>0</td>\n",
       "      <td>0</td>\n",
       "      <td>0</td>\n",
       "      <td>0</td>\n",
       "      <td>0</td>\n",
       "      <td>1</td>\n",
       "      <td>0</td>\n",
       "      <td>0</td>\n",
       "      <td>0</td>\n",
       "      <td>1</td>\n",
       "    </tr>\n",
       "    <tr>\n",
       "      <th>3</th>\n",
       "      <td>25952</td>\n",
       "      <td>145</td>\n",
       "      <td>67.3</td>\n",
       "      <td>2.0</td>\n",
       "      <td>16800</td>\n",
       "      <td>0</td>\n",
       "      <td>0</td>\n",
       "      <td>0</td>\n",
       "      <td>1</td>\n",
       "      <td>0</td>\n",
       "      <td>...</td>\n",
       "      <td>1</td>\n",
       "      <td>0</td>\n",
       "      <td>0</td>\n",
       "      <td>0</td>\n",
       "      <td>1</td>\n",
       "      <td>0</td>\n",
       "      <td>0</td>\n",
       "      <td>1</td>\n",
       "      <td>0</td>\n",
       "      <td>0</td>\n",
       "    </tr>\n",
       "    <tr>\n",
       "      <th>4</th>\n",
       "      <td>1998</td>\n",
       "      <td>145</td>\n",
       "      <td>49.6</td>\n",
       "      <td>1.0</td>\n",
       "      <td>17300</td>\n",
       "      <td>0</td>\n",
       "      <td>0</td>\n",
       "      <td>1</td>\n",
       "      <td>0</td>\n",
       "      <td>0</td>\n",
       "      <td>...</td>\n",
       "      <td>0</td>\n",
       "      <td>0</td>\n",
       "      <td>1</td>\n",
       "      <td>0</td>\n",
       "      <td>0</td>\n",
       "      <td>1</td>\n",
       "      <td>0</td>\n",
       "      <td>0</td>\n",
       "      <td>0</td>\n",
       "      <td>1</td>\n",
       "    </tr>\n",
       "  </tbody>\n",
       "</table>\n",
       "<p>5 rows × 58 columns</p>\n",
       "</div>"
      ],
      "text/plain": [
       "   mileage  tax   mpg  engineSize  price  model_A1  model_A2  model_A3  \\\n",
       "0    15735  150  55.4         1.4  12500         1         0         0   \n",
       "1    36203   20  64.2         2.0  16500         0         0         0   \n",
       "2    29946   30  55.4         1.4  11000         1         0         0   \n",
       "3    25952  145  67.3         2.0  16800         0         0         0   \n",
       "4     1998  145  49.6         1.0  17300         0         0         1   \n",
       "\n",
       "   model_A4  model_A5  ...  year_2017  year_2018  year_2019  year_2020  \\\n",
       "0         0         0  ...          1          0          0          0   \n",
       "1         0         0  ...          0          0          0          0   \n",
       "2         0         0  ...          0          0          0          0   \n",
       "3         1         0  ...          1          0          0          0   \n",
       "4         0         0  ...          0          0          1          0   \n",
       "\n",
       "   transmission_Automatic  transmission_Manual  transmission_Semi-Auto  \\\n",
       "0                       0                    1                       0   \n",
       "1                       1                    0                       0   \n",
       "2                       0                    1                       0   \n",
       "3                       1                    0                       0   \n",
       "4                       0                    1                       0   \n",
       "\n",
       "   fuelType_Diesel  fuelType_Hybrid  fuelType_Petrol  \n",
       "0                0                0                1  \n",
       "1                1                0                0  \n",
       "2                0                0                1  \n",
       "3                1                0                0  \n",
       "4                0                0                1  \n",
       "\n",
       "[5 rows x 58 columns]"
      ]
     },
     "execution_count": 355,
     "metadata": {},
     "output_type": "execute_result"
    }
   ],
   "source": [
    "df_encode = df[categorical_columns]\n",
    "df_encode = pd.DataFrame(data=enc.transform(df_encode).toarray(),columns=enc.get_feature_names(categorical_columns), dtype=bool)\n",
    "# trasfer true and false to 1 and 0\n",
    "df_encode = df_encode * 1\n",
    "\n",
    "# concatenate data\n",
    "df_OHE = pd.concat((df.drop(categorical_columns, axis=1), df_encode), axis=1)\n",
    "df_OHE.head()"
   ]
  },
  {
   "cell_type": "code",
   "execution_count": 356,
   "id": "headed-grass",
   "metadata": {},
   "outputs": [
    {
     "data": {
      "text/html": [
       "<div>\n",
       "<style scoped>\n",
       "    .dataframe tbody tr th:only-of-type {\n",
       "        vertical-align: middle;\n",
       "    }\n",
       "\n",
       "    .dataframe tbody tr th {\n",
       "        vertical-align: top;\n",
       "    }\n",
       "\n",
       "    .dataframe thead th {\n",
       "        text-align: right;\n",
       "    }\n",
       "</style>\n",
       "<table border=\"1\" class=\"dataframe\">\n",
       "  <thead>\n",
       "    <tr style=\"text-align: right;\">\n",
       "      <th></th>\n",
       "      <th>mileage</th>\n",
       "      <th>tax</th>\n",
       "      <th>mpg</th>\n",
       "      <th>engineSize</th>\n",
       "      <th>price</th>\n",
       "      <th>model_A1</th>\n",
       "      <th>model_A2</th>\n",
       "      <th>model_A3</th>\n",
       "      <th>model_A4</th>\n",
       "      <th>model_A5</th>\n",
       "      <th>...</th>\n",
       "      <th>year_2017</th>\n",
       "      <th>year_2018</th>\n",
       "      <th>year_2019</th>\n",
       "      <th>year_2020</th>\n",
       "      <th>transmission_Automatic</th>\n",
       "      <th>transmission_Manual</th>\n",
       "      <th>transmission_Semi-Auto</th>\n",
       "      <th>fuelType_Diesel</th>\n",
       "      <th>fuelType_Hybrid</th>\n",
       "      <th>fuelType_Petrol</th>\n",
       "    </tr>\n",
       "  </thead>\n",
       "  <tbody>\n",
       "    <tr>\n",
       "      <th>0</th>\n",
       "      <td>15735</td>\n",
       "      <td>150</td>\n",
       "      <td>55.4</td>\n",
       "      <td>1.4</td>\n",
       "      <td>12500</td>\n",
       "      <td>1</td>\n",
       "      <td>0</td>\n",
       "      <td>0</td>\n",
       "      <td>0</td>\n",
       "      <td>0</td>\n",
       "      <td>...</td>\n",
       "      <td>1</td>\n",
       "      <td>0</td>\n",
       "      <td>0</td>\n",
       "      <td>0</td>\n",
       "      <td>0</td>\n",
       "      <td>1</td>\n",
       "      <td>0</td>\n",
       "      <td>0</td>\n",
       "      <td>0</td>\n",
       "      <td>1</td>\n",
       "    </tr>\n",
       "    <tr>\n",
       "      <th>1</th>\n",
       "      <td>36203</td>\n",
       "      <td>20</td>\n",
       "      <td>64.2</td>\n",
       "      <td>2.0</td>\n",
       "      <td>16500</td>\n",
       "      <td>0</td>\n",
       "      <td>0</td>\n",
       "      <td>0</td>\n",
       "      <td>0</td>\n",
       "      <td>0</td>\n",
       "      <td>...</td>\n",
       "      <td>0</td>\n",
       "      <td>0</td>\n",
       "      <td>0</td>\n",
       "      <td>0</td>\n",
       "      <td>1</td>\n",
       "      <td>0</td>\n",
       "      <td>0</td>\n",
       "      <td>1</td>\n",
       "      <td>0</td>\n",
       "      <td>0</td>\n",
       "    </tr>\n",
       "    <tr>\n",
       "      <th>2</th>\n",
       "      <td>29946</td>\n",
       "      <td>30</td>\n",
       "      <td>55.4</td>\n",
       "      <td>1.4</td>\n",
       "      <td>11000</td>\n",
       "      <td>1</td>\n",
       "      <td>0</td>\n",
       "      <td>0</td>\n",
       "      <td>0</td>\n",
       "      <td>0</td>\n",
       "      <td>...</td>\n",
       "      <td>0</td>\n",
       "      <td>0</td>\n",
       "      <td>0</td>\n",
       "      <td>0</td>\n",
       "      <td>0</td>\n",
       "      <td>1</td>\n",
       "      <td>0</td>\n",
       "      <td>0</td>\n",
       "      <td>0</td>\n",
       "      <td>1</td>\n",
       "    </tr>\n",
       "    <tr>\n",
       "      <th>3</th>\n",
       "      <td>25952</td>\n",
       "      <td>145</td>\n",
       "      <td>67.3</td>\n",
       "      <td>2.0</td>\n",
       "      <td>16800</td>\n",
       "      <td>0</td>\n",
       "      <td>0</td>\n",
       "      <td>0</td>\n",
       "      <td>1</td>\n",
       "      <td>0</td>\n",
       "      <td>...</td>\n",
       "      <td>1</td>\n",
       "      <td>0</td>\n",
       "      <td>0</td>\n",
       "      <td>0</td>\n",
       "      <td>1</td>\n",
       "      <td>0</td>\n",
       "      <td>0</td>\n",
       "      <td>1</td>\n",
       "      <td>0</td>\n",
       "      <td>0</td>\n",
       "    </tr>\n",
       "    <tr>\n",
       "      <th>4</th>\n",
       "      <td>1998</td>\n",
       "      <td>145</td>\n",
       "      <td>49.6</td>\n",
       "      <td>1.0</td>\n",
       "      <td>17300</td>\n",
       "      <td>0</td>\n",
       "      <td>0</td>\n",
       "      <td>1</td>\n",
       "      <td>0</td>\n",
       "      <td>0</td>\n",
       "      <td>...</td>\n",
       "      <td>0</td>\n",
       "      <td>0</td>\n",
       "      <td>1</td>\n",
       "      <td>0</td>\n",
       "      <td>0</td>\n",
       "      <td>1</td>\n",
       "      <td>0</td>\n",
       "      <td>0</td>\n",
       "      <td>0</td>\n",
       "      <td>1</td>\n",
       "    </tr>\n",
       "  </tbody>\n",
       "</table>\n",
       "<p>5 rows × 58 columns</p>\n",
       "</div>"
      ],
      "text/plain": [
       "   mileage  tax   mpg  engineSize  price  model_A1  model_A2  model_A3  \\\n",
       "0    15735  150  55.4         1.4  12500         1         0         0   \n",
       "1    36203   20  64.2         2.0  16500         0         0         0   \n",
       "2    29946   30  55.4         1.4  11000         1         0         0   \n",
       "3    25952  145  67.3         2.0  16800         0         0         0   \n",
       "4     1998  145  49.6         1.0  17300         0         0         1   \n",
       "\n",
       "   model_A4  model_A5  ...  year_2017  year_2018  year_2019  year_2020  \\\n",
       "0         0         0  ...          1          0          0          0   \n",
       "1         0         0  ...          0          0          0          0   \n",
       "2         0         0  ...          0          0          0          0   \n",
       "3         1         0  ...          1          0          0          0   \n",
       "4         0         0  ...          0          0          1          0   \n",
       "\n",
       "   transmission_Automatic  transmission_Manual  transmission_Semi-Auto  \\\n",
       "0                       0                    1                       0   \n",
       "1                       1                    0                       0   \n",
       "2                       0                    1                       0   \n",
       "3                       1                    0                       0   \n",
       "4                       0                    1                       0   \n",
       "\n",
       "   fuelType_Diesel  fuelType_Hybrid  fuelType_Petrol  \n",
       "0                0                0                1  \n",
       "1                1                0                0  \n",
       "2                0                0                1  \n",
       "3                1                0                0  \n",
       "4                0                0                1  \n",
       "\n",
       "[5 rows x 58 columns]"
      ]
     },
     "execution_count": 356,
     "metadata": {},
     "output_type": "execute_result"
    }
   ],
   "source": [
    "encoded_df=df_OHE\n",
    "encoded_df.head()"
   ]
  },
  {
   "cell_type": "markdown",
   "id": "parallel-october",
   "metadata": {},
   "source": [
    "I have 58 columns: 5 (numeric_cols) + 53 (unique cateogric_cols) = 58"
   ]
  },
  {
   "cell_type": "markdown",
   "id": "gentle-table",
   "metadata": {},
   "source": [
    "Now the data is ready for the learning"
   ]
  },
  {
   "cell_type": "markdown",
   "id": "defensive-dubai",
   "metadata": {},
   "source": [
    "### Prepare the data for learning"
   ]
  },
  {
   "cell_type": "code",
   "execution_count": 357,
   "id": "brazilian-ecuador",
   "metadata": {},
   "outputs": [],
   "source": [
    "X=encoded_df.drop('price', axis = 1).values"
   ]
  },
  {
   "cell_type": "code",
   "execution_count": 358,
   "id": "coordinated-second",
   "metadata": {},
   "outputs": [],
   "source": [
    "y=encoded_df['price'].values"
   ]
  },
  {
   "cell_type": "code",
   "execution_count": 359,
   "id": "recovered-father",
   "metadata": {},
   "outputs": [],
   "source": [
    "X_train, X_test, y_train, y_test = train_test_split(X, y, test_size = 0.3, random_state = 69)"
   ]
  },
  {
   "cell_type": "code",
   "execution_count": 360,
   "id": "functional-alias",
   "metadata": {},
   "outputs": [],
   "source": [
    "scaler = StandardScaler()"
   ]
  },
  {
   "cell_type": "code",
   "execution_count": 361,
   "id": "minimal-stanford",
   "metadata": {},
   "outputs": [
    {
     "data": {
      "text/plain": [
       "StandardScaler()"
      ]
     },
     "execution_count": 361,
     "metadata": {},
     "output_type": "execute_result"
    }
   ],
   "source": [
    "scaler.fit(X_train)"
   ]
  },
  {
   "cell_type": "code",
   "execution_count": 362,
   "id": "commercial-blame",
   "metadata": {},
   "outputs": [],
   "source": [
    "X_train = scaler.transform(X_train)          # Apply Standardization on X_train\n",
    "X_test = scaler.transform(X_test)            # Apply Standardization on X_test"
   ]
  },
  {
   "cell_type": "code",
   "execution_count": 363,
   "id": "ea453a9b",
   "metadata": {},
   "outputs": [],
   "source": [
    "import pickle"
   ]
  },
  {
   "cell_type": "code",
   "execution_count": 364,
   "id": "14866ad6",
   "metadata": {},
   "outputs": [],
   "source": [
    "#For model deployment, we need to pickle the scaler to scale the new input data from the user\n",
    "pickle.dump(scaler, open('scaler.pkl','wb'))"
   ]
  },
  {
   "cell_type": "markdown",
   "id": "detailed-hungarian",
   "metadata": {},
   "source": [
    "## Support Vector Regression"
   ]
  },
  {
   "cell_type": "code",
   "execution_count": 91,
   "id": "meaning-lebanon",
   "metadata": {},
   "outputs": [],
   "source": [
    "from sklearn.svm import SVR"
   ]
  },
  {
   "cell_type": "code",
   "execution_count": 92,
   "id": "hollywood-accuracy",
   "metadata": {},
   "outputs": [],
   "source": [
    "param_SVM = {'C':np.arange(500,5000,50),\n",
    "            'gamma':np.arange(0.001, 0.8, 0.01)}"
   ]
  },
  {
   "cell_type": "code",
   "execution_count": 93,
   "id": "judicial-thriller",
   "metadata": {},
   "outputs": [],
   "source": [
    "svr_model=SVR()"
   ]
  },
  {
   "cell_type": "code",
   "execution_count": 94,
   "id": "outer-tuition",
   "metadata": {},
   "outputs": [],
   "source": [
    "cv_SVM = RandomizedSearchCV(estimator=svr_model, param_distributions = param_SVM, n_iter=10, cv = 5)"
   ]
  },
  {
   "cell_type": "code",
   "execution_count": 95,
   "id": "japanese-treasurer",
   "metadata": {},
   "outputs": [
    {
     "data": {
      "text/plain": [
       "RandomizedSearchCV(cv=5, estimator=SVR(),\n",
       "                   param_distributions={'C': array([ 500,  550,  600,  650,  700,  750,  800,  850,  900,  950, 1000,\n",
       "       1050, 1100, 1150, 1200, 1250, 1300, 1350, 1400, 1450, 1500, 1550,\n",
       "       1600, 1650, 1700, 1750, 1800, 1850, 1900, 1950, 2000, 2050, 2100,\n",
       "       2150, 2200, 2250, 2300, 2350, 2400, 2450, 2500, 2550, 2600, 2650,\n",
       "       2700, 2750, 2800, 2850, 2900, 2950, 3000, 3050, 3100, 3150, 3200,\n",
       "       3250, 3300, 335...\n",
       "       0.181, 0.191, 0.201, 0.211, 0.221, 0.231, 0.241, 0.251, 0.261,\n",
       "       0.271, 0.281, 0.291, 0.301, 0.311, 0.321, 0.331, 0.341, 0.351,\n",
       "       0.361, 0.371, 0.381, 0.391, 0.401, 0.411, 0.421, 0.431, 0.441,\n",
       "       0.451, 0.461, 0.471, 0.481, 0.491, 0.501, 0.511, 0.521, 0.531,\n",
       "       0.541, 0.551, 0.561, 0.571, 0.581, 0.591, 0.601, 0.611, 0.621,\n",
       "       0.631, 0.641, 0.651, 0.661, 0.671, 0.681, 0.691, 0.701, 0.711,\n",
       "       0.721, 0.731, 0.741, 0.751, 0.761, 0.771, 0.781, 0.791])})"
      ]
     },
     "execution_count": 95,
     "metadata": {},
     "output_type": "execute_result"
    }
   ],
   "source": [
    "cv_SVM.fit(X_train,y_train)"
   ]
  },
  {
   "cell_type": "code",
   "execution_count": 96,
   "id": "adopted-charlotte",
   "metadata": {},
   "outputs": [],
   "source": [
    "y_pred_SVM = cv_SVM.predict(X_test)"
   ]
  },
  {
   "cell_type": "code",
   "execution_count": 97,
   "id": "common-terminal",
   "metadata": {},
   "outputs": [
    {
     "name": "stdout",
     "output_type": "stream",
     "text": [
      "Tuned SVM parameters: {'gamma': 0.09099999999999998, 'C': 2300}\n"
     ]
    }
   ],
   "source": [
    "# Compute and print the metrics\n",
    "print(\"Tuned SVM parameters: {}\".format(cv_SVM.best_params_))"
   ]
  },
  {
   "cell_type": "code",
   "execution_count": 98,
   "id": "eleven-adapter",
   "metadata": {},
   "outputs": [
    {
     "name": "stdout",
     "output_type": "stream",
     "text": [
      "RMSE using SVM:  5507.927257348135\n"
     ]
    }
   ],
   "source": [
    "mse_SVM = mean_squared_error(y_test, y_pred_SVM)\n",
    "print(\"RMSE using SVM: \", np.sqrt(mse_SVM))"
   ]
  },
  {
   "cell_type": "markdown",
   "id": "affecting-plaza",
   "metadata": {},
   "source": [
    "## XGBoost"
   ]
  },
  {
   "cell_type": "code",
   "execution_count": 218,
   "id": "alternate-potter",
   "metadata": {},
   "outputs": [],
   "source": [
    "import xgboost as xgb"
   ]
  },
  {
   "cell_type": "code",
   "execution_count": 52,
   "id": "romance-remedy",
   "metadata": {},
   "outputs": [],
   "source": [
    "# Create the parameter grid\n",
    "param_grid = {\n",
    "    'learning_rate': np.arange(0.01, 0.5, 0.01),\n",
    "    'max_depth': np.arange(3, 30, 2),\n",
    "    'n_estimators': np.arange(50, 200, 15)\n",
    "}"
   ]
  },
  {
   "cell_type": "code",
   "execution_count": 219,
   "id": "logical-journalist",
   "metadata": {},
   "outputs": [],
   "source": [
    "xgb_model=xgb.XGBRegressor()"
   ]
  },
  {
   "cell_type": "code",
   "execution_count": 58,
   "id": "comfortable-mauritius",
   "metadata": {},
   "outputs": [],
   "source": [
    "rand_neg_mse = RandomizedSearchCV(estimator=xgb_model, param_distributions=param_grid, n_iter=10, scoring='neg_mean_squared_error', cv=3)"
   ]
  },
  {
   "cell_type": "code",
   "execution_count": 220,
   "id": "funded-hearing",
   "metadata": {
    "scrolled": true
   },
   "outputs": [
    {
     "data": {
      "text/plain": [
       "XGBRegressor(base_score=0.5, booster='gbtree', colsample_bylevel=1,\n",
       "             colsample_bynode=1, colsample_bytree=1, gamma=0, gpu_id=-1,\n",
       "             importance_type='gain', interaction_constraints='',\n",
       "             learning_rate=0.300000012, max_delta_step=0, max_depth=6,\n",
       "             min_child_weight=1, missing=nan, monotone_constraints='()',\n",
       "             n_estimators=100, n_jobs=4, num_parallel_tree=1, random_state=0,\n",
       "             reg_alpha=0, reg_lambda=1, scale_pos_weight=1, subsample=1,\n",
       "             tree_method='exact', validate_parameters=1, verbosity=None)"
      ]
     },
     "execution_count": 220,
     "metadata": {},
     "output_type": "execute_result"
    }
   ],
   "source": [
    "xgb_model.fit(X_train, y_train)"
   ]
  },
  {
   "cell_type": "code",
   "execution_count": 221,
   "id": "6be8b707",
   "metadata": {},
   "outputs": [],
   "source": [
    "y_pred_xgb = xgb_model.predict(X_test)"
   ]
  },
  {
   "cell_type": "code",
   "execution_count": 222,
   "id": "c3183eb6",
   "metadata": {},
   "outputs": [],
   "source": [
    "from sklearn.metrics import mean_squared_error as MSE"
   ]
  },
  {
   "cell_type": "code",
   "execution_count": 223,
   "id": "formal-cradle",
   "metadata": {},
   "outputs": [
    {
     "name": "stdout",
     "output_type": "stream",
     "text": [
      "Best rmse: 2503.31281287268\n"
     ]
    }
   ],
   "source": [
    "print(\"Best rmse:\", np.sqrt(MSE(y_pred_xgb,y_test)))"
   ]
  },
  {
   "cell_type": "code",
   "execution_count": 62,
   "id": "twelve-planning",
   "metadata": {},
   "outputs": [],
   "source": [
    "y_pred_RND = rand_neg_mse.predict(X_test)"
   ]
  },
  {
   "cell_type": "code",
   "execution_count": 217,
   "id": "inappropriate-guide",
   "metadata": {},
   "outputs": [
    {
     "ename": "AttributeError",
     "evalue": "'XGBRegressor' object has no attribute 'params'",
     "output_type": "error",
     "traceback": [
      "\u001b[1;31m---------------------------------------------------------------------------\u001b[0m",
      "\u001b[1;31mAttributeError\u001b[0m                            Traceback (most recent call last)",
      "\u001b[1;32m<ipython-input-217-f5101896d1ac>\u001b[0m in \u001b[0;36m<module>\u001b[1;34m\u001b[0m\n\u001b[0;32m      1\u001b[0m \u001b[1;31m# Compute and print the metrics\u001b[0m\u001b[1;33m\u001b[0m\u001b[1;33m\u001b[0m\u001b[1;33m\u001b[0m\u001b[0m\n\u001b[1;32m----> 2\u001b[1;33m \u001b[0mprint\u001b[0m\u001b[1;33m(\u001b[0m\u001b[1;34m\"Tuned XGB parameters by RandomizedGridSearch: {}\"\u001b[0m\u001b[1;33m.\u001b[0m\u001b[0mformat\u001b[0m\u001b[1;33m(\u001b[0m\u001b[0mxgb_model\u001b[0m\u001b[1;33m.\u001b[0m\u001b[0mparams\u001b[0m\u001b[1;33m)\u001b[0m\u001b[1;33m)\u001b[0m\u001b[1;33m\u001b[0m\u001b[1;33m\u001b[0m\u001b[0m\n\u001b[0m",
      "\u001b[1;31mAttributeError\u001b[0m: 'XGBRegressor' object has no attribute 'params'"
     ]
    }
   ],
   "source": [
    "# Compute and print the metrics\n",
    "print(\"Tuned XGB parameters by RandomizedGridSearch: {}\".format(xgb_model.params))"
   ]
  },
  {
   "cell_type": "markdown",
   "id": "random-passport",
   "metadata": {},
   "source": [
    "## XGBoost with Hyperopt by Baesian method"
   ]
  },
  {
   "cell_type": "code",
   "execution_count": 285,
   "id": "painted-september",
   "metadata": {},
   "outputs": [],
   "source": [
    "import hyperopt\n",
    "from hyperopt import fmin, tpe, hp, STATUS_OK, Trials"
   ]
  },
  {
   "cell_type": "code",
   "execution_count": 315,
   "id": "organized-melbourne",
   "metadata": {},
   "outputs": [],
   "source": [
    "space={'n_estimators':hp.choice('n_estimators', range(10,200,5)),\n",
    "       'max_depth': hp.choice(\"max_depth\", np.arange(3, 20, 1)),\n",
    "        'gamma': hp.quniform('gamma', 0, 0.50, 0.01),\n",
    "        'min_child_weight' : hp.quniform('min_child_weight', 1, 10, 1),\n",
    "       'subsample' : hp.quniform('subsample', 0.1, 1, 0.01),\n",
    "        'learning_rate': hp.quniform(\"learning_rate\", 0.01, 0.5, 0.01),\n",
    "       'colsample_bytree' : hp.quniform('colsample_bytree', 0.1, 1.0, 0.01)\n",
    "      }"
   ]
  },
  {
   "cell_type": "code",
   "execution_count": 316,
   "id": "prerequisite-folder",
   "metadata": {},
   "outputs": [],
   "source": [
    "def hyperparameter_tuning(space):\n",
    "    print(space)\n",
    "    model = xgb.XGBRegressor(n_estimators=space['n_estimators'],\n",
    "                             max_depth =space['max_depth'],\n",
    "                           min_child_weight=space['min_child_weight'],\n",
    "                           gamma = space['gamma'],\n",
    "                            learning_rate=space['learning_rate'],\n",
    "                            colsample_bytree=space['colsample_bytree'],\n",
    "                            subsample=space['subsample'])\n",
    "\n",
    "    eval_set  = [( X_train, y_train), ( X_test, y_test)]\n",
    "\n",
    "    model.fit(X_train, y_train,\n",
    "            eval_set=eval_set, eval_metric=\"rmse\",\n",
    "            early_stopping_rounds=10,verbose=False)\n",
    "\n",
    "    pred = model.predict(X_test)\n",
    "    mse_scr = mean_squared_error(y_test, pred)\n",
    "    print(\"SCORE:\", np.sqrt(mse_scr))\n",
    "    #change the metric if you like\n",
    "    return {'loss':mse_scr, 'status': STATUS_OK }"
   ]
  },
  {
   "cell_type": "code",
   "execution_count": 317,
   "id": "foster-level",
   "metadata": {},
   "outputs": [
    {
     "name": "stdout",
     "output_type": "stream",
     "text": [
      "{'colsample_bytree': 0.33, 'gamma': 0.21, 'learning_rate': 0.46, 'max_depth': 15, 'min_child_weight': 1.0, 'n_estimators': 140, 'subsample': 0.68}\n",
      "SCORE:                                                                                                                 \n",
      "2850.0201613238323                                                                                                     \n",
      "{'colsample_bytree': 0.74, 'gamma': 0.42, 'learning_rate': 0.17, 'max_depth': 14, 'min_child_weight': 6.0, 'n_estimators': 175, 'subsample': 0.9}\n",
      "SCORE:                                                                                                                 \n",
      "2353.8864059309212                                                                                                     \n",
      "{'colsample_bytree': 0.12, 'gamma': 0.09, 'learning_rate': 0.02, 'max_depth': 10, 'min_child_weight': 2.0, 'n_estimators': 15, 'subsample': 0.32}\n",
      "SCORE:                                                                                                                 \n",
      "19880.101986506423                                                                                                     \n",
      "{'colsample_bytree': 0.52, 'gamma': 0.44, 'learning_rate': 0.47000000000000003, 'max_depth': 4, 'min_child_weight': 3.0, 'n_estimators': 165, 'subsample': 0.84}\n",
      "SCORE:                                                                                                                 \n",
      "2377.342410032616                                                                                                      \n",
      "{'colsample_bytree': 0.37, 'gamma': 0.35000000000000003, 'learning_rate': 0.23, 'max_depth': 17, 'min_child_weight': 8.0, 'n_estimators': 180, 'subsample': 0.39}\n",
      "SCORE:                                                                                                                 \n",
      "2629.8031826862166                                                                                                     \n",
      "{'colsample_bytree': 0.52, 'gamma': 0.15, 'learning_rate': 0.15, 'max_depth': 4, 'min_child_weight': 4.0, 'n_estimators': 10, 'subsample': 0.87}\n",
      "SCORE:                                                                                                                 \n",
      "6756.01542177858                                                                                                       \n",
      "{'colsample_bytree': 0.28, 'gamma': 0.37, 'learning_rate': 0.05, 'max_depth': 16, 'min_child_weight': 3.0, 'n_estimators': 140, 'subsample': 0.33}\n",
      "SCORE:                                                                                                                 \n",
      "2702.1496685382654                                                                                                     \n",
      "{'colsample_bytree': 0.87, 'gamma': 0.06, 'learning_rate': 0.29, 'max_depth': 5, 'min_child_weight': 3.0, 'n_estimators': 70, 'subsample': 0.78}\n",
      "SCORE:                                                                                                                 \n",
      "2552.56812512435                                                                                                       \n",
      "{'colsample_bytree': 0.88, 'gamma': 0.42, 'learning_rate': 0.35000000000000003, 'max_depth': 3, 'min_child_weight': 4.0, 'n_estimators': 35, 'subsample': 0.5700000000000001}\n",
      "SCORE:                                                                                                                 \n",
      "3197.966609952318                                                                                                      \n",
      "{'colsample_bytree': 0.9500000000000001, 'gamma': 0.07, 'learning_rate': 0.3, 'max_depth': 8, 'min_child_weight': 3.0, 'n_estimators': 115, 'subsample': 0.99}\n",
      "SCORE:                                                                                                                 \n",
      "2370.9100982678833                                                                                                     \n",
      "{'colsample_bytree': 0.49, 'gamma': 0.26, 'learning_rate': 0.04, 'max_depth': 7, 'min_child_weight': 5.0, 'n_estimators': 105, 'subsample': 0.9400000000000001}\n",
      "SCORE:                                                                                                                 \n",
      "2708.476386595587                                                                                                      \n",
      "{'colsample_bytree': 0.75, 'gamma': 0.47000000000000003, 'learning_rate': 0.16, 'max_depth': 15, 'min_child_weight': 6.0, 'n_estimators': 45, 'subsample': 0.28}\n",
      "SCORE:                                                                                                                 \n",
      "2625.194424270699                                                                                                      \n",
      "{'colsample_bytree': 0.65, 'gamma': 0.38, 'learning_rate': 0.33, 'max_depth': 18, 'min_child_weight': 6.0, 'n_estimators': 85, 'subsample': 0.35000000000000003}\n",
      "SCORE:                                                                                                                 \n",
      "2674.473668350606                                                                                                      \n",
      "{'colsample_bytree': 0.43, 'gamma': 0.08, 'learning_rate': 0.45, 'max_depth': 16, 'min_child_weight': 1.0, 'n_estimators': 75, 'subsample': 0.23}\n",
      "SCORE:                                                                                                                 \n",
      "2947.0914348657234                                                                                                     \n",
      "{'colsample_bytree': 0.99, 'gamma': 0.01, 'learning_rate': 0.33, 'max_depth': 6, 'min_child_weight': 2.0, 'n_estimators': 60, 'subsample': 0.78}\n",
      "SCORE:                                                                                                                 \n",
      "2490.8602292271516                                                                                                     \n",
      "{'colsample_bytree': 0.97, 'gamma': 0.34, 'learning_rate': 0.32, 'max_depth': 15, 'min_child_weight': 8.0, 'n_estimators': 90, 'subsample': 0.39}\n",
      "SCORE:                                                                                                                 \n",
      "2832.5628511965174                                                                                                     \n",
      "{'colsample_bytree': 0.24, 'gamma': 0.11, 'learning_rate': 0.11, 'max_depth': 5, 'min_child_weight': 4.0, 'n_estimators': 50, 'subsample': 0.46}\n",
      "SCORE:                                                                                                                 \n",
      "3205.8293807588443                                                                                                     \n",
      "{'colsample_bytree': 0.43, 'gamma': 0.25, 'learning_rate': 0.48, 'max_depth': 3, 'min_child_weight': 10.0, 'n_estimators': 195, 'subsample': 0.43}\n",
      "SCORE:                                                                                                                 \n",
      "2776.132552648903                                                                                                      \n",
      "{'colsample_bytree': 0.99, 'gamma': 0.45, 'learning_rate': 0.43, 'max_depth': 11, 'min_child_weight': 1.0, 'n_estimators': 35, 'subsample': 0.85}\n",
      "SCORE:                                                                                                                 \n",
      "2637.4016224265806                                                                                                     \n",
      "{'colsample_bytree': 0.14, 'gamma': 0.46, 'learning_rate': 0.21, 'max_depth': 3, 'min_child_weight': 2.0, 'n_estimators': 70, 'subsample': 0.31}\n",
      "SCORE:                                                                                                                 \n",
      "3265.0415566543406                                                                                                     \n",
      "{'colsample_bytree': 0.71, 'gamma': 0.3, 'learning_rate': 0.4, 'max_depth': 14, 'min_child_weight': 7.0, 'n_estimators': 115, 'subsample': 0.98}\n",
      "SCORE:                                                                                                                 \n"
     ]
    },
    {
     "name": "stdout",
     "output_type": "stream",
     "text": [
      "2526.3530589933603                                                                                                     \n",
      "{'colsample_bytree': 0.8300000000000001, 'gamma': 0.18, 'learning_rate': 0.26, 'max_depth': 8, 'min_child_weight': 10.0, 'n_estimators': 175, 'subsample': 0.64}\n",
      "SCORE:                                                                                                                 \n",
      "2435.5295960324192                                                                                                     \n",
      "{'colsample_bytree': 0.62, 'gamma': 0.14, 'learning_rate': 0.19, 'max_depth': 13, 'min_child_weight': 5.0, 'n_estimators': 115, 'subsample': 1.0}\n",
      "SCORE:                                                                                                                 \n",
      "2313.700037125523                                                                                                      \n",
      "{'colsample_bytree': 0.64, 'gamma': 0.02, 'learning_rate': 0.1, 'max_depth': 13, 'min_child_weight': 7.0, 'n_estimators': 190, 'subsample': 0.9400000000000001}\n",
      "SCORE:                                                                                                                 \n",
      "2270.6301110931586                                                                                                     \n",
      "{'colsample_bytree': 0.62, 'gamma': 0.01, 'learning_rate': 0.09, 'max_depth': 13, 'min_child_weight': 8.0, 'n_estimators': 190, 'subsample': 0.13}\n",
      "SCORE:                                                                                                                 \n",
      "3000.033116518469                                                                                                      \n",
      "{'colsample_bytree': 0.6, 'gamma': 0.14, 'learning_rate': 0.09, 'max_depth': 13, 'min_child_weight': 9.0, 'n_estimators': 190, 'subsample': 0.73}\n",
      "SCORE:                                                                                                                 \n",
      "2377.556535123736                                                                                                      \n",
      "{'colsample_bytree': 0.58, 'gamma': 0.03, 'learning_rate': 0.2, 'max_depth': 13, 'min_child_weight': 7.0, 'n_estimators': 150, 'subsample': 0.99}\n",
      "SCORE:                                                                                                                 \n",
      "2336.5800493255715                                                                                                     \n",
      "{'colsample_bytree': 0.79, 'gamma': 0.21, 'learning_rate': 0.12, 'max_depth': 9, 'min_child_weight': 5.0, 'n_estimators': 125, 'subsample': 0.56}\n",
      "SCORE:                                                                                                                 \n",
      "2371.425605123846                                                                                                      \n",
      "{'colsample_bytree': 0.68, 'gamma': 0.13, 'learning_rate': 0.24, 'max_depth': 19, 'min_child_weight': 7.0, 'n_estimators': 160, 'subsample': 0.67}\n",
      "SCORE:                                                                                                                 \n",
      "2374.281661248026                                                                                                      \n",
      "{'colsample_bytree': 0.44, 'gamma': 0.2, 'learning_rate': 0.19, 'max_depth': 12, 'min_child_weight': 5.0, 'n_estimators': 135, 'subsample': 0.9400000000000001}\n",
      "SCORE:                                                                                                                 \n",
      "2344.368116104567                                                                                                      \n",
      "{'colsample_bytree': 0.65, 'gamma': 0.17, 'learning_rate': 0.07, 'max_depth': 13, 'min_child_weight': 9.0, 'n_estimators': 40, 'subsample': 0.8}\n",
      "SCORE:                                                                                                                 \n",
      "3061.211622766311                                                                                                      \n",
      "{'colsample_bytree': 0.33, 'gamma': 0.04, 'learning_rate': 0.01, 'max_depth': 13, 'min_child_weight': 6.0, 'n_estimators': 145, 'subsample': 0.62}\n",
      "SCORE:                                                                                                                 \n",
      "7620.211782139095                                                                                                      \n",
      "{'colsample_bytree': 0.77, 'gamma': 0.1, 'learning_rate': 0.14, 'max_depth': 10, 'min_child_weight': 7.0, 'n_estimators': 25, 'subsample': 0.91}\n",
      "SCORE:                                                                                                                 \n",
      "2560.832203432709                                                                                                      \n",
      "{'colsample_bytree': 0.53, 'gamma': 0.04, 'learning_rate': 0.17, 'max_depth': 13, 'min_child_weight': 9.0, 'n_estimators': 55, 'subsample': 0.71}\n",
      "SCORE:                                                                                                                 \n",
      "2461.8057970669397                                                                                                     \n",
      "{'colsample_bytree': 0.56, 'gamma': 0.29, 'learning_rate': 0.13, 'max_depth': 19, 'min_child_weight': 5.0, 'n_estimators': 80, 'subsample': 0.5}\n",
      "SCORE:                                                                                                                 \n",
      "2451.853073412264                                                                                                      \n",
      "{'colsample_bytree': 0.37, 'gamma': 0.12, 'learning_rate': 0.27, 'max_depth': 17, 'min_child_weight': 6.0, 'n_estimators': 95, 'subsample': 0.89}\n",
      "SCORE:                                                                                                                 \n",
      "2476.9547987810215                                                                                                     \n",
      "{'colsample_bytree': 0.71, 'gamma': 0.21, 'learning_rate': 0.04, 'max_depth': 7, 'min_child_weight': 4.0, 'n_estimators': 110, 'subsample': 0.8200000000000001}\n",
      "SCORE:                                                                                                                 \n",
      "2583.094082281269                                                                                                      \n",
      "{'colsample_bytree': 0.48, 'gamma': 0.16, 'learning_rate': 0.22, 'max_depth': 4, 'min_child_weight': 8.0, 'n_estimators': 30, 'subsample': 0.75}\n",
      "SCORE:                                                                                                                 \n",
      "3102.942335596362                                                                                                      \n",
      "{'colsample_bytree': 0.91, 'gamma': 0.06, 'learning_rate': 0.38, 'max_depth': 11, 'min_child_weight': 7.0, 'n_estimators': 100, 'subsample': 0.9500000000000001}\n",
      "SCORE:                                                                                                                 \n",
      "2654.8227900789216                                                                                                     \n",
      "{'colsample_bytree': 0.18, 'gamma': 0.0, 'learning_rate': 0.17, 'max_depth': 18, 'min_child_weight': 4.0, 'n_estimators': 155, 'subsample': 0.87}\n",
      "SCORE:                                                                                                                 \n",
      "2504.0492128984797                                                                                                     \n",
      "{'colsample_bytree': 0.81, 'gamma': 0.09, 'learning_rate': 0.08, 'max_depth': 6, 'min_child_weight': 5.0, 'n_estimators': 185, 'subsample': 0.61}\n",
      "SCORE:                                                                                                                 \n",
      "2466.148462125963                                                                                                      \n",
      "{'colsample_bytree': 0.85, 'gamma': 0.5, 'learning_rate': 0.06, 'max_depth': 9, 'min_child_weight': 3.0, 'n_estimators': 15, 'subsample': 0.18}\n",
      "SCORE:                                                                                                                 \n"
     ]
    },
    {
     "name": "stdout",
     "output_type": "stream",
     "text": [
      "11058.506533678406                                                                                                     \n",
      "{'colsample_bytree': 0.92, 'gamma': 0.28, 'learning_rate': 0.02, 'max_depth': 12, 'min_child_weight': 8.0, 'n_estimators': 120, 'subsample': 0.6900000000000001}\n",
      "SCORE:                                                                                                                 \n",
      "3688.67611302942                                                                                                       \n",
      "{'colsample_bytree': 0.48, 'gamma': 0.24, 'learning_rate': 0.28, 'max_depth': 14, 'min_child_weight': 6.0, 'n_estimators': 180, 'subsample': 0.99}\n",
      "SCORE:                                                                                                                 \n",
      "2373.047458731096                                                                                                      \n",
      "{'colsample_bytree': 0.73, 'gamma': 0.23, 'learning_rate': 0.24, 'max_depth': 16, 'min_child_weight': 4.0, 'n_estimators': 170, 'subsample': 0.91}\n",
      "SCORE:                                                                                                                 \n",
      "2381.403750093882                                                                                                      \n",
      "{'colsample_bytree': 0.37, 'gamma': 0.19, 'learning_rate': 0.15, 'max_depth': 17, 'min_child_weight': 3.0, 'n_estimators': 130, 'subsample': 0.77}\n",
      "SCORE:                                                                                                                 \n",
      "2392.6369707981903                                                                                                     \n",
      "{'colsample_bytree': 0.63, 'gamma': 0.32, 'learning_rate': 0.11, 'max_depth': 10, 'min_child_weight': 6.0, 'n_estimators': 165, 'subsample': 0.84}\n",
      "SCORE:                                                                                                                 \n",
      "2279.910326621578                                                                                                      \n",
      "{'colsample_bytree': 0.31, 'gamma': 0.33, 'learning_rate': 0.11, 'max_depth': 10, 'min_child_weight': 9.0, 'n_estimators': 165, 'subsample': 0.8200000000000001}\n",
      "SCORE:                                                                                                                 \n",
      "2441.5746588709253                                                                                                     \n",
      "{'colsample_bytree': 0.67, 'gamma': 0.4, 'learning_rate': 0.03, 'max_depth': 10, 'min_child_weight': 8.0, 'n_estimators': 165, 'subsample': 0.5}\n",
      "SCORE:                                                                                                                 \n",
      "2586.1811217458376                                                                                                     \n",
      "{'colsample_bytree': 0.25, 'gamma': 0.36, 'learning_rate': 0.05, 'max_depth': 5, 'min_child_weight': 6.0, 'n_estimators': 20, 'subsample': 0.85}\n",
      "SCORE:                                                                                                                 \n",
      "11016.84499459019                                                                                                      \n",
      "{'colsample_bytree': 0.55, 'gamma': 0.31, 'learning_rate': 0.1, 'max_depth': 10, 'min_child_weight': 7.0, 'n_estimators': 10, 'subsample': 0.9500000000000001}\n",
      "SCORE:                                                                                                                 \n",
      "9775.001267311622                                                                                                      \n",
      "{'colsample_bytree': 0.51, 'gamma': 0.27, 'learning_rate': 0.13, 'max_depth': 15, 'min_child_weight': 10.0, 'n_estimators': 140, 'subsample': 0.66}\n",
      "SCORE:                                                                                                                 \n",
      "2397.0835699077543                                                                                                     \n",
      "{'colsample_bytree': 0.77, 'gamma': 0.42, 'learning_rate': 0.31, 'max_depth': 8, 'min_child_weight': 6.0, 'n_estimators': 65, 'subsample': 0.53}\n",
      "SCORE:                                                                                                                 \n",
      "2600.4664661100005                                                                                                     \n",
      "{'colsample_bytree': 0.4, 'gamma': 0.49, 'learning_rate': 0.01, 'max_depth': 7, 'min_child_weight': 2.0, 'n_estimators': 45, 'subsample': 0.58}\n",
      "SCORE:                                                                                                                 \n",
      "16909.859037331145                                                                                                     \n",
      "{'colsample_bytree': 0.89, 'gamma': 0.4, 'learning_rate': 0.36, 'max_depth': 4, 'min_child_weight': 8.0, 'n_estimators': 190, 'subsample': 0.74}\n",
      "SCORE:                                                                                                                 \n",
      "2381.9275562388757                                                                                                     \n",
      "{'colsample_bytree': 0.64, 'gamma': 0.32, 'learning_rate': 0.5, 'max_depth': 18, 'min_child_weight': 7.0, 'n_estimators': 105, 'subsample': 0.39}\n",
      "SCORE:                                                                                                                 \n",
      "3051.7711741772464                                                                                                     \n",
      "{'colsample_bytree': 0.59, 'gamma': 0.35000000000000003, 'learning_rate': 0.06, 'max_depth': 10, 'min_child_weight': 9.0, 'n_estimators': 60, 'subsample': 0.78}\n",
      "SCORE:                                                                                                                 \n",
      "2719.9307904945395                                                                                                     \n",
      "{'colsample_bytree': 0.6900000000000001, 'gamma': 0.39, 'learning_rate': 0.18, 'max_depth': 11, 'min_child_weight': 6.0, 'n_estimators': 75, 'subsample': 0.43}\n",
      "SCORE:                                                                                                                 \n",
      "2498.2507675140455                                                                                                     \n",
      "{'colsample_bytree': 0.75, 'gamma': 0.44, 'learning_rate': 0.15, 'max_depth': 6, 'min_child_weight': 5.0, 'n_estimators': 85, 'subsample': 0.9}\n",
      "SCORE:                                                                                                                 \n",
      "2447.8127591733887                                                                                                     \n",
      "{'colsample_bytree': 0.9500000000000001, 'gamma': 0.22, 'learning_rate': 0.22, 'max_depth': 3, 'min_child_weight': 4.0, 'n_estimators': 50, 'subsample': 0.26}\n",
      "SCORE:                                                                                                                 \n",
      "3346.6838718965973                                                                                                     \n",
      "{'colsample_bytree': 0.45, 'gamma': 0.37, 'learning_rate': 0.25, 'max_depth': 16, 'min_child_weight': 8.0, 'n_estimators': 90, 'subsample': 0.7000000000000001}\n",
      "SCORE:                                                                                                                 \n",
      "2435.6184560727907                                                                                                     \n",
      "{'colsample_bytree': 0.8300000000000001, 'gamma': 0.26, 'learning_rate': 0.08, 'max_depth': 14, 'min_child_weight': 1.0, 'n_estimators': 165, 'subsample': 0.96}\n",
      "SCORE:                                                                                                                 \n",
      "2354.9989238697794                                                                                                     \n",
      "{'colsample_bytree': 0.4, 'gamma': 0.29, 'learning_rate': 0.42, 'max_depth': 9, 'min_child_weight': 7.0, 'n_estimators': 190, 'subsample': 0.87}\n"
     ]
    },
    {
     "name": "stdout",
     "output_type": "stream",
     "text": [
      "SCORE:                                                                                                                 \n",
      "2518.9086731705233                                                                                                     \n",
      "{'colsample_bytree': 0.19, 'gamma': 0.34, 'learning_rate': 0.11, 'max_depth': 5, 'min_child_weight': 9.0, 'n_estimators': 195, 'subsample': 0.8200000000000001}\n",
      "SCORE:                                                                                                                 \n",
      "2674.1936793257632                                                                                                     \n",
      "{'colsample_bytree': 0.62, 'gamma': 0.46, 'learning_rate': 0.29, 'max_depth': 15, 'min_child_weight': 10.0, 'n_estimators': 35, 'subsample': 0.92}\n",
      "SCORE:                                                                                                                 \n",
      "2420.197737008376                                                                                                      \n",
      "{'colsample_bytree': 0.5700000000000001, 'gamma': 0.15, 'learning_rate': 0.2, 'max_depth': 13, 'min_child_weight': 5.0, 'n_estimators': 115, 'subsample': 0.98}\n",
      "SCORE:                                                                                                                 \n",
      "2352.0170298795615                                                                                                     \n",
      "{'colsample_bytree': 0.62, 'gamma': 0.07, 'learning_rate': 0.18, 'max_depth': 13, 'min_child_weight': 5.0, 'n_estimators': 115, 'subsample': 1.0}\n",
      "SCORE:                                                                                                                 \n",
      "2310.7672853412732                                                                                                     \n",
      "{'colsample_bytree': 0.52, 'gamma': 0.01, 'learning_rate': 0.13, 'max_depth': 13, 'min_child_weight': 6.0, 'n_estimators': 175, 'subsample': 0.93}\n",
      "SCORE:                                                                                                                 \n",
      "2301.9029127414174                                                                                                     \n",
      "{'colsample_bytree': 0.51, 'gamma': 0.02, 'learning_rate': 0.16, 'max_depth': 19, 'min_child_weight': 6.0, 'n_estimators': 175, 'subsample': 0.88}\n",
      "SCORE:                                                                                                                 \n",
      "2364.0643144322344                                                                                                     \n",
      "{'colsample_bytree': 0.72, 'gamma': 0.11, 'learning_rate': 0.09, 'max_depth': 13, 'min_child_weight': 7.0, 'n_estimators': 175, 'subsample': 0.8}\n",
      "SCORE:                                                                                                                 \n",
      "2301.6585657088735                                                                                                     \n",
      "{'colsample_bytree': 0.7000000000000001, 'gamma': 0.04, 'learning_rate': 0.03, 'max_depth': 12, 'min_child_weight': 7.0, 'n_estimators': 150, 'subsample': 0.65}\n",
      "SCORE:                                                                                                                 \n",
      "2456.097153943597                                                                                                      \n",
      "{'colsample_bytree': 0.74, 'gamma': 0.11, 'learning_rate': 0.09, 'max_depth': 13, 'min_child_weight': 7.0, 'n_estimators': 125, 'subsample': 0.76}\n",
      "SCORE:                                                                                                                 \n",
      "2302.9641176870055                                                                                                     \n",
      "{'colsample_bytree': 0.8, 'gamma': 0.08, 'learning_rate': 0.07, 'max_depth': 8, 'min_child_weight': 8.0, 'n_estimators': 160, 'subsample': 0.84}\n",
      "SCORE:                                                                                                                 \n",
      "2413.9973435943693                                                                                                     \n",
      "{'colsample_bytree': 0.86, 'gamma': 0.17, 'learning_rate': 0.04, 'max_depth': 17, 'min_child_weight': 7.0, 'n_estimators': 70, 'subsample': 0.73}\n",
      "SCORE:                                                                                                                 \n",
      "3043.6055370995177                                                                                                     \n",
      "{'colsample_bytree': 0.73, 'gamma': 0.13, 'learning_rate': 0.1, 'max_depth': 10, 'min_child_weight': 8.0, 'n_estimators': 135, 'subsample': 0.6}\n",
      "SCORE:                                                                                                                 \n",
      "2377.5285016726275                                                                                                     \n",
      "{'colsample_bytree': 0.67, 'gamma': 0.19, 'learning_rate': 0.12, 'max_depth': 4, 'min_child_weight': 6.0, 'n_estimators': 145, 'subsample': 0.79}\n",
      "SCORE:                                                                                                                 \n",
      "2647.9343002960245                                                                                                     \n",
      "{'colsample_bytree': 0.59, 'gamma': 0.06, 'learning_rate': 0.01, 'max_depth': 13, 'min_child_weight': 9.0, 'n_estimators': 25, 'subsample': 0.97}\n",
      "SCORE:                                                                                                                 \n",
      "20146.81332822877                                                                                                      \n",
      "{'colsample_bytree': 0.77, 'gamma': 0.25, 'learning_rate': 0.06, 'max_depth': 3, 'min_child_weight': 4.0, 'n_estimators': 95, 'subsample': 0.81}\n",
      "SCORE:                                                                                                                 \n",
      "3417.4202901821463                                                                                                     \n",
      "{'colsample_bytree': 0.8300000000000001, 'gamma': 0.03, 'learning_rate': 0.15, 'max_depth': 7, 'min_child_weight': 7.0, 'n_estimators': 40, 'subsample': 0.63}\n",
      "SCORE:                                                                                                                 \n",
      "2625.8060327210173                                                                                                     \n",
      "{'colsample_bytree': 0.54, 'gamma': 0.06, 'learning_rate': 0.22, 'max_depth': 18, 'min_child_weight': 5.0, 'n_estimators': 175, 'subsample': 0.68}\n",
      "SCORE:                                                                                                                 \n",
      "2372.5259540917027                                                                                                     \n",
      "{'colsample_bytree': 0.65, 'gamma': 0.0, 'learning_rate': 0.08, 'max_depth': 11, 'min_child_weight': 10.0, 'n_estimators': 55, 'subsample': 0.72}\n",
      "SCORE:                                                                                                                 \n",
      "2504.6737566597617                                                                                                     \n",
      "{'colsample_bytree': 0.46, 'gamma': 0.1, 'learning_rate': 0.2, 'max_depth': 6, 'min_child_weight': 6.0, 'n_estimators': 30, 'subsample': 0.35000000000000003}\n",
      "SCORE:                                                                                                                 \n",
      "2926.4944840952858                                                                                                     \n",
      "{'colsample_bytree': 0.71, 'gamma': 0.31, 'learning_rate': 0.03, 'max_depth': 10, 'min_child_weight': 8.0, 'n_estimators': 80, 'subsample': 0.84}\n",
      "SCORE:                                                                                                                 \n",
      "3616.851984322369                                                                                                      \n",
      "{'colsample_bytree': 0.89, 'gamma': 0.22, 'learning_rate': 0.14, 'max_depth': 19, 'min_child_weight': 7.0, 'n_estimators': 170, 'subsample': 0.54}\n"
     ]
    },
    {
     "name": "stdout",
     "output_type": "stream",
     "text": [
      "SCORE:                                                                                                                 \n",
      "2467.874504139424                                                                                                      \n",
      "{'colsample_bytree': 0.33, 'gamma': 0.15, 'learning_rate': 0.26, 'max_depth': 13, 'min_child_weight': 8.0, 'n_estimators': 110, 'subsample': 0.87}\n",
      "SCORE:                                                                                                                 \n",
      "2476.3311819665714                                                                                                     \n",
      "{'colsample_bytree': 0.49, 'gamma': 0.24, 'learning_rate': 0.1, 'max_depth': 16, 'min_child_weight': 6.0, 'n_estimators': 100, 'subsample': 0.59}\n",
      "SCORE:                                                                                                                 \n",
      "2414.082068204656                                                                                                      \n",
      "{'colsample_bytree': 0.61, 'gamma': 0.27, 'learning_rate': 0.34, 'max_depth': 9, 'min_child_weight': 3.0, 'n_estimators': 15, 'subsample': 0.75}\n",
      "SCORE:                                                                                                                 \n",
      "2569.5112537287437                                                                                                     \n",
      "{'colsample_bytree': 0.64, 'gamma': 0.08, 'learning_rate': 0.16, 'max_depth': 14, 'min_child_weight': 5.0, 'n_estimators': 185, 'subsample': 0.93}\n",
      "SCORE:                                                                                                                 \n",
      "2265.4531641165418                                                                                                     \n",
      "{'colsample_bytree': 0.42, 'gamma': 0.43, 'learning_rate': 0.17, 'max_depth': 14, 'min_child_weight': 5.0, 'n_estimators': 185, 'subsample': 0.9400000000000001}\n",
      "SCORE:                                                                                                                 \n",
      "2324.041625837343                                                                                                      \n",
      "{'colsample_bytree': 0.56, 'gamma': 0.08, 'learning_rate': 0.21, 'max_depth': 14, 'min_child_weight': 4.0, 'n_estimators': 185, 'subsample': 0.16}\n",
      "SCORE:                                                                                                                 \n",
      "2795.9714494355444                                                                                                     \n",
      "{'colsample_bytree': 0.64, 'gamma': 0.41000000000000003, 'learning_rate': 0.23, 'max_depth': 14, 'min_child_weight': 3.0, 'n_estimators': 155, 'subsample': 0.89}\n",
      "SCORE:                                                                                                                 \n",
      "2331.1805345718035                                                                                                     \n",
      "{'colsample_bytree': 0.9400000000000001, 'gamma': 0.3, 'learning_rate': 0.12, 'max_depth': 14, 'min_child_weight': 5.0, 'n_estimators': 130, 'subsample': 0.85}\n",
      "SCORE:                                                                                                                 \n",
      "2371.0814790300356                                                                                                     \n",
      "{'colsample_bytree': 0.47000000000000003, 'gamma': 0.05, 'learning_rate': 0.16, 'max_depth': 5, 'min_child_weight': 4.0, 'n_estimators': 120, 'subsample': 0.51}\n",
      "SCORE:                                                                                                                 \n",
      "2600.978958686338                                                                                                      \n",
      "{'colsample_bytree': 0.66, 'gamma': 0.37, 'learning_rate': 0.19, 'max_depth': 12, 'min_child_weight': 2.0, 'n_estimators': 20, 'subsample': 0.92}\n",
      "SCORE:                                                                                                                 \n",
      "2445.163567826164                                                                                                      \n",
      "{'colsample_bytree': 0.38, 'gamma': 0.2, 'learning_rate': 0.05, 'max_depth': 15, 'min_child_weight': 5.0, 'n_estimators': 165, 'subsample': 0.97}\n",
      "SCORE:                                                                                                                 \n",
      "2330.861319569973                                                                                                      \n",
      "{'colsample_bytree': 0.76, 'gamma': 0.33, 'learning_rate': 0.24, 'max_depth': 10, 'min_child_weight': 4.0, 'n_estimators': 190, 'subsample': 0.47000000000000003}\n",
      "SCORE:                                                                                                                 \n",
      "2426.0554830577203                                                                                                     \n",
      "{'colsample_bytree': 0.58, 'gamma': 0.38, 'learning_rate': 0.18, 'max_depth': 8, 'min_child_weight': 6.0, 'n_estimators': 45, 'subsample': 1.0}\n",
      "SCORE:                                                                                                                 \n",
      "2442.8898598746027                                                                                                     \n",
      "{'colsample_bytree': 0.68, 'gamma': 0.17, 'learning_rate': 0.14, 'max_depth': 17, 'min_child_weight': 3.0, 'n_estimators': 180, 'subsample': 0.9}\n",
      "SCORE:                                                                                                                 \n",
      "2294.069666395872                                                                                                      \n",
      "{'colsample_bytree': 1.0, 'gamma': 0.02, 'learning_rate': 0.3, 'max_depth': 4, 'min_child_weight': 5.0, 'n_estimators': 10, 'subsample': 0.8300000000000001}\n",
      "SCORE:                                                                                                                 \n",
      "3656.202220409777                                                                                                      \n",
      "{'colsample_bytree': 0.79, 'gamma': 0.13, 'learning_rate': 0.07, 'max_depth': 14, 'min_child_weight': 6.0, 'n_estimators': 185, 'subsample': 0.71}\n",
      "SCORE:                                                                                                                 \n",
      "2342.659631519415                                                                                                      \n",
      "100%|███████████████████████████████████████████████| 100/100 [03:15<00:00,  1.96s/trial, best loss: 5132278.038805651]\n",
      "{'colsample_bytree': 0.64, 'gamma': 0.08, 'learning_rate': 0.16, 'max_depth': 11, 'min_child_weight': 5.0, 'n_estimators': 35, 'subsample': 0.93}\n"
     ]
    }
   ],
   "source": [
    "trials = Trials()\n",
    "best = fmin(fn=hyperparameter_tuning,\n",
    "            space=space,\n",
    "            algo=tpe.suggest,\n",
    "            max_evals=100,\n",
    "            trials=trials)\n",
    "\n",
    "print (best)"
   ]
  },
  {
   "cell_type": "code",
   "execution_count": 318,
   "id": "olympic-leonard",
   "metadata": {},
   "outputs": [
    {
     "name": "stdout",
     "output_type": "stream",
     "text": [
      "The best hyperparameters are :  \n",
      "\n",
      "{'colsample_bytree': 0.64, 'gamma': 0.08, 'learning_rate': 0.16, 'max_depth': 11, 'min_child_weight': 5.0, 'n_estimators': 35, 'subsample': 0.93}\n"
     ]
    }
   ],
   "source": [
    "print(\"The best hyperparameters are : \",\"\\n\")\n",
    "print(best)"
   ]
  },
  {
   "cell_type": "code",
   "execution_count": 319,
   "id": "official-exposure",
   "metadata": {},
   "outputs": [],
   "source": [
    "xgb_opt = xgb.XGBRegressor(n_estimators=best['n_estimators'],\n",
    "                             max_depth =best['max_depth'],\n",
    "                           min_child_weight=best['min_child_weight'],\n",
    "                           gamma = best['gamma'],\n",
    "                            learning_rate=best['learning_rate'],\n",
    "                            colsample_bytree=best['colsample_bytree'],\n",
    "                            subsample=best['subsample'])"
   ]
  },
  {
   "cell_type": "code",
   "execution_count": 320,
   "id": "qualified-mozambique",
   "metadata": {},
   "outputs": [
    {
     "data": {
      "text/plain": [
       "XGBRegressor(base_score=0.5, booster='gbtree', colsample_bylevel=1,\n",
       "             colsample_bynode=1, colsample_bytree=0.64, gamma=0.08, gpu_id=-1,\n",
       "             importance_type='gain', interaction_constraints='',\n",
       "             learning_rate=0.16, max_delta_step=0, max_depth=11,\n",
       "             min_child_weight=5.0, missing=nan, monotone_constraints='()',\n",
       "             n_estimators=35, n_jobs=4, num_parallel_tree=1, random_state=0,\n",
       "             reg_alpha=0, reg_lambda=1, scale_pos_weight=1, subsample=0.93,\n",
       "             tree_method='exact', validate_parameters=1, verbosity=None)"
      ]
     },
     "execution_count": 320,
     "metadata": {},
     "output_type": "execute_result"
    }
   ],
   "source": [
    "xgb_opt.fit(X_train, y_train)"
   ]
  },
  {
   "cell_type": "code",
   "execution_count": 321,
   "id": "horizontal-european",
   "metadata": {},
   "outputs": [],
   "source": [
    "# Predicting the Test set results\n",
    "y_pred_XGB_OPT = xgb_opt.predict(X_test)"
   ]
  },
  {
   "cell_type": "code",
   "execution_count": 322,
   "id": "harmful-option",
   "metadata": {},
   "outputs": [
    {
     "data": {
      "image/png": "[encoded data removed]",
      "text/plain": [
       "<Figure size 864x576 with 1 Axes>"
      ]
     },
     "metadata": {
      "needs_background": "light"
     },
     "output_type": "display_data"
    }
   ],
   "source": [
    "plt.figure(figsize = (12,8))\n",
    "\n",
    "#plt.scatter(y_test, y_pred_SVM, label='SVM')\n",
    "plt.scatter(y_test, y_pred_xgb, label='XGBoost')\n",
    "plt.scatter(y_test, y_pred_XGB_OPT, label='XGBoost_HYPEROPT')\n",
    "plt.xlabel('Y Test')\n",
    "plt.ylabel('Predicted Y')\n",
    "plt.legend(loc='upper left');\n",
    "plt.grid()"
   ]
  },
  {
   "cell_type": "code",
   "execution_count": 323,
   "id": "amateur-attribute",
   "metadata": {},
   "outputs": [
    {
     "name": "stdout",
     "output_type": "stream",
     "text": [
      "RMSE using XGBoost:  2503.31281287268\n",
      "RMSE using XGBoost_HYPEROPT:  2330.2315117190237\n"
     ]
    }
   ],
   "source": [
    "mse_XGB_OPT = mean_squared_error(y_test, y_pred_XGB_OPT)\n",
    "#print(\"RMSE using SVM: \", np.sqrt(mse_SVM))\n",
    "print(\"RMSE using XGBoost: \", np.sqrt(MSE(y_pred_xgb,y_test)))\n",
    "print(\"RMSE using XGBoost_HYPEROPT: \", np.sqrt(mse_XGB_OPT))"
   ]
  },
  {
   "cell_type": "markdown",
   "id": "understanding-remark",
   "metadata": {},
   "source": [
    "We get better results with XGBoost and we can even improve the RMSE with the Baesian optimization"
   ]
  },
  {
   "cell_type": "code",
   "execution_count": 325,
   "id": "bizarre-black",
   "metadata": {},
   "outputs": [],
   "source": [
    "pickle.dump(xgb_opt, open('model.pkl','wb'))"
   ]
  },
  {
   "cell_type": "markdown",
   "id": "productive-spectrum",
   "metadata": {},
   "source": [
    "# DEBUG FOR ML DEPLOYMENT"
   ]
  },
  {
   "cell_type": "code",
   "execution_count": 326,
   "id": "protective-gothic",
   "metadata": {},
   "outputs": [
    {
     "data": {
      "text/html": [
       "<div>\n",
       "<style scoped>\n",
       "    .dataframe tbody tr th:only-of-type {\n",
       "        vertical-align: middle;\n",
       "    }\n",
       "\n",
       "    .dataframe tbody tr th {\n",
       "        vertical-align: top;\n",
       "    }\n",
       "\n",
       "    .dataframe thead th {\n",
       "        text-align: right;\n",
       "    }\n",
       "</style>\n",
       "<table border=\"1\" class=\"dataframe\">\n",
       "  <thead>\n",
       "    <tr style=\"text-align: right;\">\n",
       "      <th></th>\n",
       "      <th>model</th>\n",
       "      <th>year</th>\n",
       "      <th>transmission</th>\n",
       "      <th>fuelType</th>\n",
       "      <th>mileage</th>\n",
       "      <th>tax</th>\n",
       "      <th>mpg</th>\n",
       "      <th>engineSize</th>\n",
       "      <th>price</th>\n",
       "    </tr>\n",
       "  </thead>\n",
       "  <tbody>\n",
       "    <tr>\n",
       "      <th>0</th>\n",
       "      <td>A1</td>\n",
       "      <td>2017</td>\n",
       "      <td>Manual</td>\n",
       "      <td>Petrol</td>\n",
       "      <td>15735</td>\n",
       "      <td>150</td>\n",
       "      <td>55.4</td>\n",
       "      <td>1.4</td>\n",
       "      <td>12500</td>\n",
       "    </tr>\n",
       "    <tr>\n",
       "      <th>1</th>\n",
       "      <td>A6</td>\n",
       "      <td>2016</td>\n",
       "      <td>Automatic</td>\n",
       "      <td>Diesel</td>\n",
       "      <td>36203</td>\n",
       "      <td>20</td>\n",
       "      <td>64.2</td>\n",
       "      <td>2.0</td>\n",
       "      <td>16500</td>\n",
       "    </tr>\n",
       "    <tr>\n",
       "      <th>2</th>\n",
       "      <td>A1</td>\n",
       "      <td>2016</td>\n",
       "      <td>Manual</td>\n",
       "      <td>Petrol</td>\n",
       "      <td>29946</td>\n",
       "      <td>30</td>\n",
       "      <td>55.4</td>\n",
       "      <td>1.4</td>\n",
       "      <td>11000</td>\n",
       "    </tr>\n",
       "    <tr>\n",
       "      <th>3</th>\n",
       "      <td>A4</td>\n",
       "      <td>2017</td>\n",
       "      <td>Automatic</td>\n",
       "      <td>Diesel</td>\n",
       "      <td>25952</td>\n",
       "      <td>145</td>\n",
       "      <td>67.3</td>\n",
       "      <td>2.0</td>\n",
       "      <td>16800</td>\n",
       "    </tr>\n",
       "    <tr>\n",
       "      <th>4</th>\n",
       "      <td>A3</td>\n",
       "      <td>2019</td>\n",
       "      <td>Manual</td>\n",
       "      <td>Petrol</td>\n",
       "      <td>1998</td>\n",
       "      <td>145</td>\n",
       "      <td>49.6</td>\n",
       "      <td>1.0</td>\n",
       "      <td>17300</td>\n",
       "    </tr>\n",
       "  </tbody>\n",
       "</table>\n",
       "</div>"
      ],
      "text/plain": [
       "  model  year transmission fuelType  mileage  tax   mpg  engineSize  price\n",
       "0    A1  2017       Manual   Petrol    15735  150  55.4         1.4  12500\n",
       "1    A6  2016    Automatic   Diesel    36203   20  64.2         2.0  16500\n",
       "2    A1  2016       Manual   Petrol    29946   30  55.4         1.4  11000\n",
       "3    A4  2017    Automatic   Diesel    25952  145  67.3         2.0  16800\n",
       "4    A3  2019       Manual   Petrol     1998  145  49.6         1.0  17300"
      ]
     },
     "execution_count": 326,
     "metadata": {},
     "output_type": "execute_result"
    }
   ],
   "source": [
    "df.head()"
   ]
  },
  {
   "cell_type": "code",
   "execution_count": 327,
   "id": "informative-noise",
   "metadata": {},
   "outputs": [],
   "source": [
    "feat=['A1','2017','Manual','Petrol','15735','150','55.4','1.4']"
   ]
  },
  {
   "cell_type": "code",
   "execution_count": 328,
   "id": "literary-status",
   "metadata": {},
   "outputs": [
    {
     "data": {
      "text/plain": [
       "['15735', '150', '55.4', '1.4']"
      ]
     },
     "execution_count": 328,
     "metadata": {},
     "output_type": "execute_result"
    }
   ],
   "source": [
    "num_feat = feat[4:8]\n",
    "num_feat"
   ]
  },
  {
   "cell_type": "code",
   "execution_count": 329,
   "id": "interpreted-swing",
   "metadata": {},
   "outputs": [
    {
     "data": {
      "text/html": [
       "<div>\n",
       "<style scoped>\n",
       "    .dataframe tbody tr th:only-of-type {\n",
       "        vertical-align: middle;\n",
       "    }\n",
       "\n",
       "    .dataframe tbody tr th {\n",
       "        vertical-align: top;\n",
       "    }\n",
       "\n",
       "    .dataframe thead th {\n",
       "        text-align: right;\n",
       "    }\n",
       "</style>\n",
       "<table border=\"1\" class=\"dataframe\">\n",
       "  <thead>\n",
       "    <tr style=\"text-align: right;\">\n",
       "      <th></th>\n",
       "      <th>model</th>\n",
       "      <th>year</th>\n",
       "      <th>transmission</th>\n",
       "      <th>fuelType</th>\n",
       "    </tr>\n",
       "  </thead>\n",
       "  <tbody>\n",
       "    <tr>\n",
       "      <th>0</th>\n",
       "      <td>A1</td>\n",
       "      <td>2017</td>\n",
       "      <td>Manual</td>\n",
       "      <td>Petrol</td>\n",
       "    </tr>\n",
       "  </tbody>\n",
       "</table>\n",
       "</div>"
      ],
      "text/plain": [
       "  model  year transmission fuelType\n",
       "0    A1  2017       Manual   Petrol"
      ]
     },
     "execution_count": 329,
     "metadata": {},
     "output_type": "execute_result"
    }
   ],
   "source": [
    "df_cat=pd.DataFrame([feat[0:4]], columns=['model','year','transmission','fuelType'])\n",
    "df_cat"
   ]
  },
  {
   "cell_type": "code",
   "execution_count": 330,
   "id": "sought-fifth",
   "metadata": {},
   "outputs": [],
   "source": [
    "df_cat.year=int(df_cat.year)"
   ]
  },
  {
   "cell_type": "code",
   "execution_count": 331,
   "id": "occupied-maryland",
   "metadata": {},
   "outputs": [],
   "source": [
    "cat_feat = enc.transform(df_cat).toarray()"
   ]
  },
  {
   "cell_type": "code",
   "execution_count": 332,
   "id": "friendly-import",
   "metadata": {},
   "outputs": [],
   "source": [
    "enc_feat = np.append(num_feat, cat_feat)"
   ]
  },
  {
   "cell_type": "code",
   "execution_count": 333,
   "id": "second-springer",
   "metadata": {},
   "outputs": [],
   "source": [
    "scaled_feat=scaler.transform(enc_feat.reshape(1,-1))"
   ]
  },
  {
   "cell_type": "code",
   "execution_count": 334,
   "id": "1f688c3f",
   "metadata": {},
   "outputs": [
    {
     "data": {
      "text/plain": [
       "(1, 57)"
      ]
     },
     "execution_count": 334,
     "metadata": {},
     "output_type": "execute_result"
    }
   ],
   "source": [
    "scaled_feat.shape"
   ]
  },
  {
   "cell_type": "code",
   "execution_count": 335,
   "id": "massive-differential",
   "metadata": {},
   "outputs": [
    {
     "data": {
      "text/plain": [
       "12268.635"
      ]
     },
     "execution_count": 335,
     "metadata": {},
     "output_type": "execute_result"
    }
   ],
   "source": [
    "prediction = xgb_opt.predict(scaled_feat)[0]\n",
    "prediction"
   ]
  },
  {
   "cell_type": "code",
   "execution_count": null,
   "id": "ab733a54",
   "metadata": {},
   "outputs": [],
   "source": []
  },
  {
   "cell_type": "code",
   "execution_count": null,
   "id": "86fe5874",
   "metadata": {},
   "outputs": [],
   "source": []
  }
 ],
 "metadata": {
  "kernelspec": {
   "display_name": "Python 3",
   "language": "python",
   "name": "python3"
  },
  "language_info": {
   "codemirror_mode": {
    "name": "ipython",
    "version": 3
   },
   "file_extension": ".py",
   "mimetype": "text/x-python",
   "name": "python",
   "nbconvert_exporter": "python",
   "pygments_lexer": "ipython3",
   "version": "3.8.5"
  }
 },
 "nbformat": 4,
 "nbformat_minor": 5
}
