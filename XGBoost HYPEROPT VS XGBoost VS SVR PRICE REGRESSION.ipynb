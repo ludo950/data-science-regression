{
 "cells": [
  {
   "cell_type": "markdown",
   "id": "skilled-navigator",
   "metadata": {},
   "source": [
    "# XGBoost HYPEROPT VS XGBoost VS SVR PRICE REGRESSION"
   ]
  },
  {
   "cell_type": "code",
   "execution_count": 15,
   "id": "martial-rotation",
   "metadata": {},
   "outputs": [],
   "source": [
    "from sklearn.model_selection import train_test_split\n",
    "from sklearn.model_selection import GridSearchCV, RandomizedSearchCV\n",
    "from sklearn.preprocessing import StandardScaler\n",
    "from sklearn.pipeline import Pipeline\n",
    "from sklearn.metrics import classification_report\n",
    "from sklearn.metrics import mean_squared_error\n",
    "import pandas as pd\n",
    "import matplotlib.pyplot as plt\n",
    "import numpy as np\n",
    "import seaborn as sns"
   ]
  },
  {
   "cell_type": "code",
   "execution_count": 16,
   "id": "ignored-contemporary",
   "metadata": {},
   "outputs": [],
   "source": [
    "df=pd.read_csv('audi.csv',skipinitialspace=True)"
   ]
  },
  {
   "cell_type": "code",
   "execution_count": 17,
   "id": "later-probability",
   "metadata": {},
   "outputs": [
    {
     "data": {
      "text/html": [
       "<div>\n",
       "<style scoped>\n",
       "    .dataframe tbody tr th:only-of-type {\n",
       "        vertical-align: middle;\n",
       "    }\n",
       "\n",
       "    .dataframe tbody tr th {\n",
       "        vertical-align: top;\n",
       "    }\n",
       "\n",
       "    .dataframe thead th {\n",
       "        text-align: right;\n",
       "    }\n",
       "</style>\n",
       "<table border=\"1\" class=\"dataframe\">\n",
       "  <thead>\n",
       "    <tr style=\"text-align: right;\">\n",
       "      <th></th>\n",
       "      <th>model</th>\n",
       "      <th>year</th>\n",
       "      <th>price</th>\n",
       "      <th>transmission</th>\n",
       "      <th>mileage</th>\n",
       "      <th>fuelType</th>\n",
       "      <th>tax</th>\n",
       "      <th>mpg</th>\n",
       "      <th>engineSize</th>\n",
       "    </tr>\n",
       "  </thead>\n",
       "  <tbody>\n",
       "    <tr>\n",
       "      <th>0</th>\n",
       "      <td>A1</td>\n",
       "      <td>2017</td>\n",
       "      <td>12500</td>\n",
       "      <td>Manual</td>\n",
       "      <td>15735</td>\n",
       "      <td>Petrol</td>\n",
       "      <td>150</td>\n",
       "      <td>55.4</td>\n",
       "      <td>1.4</td>\n",
       "    </tr>\n",
       "    <tr>\n",
       "      <th>1</th>\n",
       "      <td>A6</td>\n",
       "      <td>2016</td>\n",
       "      <td>16500</td>\n",
       "      <td>Automatic</td>\n",
       "      <td>36203</td>\n",
       "      <td>Diesel</td>\n",
       "      <td>20</td>\n",
       "      <td>64.2</td>\n",
       "      <td>2.0</td>\n",
       "    </tr>\n",
       "    <tr>\n",
       "      <th>2</th>\n",
       "      <td>A1</td>\n",
       "      <td>2016</td>\n",
       "      <td>11000</td>\n",
       "      <td>Manual</td>\n",
       "      <td>29946</td>\n",
       "      <td>Petrol</td>\n",
       "      <td>30</td>\n",
       "      <td>55.4</td>\n",
       "      <td>1.4</td>\n",
       "    </tr>\n",
       "    <tr>\n",
       "      <th>3</th>\n",
       "      <td>A4</td>\n",
       "      <td>2017</td>\n",
       "      <td>16800</td>\n",
       "      <td>Automatic</td>\n",
       "      <td>25952</td>\n",
       "      <td>Diesel</td>\n",
       "      <td>145</td>\n",
       "      <td>67.3</td>\n",
       "      <td>2.0</td>\n",
       "    </tr>\n",
       "    <tr>\n",
       "      <th>4</th>\n",
       "      <td>A3</td>\n",
       "      <td>2019</td>\n",
       "      <td>17300</td>\n",
       "      <td>Manual</td>\n",
       "      <td>1998</td>\n",
       "      <td>Petrol</td>\n",
       "      <td>145</td>\n",
       "      <td>49.6</td>\n",
       "      <td>1.0</td>\n",
       "    </tr>\n",
       "  </tbody>\n",
       "</table>\n",
       "</div>"
      ],
      "text/plain": [
       "  model  year  price transmission  mileage fuelType  tax   mpg  engineSize\n",
       "0    A1  2017  12500       Manual    15735   Petrol  150  55.4         1.4\n",
       "1    A6  2016  16500    Automatic    36203   Diesel   20  64.2         2.0\n",
       "2    A1  2016  11000       Manual    29946   Petrol   30  55.4         1.4\n",
       "3    A4  2017  16800    Automatic    25952   Diesel  145  67.3         2.0\n",
       "4    A3  2019  17300       Manual     1998   Petrol  145  49.6         1.0"
      ]
     },
     "execution_count": 17,
     "metadata": {},
     "output_type": "execute_result"
    }
   ],
   "source": [
    "df.head()"
   ]
  },
  {
   "cell_type": "markdown",
   "id": "intended-worry",
   "metadata": {},
   "source": [
    "I will reorder the columns to group the categorical variables first and then the numerical ones"
   ]
  },
  {
   "cell_type": "code",
   "execution_count": 18,
   "id": "caring-defeat",
   "metadata": {},
   "outputs": [],
   "source": [
    "df=df[['model','year','transmission','fuelType','mileage','tax','mpg','engineSize','price']]"
   ]
  },
  {
   "cell_type": "code",
   "execution_count": 19,
   "id": "trained-cosmetic",
   "metadata": {},
   "outputs": [
    {
     "data": {
      "text/html": [
       "<div>\n",
       "<style scoped>\n",
       "    .dataframe tbody tr th:only-of-type {\n",
       "        vertical-align: middle;\n",
       "    }\n",
       "\n",
       "    .dataframe tbody tr th {\n",
       "        vertical-align: top;\n",
       "    }\n",
       "\n",
       "    .dataframe thead th {\n",
       "        text-align: right;\n",
       "    }\n",
       "</style>\n",
       "<table border=\"1\" class=\"dataframe\">\n",
       "  <thead>\n",
       "    <tr style=\"text-align: right;\">\n",
       "      <th></th>\n",
       "      <th>model</th>\n",
       "      <th>year</th>\n",
       "      <th>transmission</th>\n",
       "      <th>fuelType</th>\n",
       "      <th>mileage</th>\n",
       "      <th>tax</th>\n",
       "      <th>mpg</th>\n",
       "      <th>engineSize</th>\n",
       "      <th>price</th>\n",
       "    </tr>\n",
       "  </thead>\n",
       "  <tbody>\n",
       "    <tr>\n",
       "      <th>0</th>\n",
       "      <td>A1</td>\n",
       "      <td>2017</td>\n",
       "      <td>Manual</td>\n",
       "      <td>Petrol</td>\n",
       "      <td>15735</td>\n",
       "      <td>150</td>\n",
       "      <td>55.4</td>\n",
       "      <td>1.4</td>\n",
       "      <td>12500</td>\n",
       "    </tr>\n",
       "    <tr>\n",
       "      <th>1</th>\n",
       "      <td>A6</td>\n",
       "      <td>2016</td>\n",
       "      <td>Automatic</td>\n",
       "      <td>Diesel</td>\n",
       "      <td>36203</td>\n",
       "      <td>20</td>\n",
       "      <td>64.2</td>\n",
       "      <td>2.0</td>\n",
       "      <td>16500</td>\n",
       "    </tr>\n",
       "    <tr>\n",
       "      <th>2</th>\n",
       "      <td>A1</td>\n",
       "      <td>2016</td>\n",
       "      <td>Manual</td>\n",
       "      <td>Petrol</td>\n",
       "      <td>29946</td>\n",
       "      <td>30</td>\n",
       "      <td>55.4</td>\n",
       "      <td>1.4</td>\n",
       "      <td>11000</td>\n",
       "    </tr>\n",
       "    <tr>\n",
       "      <th>3</th>\n",
       "      <td>A4</td>\n",
       "      <td>2017</td>\n",
       "      <td>Automatic</td>\n",
       "      <td>Diesel</td>\n",
       "      <td>25952</td>\n",
       "      <td>145</td>\n",
       "      <td>67.3</td>\n",
       "      <td>2.0</td>\n",
       "      <td>16800</td>\n",
       "    </tr>\n",
       "    <tr>\n",
       "      <th>4</th>\n",
       "      <td>A3</td>\n",
       "      <td>2019</td>\n",
       "      <td>Manual</td>\n",
       "      <td>Petrol</td>\n",
       "      <td>1998</td>\n",
       "      <td>145</td>\n",
       "      <td>49.6</td>\n",
       "      <td>1.0</td>\n",
       "      <td>17300</td>\n",
       "    </tr>\n",
       "  </tbody>\n",
       "</table>\n",
       "</div>"
      ],
      "text/plain": [
       "  model  year transmission fuelType  mileage  tax   mpg  engineSize  price\n",
       "0    A1  2017       Manual   Petrol    15735  150  55.4         1.4  12500\n",
       "1    A6  2016    Automatic   Diesel    36203   20  64.2         2.0  16500\n",
       "2    A1  2016       Manual   Petrol    29946   30  55.4         1.4  11000\n",
       "3    A4  2017    Automatic   Diesel    25952  145  67.3         2.0  16800\n",
       "4    A3  2019       Manual   Petrol     1998  145  49.6         1.0  17300"
      ]
     },
     "execution_count": 19,
     "metadata": {},
     "output_type": "execute_result"
    }
   ],
   "source": [
    "df.head()"
   ]
  },
  {
   "cell_type": "code",
   "execution_count": 20,
   "id": "mathematical-boards",
   "metadata": {},
   "outputs": [
    {
     "name": "stdout",
     "output_type": "stream",
     "text": [
      "<class 'pandas.core.frame.DataFrame'>\n",
      "RangeIndex: 10668 entries, 0 to 10667\n",
      "Data columns (total 9 columns):\n",
      " #   Column        Non-Null Count  Dtype  \n",
      "---  ------        --------------  -----  \n",
      " 0   model         10668 non-null  object \n",
      " 1   year          10668 non-null  int64  \n",
      " 2   transmission  10668 non-null  object \n",
      " 3   fuelType      10668 non-null  object \n",
      " 4   mileage       10668 non-null  int64  \n",
      " 5   tax           10668 non-null  int64  \n",
      " 6   mpg           10668 non-null  float64\n",
      " 7   engineSize    10668 non-null  float64\n",
      " 8   price         10668 non-null  int64  \n",
      "dtypes: float64(2), int64(4), object(3)\n",
      "memory usage: 750.2+ KB\n"
     ]
    }
   ],
   "source": [
    "df.info()"
   ]
  },
  {
   "cell_type": "markdown",
   "id": "authentic-socket",
   "metadata": {},
   "source": [
    "There are no missing values"
   ]
  },
  {
   "cell_type": "code",
   "execution_count": 21,
   "id": "through-treatment",
   "metadata": {},
   "outputs": [],
   "source": [
    "#Convert year column to object so we can include it in the categorical mask\n",
    "df['year']=df['year'].astype(object)"
   ]
  },
  {
   "cell_type": "code",
   "execution_count": 22,
   "id": "lesbian-muslim",
   "metadata": {},
   "outputs": [],
   "source": [
    "# Create a boolean mask for categorical columns\n",
    "categorical_mask = (df.dtypes == object)"
   ]
  },
  {
   "cell_type": "code",
   "execution_count": 23,
   "id": "signed-diesel",
   "metadata": {},
   "outputs": [],
   "source": [
    "categorical_columns = df.columns[categorical_mask].tolist()"
   ]
  },
  {
   "cell_type": "code",
   "execution_count": 24,
   "id": "mediterranean-burlington",
   "metadata": {},
   "outputs": [
    {
     "name": "stdout",
     "output_type": "stream",
     "text": [
      "  model  year transmission fuelType\n",
      "0    A1  2017       Manual   Petrol\n",
      "1    A6  2016    Automatic   Diesel\n",
      "2    A1  2016       Manual   Petrol\n",
      "3    A4  2017    Automatic   Diesel\n",
      "4    A3  2019       Manual   Petrol\n"
     ]
    }
   ],
   "source": [
    "print(df[categorical_columns].head())"
   ]
  },
  {
   "cell_type": "code",
   "execution_count": 25,
   "id": "divine-arnold",
   "metadata": {},
   "outputs": [
    {
     "data": {
      "text/html": [
       "<div>\n",
       "<style scoped>\n",
       "    .dataframe tbody tr th:only-of-type {\n",
       "        vertical-align: middle;\n",
       "    }\n",
       "\n",
       "    .dataframe tbody tr th {\n",
       "        vertical-align: top;\n",
       "    }\n",
       "\n",
       "    .dataframe thead th {\n",
       "        text-align: right;\n",
       "    }\n",
       "</style>\n",
       "<table border=\"1\" class=\"dataframe\">\n",
       "  <thead>\n",
       "    <tr style=\"text-align: right;\">\n",
       "      <th></th>\n",
       "      <th>model</th>\n",
       "      <th>year</th>\n",
       "      <th>transmission</th>\n",
       "      <th>fuelType</th>\n",
       "    </tr>\n",
       "  </thead>\n",
       "  <tbody>\n",
       "    <tr>\n",
       "      <th>count</th>\n",
       "      <td>10668</td>\n",
       "      <td>10668</td>\n",
       "      <td>10668</td>\n",
       "      <td>10668</td>\n",
       "    </tr>\n",
       "    <tr>\n",
       "      <th>unique</th>\n",
       "      <td>26</td>\n",
       "      <td>21</td>\n",
       "      <td>3</td>\n",
       "      <td>3</td>\n",
       "    </tr>\n",
       "    <tr>\n",
       "      <th>top</th>\n",
       "      <td>A3</td>\n",
       "      <td>2019</td>\n",
       "      <td>Manual</td>\n",
       "      <td>Diesel</td>\n",
       "    </tr>\n",
       "    <tr>\n",
       "      <th>freq</th>\n",
       "      <td>1929</td>\n",
       "      <td>3197</td>\n",
       "      <td>4369</td>\n",
       "      <td>5577</td>\n",
       "    </tr>\n",
       "  </tbody>\n",
       "</table>\n",
       "</div>"
      ],
      "text/plain": [
       "        model   year transmission fuelType\n",
       "count   10668  10668        10668    10668\n",
       "unique     26     21            3        3\n",
       "top        A3   2019       Manual   Diesel\n",
       "freq     1929   3197         4369     5577"
      ]
     },
     "execution_count": 25,
     "metadata": {},
     "output_type": "execute_result"
    }
   ],
   "source": [
    "df[categorical_columns].describe()"
   ]
  },
  {
   "cell_type": "code",
   "execution_count": 26,
   "id": "together-iceland",
   "metadata": {},
   "outputs": [],
   "source": [
    "#COLUMN TRANSFORMER to get OH conded cols!\n",
    "#This allows us to skip the label encoder and directly apply the one hot encoding!\n",
    "\n",
    "\n",
    "#from sklearn.preprocessing import OneHotEncoder\n",
    "#from sklearn.compose import ColumnTransformer\n",
    "#ct = ColumnTransformer([(categorical_columns, OneHotEncoder(), [0])], remainder = 'passthrough')\n",
    "#df[categorical_columns] = ct.fit_transform(df[categorical_columns])"
   ]
  },
  {
   "cell_type": "code",
   "execution_count": 27,
   "id": "compatible-polyester",
   "metadata": {},
   "outputs": [],
   "source": [
    "#Use get dummies instead of one hot encoding, \n",
    "\n",
    "#Create a copy of the DF where we substitue the categorical column into more cols with dummies\n",
    "encoded_df=df.copy()\n",
    "encoded_df = pd.concat([df.drop(categorical_columns, axis=1), pd.get_dummies(df[categorical_columns], drop_first=True)], axis=1)"
   ]
  },
  {
   "cell_type": "markdown",
   "id": "informed-detail",
   "metadata": {},
   "source": [
    "## One Hot encoding"
   ]
  },
  {
   "cell_type": "code",
   "execution_count": 28,
   "id": "absent-attempt",
   "metadata": {},
   "outputs": [
    {
     "data": {
      "text/plain": [
       "OneHotEncoder()"
      ]
     },
     "execution_count": 28,
     "metadata": {},
     "output_type": "execute_result"
    }
   ],
   "source": [
    "from sklearn.preprocessing import OneHotEncoder\n",
    "enc = OneHotEncoder(handle_unknown='error')\n",
    "enc.fit(df[categorical_columns])"
   ]
  },
  {
   "cell_type": "code",
   "execution_count": 29,
   "id": "healthy-friendly",
   "metadata": {},
   "outputs": [
    {
     "data": {
      "text/html": [
       "<div>\n",
       "<style scoped>\n",
       "    .dataframe tbody tr th:only-of-type {\n",
       "        vertical-align: middle;\n",
       "    }\n",
       "\n",
       "    .dataframe tbody tr th {\n",
       "        vertical-align: top;\n",
       "    }\n",
       "\n",
       "    .dataframe thead th {\n",
       "        text-align: right;\n",
       "    }\n",
       "</style>\n",
       "<table border=\"1\" class=\"dataframe\">\n",
       "  <thead>\n",
       "    <tr style=\"text-align: right;\">\n",
       "      <th></th>\n",
       "      <th>model</th>\n",
       "      <th>year</th>\n",
       "      <th>transmission</th>\n",
       "      <th>fuelType</th>\n",
       "    </tr>\n",
       "  </thead>\n",
       "  <tbody>\n",
       "    <tr>\n",
       "      <th>0</th>\n",
       "      <td>A1</td>\n",
       "      <td>2017</td>\n",
       "      <td>Manual</td>\n",
       "      <td>Petrol</td>\n",
       "    </tr>\n",
       "    <tr>\n",
       "      <th>1</th>\n",
       "      <td>A6</td>\n",
       "      <td>2016</td>\n",
       "      <td>Automatic</td>\n",
       "      <td>Diesel</td>\n",
       "    </tr>\n",
       "    <tr>\n",
       "      <th>2</th>\n",
       "      <td>A1</td>\n",
       "      <td>2016</td>\n",
       "      <td>Manual</td>\n",
       "      <td>Petrol</td>\n",
       "    </tr>\n",
       "    <tr>\n",
       "      <th>3</th>\n",
       "      <td>A4</td>\n",
       "      <td>2017</td>\n",
       "      <td>Automatic</td>\n",
       "      <td>Diesel</td>\n",
       "    </tr>\n",
       "    <tr>\n",
       "      <th>4</th>\n",
       "      <td>A3</td>\n",
       "      <td>2019</td>\n",
       "      <td>Manual</td>\n",
       "      <td>Petrol</td>\n",
       "    </tr>\n",
       "    <tr>\n",
       "      <th>...</th>\n",
       "      <td>...</td>\n",
       "      <td>...</td>\n",
       "      <td>...</td>\n",
       "      <td>...</td>\n",
       "    </tr>\n",
       "    <tr>\n",
       "      <th>10663</th>\n",
       "      <td>A3</td>\n",
       "      <td>2020</td>\n",
       "      <td>Manual</td>\n",
       "      <td>Petrol</td>\n",
       "    </tr>\n",
       "    <tr>\n",
       "      <th>10664</th>\n",
       "      <td>A3</td>\n",
       "      <td>2020</td>\n",
       "      <td>Manual</td>\n",
       "      <td>Petrol</td>\n",
       "    </tr>\n",
       "    <tr>\n",
       "      <th>10665</th>\n",
       "      <td>A3</td>\n",
       "      <td>2020</td>\n",
       "      <td>Manual</td>\n",
       "      <td>Petrol</td>\n",
       "    </tr>\n",
       "    <tr>\n",
       "      <th>10666</th>\n",
       "      <td>Q3</td>\n",
       "      <td>2017</td>\n",
       "      <td>Automatic</td>\n",
       "      <td>Petrol</td>\n",
       "    </tr>\n",
       "    <tr>\n",
       "      <th>10667</th>\n",
       "      <td>Q3</td>\n",
       "      <td>2016</td>\n",
       "      <td>Manual</td>\n",
       "      <td>Petrol</td>\n",
       "    </tr>\n",
       "  </tbody>\n",
       "</table>\n",
       "<p>10668 rows × 4 columns</p>\n",
       "</div>"
      ],
      "text/plain": [
       "      model  year transmission fuelType\n",
       "0        A1  2017       Manual   Petrol\n",
       "1        A6  2016    Automatic   Diesel\n",
       "2        A1  2016       Manual   Petrol\n",
       "3        A4  2017    Automatic   Diesel\n",
       "4        A3  2019       Manual   Petrol\n",
       "...     ...   ...          ...      ...\n",
       "10663    A3  2020       Manual   Petrol\n",
       "10664    A3  2020       Manual   Petrol\n",
       "10665    A3  2020       Manual   Petrol\n",
       "10666    Q3  2017    Automatic   Petrol\n",
       "10667    Q3  2016       Manual   Petrol\n",
       "\n",
       "[10668 rows x 4 columns]"
      ]
     },
     "execution_count": 29,
     "metadata": {},
     "output_type": "execute_result"
    }
   ],
   "source": [
    "df[categorical_columns]"
   ]
  },
  {
   "cell_type": "code",
   "execution_count": 30,
   "id": "deluxe-semester",
   "metadata": {},
   "outputs": [
    {
     "data": {
      "text/plain": [
       "['encoder.joblib']"
      ]
     },
     "execution_count": 30,
     "metadata": {},
     "output_type": "execute_result"
    }
   ],
   "source": [
    "import joblib\n",
    "joblib.dump(enc, 'encoder.joblib')"
   ]
  },
  {
   "cell_type": "code",
   "execution_count": 31,
   "id": "front-berlin",
   "metadata": {},
   "outputs": [
    {
     "data": {
      "text/html": [
       "<div>\n",
       "<style scoped>\n",
       "    .dataframe tbody tr th:only-of-type {\n",
       "        vertical-align: middle;\n",
       "    }\n",
       "\n",
       "    .dataframe tbody tr th {\n",
       "        vertical-align: top;\n",
       "    }\n",
       "\n",
       "    .dataframe thead th {\n",
       "        text-align: right;\n",
       "    }\n",
       "</style>\n",
       "<table border=\"1\" class=\"dataframe\">\n",
       "  <thead>\n",
       "    <tr style=\"text-align: right;\">\n",
       "      <th></th>\n",
       "      <th>mileage</th>\n",
       "      <th>tax</th>\n",
       "      <th>mpg</th>\n",
       "      <th>engineSize</th>\n",
       "      <th>price</th>\n",
       "      <th>model_A1</th>\n",
       "      <th>model_A2</th>\n",
       "      <th>model_A3</th>\n",
       "      <th>model_A4</th>\n",
       "      <th>model_A5</th>\n",
       "      <th>...</th>\n",
       "      <th>year_2017</th>\n",
       "      <th>year_2018</th>\n",
       "      <th>year_2019</th>\n",
       "      <th>year_2020</th>\n",
       "      <th>transmission_Automatic</th>\n",
       "      <th>transmission_Manual</th>\n",
       "      <th>transmission_Semi-Auto</th>\n",
       "      <th>fuelType_Diesel</th>\n",
       "      <th>fuelType_Hybrid</th>\n",
       "      <th>fuelType_Petrol</th>\n",
       "    </tr>\n",
       "  </thead>\n",
       "  <tbody>\n",
       "    <tr>\n",
       "      <th>0</th>\n",
       "      <td>15735</td>\n",
       "      <td>150</td>\n",
       "      <td>55.4</td>\n",
       "      <td>1.4</td>\n",
       "      <td>12500</td>\n",
       "      <td>1</td>\n",
       "      <td>0</td>\n",
       "      <td>0</td>\n",
       "      <td>0</td>\n",
       "      <td>0</td>\n",
       "      <td>...</td>\n",
       "      <td>1</td>\n",
       "      <td>0</td>\n",
       "      <td>0</td>\n",
       "      <td>0</td>\n",
       "      <td>0</td>\n",
       "      <td>1</td>\n",
       "      <td>0</td>\n",
       "      <td>0</td>\n",
       "      <td>0</td>\n",
       "      <td>1</td>\n",
       "    </tr>\n",
       "    <tr>\n",
       "      <th>1</th>\n",
       "      <td>36203</td>\n",
       "      <td>20</td>\n",
       "      <td>64.2</td>\n",
       "      <td>2.0</td>\n",
       "      <td>16500</td>\n",
       "      <td>0</td>\n",
       "      <td>0</td>\n",
       "      <td>0</td>\n",
       "      <td>0</td>\n",
       "      <td>0</td>\n",
       "      <td>...</td>\n",
       "      <td>0</td>\n",
       "      <td>0</td>\n",
       "      <td>0</td>\n",
       "      <td>0</td>\n",
       "      <td>1</td>\n",
       "      <td>0</td>\n",
       "      <td>0</td>\n",
       "      <td>1</td>\n",
       "      <td>0</td>\n",
       "      <td>0</td>\n",
       "    </tr>\n",
       "    <tr>\n",
       "      <th>2</th>\n",
       "      <td>29946</td>\n",
       "      <td>30</td>\n",
       "      <td>55.4</td>\n",
       "      <td>1.4</td>\n",
       "      <td>11000</td>\n",
       "      <td>1</td>\n",
       "      <td>0</td>\n",
       "      <td>0</td>\n",
       "      <td>0</td>\n",
       "      <td>0</td>\n",
       "      <td>...</td>\n",
       "      <td>0</td>\n",
       "      <td>0</td>\n",
       "      <td>0</td>\n",
       "      <td>0</td>\n",
       "      <td>0</td>\n",
       "      <td>1</td>\n",
       "      <td>0</td>\n",
       "      <td>0</td>\n",
       "      <td>0</td>\n",
       "      <td>1</td>\n",
       "    </tr>\n",
       "    <tr>\n",
       "      <th>3</th>\n",
       "      <td>25952</td>\n",
       "      <td>145</td>\n",
       "      <td>67.3</td>\n",
       "      <td>2.0</td>\n",
       "      <td>16800</td>\n",
       "      <td>0</td>\n",
       "      <td>0</td>\n",
       "      <td>0</td>\n",
       "      <td>1</td>\n",
       "      <td>0</td>\n",
       "      <td>...</td>\n",
       "      <td>1</td>\n",
       "      <td>0</td>\n",
       "      <td>0</td>\n",
       "      <td>0</td>\n",
       "      <td>1</td>\n",
       "      <td>0</td>\n",
       "      <td>0</td>\n",
       "      <td>1</td>\n",
       "      <td>0</td>\n",
       "      <td>0</td>\n",
       "    </tr>\n",
       "    <tr>\n",
       "      <th>4</th>\n",
       "      <td>1998</td>\n",
       "      <td>145</td>\n",
       "      <td>49.6</td>\n",
       "      <td>1.0</td>\n",
       "      <td>17300</td>\n",
       "      <td>0</td>\n",
       "      <td>0</td>\n",
       "      <td>1</td>\n",
       "      <td>0</td>\n",
       "      <td>0</td>\n",
       "      <td>...</td>\n",
       "      <td>0</td>\n",
       "      <td>0</td>\n",
       "      <td>1</td>\n",
       "      <td>0</td>\n",
       "      <td>0</td>\n",
       "      <td>1</td>\n",
       "      <td>0</td>\n",
       "      <td>0</td>\n",
       "      <td>0</td>\n",
       "      <td>1</td>\n",
       "    </tr>\n",
       "  </tbody>\n",
       "</table>\n",
       "<p>5 rows × 58 columns</p>\n",
       "</div>"
      ],
      "text/plain": [
       "   mileage  tax   mpg  engineSize  price  model_A1  model_A2  model_A3  \\\n",
       "0    15735  150  55.4         1.4  12500         1         0         0   \n",
       "1    36203   20  64.2         2.0  16500         0         0         0   \n",
       "2    29946   30  55.4         1.4  11000         1         0         0   \n",
       "3    25952  145  67.3         2.0  16800         0         0         0   \n",
       "4     1998  145  49.6         1.0  17300         0         0         1   \n",
       "\n",
       "   model_A4  model_A5  ...  year_2017  year_2018  year_2019  year_2020  \\\n",
       "0         0         0  ...          1          0          0          0   \n",
       "1         0         0  ...          0          0          0          0   \n",
       "2         0         0  ...          0          0          0          0   \n",
       "3         1         0  ...          1          0          0          0   \n",
       "4         0         0  ...          0          0          1          0   \n",
       "\n",
       "   transmission_Automatic  transmission_Manual  transmission_Semi-Auto  \\\n",
       "0                       0                    1                       0   \n",
       "1                       1                    0                       0   \n",
       "2                       0                    1                       0   \n",
       "3                       1                    0                       0   \n",
       "4                       0                    1                       0   \n",
       "\n",
       "   fuelType_Diesel  fuelType_Hybrid  fuelType_Petrol  \n",
       "0                0                0                1  \n",
       "1                1                0                0  \n",
       "2                0                0                1  \n",
       "3                1                0                0  \n",
       "4                0                0                1  \n",
       "\n",
       "[5 rows x 58 columns]"
      ]
     },
     "execution_count": 31,
     "metadata": {},
     "output_type": "execute_result"
    }
   ],
   "source": [
    "df_encode = df[categorical_columns]\n",
    "df_encode = pd.DataFrame(data=enc.transform(df_encode).toarray(),columns=enc.get_feature_names(categorical_columns), dtype=bool)\n",
    "# trasfer true and false to 1 and 0\n",
    "df_encode = df_encode * 1\n",
    "\n",
    "# concatenate data\n",
    "df_OHE = pd.concat((df.drop(categorical_columns, axis=1), df_encode), axis=1)\n",
    "df_OHE.head()"
   ]
  },
  {
   "cell_type": "code",
   "execution_count": 32,
   "id": "headed-grass",
   "metadata": {},
   "outputs": [
    {
     "data": {
      "text/html": [
       "<div>\n",
       "<style scoped>\n",
       "    .dataframe tbody tr th:only-of-type {\n",
       "        vertical-align: middle;\n",
       "    }\n",
       "\n",
       "    .dataframe tbody tr th {\n",
       "        vertical-align: top;\n",
       "    }\n",
       "\n",
       "    .dataframe thead th {\n",
       "        text-align: right;\n",
       "    }\n",
       "</style>\n",
       "<table border=\"1\" class=\"dataframe\">\n",
       "  <thead>\n",
       "    <tr style=\"text-align: right;\">\n",
       "      <th></th>\n",
       "      <th>mileage</th>\n",
       "      <th>tax</th>\n",
       "      <th>mpg</th>\n",
       "      <th>engineSize</th>\n",
       "      <th>price</th>\n",
       "      <th>model_A1</th>\n",
       "      <th>model_A2</th>\n",
       "      <th>model_A3</th>\n",
       "      <th>model_A4</th>\n",
       "      <th>model_A5</th>\n",
       "      <th>...</th>\n",
       "      <th>year_2017</th>\n",
       "      <th>year_2018</th>\n",
       "      <th>year_2019</th>\n",
       "      <th>year_2020</th>\n",
       "      <th>transmission_Automatic</th>\n",
       "      <th>transmission_Manual</th>\n",
       "      <th>transmission_Semi-Auto</th>\n",
       "      <th>fuelType_Diesel</th>\n",
       "      <th>fuelType_Hybrid</th>\n",
       "      <th>fuelType_Petrol</th>\n",
       "    </tr>\n",
       "  </thead>\n",
       "  <tbody>\n",
       "    <tr>\n",
       "      <th>0</th>\n",
       "      <td>15735</td>\n",
       "      <td>150</td>\n",
       "      <td>55.4</td>\n",
       "      <td>1.4</td>\n",
       "      <td>12500</td>\n",
       "      <td>1</td>\n",
       "      <td>0</td>\n",
       "      <td>0</td>\n",
       "      <td>0</td>\n",
       "      <td>0</td>\n",
       "      <td>...</td>\n",
       "      <td>1</td>\n",
       "      <td>0</td>\n",
       "      <td>0</td>\n",
       "      <td>0</td>\n",
       "      <td>0</td>\n",
       "      <td>1</td>\n",
       "      <td>0</td>\n",
       "      <td>0</td>\n",
       "      <td>0</td>\n",
       "      <td>1</td>\n",
       "    </tr>\n",
       "    <tr>\n",
       "      <th>1</th>\n",
       "      <td>36203</td>\n",
       "      <td>20</td>\n",
       "      <td>64.2</td>\n",
       "      <td>2.0</td>\n",
       "      <td>16500</td>\n",
       "      <td>0</td>\n",
       "      <td>0</td>\n",
       "      <td>0</td>\n",
       "      <td>0</td>\n",
       "      <td>0</td>\n",
       "      <td>...</td>\n",
       "      <td>0</td>\n",
       "      <td>0</td>\n",
       "      <td>0</td>\n",
       "      <td>0</td>\n",
       "      <td>1</td>\n",
       "      <td>0</td>\n",
       "      <td>0</td>\n",
       "      <td>1</td>\n",
       "      <td>0</td>\n",
       "      <td>0</td>\n",
       "    </tr>\n",
       "    <tr>\n",
       "      <th>2</th>\n",
       "      <td>29946</td>\n",
       "      <td>30</td>\n",
       "      <td>55.4</td>\n",
       "      <td>1.4</td>\n",
       "      <td>11000</td>\n",
       "      <td>1</td>\n",
       "      <td>0</td>\n",
       "      <td>0</td>\n",
       "      <td>0</td>\n",
       "      <td>0</td>\n",
       "      <td>...</td>\n",
       "      <td>0</td>\n",
       "      <td>0</td>\n",
       "      <td>0</td>\n",
       "      <td>0</td>\n",
       "      <td>0</td>\n",
       "      <td>1</td>\n",
       "      <td>0</td>\n",
       "      <td>0</td>\n",
       "      <td>0</td>\n",
       "      <td>1</td>\n",
       "    </tr>\n",
       "    <tr>\n",
       "      <th>3</th>\n",
       "      <td>25952</td>\n",
       "      <td>145</td>\n",
       "      <td>67.3</td>\n",
       "      <td>2.0</td>\n",
       "      <td>16800</td>\n",
       "      <td>0</td>\n",
       "      <td>0</td>\n",
       "      <td>0</td>\n",
       "      <td>1</td>\n",
       "      <td>0</td>\n",
       "      <td>...</td>\n",
       "      <td>1</td>\n",
       "      <td>0</td>\n",
       "      <td>0</td>\n",
       "      <td>0</td>\n",
       "      <td>1</td>\n",
       "      <td>0</td>\n",
       "      <td>0</td>\n",
       "      <td>1</td>\n",
       "      <td>0</td>\n",
       "      <td>0</td>\n",
       "    </tr>\n",
       "    <tr>\n",
       "      <th>4</th>\n",
       "      <td>1998</td>\n",
       "      <td>145</td>\n",
       "      <td>49.6</td>\n",
       "      <td>1.0</td>\n",
       "      <td>17300</td>\n",
       "      <td>0</td>\n",
       "      <td>0</td>\n",
       "      <td>1</td>\n",
       "      <td>0</td>\n",
       "      <td>0</td>\n",
       "      <td>...</td>\n",
       "      <td>0</td>\n",
       "      <td>0</td>\n",
       "      <td>1</td>\n",
       "      <td>0</td>\n",
       "      <td>0</td>\n",
       "      <td>1</td>\n",
       "      <td>0</td>\n",
       "      <td>0</td>\n",
       "      <td>0</td>\n",
       "      <td>1</td>\n",
       "    </tr>\n",
       "  </tbody>\n",
       "</table>\n",
       "<p>5 rows × 58 columns</p>\n",
       "</div>"
      ],
      "text/plain": [
       "   mileage  tax   mpg  engineSize  price  model_A1  model_A2  model_A3  \\\n",
       "0    15735  150  55.4         1.4  12500         1         0         0   \n",
       "1    36203   20  64.2         2.0  16500         0         0         0   \n",
       "2    29946   30  55.4         1.4  11000         1         0         0   \n",
       "3    25952  145  67.3         2.0  16800         0         0         0   \n",
       "4     1998  145  49.6         1.0  17300         0         0         1   \n",
       "\n",
       "   model_A4  model_A5  ...  year_2017  year_2018  year_2019  year_2020  \\\n",
       "0         0         0  ...          1          0          0          0   \n",
       "1         0         0  ...          0          0          0          0   \n",
       "2         0         0  ...          0          0          0          0   \n",
       "3         1         0  ...          1          0          0          0   \n",
       "4         0         0  ...          0          0          1          0   \n",
       "\n",
       "   transmission_Automatic  transmission_Manual  transmission_Semi-Auto  \\\n",
       "0                       0                    1                       0   \n",
       "1                       1                    0                       0   \n",
       "2                       0                    1                       0   \n",
       "3                       1                    0                       0   \n",
       "4                       0                    1                       0   \n",
       "\n",
       "   fuelType_Diesel  fuelType_Hybrid  fuelType_Petrol  \n",
       "0                0                0                1  \n",
       "1                1                0                0  \n",
       "2                0                0                1  \n",
       "3                1                0                0  \n",
       "4                0                0                1  \n",
       "\n",
       "[5 rows x 58 columns]"
      ]
     },
     "execution_count": 32,
     "metadata": {},
     "output_type": "execute_result"
    }
   ],
   "source": [
    "encoded_df=df_OHE\n",
    "encoded_df.head()"
   ]
  },
  {
   "cell_type": "markdown",
   "id": "parallel-october",
   "metadata": {},
   "source": [
    "I have 58 columns: 5 (numeric_cols) + 53 (unique cateogric_cols) = 58"
   ]
  },
  {
   "cell_type": "markdown",
   "id": "gentle-table",
   "metadata": {},
   "source": [
    "Now the data is ready for the learning"
   ]
  },
  {
   "cell_type": "markdown",
   "id": "defensive-dubai",
   "metadata": {},
   "source": [
    "### Prepare the data for learning"
   ]
  },
  {
   "cell_type": "code",
   "execution_count": 33,
   "id": "brazilian-ecuador",
   "metadata": {},
   "outputs": [],
   "source": [
    "X=encoded_df.drop('price', axis = 1).values"
   ]
  },
  {
   "cell_type": "code",
   "execution_count": 34,
   "id": "coordinated-second",
   "metadata": {},
   "outputs": [],
   "source": [
    "y=encoded_df['price'].values"
   ]
  },
  {
   "cell_type": "code",
   "execution_count": 35,
   "id": "recovered-father",
   "metadata": {},
   "outputs": [],
   "source": [
    "X_train, X_test, y_train, y_test = train_test_split(X, y, test_size = 0.3, random_state = 69)"
   ]
  },
  {
   "cell_type": "code",
   "execution_count": 36,
   "id": "functional-alias",
   "metadata": {},
   "outputs": [],
   "source": [
    "scaler = StandardScaler()"
   ]
  },
  {
   "cell_type": "code",
   "execution_count": 37,
   "id": "minimal-stanford",
   "metadata": {},
   "outputs": [
    {
     "data": {
      "text/plain": [
       "StandardScaler()"
      ]
     },
     "execution_count": 37,
     "metadata": {},
     "output_type": "execute_result"
    }
   ],
   "source": [
    "scaler.fit(X_train)"
   ]
  },
  {
   "cell_type": "code",
   "execution_count": 38,
   "id": "commercial-blame",
   "metadata": {},
   "outputs": [],
   "source": [
    "X_train = scaler.transform(X_train)          # Apply Standardization on X_train\n",
    "X_test = scaler.transform(X_test)            # Apply Standardization on X_test"
   ]
  },
  {
   "cell_type": "markdown",
   "id": "detailed-hungarian",
   "metadata": {},
   "source": [
    "## Support Vector Regression"
   ]
  },
  {
   "cell_type": "code",
   "execution_count": 91,
   "id": "meaning-lebanon",
   "metadata": {},
   "outputs": [],
   "source": [
    "from sklearn.svm import SVR"
   ]
  },
  {
   "cell_type": "code",
   "execution_count": 92,
   "id": "hollywood-accuracy",
   "metadata": {},
   "outputs": [],
   "source": [
    "param_SVM = {'C':np.arange(500,5000,50),\n",
    "            'gamma':np.arange(0.001, 0.8, 0.01)}"
   ]
  },
  {
   "cell_type": "code",
   "execution_count": 93,
   "id": "judicial-thriller",
   "metadata": {},
   "outputs": [],
   "source": [
    "svr_model=SVR()"
   ]
  },
  {
   "cell_type": "code",
   "execution_count": 94,
   "id": "outer-tuition",
   "metadata": {},
   "outputs": [],
   "source": [
    "cv_SVM = RandomizedSearchCV(estimator=svr_model, param_distributions = param_SVM, n_iter=10, cv = 5)"
   ]
  },
  {
   "cell_type": "code",
   "execution_count": 95,
   "id": "japanese-treasurer",
   "metadata": {},
   "outputs": [
    {
     "data": {
      "text/plain": [
       "RandomizedSearchCV(cv=5, estimator=SVR(),\n",
       "                   param_distributions={'C': array([ 500,  550,  600,  650,  700,  750,  800,  850,  900,  950, 1000,\n",
       "       1050, 1100, 1150, 1200, 1250, 1300, 1350, 1400, 1450, 1500, 1550,\n",
       "       1600, 1650, 1700, 1750, 1800, 1850, 1900, 1950, 2000, 2050, 2100,\n",
       "       2150, 2200, 2250, 2300, 2350, 2400, 2450, 2500, 2550, 2600, 2650,\n",
       "       2700, 2750, 2800, 2850, 2900, 2950, 3000, 3050, 3100, 3150, 3200,\n",
       "       3250, 3300, 335...\n",
       "       0.181, 0.191, 0.201, 0.211, 0.221, 0.231, 0.241, 0.251, 0.261,\n",
       "       0.271, 0.281, 0.291, 0.301, 0.311, 0.321, 0.331, 0.341, 0.351,\n",
       "       0.361, 0.371, 0.381, 0.391, 0.401, 0.411, 0.421, 0.431, 0.441,\n",
       "       0.451, 0.461, 0.471, 0.481, 0.491, 0.501, 0.511, 0.521, 0.531,\n",
       "       0.541, 0.551, 0.561, 0.571, 0.581, 0.591, 0.601, 0.611, 0.621,\n",
       "       0.631, 0.641, 0.651, 0.661, 0.671, 0.681, 0.691, 0.701, 0.711,\n",
       "       0.721, 0.731, 0.741, 0.751, 0.761, 0.771, 0.781, 0.791])})"
      ]
     },
     "execution_count": 95,
     "metadata": {},
     "output_type": "execute_result"
    }
   ],
   "source": [
    "cv_SVM.fit(X_train,y_train)"
   ]
  },
  {
   "cell_type": "code",
   "execution_count": 96,
   "id": "adopted-charlotte",
   "metadata": {},
   "outputs": [],
   "source": [
    "y_pred_SVM = cv_SVM.predict(X_test)"
   ]
  },
  {
   "cell_type": "code",
   "execution_count": 97,
   "id": "common-terminal",
   "metadata": {},
   "outputs": [
    {
     "name": "stdout",
     "output_type": "stream",
     "text": [
      "Tuned SVM parameters: {'gamma': 0.09099999999999998, 'C': 2300}\n"
     ]
    }
   ],
   "source": [
    "# Compute and print the metrics\n",
    "print(\"Tuned SVM parameters: {}\".format(cv_SVM.best_params_))"
   ]
  },
  {
   "cell_type": "code",
   "execution_count": 98,
   "id": "conservative-interface",
   "metadata": {},
   "outputs": [
    {
     "name": "stdout",
     "output_type": "stream",
     "text": [
      "RMSE using SVM:  5507.927257348135\n"
     ]
    }
   ],
   "source": [
    "mse_SVM = mean_squared_error(y_test, y_pred_SVM)\n",
    "print(\"RMSE using SVM: \", np.sqrt(mse_SVM))"
   ]
  },
  {
   "cell_type": "markdown",
   "id": "affecting-plaza",
   "metadata": {},
   "source": [
    "## XGBoost"
   ]
  },
  {
   "cell_type": "code",
   "execution_count": 51,
   "id": "alternate-potter",
   "metadata": {},
   "outputs": [],
   "source": [
    "import xgboost as xgb"
   ]
  },
  {
   "cell_type": "code",
   "execution_count": 52,
   "id": "romance-remedy",
   "metadata": {},
   "outputs": [],
   "source": [
    "# Create the parameter grid\n",
    "param_grid = {\n",
    "    'learning_rate': np.arange(0.01, 0.5, 0.01),\n",
    "    'max_depth': np.arange(3, 30, 2),\n",
    "    'n_estimators': np.arange(50, 200, 15)\n",
    "}"
   ]
  },
  {
   "cell_type": "code",
   "execution_count": 57,
   "id": "logical-journalist",
   "metadata": {},
   "outputs": [],
   "source": [
    "xgb_model=xgb.XGBRegressor(verbosity = 0)"
   ]
  },
  {
   "cell_type": "code",
   "execution_count": 58,
   "id": "comfortable-mauritius",
   "metadata": {},
   "outputs": [],
   "source": [
    "rand_neg_mse = RandomizedSearchCV(estimator=xgb_model, param_distributions=param_grid, n_iter=10, scoring='neg_mean_squared_error', cv=3)"
   ]
  },
  {
   "cell_type": "code",
   "execution_count": 59,
   "id": "funded-hearing",
   "metadata": {
    "scrolled": true
   },
   "outputs": [
    {
     "data": {
      "text/plain": [
       "RandomizedSearchCV(cv=3, estimator=XGBRegressor(verbosity=0),\n",
       "                   param_distributions={'learning_rate': array([0.01, 0.02, 0.03, 0.04, 0.05, 0.06, 0.07, 0.08, 0.09, 0.1 , 0.11,\n",
       "       0.12, 0.13, 0.14, 0.15, 0.16, 0.17, 0.18, 0.19, 0.2 , 0.21, 0.22,\n",
       "       0.23, 0.24, 0.25, 0.26, 0.27, 0.28, 0.29, 0.3 , 0.31, 0.32, 0.33,\n",
       "       0.34, 0.35, 0.36, 0.37, 0.38, 0.39, 0.4 , 0.41, 0.42, 0.43, 0.44,\n",
       "       0.45, 0.46, 0.47, 0.48, 0.49]),\n",
       "                                        'max_depth': array([ 3,  5,  7,  9, 11, 13, 15, 17, 19, 21, 23, 25, 27, 29]),\n",
       "                                        'n_estimators': array([ 50,  65,  80,  95, 110, 125, 140, 155, 170, 185])},\n",
       "                   scoring='neg_mean_squared_error')"
      ]
     },
     "execution_count": 59,
     "metadata": {},
     "output_type": "execute_result"
    }
   ],
   "source": [
    "rand_neg_mse.fit(X_train, y_train)"
   ]
  },
  {
   "cell_type": "code",
   "execution_count": 60,
   "id": "formal-cradle",
   "metadata": {},
   "outputs": [
    {
     "name": "stdout",
     "output_type": "stream",
     "text": [
      "Best rmse: 2674.113330149853\n"
     ]
    }
   ],
   "source": [
    "print(\"Best rmse:\", np.sqrt(np.abs(rand_neg_mse.best_score_)))"
   ]
  },
  {
   "cell_type": "code",
   "execution_count": 61,
   "id": "modular-organizer",
   "metadata": {},
   "outputs": [
    {
     "name": "stdout",
     "output_type": "stream",
     "text": [
      "Best model:  XGBRegressor(learning_rate=0.38, n_estimators=140, verbosity=0)\n"
     ]
    }
   ],
   "source": [
    "print(\"Best model: \", rand_neg_mse.best_estimator_)"
   ]
  },
  {
   "cell_type": "code",
   "execution_count": 62,
   "id": "twelve-planning",
   "metadata": {},
   "outputs": [],
   "source": [
    "y_pred_RND = rand_neg_mse.predict(X_test)"
   ]
  },
  {
   "cell_type": "code",
   "execution_count": 63,
   "id": "inappropriate-guide",
   "metadata": {},
   "outputs": [
    {
     "name": "stdout",
     "output_type": "stream",
     "text": [
      "Tuned XGB parameters by RandomizedGridSearch: {'n_estimators': 140, 'max_depth': 3, 'learning_rate': 0.38}\n"
     ]
    }
   ],
   "source": [
    "# Compute and print the metrics\n",
    "print(\"Tuned XGB parameters by RandomizedGridSearch: {}\".format(rand_neg_mse.best_params_))"
   ]
  },
  {
   "cell_type": "markdown",
   "id": "random-passport",
   "metadata": {},
   "source": [
    "## XGBoost with Hyperopt by Baesian method"
   ]
  },
  {
   "cell_type": "code",
   "execution_count": 64,
   "id": "painted-september",
   "metadata": {},
   "outputs": [],
   "source": [
    "import hyperopt\n",
    "from hyperopt import fmin, tpe, hp, STATUS_OK, Trials"
   ]
  },
  {
   "cell_type": "code",
   "execution_count": 65,
   "id": "organized-melbourne",
   "metadata": {},
   "outputs": [],
   "source": [
    "space={'max_depth': hp.choice(\"max_depth\", np.arange(3, 18, 1)),\n",
    "        'gamma': hp.uniform ('gamma', 1,9),\n",
    "        'reg_alpha' : hp.quniform('reg_alpha', 40,180,1),\n",
    "        'reg_lambda' : hp.uniform('reg_lambda', 0,1),\n",
    "        'min_child_weight' : hp.quniform('min_child_weight', 0, 10, 1),\n",
    "        'learning_rate': hp.quniform(\"learning_rate\", 0.0001, 0.5, 0.01),\n",
    "      }"
   ]
  },
  {
   "cell_type": "code",
   "execution_count": 66,
   "id": "prerequisite-folder",
   "metadata": {},
   "outputs": [],
   "source": [
    "def hyperparameter_tuning(space):\n",
    "    print(space)\n",
    "    model = xgb.XGBRegressor(max_depth =space['max_depth'],\n",
    "                           min_child_weight=space['min_child_weight'],\n",
    "                           gamma = space['gamma'],\n",
    "                           reg_alpha = space['reg_alpha'],\n",
    "                           reg_lambda = space['reg_lambda'],\n",
    "                            learning_rate=space['learning_rate'])\n",
    "\n",
    "    eval_set  = [( X_train, y_train), ( X_test, y_test)]\n",
    "\n",
    "    model.fit(X_train, y_train,\n",
    "            eval_set=eval_set, eval_metric=\"rmse\",\n",
    "            early_stopping_rounds=10,verbose=False)\n",
    "\n",
    "    pred = model.predict(X_test)\n",
    "    mse_scr = mean_squared_error(y_test, pred)\n",
    "    print(\"SCORE:\", np.sqrt(mse_scr))\n",
    "    #change the metric if you like\n",
    "    return {'loss':mse_scr, 'status': STATUS_OK }"
   ]
  },
  {
   "cell_type": "code",
   "execution_count": 67,
   "id": "foster-level",
   "metadata": {},
   "outputs": [
    {
     "name": "stdout",
     "output_type": "stream",
     "text": [
      "{'gamma': 7.166306442844341, 'learning_rate': 0.15, 'max_depth': 17, 'min_child_weight': 7.0, 'reg_alpha': 95.0, 'reg_lambda': 0.9236628181631265}\n",
      "[17:58:22] WARNING: C:/Jenkins/workspace/xgboost-win64_release_0.90/src/objective/regression_obj.cu:152: reg:linear is now deprecated in favor of reg:squarederror.\n",
      "SCORE:                                                                                                                 \n",
      "2430.1472119487894                                                                                                     \n",
      "{'gamma': 7.141160412354292, 'learning_rate': 0.06, 'max_depth': 12, 'min_child_weight': 2.0, 'reg_alpha': 145.0, 'reg_lambda': 0.5372502737886806}\n",
      "[17:58:29] WARNING: C:/Jenkins/workspace/xgboost-win64_release_0.90/src/objective/regression_obj.cu:152: reg:linear is now deprecated in favor of reg:squarederror.\n",
      "SCORE:                                                                                                                 \n",
      "2369.183467759729                                                                                                      \n",
      "{'gamma': 4.283729436540794, 'learning_rate': 0.07, 'max_depth': 16, 'min_child_weight': 7.0, 'reg_alpha': 94.0, 'reg_lambda': 0.6778496254363563}\n",
      "[17:58:35] WARNING: C:/Jenkins/workspace/xgboost-win64_release_0.90/src/objective/regression_obj.cu:152: reg:linear is now deprecated in favor of reg:squarederror.\n",
      "SCORE:                                                                                                                 \n",
      "2343.326293277775                                                                                                      \n",
      "{'gamma': 2.281981464639718, 'learning_rate': 0.2, 'max_depth': 16, 'min_child_weight': 6.0, 'reg_alpha': 94.0, 'reg_lambda': 0.325332627851433}\n",
      "[17:58:42] WARNING: C:/Jenkins/workspace/xgboost-win64_release_0.90/src/objective/regression_obj.cu:152: reg:linear is now deprecated in favor of reg:squarederror.\n",
      "SCORE:                                                                                                                 \n",
      "2325.25058873949                                                                                                       \n",
      "{'gamma': 7.85617840133351, 'learning_rate': 0.29, 'max_depth': 12, 'min_child_weight': 9.0, 'reg_alpha': 59.0, 'reg_lambda': 0.606754236679436}\n",
      "[17:58:46] WARNING: C:/Jenkins/workspace/xgboost-win64_release_0.90/src/objective/regression_obj.cu:152: reg:linear is now deprecated in favor of reg:squarederror.\n",
      "SCORE:                                                                                                                 \n",
      "2449.3814133268306                                                                                                     \n",
      "{'gamma': 6.575341173099746, 'learning_rate': 0.34, 'max_depth': 13, 'min_child_weight': 9.0, 'reg_alpha': 113.0, 'reg_lambda': 0.24752059491932288}\n",
      "[17:58:48] WARNING: C:/Jenkins/workspace/xgboost-win64_release_0.90/src/objective/regression_obj.cu:152: reg:linear is now deprecated in favor of reg:squarederror.\n",
      "SCORE:                                                                                                                 \n",
      "2408.7184106957543                                                                                                     \n",
      "{'gamma': 4.581523857359451, 'learning_rate': 0.21, 'max_depth': 10, 'min_child_weight': 10.0, 'reg_alpha': 178.0, 'reg_lambda': 0.7565871134963599}\n",
      "[17:58:51] WARNING: C:/Jenkins/workspace/xgboost-win64_release_0.90/src/objective/regression_obj.cu:152: reg:linear is now deprecated in favor of reg:squarederror.\n",
      "SCORE:                                                                                                                 \n",
      "2461.455925920518                                                                                                      \n",
      "{'gamma': 7.895084478606701, 'learning_rate': 0.37, 'max_depth': 17, 'min_child_weight': 6.0, 'reg_alpha': 154.0, 'reg_lambda': 0.33730365982721167}\n",
      "[17:58:55] WARNING: C:/Jenkins/workspace/xgboost-win64_release_0.90/src/objective/regression_obj.cu:152: reg:linear is now deprecated in favor of reg:squarederror.\n",
      "SCORE:                                                                                                                 \n",
      "2350.696154611603                                                                                                      \n",
      "{'gamma': 6.610632031624086, 'learning_rate': 0.46, 'max_depth': 17, 'min_child_weight': 9.0, 'reg_alpha': 56.0, 'reg_lambda': 0.8344332624011965}\n",
      "[17:58:57] WARNING: C:/Jenkins/workspace/xgboost-win64_release_0.90/src/objective/regression_obj.cu:152: reg:linear is now deprecated in favor of reg:squarederror.\n",
      "SCORE:                                                                                                                 \n",
      "2674.2032938586517                                                                                                     \n",
      "{'gamma': 1.7318576245453494, 'learning_rate': 0.5, 'max_depth': 12, 'min_child_weight': 2.0, 'reg_alpha': 180.0, 'reg_lambda': 0.807114310599173}\n",
      "[17:59:00] WARNING: C:/Jenkins/workspace/xgboost-win64_release_0.90/src/objective/regression_obj.cu:152: reg:linear is now deprecated in favor of reg:squarederror.\n",
      "SCORE:                                                                                                                 \n",
      "2595.5055859565987                                                                                                     \n",
      "{'gamma': 6.033680378124331, 'learning_rate': 0.32, 'max_depth': 16, 'min_child_weight': 4.0, 'reg_alpha': 73.0, 'reg_lambda': 0.14961366597727}\n",
      "[17:59:01] WARNING: C:/Jenkins/workspace/xgboost-win64_release_0.90/src/objective/regression_obj.cu:152: reg:linear is now deprecated in favor of reg:squarederror.\n",
      "SCORE:                                                                                                                 \n",
      "2504.421330136887                                                                                                      \n",
      "{'gamma': 8.472787033044662, 'learning_rate': 0.15, 'max_depth': 13, 'min_child_weight': 6.0, 'reg_alpha': 56.0, 'reg_lambda': 0.2176148874796633}\n",
      "[17:59:03] WARNING: C:/Jenkins/workspace/xgboost-win64_release_0.90/src/objective/regression_obj.cu:152: reg:linear is now deprecated in favor of reg:squarederror.\n",
      "SCORE:                                                                                                                 \n",
      "2351.9263147837723                                                                                                     \n",
      "{'gamma': 6.323667025606214, 'learning_rate': 0.16, 'max_depth': 14, 'min_child_weight': 2.0, 'reg_alpha': 178.0, 'reg_lambda': 0.9932295107190202}\n",
      "[17:59:07] WARNING: C:/Jenkins/workspace/xgboost-win64_release_0.90/src/objective/regression_obj.cu:152: reg:linear is now deprecated in favor of reg:squarederror.\n",
      "SCORE:                                                                                                                 \n",
      "2409.2552714722906                                                                                                     \n",
      "{'gamma': 3.1665787183479086, 'learning_rate': 0.38, 'max_depth': 14, 'min_child_weight': 7.0, 'reg_alpha': 79.0, 'reg_lambda': 0.6631666751397894}\n",
      "[17:59:12] WARNING: C:/Jenkins/workspace/xgboost-win64_release_0.90/src/objective/regression_obj.cu:152: reg:linear is now deprecated in favor of reg:squarederror.\n",
      "SCORE:                                                                                                                 \n",
      "2434.467250018258                                                                                                      \n",
      "{'gamma': 4.595055588124687, 'learning_rate': 0.28, 'max_depth': 17, 'min_child_weight': 4.0, 'reg_alpha': 139.0, 'reg_lambda': 0.9636225269988277}\n",
      "[17:59:14] WARNING: C:/Jenkins/workspace/xgboost-win64_release_0.90/src/objective/regression_obj.cu:152: reg:linear is now deprecated in favor of reg:squarederror.\n",
      "SCORE:                                                                                                                 \n"
     ]
    },
    {
     "name": "stdout",
     "output_type": "stream",
     "text": [
      "2424.515180534912                                                                                                      \n",
      "{'gamma': 7.263979740843749, 'learning_rate': 0.49, 'max_depth': 11, 'min_child_weight': 5.0, 'reg_alpha': 173.0, 'reg_lambda': 0.01357186870425664}\n",
      "[17:59:16] WARNING: C:/Jenkins/workspace/xgboost-win64_release_0.90/src/objective/regression_obj.cu:152: reg:linear is now deprecated in favor of reg:squarederror.\n",
      "SCORE:                                                                                                                 \n",
      "2607.6369449888734                                                                                                     \n",
      "{'gamma': 2.082320233174748, 'learning_rate': 0.14, 'max_depth': 9, 'min_child_weight': 4.0, 'reg_alpha': 162.0, 'reg_lambda': 0.8645167648974597}\n",
      "[17:59:19] WARNING: C:/Jenkins/workspace/xgboost-win64_release_0.90/src/objective/regression_obj.cu:152: reg:linear is now deprecated in favor of reg:squarederror.\n",
      "SCORE:                                                                                                                 \n",
      "2363.786022802897                                                                                                      \n",
      "{'gamma': 8.894100913448067, 'learning_rate': 0.29, 'max_depth': 11, 'min_child_weight': 6.0, 'reg_alpha': 51.0, 'reg_lambda': 0.4876787000664875}\n",
      "[17:59:23] WARNING: C:/Jenkins/workspace/xgboost-win64_release_0.90/src/objective/regression_obj.cu:152: reg:linear is now deprecated in favor of reg:squarederror.\n",
      "SCORE:                                                                                                                 \n",
      "2330.958076015729                                                                                                      \n",
      "{'gamma': 5.174586420237469, 'learning_rate': 0.32, 'max_depth': 15, 'min_child_weight': 0.0, 'reg_alpha': 86.0, 'reg_lambda': 0.15542953068394127}\n",
      "[17:59:27] WARNING: C:/Jenkins/workspace/xgboost-win64_release_0.90/src/objective/regression_obj.cu:152: reg:linear is now deprecated in favor of reg:squarederror.\n",
      "SCORE:                                                                                                                 \n",
      "2561.129329439654                                                                                                      \n",
      "{'gamma': 4.7829001093014165, 'learning_rate': 0.35000000000000003, 'max_depth': 15, 'min_child_weight': 9.0, 'reg_alpha': 172.0, 'reg_lambda': 0.34386222835465063}\n",
      "[17:59:28] WARNING: C:/Jenkins/workspace/xgboost-win64_release_0.90/src/objective/regression_obj.cu:152: reg:linear is now deprecated in favor of reg:squarederror.\n",
      "SCORE:                                                                                                                 \n",
      "2405.2523330175377                                                                                                     \n",
      "{'gamma': 2.583547505770185, 'learning_rate': 0.23, 'max_depth': 11, 'min_child_weight': 6.0, 'reg_alpha': 116.0, 'reg_lambda': 0.38414700478762503}\n",
      "[17:59:31] WARNING: C:/Jenkins/workspace/xgboost-win64_release_0.90/src/objective/regression_obj.cu:152: reg:linear is now deprecated in favor of reg:squarederror.\n",
      "SCORE:                                                                                                                 \n",
      "2316.4318708272485                                                                                                     \n",
      "{'gamma': 1.067620038921609, 'learning_rate': 0.01, 'max_depth': 7, 'min_child_weight': 8.0, 'reg_alpha': 119.0, 'reg_lambda': 0.4287796866022626}\n",
      "[17:59:35] WARNING: C:/Jenkins/workspace/xgboost-win64_release_0.90/src/objective/regression_obj.cu:152: reg:linear is now deprecated in favor of reg:squarederror.\n",
      "SCORE:                                                                                                                 \n",
      "9912.236392624123                                                                                                      \n",
      "{'gamma': 2.982433369575851, 'learning_rate': 0.22, 'max_depth': 4, 'min_child_weight': 5.0, 'reg_alpha': 126.0, 'reg_lambda': 0.0016614741288601964}\n",
      "[17:59:38] WARNING: C:/Jenkins/workspace/xgboost-win64_release_0.90/src/objective/regression_obj.cu:152: reg:linear is now deprecated in favor of reg:squarederror.\n",
      "SCORE:                                                                                                                 \n",
      "2624.2083113176914                                                                                                     \n",
      "{'gamma': 3.280058722461826, 'learning_rate': 0.24, 'max_depth': 5, 'min_child_weight': 3.0, 'reg_alpha': 103.0, 'reg_lambda': 0.38882616717845625}\n",
      "[17:59:41] WARNING: C:/Jenkins/workspace/xgboost-win64_release_0.90/src/objective/regression_obj.cu:152: reg:linear is now deprecated in favor of reg:squarederror.\n",
      "SCORE:                                                                                                                 \n",
      "2466.362561646518                                                                                                      \n",
      "{'gamma': 2.1604626281904395, 'learning_rate': 0.1, 'max_depth': 3, 'min_child_weight': 8.0, 'reg_alpha': 128.0, 'reg_lambda': 0.27301338651050355}\n",
      "[17:59:44] WARNING: C:/Jenkins/workspace/xgboost-win64_release_0.90/src/objective/regression_obj.cu:152: reg:linear is now deprecated in favor of reg:squarederror.\n",
      "SCORE:                                                                                                                 \n",
      "3193.3249702122994                                                                                                     \n",
      "{'gamma': 1.1409593941892737, 'learning_rate': 0.42, 'max_depth': 6, 'min_child_weight': 6.0, 'reg_alpha': 105.0, 'reg_lambda': 0.08978269617309295}\n",
      "[17:59:46] WARNING: C:/Jenkins/workspace/xgboost-win64_release_0.90/src/objective/regression_obj.cu:152: reg:linear is now deprecated in favor of reg:squarederror.\n",
      "SCORE:                                                                                                                 \n",
      "2334.6040192169794                                                                                                     \n",
      "{'gamma': 3.5133247413480504, 'learning_rate': 0.21, 'max_depth': 8, 'min_child_weight': 0.0, 'reg_alpha': 41.0, 'reg_lambda': 0.5015647900668467}\n",
      "[17:59:49] WARNING: C:/Jenkins/workspace/xgboost-win64_release_0.90/src/objective/regression_obj.cu:152: reg:linear is now deprecated in favor of reg:squarederror.\n",
      "SCORE:                                                                                                                 \n",
      "2337.7848876727153                                                                                                     \n",
      "{'gamma': 2.5058008427655785, 'learning_rate': 0.18, 'max_depth': 16, 'min_child_weight': 8.0, 'reg_alpha': 74.0, 'reg_lambda': 0.4214009385396807}\n",
      "[17:59:53] WARNING: C:/Jenkins/workspace/xgboost-win64_release_0.90/src/objective/regression_obj.cu:152: reg:linear is now deprecated in favor of reg:squarederror.\n",
      "SCORE:                                                                                                                 \n",
      "2381.8405613662926                                                                                                     \n",
      "{'gamma': 3.6820695787604496, 'learning_rate': 0.26, 'max_depth': 11, 'min_child_weight': 5.0, 'reg_alpha': 136.0, 'reg_lambda': 0.5524751086995711}\n",
      "[17:59:58] WARNING: C:/Jenkins/workspace/xgboost-win64_release_0.90/src/objective/regression_obj.cu:152: reg:linear is now deprecated in favor of reg:squarederror.\n",
      "SCORE:                                                                                                                 \n",
      "2371.5785700241304                                                                                                     \n",
      "{'gamma': 1.380879022973156, 'learning_rate': 0.12, 'max_depth': 10, 'min_child_weight': 7.0, 'reg_alpha': 95.0, 'reg_lambda': 0.29287466787920147}\n",
      "[18:00:01] WARNING: C:/Jenkins/workspace/xgboost-win64_release_0.90/src/objective/regression_obj.cu:152: reg:linear is now deprecated in favor of reg:squarederror.\n"
     ]
    },
    {
     "name": "stdout",
     "output_type": "stream",
     "text": [
      "SCORE:                                                                                                                 \n",
      "2359.876193314889                                                                                                      \n",
      "{'gamma': 5.3380924946103105, 'learning_rate': 0.05, 'max_depth': 8, 'min_child_weight': 3.0, 'reg_alpha': 114.0, 'reg_lambda': 0.07623641320542723}\n",
      "[18:00:05] WARNING: C:/Jenkins/workspace/xgboost-win64_release_0.90/src/objective/regression_obj.cu:152: reg:linear is now deprecated in favor of reg:squarederror.\n",
      "SCORE:                                                                                                                 \n",
      "2404.9374005104496                                                                                                     \n",
      "{'gamma': 3.867674822269712, 'learning_rate': 0.18, 'max_depth': 16, 'min_child_weight': 3.0, 'reg_alpha': 93.0, 'reg_lambda': 0.5949681383006138}\n",
      "[18:00:09] WARNING: C:/Jenkins/workspace/xgboost-win64_release_0.90/src/objective/regression_obj.cu:152: reg:linear is now deprecated in favor of reg:squarederror.\n",
      "SCORE:                                                                                                                 \n",
      "2418.9756618985457                                                                                                     \n",
      "{'gamma': 2.679975189143143, 'learning_rate': 0.02, 'max_depth': 6, 'min_child_weight': 6.0, 'reg_alpha': 152.0, 'reg_lambda': 0.19355795390774966}\n",
      "[18:00:13] WARNING: C:/Jenkins/workspace/xgboost-win64_release_0.90/src/objective/regression_obj.cu:152: reg:linear is now deprecated in favor of reg:squarederror.\n",
      "SCORE:                                                                                                                 \n",
      "4624.705152297529                                                                                                      \n",
      "{'gamma': 4.0123261672017625, 'learning_rate': 0.08, 'max_depth': 3, 'min_child_weight': 10.0, 'reg_alpha': 66.0, 'reg_lambda': 0.4694710118029418}\n",
      "[18:00:17] WARNING: C:/Jenkins/workspace/xgboost-win64_release_0.90/src/objective/regression_obj.cu:152: reg:linear is now deprecated in favor of reg:squarederror.\n",
      "SCORE:                                                                                                                 \n",
      "3273.8248594858574                                                                                                     \n",
      "{'gamma': 1.5666340580464477, 'learning_rate': 0.25, 'max_depth': 11, 'min_child_weight': 7.0, 'reg_alpha': 85.0, 'reg_lambda': 0.7108269078477217}\n",
      "[18:00:19] WARNING: C:/Jenkins/workspace/xgboost-win64_release_0.90/src/objective/regression_obj.cu:152: reg:linear is now deprecated in favor of reg:squarederror.\n",
      "SCORE:                                                                                                                 \n",
      "2414.3589053034734                                                                                                     \n",
      "{'gamma': 2.0840957127761475, 'learning_rate': 0.19, 'max_depth': 7, 'min_child_weight': 1.0, 'reg_alpha': 101.0, 'reg_lambda': 0.3475262165068788}\n",
      "[18:00:24] WARNING: C:/Jenkins/workspace/xgboost-win64_release_0.90/src/objective/regression_obj.cu:152: reg:linear is now deprecated in favor of reg:squarederror.\n",
      "SCORE:                                                                                                                 \n",
      "2321.604849408934                                                                                                      \n",
      "{'gamma': 2.805632468700864, 'learning_rate': 0.05, 'max_depth': 7, 'min_child_weight': 1.0, 'reg_alpha': 104.0, 'reg_lambda': 0.38231320699309895}\n",
      "[18:00:28] WARNING: C:/Jenkins/workspace/xgboost-win64_release_0.90/src/objective/regression_obj.cu:152: reg:linear is now deprecated in favor of reg:squarederror.\n",
      "SCORE:                                                                                                                 \n",
      "2512.6599981289473                                                                                                     \n",
      "{'gamma': 5.648505330806352, 'learning_rate': 0.12, 'max_depth': 4, 'min_child_weight': 1.0, 'reg_alpha': 125.0, 'reg_lambda': 0.5645084033407043}\n",
      "[18:00:32] WARNING: C:/Jenkins/workspace/xgboost-win64_release_0.90/src/objective/regression_obj.cu:152: reg:linear is now deprecated in favor of reg:squarederror.\n",
      "SCORE:                                                                                                                 \n",
      "2834.352199170163                                                                                                      \n",
      "{'gamma': 2.0810408853479805, 'learning_rate': 0.4, 'max_depth': 7, 'min_child_weight': 1.0, 'reg_alpha': 141.0, 'reg_lambda': 0.6369509995287014}\n",
      "[18:00:34] WARNING: C:/Jenkins/workspace/xgboost-win64_release_0.90/src/objective/regression_obj.cu:152: reg:linear is now deprecated in favor of reg:squarederror.\n",
      "SCORE:                                                                                                                 \n",
      "2513.7342146398205                                                                                                     \n",
      "{'gamma': 4.29801426691577, 'learning_rate': 0.32, 'max_depth': 7, 'min_child_weight': 4.0, 'reg_alpha': 133.0, 'reg_lambda': 0.30195650949964753}\n",
      "[18:00:37] WARNING: C:/Jenkins/workspace/xgboost-win64_release_0.90/src/objective/regression_obj.cu:152: reg:linear is now deprecated in favor of reg:squarederror.\n",
      "SCORE:                                                                                                                 \n",
      "2364.936667578642                                                                                                      \n",
      "{'gamma': 1.7047502708055289, 'learning_rate': 0.18, 'max_depth': 5, 'min_child_weight': 2.0, 'reg_alpha': 146.0, 'reg_lambda': 0.24405605829542465}\n",
      "[18:00:39] WARNING: C:/Jenkins/workspace/xgboost-win64_release_0.90/src/objective/regression_obj.cu:152: reg:linear is now deprecated in favor of reg:squarederror.\n",
      "SCORE:                                                                                                                 \n",
      "2500.757738480236                                                                                                      \n",
      "{'gamma': 4.136005347717728, 'learning_rate': 0.28, 'max_depth': 9, 'min_child_weight': 3.0, 'reg_alpha': 118.0, 'reg_lambda': 0.7422653008924529}\n",
      "[18:00:43] WARNING: C:/Jenkins/workspace/xgboost-win64_release_0.90/src/objective/regression_obj.cu:152: reg:linear is now deprecated in favor of reg:squarederror.\n",
      "SCORE:                                                                                                                 \n",
      "2364.382507560288                                                                                                      \n",
      "{'gamma': 3.3707012671110257, 'learning_rate': 0.23, 'max_depth': 12, 'min_child_weight': 5.0, 'reg_alpha': 96.0, 'reg_lambda': 0.08251964036458809}\n",
      "[18:00:46] WARNING: C:/Jenkins/workspace/xgboost-win64_release_0.90/src/objective/regression_obj.cu:152: reg:linear is now deprecated in favor of reg:squarederror.\n",
      "SCORE:                                                                                                                 \n",
      "2426.5790866983666                                                                                                     \n",
      "{'gamma': 1.2208029626424315, 'learning_rate': 0.19, 'max_depth': 11, 'min_child_weight': 7.0, 'reg_alpha': 109.0, 'reg_lambda': 0.34639535465777566}\n",
      "[18:00:49] WARNING: C:/Jenkins/workspace/xgboost-win64_release_0.90/src/objective/regression_obj.cu:152: reg:linear is now deprecated in favor of reg:squarederror.\n",
      "SCORE:                                                                                                                 \n",
      "2355.375665963493                                                                                                      \n",
      "{'gamma': 2.475887659989019, 'learning_rate': 0.44, 'max_depth': 10, 'min_child_weight': 4.0, 'reg_alpha': 160.0, 'reg_lambda': 0.14730794961390709}\n"
     ]
    },
    {
     "name": "stdout",
     "output_type": "stream",
     "text": [
      "[18:00:53] WARNING: C:/Jenkins/workspace/xgboost-win64_release_0.90/src/objective/regression_obj.cu:152: reg:linear is now deprecated in favor of reg:squarederror.\n",
      "SCORE:                                                                                                                 \n",
      "2441.7978572405063                                                                                                     \n",
      "{'gamma': 1.8662609137453112, 'learning_rate': 0.16, 'max_depth': 7, 'min_child_weight': 8.0, 'reg_alpha': 67.0, 'reg_lambda': 0.44949335091553516}\n",
      "[18:00:55] WARNING: C:/Jenkins/workspace/xgboost-win64_release_0.90/src/objective/regression_obj.cu:152: reg:linear is now deprecated in favor of reg:squarederror.\n",
      "SCORE:                                                                                                                 \n",
      "2391.729759577479                                                                                                      \n",
      "{'gamma': 7.1888197408765, 'learning_rate': 0.3, 'max_depth': 17, 'min_child_weight': 0.0, 'reg_alpha': 85.0, 'reg_lambda': 0.2208405980003483}\n",
      "[18:00:58] WARNING: C:/Jenkins/workspace/xgboost-win64_release_0.90/src/objective/regression_obj.cu:152: reg:linear is now deprecated in favor of reg:squarederror.\n",
      "SCORE:                                                                                                                 \n",
      "2531.3350510703035                                                                                                     \n",
      "{'gamma': 5.848465258382825, 'learning_rate': 0.08, 'max_depth': 14, 'min_child_weight': 1.0, 'reg_alpha': 47.0, 'reg_lambda': 0.5200591968756104}\n",
      "[18:01:00] WARNING: C:/Jenkins/workspace/xgboost-win64_release_0.90/src/objective/regression_obj.cu:152: reg:linear is now deprecated in favor of reg:squarederror.\n",
      "SCORE:                                                                                                                 \n",
      "2482.80534029615                                                                                                       \n",
      "{'gamma': 4.4416038765573616, 'learning_rate': 0.36, 'max_depth': 13, 'min_child_weight': 7.0, 'reg_alpha': 100.0, 'reg_lambda': 0.5950509591515167}\n",
      "[18:01:05] WARNING: C:/Jenkins/workspace/xgboost-win64_release_0.90/src/objective/regression_obj.cu:152: reg:linear is now deprecated in favor of reg:squarederror.\n",
      "SCORE:                                                                                                                 \n",
      "2431.9790844692448                                                                                                     \n",
      "{'gamma': 4.908987368635545, 'learning_rate': 0.26, 'max_depth': 12, 'min_child_weight': 9.0, 'reg_alpha': 78.0, 'reg_lambda': 0.3796099251002469}\n",
      "[18:01:08] WARNING: C:/Jenkins/workspace/xgboost-win64_release_0.90/src/objective/regression_obj.cu:152: reg:linear is now deprecated in favor of reg:squarederror.\n",
      "SCORE:                                                                                                                 \n",
      "2419.251561863384                                                                                                      \n",
      "100%|█████████████████████████████████████████████████| 50/50 [02:48<00:00,  3.36s/trial, best loss: 5365856.612184226]\n",
      "{'gamma': 2.583547505770185, 'learning_rate': 0.23, 'max_depth': 8, 'min_child_weight': 6.0, 'reg_alpha': 116.0, 'reg_lambda': 0.38414700478762503}\n"
     ]
    }
   ],
   "source": [
    "trials = Trials()\n",
    "best = fmin(fn=hyperparameter_tuning,\n",
    "            space=space,\n",
    "            algo=tpe.suggest,\n",
    "            max_evals=50,\n",
    "            trials=trials)\n",
    "\n",
    "print (best)"
   ]
  },
  {
   "cell_type": "code",
   "execution_count": 68,
   "id": "olympic-leonard",
   "metadata": {},
   "outputs": [
    {
     "name": "stdout",
     "output_type": "stream",
     "text": [
      "The best hyperparameters are :  \n",
      "\n",
      "{'gamma': 2.583547505770185, 'learning_rate': 0.23, 'max_depth': 8, 'min_child_weight': 6.0, 'reg_alpha': 116.0, 'reg_lambda': 0.38414700478762503}\n"
     ]
    }
   ],
   "source": [
    "print(\"The best hyperparameters are : \",\"\\n\")\n",
    "print(best)"
   ]
  },
  {
   "cell_type": "code",
   "execution_count": 69,
   "id": "official-exposure",
   "metadata": {},
   "outputs": [],
   "source": [
    "xgb_opt = xgb.XGBRegressor(max_depth = best['max_depth'],\n",
    "                       gamma = best['gamma'],\n",
    "                       reg_lambda = best['reg_lambda'],\n",
    "                       reg_alpha = best['reg_alpha'],\n",
    "                       min_child_weight = best['min_child_weight'],\n",
    "                          learning_rate=best['learning_rate'],)"
   ]
  },
  {
   "cell_type": "code",
   "execution_count": 70,
   "id": "qualified-mozambique",
   "metadata": {},
   "outputs": [
    {
     "name": "stdout",
     "output_type": "stream",
     "text": [
      "[18:01:10] WARNING: C:/Jenkins/workspace/xgboost-win64_release_0.90/src/objective/regression_obj.cu:152: reg:linear is now deprecated in favor of reg:squarederror.\n"
     ]
    },
    {
     "data": {
      "text/plain": [
       "XGBRegressor(gamma=2.583547505770185, learning_rate=0.23, max_depth=8,\n",
       "             min_child_weight=6.0, reg_alpha=116.0,\n",
       "             reg_lambda=0.38414700478762503)"
      ]
     },
     "execution_count": 70,
     "metadata": {},
     "output_type": "execute_result"
    }
   ],
   "source": [
    "xgb_opt.fit(X_train, y_train)"
   ]
  },
  {
   "cell_type": "code",
   "execution_count": 71,
   "id": "horizontal-european",
   "metadata": {},
   "outputs": [],
   "source": [
    "# Predicting the Test set results\n",
    "y_pred_XGB_OPT = xgb_opt.predict(X_test)"
   ]
  },
  {
   "cell_type": "code",
   "execution_count": 99,
   "id": "harmful-option",
   "metadata": {},
   "outputs": [
    {
     "data": {
      "image/png": "[encoded data removed]",
      "text/plain": [
       "<Figure size 864x576 with 1 Axes>"
      ]
     },
     "metadata": {
      "needs_background": "light"
     },
     "output_type": "display_data"
    }
   ],
   "source": [
    "plt.figure(figsize = (12,8))\n",
    "\n",
    "plt.scatter(y_test, y_pred_SVM, label='SVM')\n",
    "plt.scatter(y_test, y_pred_RND, label='XGBoost')\n",
    "plt.scatter(y_test, y_pred_XGB_OPT, label='XGBoost_HYPEROPT')\n",
    "plt.xlabel('Y Test')\n",
    "plt.ylabel('Predicted Y')\n",
    "plt.legend(loc='upper left');\n",
    "plt.grid()"
   ]
  },
  {
   "cell_type": "code",
   "execution_count": 100,
   "id": "amateur-attribute",
   "metadata": {},
   "outputs": [
    {
     "name": "stdout",
     "output_type": "stream",
     "text": [
      "RMSE using SVM:  5507.927257348135\n",
      "RMSE using XGBoost:  2674.113330149853\n",
      "RMSE using XGBoost_HYPEROPT:  2352.9995921167215\n"
     ]
    }
   ],
   "source": [
    "mse_XGB_OPT = mean_squared_error(y_test, y_pred_XGB_OPT)\n",
    "print(\"RMSE using SVM: \", np.sqrt(mse_SVM))\n",
    "print(\"RMSE using XGBoost: \", np.sqrt(np.abs(rand_neg_mse.best_score_)))\n",
    "print(\"RMSE using XGBoost_HYPEROPT: \", np.sqrt(mse_XGB_OPT))"
   ]
  },
  {
   "cell_type": "markdown",
   "id": "understanding-remark",
   "metadata": {},
   "source": [
    "We get better results with XGBoost and we can even improve the RMSE with the Baesian optimization"
   ]
  },
  {
   "cell_type": "code",
   "execution_count": 101,
   "id": "fundamental-lindsay",
   "metadata": {},
   "outputs": [],
   "source": [
    "import pickle"
   ]
  },
  {
   "cell_type": "code",
   "execution_count": 102,
   "id": "bizarre-black",
   "metadata": {},
   "outputs": [],
   "source": [
    "pickle.dump(xgb_opt, open('model.pkl','wb'))"
   ]
  },
  {
   "cell_type": "code",
   "execution_count": 103,
   "id": "extensive-taste",
   "metadata": {},
   "outputs": [],
   "source": [
    "pickle.dump(scaler, open('scaler.pkl','wb'))"
   ]
  },
  {
   "cell_type": "markdown",
   "id": "productive-spectrum",
   "metadata": {},
   "source": [
    "# DEBUG FOR ML DEPLYMENT"
   ]
  },
  {
   "cell_type": "code",
   "execution_count": 104,
   "id": "protective-gothic",
   "metadata": {},
   "outputs": [
    {
     "data": {
      "text/html": [
       "<div>\n",
       "<style scoped>\n",
       "    .dataframe tbody tr th:only-of-type {\n",
       "        vertical-align: middle;\n",
       "    }\n",
       "\n",
       "    .dataframe tbody tr th {\n",
       "        vertical-align: top;\n",
       "    }\n",
       "\n",
       "    .dataframe thead th {\n",
       "        text-align: right;\n",
       "    }\n",
       "</style>\n",
       "<table border=\"1\" class=\"dataframe\">\n",
       "  <thead>\n",
       "    <tr style=\"text-align: right;\">\n",
       "      <th></th>\n",
       "      <th>model</th>\n",
       "      <th>year</th>\n",
       "      <th>transmission</th>\n",
       "      <th>fuelType</th>\n",
       "      <th>mileage</th>\n",
       "      <th>tax</th>\n",
       "      <th>mpg</th>\n",
       "      <th>engineSize</th>\n",
       "      <th>price</th>\n",
       "    </tr>\n",
       "  </thead>\n",
       "  <tbody>\n",
       "    <tr>\n",
       "      <th>0</th>\n",
       "      <td>A1</td>\n",
       "      <td>2017</td>\n",
       "      <td>Manual</td>\n",
       "      <td>Petrol</td>\n",
       "      <td>15735</td>\n",
       "      <td>150</td>\n",
       "      <td>55.4</td>\n",
       "      <td>1.4</td>\n",
       "      <td>12500</td>\n",
       "    </tr>\n",
       "    <tr>\n",
       "      <th>1</th>\n",
       "      <td>A6</td>\n",
       "      <td>2016</td>\n",
       "      <td>Automatic</td>\n",
       "      <td>Diesel</td>\n",
       "      <td>36203</td>\n",
       "      <td>20</td>\n",
       "      <td>64.2</td>\n",
       "      <td>2.0</td>\n",
       "      <td>16500</td>\n",
       "    </tr>\n",
       "    <tr>\n",
       "      <th>2</th>\n",
       "      <td>A1</td>\n",
       "      <td>2016</td>\n",
       "      <td>Manual</td>\n",
       "      <td>Petrol</td>\n",
       "      <td>29946</td>\n",
       "      <td>30</td>\n",
       "      <td>55.4</td>\n",
       "      <td>1.4</td>\n",
       "      <td>11000</td>\n",
       "    </tr>\n",
       "    <tr>\n",
       "      <th>3</th>\n",
       "      <td>A4</td>\n",
       "      <td>2017</td>\n",
       "      <td>Automatic</td>\n",
       "      <td>Diesel</td>\n",
       "      <td>25952</td>\n",
       "      <td>145</td>\n",
       "      <td>67.3</td>\n",
       "      <td>2.0</td>\n",
       "      <td>16800</td>\n",
       "    </tr>\n",
       "    <tr>\n",
       "      <th>4</th>\n",
       "      <td>A3</td>\n",
       "      <td>2019</td>\n",
       "      <td>Manual</td>\n",
       "      <td>Petrol</td>\n",
       "      <td>1998</td>\n",
       "      <td>145</td>\n",
       "      <td>49.6</td>\n",
       "      <td>1.0</td>\n",
       "      <td>17300</td>\n",
       "    </tr>\n",
       "  </tbody>\n",
       "</table>\n",
       "</div>"
      ],
      "text/plain": [
       "  model  year transmission fuelType  mileage  tax   mpg  engineSize  price\n",
       "0    A1  2017       Manual   Petrol    15735  150  55.4         1.4  12500\n",
       "1    A6  2016    Automatic   Diesel    36203   20  64.2         2.0  16500\n",
       "2    A1  2016       Manual   Petrol    29946   30  55.4         1.4  11000\n",
       "3    A4  2017    Automatic   Diesel    25952  145  67.3         2.0  16800\n",
       "4    A3  2019       Manual   Petrol     1998  145  49.6         1.0  17300"
      ]
     },
     "execution_count": 104,
     "metadata": {},
     "output_type": "execute_result"
    }
   ],
   "source": [
    "df.head()"
   ]
  },
  {
   "cell_type": "code",
   "execution_count": 105,
   "id": "informative-noise",
   "metadata": {},
   "outputs": [],
   "source": [
    "feat=['A1','2017','Manual','Petrol','15735','150']"
   ]
  },
  {
   "cell_type": "code",
   "execution_count": 106,
   "id": "literary-status",
   "metadata": {},
   "outputs": [
    {
     "data": {
      "text/plain": [
       "array(['15735', '150', '55.4', '1.4'], dtype='<U32')"
      ]
     },
     "execution_count": 106,
     "metadata": {},
     "output_type": "execute_result"
    }
   ],
   "source": [
    "num_feat = np.append(feat[4:6],[55.4,1.4])\n",
    "num_feat"
   ]
  },
  {
   "cell_type": "code",
   "execution_count": 117,
   "id": "interpreted-swing",
   "metadata": {},
   "outputs": [
    {
     "data": {
      "text/html": [
       "<div>\n",
       "<style scoped>\n",
       "    .dataframe tbody tr th:only-of-type {\n",
       "        vertical-align: middle;\n",
       "    }\n",
       "\n",
       "    .dataframe tbody tr th {\n",
       "        vertical-align: top;\n",
       "    }\n",
       "\n",
       "    .dataframe thead th {\n",
       "        text-align: right;\n",
       "    }\n",
       "</style>\n",
       "<table border=\"1\" class=\"dataframe\">\n",
       "  <thead>\n",
       "    <tr style=\"text-align: right;\">\n",
       "      <th></th>\n",
       "      <th>model</th>\n",
       "      <th>year</th>\n",
       "      <th>transmission</th>\n",
       "      <th>fuelType</th>\n",
       "    </tr>\n",
       "  </thead>\n",
       "  <tbody>\n",
       "    <tr>\n",
       "      <th>0</th>\n",
       "      <td>A1</td>\n",
       "      <td>2017</td>\n",
       "      <td>Manual</td>\n",
       "      <td>Petrol</td>\n",
       "    </tr>\n",
       "  </tbody>\n",
       "</table>\n",
       "</div>"
      ],
      "text/plain": [
       "  model  year transmission fuelType\n",
       "0    A1  2017       Manual   Petrol"
      ]
     },
     "execution_count": 117,
     "metadata": {},
     "output_type": "execute_result"
    }
   ],
   "source": [
    "df_cat=pd.DataFrame([feat[0:4]], columns=['model','year','transmission','fuelType'])\n",
    "df_cat"
   ]
  },
  {
   "cell_type": "code",
   "execution_count": 124,
   "id": "sought-fifth",
   "metadata": {},
   "outputs": [],
   "source": [
    "df_cat.year=int(df_cat.year)"
   ]
  },
  {
   "cell_type": "code",
   "execution_count": 125,
   "id": "occupied-maryland",
   "metadata": {},
   "outputs": [],
   "source": [
    "cat_feat = enc.transform(df_cat).toarray()"
   ]
  },
  {
   "cell_type": "code",
   "execution_count": 126,
   "id": "friendly-import",
   "metadata": {},
   "outputs": [],
   "source": [
    "enc_feat = np.append(num_feat, cat_feat)"
   ]
  },
  {
   "cell_type": "code",
   "execution_count": 127,
   "id": "second-springer",
   "metadata": {},
   "outputs": [],
   "source": [
    "scaled_feat=scaler.transform(enc_feat.reshape(1,-1))"
   ]
  },
  {
   "cell_type": "code",
   "execution_count": 128,
   "id": "massive-differential",
   "metadata": {},
   "outputs": [
    {
     "data": {
      "text/plain": [
       "14063.334"
      ]
     },
     "execution_count": 128,
     "metadata": {},
     "output_type": "execute_result"
    }
   ],
   "source": [
    "prediction = xgb_opt.predict(scaled_feat)[0]\n",
    "prediction"
   ]
  },
  {
   "cell_type": "code",
   "execution_count": null,
   "id": "swedish-dragon",
   "metadata": {},
   "outputs": [],
   "source": []
  }
 ],
 "metadata": {
  "kernelspec": {
   "display_name": "Python 3",
   "language": "python",
   "name": "python3"
  },
  "language_info": {
   "codemirror_mode": {
    "name": "ipython",
    "version": 3
   },
   "file_extension": ".py",
   "mimetype": "text/x-python",
   "name": "python",
   "nbconvert_exporter": "python",
   "pygments_lexer": "ipython3",
   "version": "3.8.5"
  }
 },
 "nbformat": 4,
 "nbformat_minor": 5
}
