{
 "cells": [
  {
   "cell_type": "markdown",
   "id": "friendly-poultry",
   "metadata": {},
   "source": [
    "# XGBoost HYPEROPT VS XGBoost VS SVR PRICE REGRESSION"
   ]
  },
  {
   "cell_type": "code",
   "execution_count": 1,
   "id": "martial-rotation",
   "metadata": {},
   "outputs": [],
   "source": [
    "from sklearn.model_selection import train_test_split\n",
    "from sklearn.model_selection import GridSearchCV, RandomizedSearchCV\n",
    "from sklearn.preprocessing import StandardScaler\n",
    "from sklearn.metrics import classification_report\n",
    "from sklearn.metrics import mean_squared_error\n",
    "import pandas as pd\n",
    "import matplotlib.pyplot as plt\n",
    "import numpy as np\n",
    "import seaborn as sns"
   ]
  },
  {
   "cell_type": "code",
   "execution_count": 2,
   "id": "ignored-contemporary",
   "metadata": {},
   "outputs": [],
   "source": [
    "df=pd.read_csv('audi.csv',skipinitialspace=True)"
   ]
  },
  {
   "cell_type": "markdown",
   "id": "eda88869",
   "metadata": {},
   "source": [
    "During the model deployment, I noticed that the values in the model columns had a blank space in front. For this reason, I decided to add \"skipinitialspace=True\" during the creation of the dataframe."
   ]
  },
  {
   "cell_type": "code",
   "execution_count": 3,
   "id": "later-probability",
   "metadata": {},
   "outputs": [
    {
     "data": {
      "text/html": [
       "<div>\n",
       "<style scoped>\n",
       "    .dataframe tbody tr th:only-of-type {\n",
       "        vertical-align: middle;\n",
       "    }\n",
       "\n",
       "    .dataframe tbody tr th {\n",
       "        vertical-align: top;\n",
       "    }\n",
       "\n",
       "    .dataframe thead th {\n",
       "        text-align: right;\n",
       "    }\n",
       "</style>\n",
       "<table border=\"1\" class=\"dataframe\">\n",
       "  <thead>\n",
       "    <tr style=\"text-align: right;\">\n",
       "      <th></th>\n",
       "      <th>model</th>\n",
       "      <th>year</th>\n",
       "      <th>price</th>\n",
       "      <th>transmission</th>\n",
       "      <th>mileage</th>\n",
       "      <th>fuelType</th>\n",
       "      <th>tax</th>\n",
       "      <th>mpg</th>\n",
       "      <th>engineSize</th>\n",
       "    </tr>\n",
       "  </thead>\n",
       "  <tbody>\n",
       "    <tr>\n",
       "      <th>0</th>\n",
       "      <td>A1</td>\n",
       "      <td>2017</td>\n",
       "      <td>12500</td>\n",
       "      <td>Manual</td>\n",
       "      <td>15735</td>\n",
       "      <td>Petrol</td>\n",
       "      <td>150</td>\n",
       "      <td>55.4</td>\n",
       "      <td>1.4</td>\n",
       "    </tr>\n",
       "    <tr>\n",
       "      <th>1</th>\n",
       "      <td>A6</td>\n",
       "      <td>2016</td>\n",
       "      <td>16500</td>\n",
       "      <td>Automatic</td>\n",
       "      <td>36203</td>\n",
       "      <td>Diesel</td>\n",
       "      <td>20</td>\n",
       "      <td>64.2</td>\n",
       "      <td>2.0</td>\n",
       "    </tr>\n",
       "    <tr>\n",
       "      <th>2</th>\n",
       "      <td>A1</td>\n",
       "      <td>2016</td>\n",
       "      <td>11000</td>\n",
       "      <td>Manual</td>\n",
       "      <td>29946</td>\n",
       "      <td>Petrol</td>\n",
       "      <td>30</td>\n",
       "      <td>55.4</td>\n",
       "      <td>1.4</td>\n",
       "    </tr>\n",
       "    <tr>\n",
       "      <th>3</th>\n",
       "      <td>A4</td>\n",
       "      <td>2017</td>\n",
       "      <td>16800</td>\n",
       "      <td>Automatic</td>\n",
       "      <td>25952</td>\n",
       "      <td>Diesel</td>\n",
       "      <td>145</td>\n",
       "      <td>67.3</td>\n",
       "      <td>2.0</td>\n",
       "    </tr>\n",
       "    <tr>\n",
       "      <th>4</th>\n",
       "      <td>A3</td>\n",
       "      <td>2019</td>\n",
       "      <td>17300</td>\n",
       "      <td>Manual</td>\n",
       "      <td>1998</td>\n",
       "      <td>Petrol</td>\n",
       "      <td>145</td>\n",
       "      <td>49.6</td>\n",
       "      <td>1.0</td>\n",
       "    </tr>\n",
       "  </tbody>\n",
       "</table>\n",
       "</div>"
      ],
      "text/plain": [
       "  model  year  price transmission  mileage fuelType  tax   mpg  engineSize\n",
       "0    A1  2017  12500       Manual    15735   Petrol  150  55.4         1.4\n",
       "1    A6  2016  16500    Automatic    36203   Diesel   20  64.2         2.0\n",
       "2    A1  2016  11000       Manual    29946   Petrol   30  55.4         1.4\n",
       "3    A4  2017  16800    Automatic    25952   Diesel  145  67.3         2.0\n",
       "4    A3  2019  17300       Manual     1998   Petrol  145  49.6         1.0"
      ]
     },
     "execution_count": 3,
     "metadata": {},
     "output_type": "execute_result"
    }
   ],
   "source": [
    "df.head()"
   ]
  },
  {
   "cell_type": "markdown",
   "id": "intended-worry",
   "metadata": {},
   "source": [
    "I will reorder the columns to group the categorical variables first and then the numerical ones"
   ]
  },
  {
   "cell_type": "code",
   "execution_count": 4,
   "id": "caring-defeat",
   "metadata": {},
   "outputs": [],
   "source": [
    "df=df[['model','year','transmission','fuelType','mileage','tax','mpg','engineSize','price']]"
   ]
  },
  {
   "cell_type": "code",
   "execution_count": 5,
   "id": "50c13bb9",
   "metadata": {},
   "outputs": [
    {
     "data": {
      "text/html": [
       "<div>\n",
       "<style scoped>\n",
       "    .dataframe tbody tr th:only-of-type {\n",
       "        vertical-align: middle;\n",
       "    }\n",
       "\n",
       "    .dataframe tbody tr th {\n",
       "        vertical-align: top;\n",
       "    }\n",
       "\n",
       "    .dataframe thead th {\n",
       "        text-align: right;\n",
       "    }\n",
       "</style>\n",
       "<table border=\"1\" class=\"dataframe\">\n",
       "  <thead>\n",
       "    <tr style=\"text-align: right;\">\n",
       "      <th></th>\n",
       "      <th>model</th>\n",
       "      <th>year</th>\n",
       "      <th>transmission</th>\n",
       "      <th>fuelType</th>\n",
       "      <th>mileage</th>\n",
       "      <th>tax</th>\n",
       "      <th>mpg</th>\n",
       "      <th>engineSize</th>\n",
       "      <th>price</th>\n",
       "    </tr>\n",
       "  </thead>\n",
       "  <tbody>\n",
       "    <tr>\n",
       "      <th>0</th>\n",
       "      <td>A1</td>\n",
       "      <td>2017</td>\n",
       "      <td>Manual</td>\n",
       "      <td>Petrol</td>\n",
       "      <td>15735</td>\n",
       "      <td>150</td>\n",
       "      <td>55.4</td>\n",
       "      <td>1.4</td>\n",
       "      <td>12500</td>\n",
       "    </tr>\n",
       "    <tr>\n",
       "      <th>1</th>\n",
       "      <td>A6</td>\n",
       "      <td>2016</td>\n",
       "      <td>Automatic</td>\n",
       "      <td>Diesel</td>\n",
       "      <td>36203</td>\n",
       "      <td>20</td>\n",
       "      <td>64.2</td>\n",
       "      <td>2.0</td>\n",
       "      <td>16500</td>\n",
       "    </tr>\n",
       "    <tr>\n",
       "      <th>2</th>\n",
       "      <td>A1</td>\n",
       "      <td>2016</td>\n",
       "      <td>Manual</td>\n",
       "      <td>Petrol</td>\n",
       "      <td>29946</td>\n",
       "      <td>30</td>\n",
       "      <td>55.4</td>\n",
       "      <td>1.4</td>\n",
       "      <td>11000</td>\n",
       "    </tr>\n",
       "    <tr>\n",
       "      <th>3</th>\n",
       "      <td>A4</td>\n",
       "      <td>2017</td>\n",
       "      <td>Automatic</td>\n",
       "      <td>Diesel</td>\n",
       "      <td>25952</td>\n",
       "      <td>145</td>\n",
       "      <td>67.3</td>\n",
       "      <td>2.0</td>\n",
       "      <td>16800</td>\n",
       "    </tr>\n",
       "    <tr>\n",
       "      <th>4</th>\n",
       "      <td>A3</td>\n",
       "      <td>2019</td>\n",
       "      <td>Manual</td>\n",
       "      <td>Petrol</td>\n",
       "      <td>1998</td>\n",
       "      <td>145</td>\n",
       "      <td>49.6</td>\n",
       "      <td>1.0</td>\n",
       "      <td>17300</td>\n",
       "    </tr>\n",
       "    <tr>\n",
       "      <th>5</th>\n",
       "      <td>A1</td>\n",
       "      <td>2016</td>\n",
       "      <td>Automatic</td>\n",
       "      <td>Petrol</td>\n",
       "      <td>32260</td>\n",
       "      <td>30</td>\n",
       "      <td>58.9</td>\n",
       "      <td>1.4</td>\n",
       "      <td>13900</td>\n",
       "    </tr>\n",
       "    <tr>\n",
       "      <th>6</th>\n",
       "      <td>A6</td>\n",
       "      <td>2016</td>\n",
       "      <td>Automatic</td>\n",
       "      <td>Diesel</td>\n",
       "      <td>76788</td>\n",
       "      <td>30</td>\n",
       "      <td>61.4</td>\n",
       "      <td>2.0</td>\n",
       "      <td>13250</td>\n",
       "    </tr>\n",
       "    <tr>\n",
       "      <th>7</th>\n",
       "      <td>A4</td>\n",
       "      <td>2016</td>\n",
       "      <td>Manual</td>\n",
       "      <td>Diesel</td>\n",
       "      <td>75185</td>\n",
       "      <td>20</td>\n",
       "      <td>70.6</td>\n",
       "      <td>2.0</td>\n",
       "      <td>11750</td>\n",
       "    </tr>\n",
       "    <tr>\n",
       "      <th>8</th>\n",
       "      <td>A3</td>\n",
       "      <td>2015</td>\n",
       "      <td>Manual</td>\n",
       "      <td>Petrol</td>\n",
       "      <td>46112</td>\n",
       "      <td>20</td>\n",
       "      <td>60.1</td>\n",
       "      <td>1.4</td>\n",
       "      <td>10200</td>\n",
       "    </tr>\n",
       "    <tr>\n",
       "      <th>9</th>\n",
       "      <td>A1</td>\n",
       "      <td>2016</td>\n",
       "      <td>Manual</td>\n",
       "      <td>Petrol</td>\n",
       "      <td>22451</td>\n",
       "      <td>30</td>\n",
       "      <td>55.4</td>\n",
       "      <td>1.4</td>\n",
       "      <td>12000</td>\n",
       "    </tr>\n",
       "  </tbody>\n",
       "</table>\n",
       "</div>"
      ],
      "text/plain": [
       "  model  year transmission fuelType  mileage  tax   mpg  engineSize  price\n",
       "0    A1  2017       Manual   Petrol    15735  150  55.4         1.4  12500\n",
       "1    A6  2016    Automatic   Diesel    36203   20  64.2         2.0  16500\n",
       "2    A1  2016       Manual   Petrol    29946   30  55.4         1.4  11000\n",
       "3    A4  2017    Automatic   Diesel    25952  145  67.3         2.0  16800\n",
       "4    A3  2019       Manual   Petrol     1998  145  49.6         1.0  17300\n",
       "5    A1  2016    Automatic   Petrol    32260   30  58.9         1.4  13900\n",
       "6    A6  2016    Automatic   Diesel    76788   30  61.4         2.0  13250\n",
       "7    A4  2016       Manual   Diesel    75185   20  70.6         2.0  11750\n",
       "8    A3  2015       Manual   Petrol    46112   20  60.1         1.4  10200\n",
       "9    A1  2016       Manual   Petrol    22451   30  55.4         1.4  12000"
      ]
     },
     "execution_count": 5,
     "metadata": {},
     "output_type": "execute_result"
    }
   ],
   "source": [
    "df.head(10)"
   ]
  },
  {
   "cell_type": "code",
   "execution_count": 6,
   "id": "mathematical-boards",
   "metadata": {},
   "outputs": [
    {
     "name": "stdout",
     "output_type": "stream",
     "text": [
      "<class 'pandas.core.frame.DataFrame'>\n",
      "RangeIndex: 10668 entries, 0 to 10667\n",
      "Data columns (total 9 columns):\n",
      " #   Column        Non-Null Count  Dtype  \n",
      "---  ------        --------------  -----  \n",
      " 0   model         10668 non-null  object \n",
      " 1   year          10668 non-null  int64  \n",
      " 2   transmission  10668 non-null  object \n",
      " 3   fuelType      10668 non-null  object \n",
      " 4   mileage       10668 non-null  int64  \n",
      " 5   tax           10668 non-null  int64  \n",
      " 6   mpg           10668 non-null  float64\n",
      " 7   engineSize    10668 non-null  float64\n",
      " 8   price         10668 non-null  int64  \n",
      "dtypes: float64(2), int64(4), object(3)\n",
      "memory usage: 750.2+ KB\n"
     ]
    }
   ],
   "source": [
    "df.info()"
   ]
  },
  {
   "cell_type": "markdown",
   "id": "7c9882ef",
   "metadata": {},
   "source": [
    "There are no missing values"
   ]
  },
  {
   "cell_type": "markdown",
   "id": "eb6485d2",
   "metadata": {},
   "source": [
    "# Cateogorical Encoding"
   ]
  },
  {
   "cell_type": "code",
   "execution_count": 7,
   "id": "through-treatment",
   "metadata": {},
   "outputs": [],
   "source": [
    "#Convert year column to object so we can include it in the categorical mask\n",
    "df['year']=df['year'].astype(object)"
   ]
  },
  {
   "cell_type": "code",
   "execution_count": 8,
   "id": "lesbian-muslim",
   "metadata": {},
   "outputs": [],
   "source": [
    "# Create a boolean mask for categorical columns\n",
    "categorical_mask = (df.dtypes == object)"
   ]
  },
  {
   "cell_type": "code",
   "execution_count": 9,
   "id": "signed-diesel",
   "metadata": {},
   "outputs": [],
   "source": [
    "categorical_columns = df.columns[categorical_mask].tolist()"
   ]
  },
  {
   "cell_type": "code",
   "execution_count": 10,
   "id": "mediterranean-burlington",
   "metadata": {},
   "outputs": [
    {
     "name": "stdout",
     "output_type": "stream",
     "text": [
      "  model  year transmission fuelType\n",
      "0    A1  2017       Manual   Petrol\n",
      "1    A6  2016    Automatic   Diesel\n",
      "2    A1  2016       Manual   Petrol\n",
      "3    A4  2017    Automatic   Diesel\n",
      "4    A3  2019       Manual   Petrol\n"
     ]
    }
   ],
   "source": [
    "print(df[categorical_columns].head())"
   ]
  },
  {
   "cell_type": "code",
   "execution_count": 11,
   "id": "divine-arnold",
   "metadata": {},
   "outputs": [
    {
     "data": {
      "text/html": [
       "<div>\n",
       "<style scoped>\n",
       "    .dataframe tbody tr th:only-of-type {\n",
       "        vertical-align: middle;\n",
       "    }\n",
       "\n",
       "    .dataframe tbody tr th {\n",
       "        vertical-align: top;\n",
       "    }\n",
       "\n",
       "    .dataframe thead th {\n",
       "        text-align: right;\n",
       "    }\n",
       "</style>\n",
       "<table border=\"1\" class=\"dataframe\">\n",
       "  <thead>\n",
       "    <tr style=\"text-align: right;\">\n",
       "      <th></th>\n",
       "      <th>model</th>\n",
       "      <th>year</th>\n",
       "      <th>transmission</th>\n",
       "      <th>fuelType</th>\n",
       "    </tr>\n",
       "  </thead>\n",
       "  <tbody>\n",
       "    <tr>\n",
       "      <th>count</th>\n",
       "      <td>10668</td>\n",
       "      <td>10668</td>\n",
       "      <td>10668</td>\n",
       "      <td>10668</td>\n",
       "    </tr>\n",
       "    <tr>\n",
       "      <th>unique</th>\n",
       "      <td>26</td>\n",
       "      <td>21</td>\n",
       "      <td>3</td>\n",
       "      <td>3</td>\n",
       "    </tr>\n",
       "    <tr>\n",
       "      <th>top</th>\n",
       "      <td>A3</td>\n",
       "      <td>2019</td>\n",
       "      <td>Manual</td>\n",
       "      <td>Diesel</td>\n",
       "    </tr>\n",
       "    <tr>\n",
       "      <th>freq</th>\n",
       "      <td>1929</td>\n",
       "      <td>3197</td>\n",
       "      <td>4369</td>\n",
       "      <td>5577</td>\n",
       "    </tr>\n",
       "  </tbody>\n",
       "</table>\n",
       "</div>"
      ],
      "text/plain": [
       "        model   year transmission fuelType\n",
       "count   10668  10668        10668    10668\n",
       "unique     26     21            3        3\n",
       "top        A3   2019       Manual   Diesel\n",
       "freq     1929   3197         4369     5577"
      ]
     },
     "execution_count": 11,
     "metadata": {},
     "output_type": "execute_result"
    }
   ],
   "source": [
    "df[categorical_columns].describe()"
   ]
  },
  {
   "cell_type": "code",
   "execution_count": 12,
   "id": "together-iceland",
   "metadata": {},
   "outputs": [],
   "source": [
    "#COLUMN TRANSFORMER to get OH conded cols!\n",
    "#This allows us to skip the label encoder and directly apply the one hot encoding!\n",
    "\n",
    "#from sklearn.preprocessing import OneHotEncoder\n",
    "#from sklearn.compose import ColumnTransformer\n",
    "#ct = ColumnTransformer([(categorical_columns, OneHotEncoder(), [0])], remainder = 'passthrough')\n",
    "#df[categorical_columns] = ct.fit_transform(df[categorical_columns])"
   ]
  },
  {
   "cell_type": "markdown",
   "id": "1c0f2a7c",
   "metadata": {},
   "source": [
    "## Analyze the engine size and mpg for each car model"
   ]
  },
  {
   "cell_type": "code",
   "execution_count": 13,
   "id": "c5d392b9",
   "metadata": {},
   "outputs": [
    {
     "data": {
      "text/html": [
       "<div>\n",
       "<style scoped>\n",
       "    .dataframe tbody tr th:only-of-type {\n",
       "        vertical-align: middle;\n",
       "    }\n",
       "\n",
       "    .dataframe tbody tr th {\n",
       "        vertical-align: top;\n",
       "    }\n",
       "\n",
       "    .dataframe thead th {\n",
       "        text-align: right;\n",
       "    }\n",
       "</style>\n",
       "<table border=\"1\" class=\"dataframe\">\n",
       "  <thead>\n",
       "    <tr style=\"text-align: right;\">\n",
       "      <th></th>\n",
       "      <th>model</th>\n",
       "      <th>year</th>\n",
       "      <th>transmission</th>\n",
       "      <th>fuelType</th>\n",
       "      <th>mpg</th>\n",
       "      <th>engineSize</th>\n",
       "    </tr>\n",
       "  </thead>\n",
       "  <tbody>\n",
       "    <tr>\n",
       "      <th>10632</th>\n",
       "      <td>A1</td>\n",
       "      <td>2010</td>\n",
       "      <td>Automatic</td>\n",
       "      <td>Petrol</td>\n",
       "      <td>53.3</td>\n",
       "      <td>1.4</td>\n",
       "    </tr>\n",
       "    <tr>\n",
       "      <th>9625</th>\n",
       "      <td>A1</td>\n",
       "      <td>2011</td>\n",
       "      <td>Manual</td>\n",
       "      <td>Diesel</td>\n",
       "      <td>70.6</td>\n",
       "      <td>1.6</td>\n",
       "    </tr>\n",
       "    <tr>\n",
       "      <th>9791</th>\n",
       "      <td>A1</td>\n",
       "      <td>2011</td>\n",
       "      <td>Manual</td>\n",
       "      <td>Petrol</td>\n",
       "      <td>53.3</td>\n",
       "      <td>1.4</td>\n",
       "    </tr>\n",
       "    <tr>\n",
       "      <th>7950</th>\n",
       "      <td>A1</td>\n",
       "      <td>2012</td>\n",
       "      <td>Manual</td>\n",
       "      <td>Diesel</td>\n",
       "      <td>74.3</td>\n",
       "      <td>1.6</td>\n",
       "    </tr>\n",
       "    <tr>\n",
       "      <th>8019</th>\n",
       "      <td>A1</td>\n",
       "      <td>2012</td>\n",
       "      <td>Manual</td>\n",
       "      <td>Petrol</td>\n",
       "      <td>53.3</td>\n",
       "      <td>1.4</td>\n",
       "    </tr>\n",
       "  </tbody>\n",
       "</table>\n",
       "</div>"
      ],
      "text/plain": [
       "      model  year transmission fuelType   mpg  engineSize\n",
       "10632    A1  2010    Automatic   Petrol  53.3         1.4\n",
       "9625     A1  2011       Manual   Diesel  70.6         1.6\n",
       "9791     A1  2011       Manual   Petrol  53.3         1.4\n",
       "7950     A1  2012       Manual   Diesel  74.3         1.6\n",
       "8019     A1  2012       Manual   Petrol  53.3         1.4"
      ]
     },
     "execution_count": 13,
     "metadata": {},
     "output_type": "execute_result"
    }
   ],
   "source": [
    "df_models=df.drop(['price','mileage','tax'], axis=1).drop_duplicates().sort_values(by=['model','year'])\n",
    "df_models.head()"
   ]
  },
  {
   "cell_type": "code",
   "execution_count": 14,
   "id": "73f8974f",
   "metadata": {},
   "outputs": [],
   "source": [
    "# Example of possible query from the user:\n",
    "feat=['A1','2017','Manual','Petrol','15735','150']"
   ]
  },
  {
   "cell_type": "code",
   "execution_count": 15,
   "id": "b82aa03c",
   "metadata": {},
   "outputs": [
    {
     "data": {
      "text/html": [
       "<div>\n",
       "<style scoped>\n",
       "    .dataframe tbody tr th:only-of-type {\n",
       "        vertical-align: middle;\n",
       "    }\n",
       "\n",
       "    .dataframe tbody tr th {\n",
       "        vertical-align: top;\n",
       "    }\n",
       "\n",
       "    .dataframe thead th {\n",
       "        text-align: right;\n",
       "    }\n",
       "</style>\n",
       "<table border=\"1\" class=\"dataframe\">\n",
       "  <thead>\n",
       "    <tr style=\"text-align: right;\">\n",
       "      <th></th>\n",
       "      <th>model</th>\n",
       "      <th>year</th>\n",
       "      <th>transmission</th>\n",
       "      <th>fuelType</th>\n",
       "      <th>mpg</th>\n",
       "      <th>engineSize</th>\n",
       "    </tr>\n",
       "  </thead>\n",
       "  <tbody>\n",
       "    <tr>\n",
       "      <th>0</th>\n",
       "      <td>A1</td>\n",
       "      <td>2017</td>\n",
       "      <td>Manual</td>\n",
       "      <td>Petrol</td>\n",
       "      <td>55.4</td>\n",
       "      <td>1.4</td>\n",
       "    </tr>\n",
       "    <tr>\n",
       "      <th>36</th>\n",
       "      <td>A1</td>\n",
       "      <td>2017</td>\n",
       "      <td>Manual</td>\n",
       "      <td>Petrol</td>\n",
       "      <td>67.3</td>\n",
       "      <td>1.0</td>\n",
       "    </tr>\n",
       "    <tr>\n",
       "      <th>94</th>\n",
       "      <td>A1</td>\n",
       "      <td>2017</td>\n",
       "      <td>Manual</td>\n",
       "      <td>Petrol</td>\n",
       "      <td>58.9</td>\n",
       "      <td>1.4</td>\n",
       "    </tr>\n",
       "    <tr>\n",
       "      <th>334</th>\n",
       "      <td>A1</td>\n",
       "      <td>2017</td>\n",
       "      <td>Manual</td>\n",
       "      <td>Petrol</td>\n",
       "      <td>57.6</td>\n",
       "      <td>1.4</td>\n",
       "    </tr>\n",
       "    <tr>\n",
       "      <th>548</th>\n",
       "      <td>A1</td>\n",
       "      <td>2017</td>\n",
       "      <td>Manual</td>\n",
       "      <td>Petrol</td>\n",
       "      <td>56.5</td>\n",
       "      <td>1.4</td>\n",
       "    </tr>\n",
       "    <tr>\n",
       "      <th>1376</th>\n",
       "      <td>A1</td>\n",
       "      <td>2017</td>\n",
       "      <td>Manual</td>\n",
       "      <td>Petrol</td>\n",
       "      <td>39.8</td>\n",
       "      <td>2.0</td>\n",
       "    </tr>\n",
       "    <tr>\n",
       "      <th>3228</th>\n",
       "      <td>A1</td>\n",
       "      <td>2017</td>\n",
       "      <td>Manual</td>\n",
       "      <td>Petrol</td>\n",
       "      <td>70.6</td>\n",
       "      <td>1.4</td>\n",
       "    </tr>\n",
       "    <tr>\n",
       "      <th>5675</th>\n",
       "      <td>A1</td>\n",
       "      <td>2017</td>\n",
       "      <td>Manual</td>\n",
       "      <td>Petrol</td>\n",
       "      <td>39.2</td>\n",
       "      <td>2.0</td>\n",
       "    </tr>\n",
       "    <tr>\n",
       "      <th>7782</th>\n",
       "      <td>A1</td>\n",
       "      <td>2017</td>\n",
       "      <td>Manual</td>\n",
       "      <td>Petrol</td>\n",
       "      <td>40.4</td>\n",
       "      <td>2.0</td>\n",
       "    </tr>\n",
       "  </tbody>\n",
       "</table>\n",
       "</div>"
      ],
      "text/plain": [
       "     model  year transmission fuelType   mpg  engineSize\n",
       "0       A1  2017       Manual   Petrol  55.4         1.4\n",
       "36      A1  2017       Manual   Petrol  67.3         1.0\n",
       "94      A1  2017       Manual   Petrol  58.9         1.4\n",
       "334     A1  2017       Manual   Petrol  57.6         1.4\n",
       "548     A1  2017       Manual   Petrol  56.5         1.4\n",
       "1376    A1  2017       Manual   Petrol  39.8         2.0\n",
       "3228    A1  2017       Manual   Petrol  70.6         1.4\n",
       "5675    A1  2017       Manual   Petrol  39.2         2.0\n",
       "7782    A1  2017       Manual   Petrol  40.4         2.0"
      ]
     },
     "execution_count": 15,
     "metadata": {},
     "output_type": "execute_result"
    }
   ],
   "source": [
    "df_models.loc[(df['model']==feat[0]) & (df_models['year']==int(feat[1])) & (df_models['transmission']==feat[2]) & (df_models['fuelType']==feat[3])]"
   ]
  },
  {
   "cell_type": "markdown",
   "id": "3da55b30",
   "metadata": {},
   "source": [
    "Apparently the mpg and enginesize can vary for the same car model of the same year. This means that the owner should manually input the values whtn the model will be deployed."
   ]
  },
  {
   "cell_type": "markdown",
   "id": "baad8363",
   "metadata": {},
   "source": [
    "# Exploratory Data Analysis"
   ]
  },
  {
   "cell_type": "markdown",
   "id": "c15ee148",
   "metadata": {},
   "source": [
    "## Categorical features Analysis"
   ]
  },
  {
   "cell_type": "code",
   "execution_count": 16,
   "id": "03b218b4",
   "metadata": {},
   "outputs": [],
   "source": [
    "df_cat=df[categorical_columns]"
   ]
  },
  {
   "cell_type": "code",
   "execution_count": 17,
   "id": "b40e527c",
   "metadata": {},
   "outputs": [
    {
     "name": "stderr",
     "output_type": "stream",
     "text": [
      "<ipython-input-17-04a1ab906471>:1: SettingWithCopyWarning: \n",
      "A value is trying to be set on a copy of a slice from a DataFrame.\n",
      "Try using .loc[row_indexer,col_indexer] = value instead\n",
      "\n",
      "See the caveats in the documentation: https://pandas.pydata.org/pandas-docs/stable/user_guide/indexing.html#returning-a-view-versus-a-copy\n",
      "  df_cat['price']=df['price'];\n"
     ]
    }
   ],
   "source": [
    "df_cat['price']=df['price'];"
   ]
  },
  {
   "cell_type": "code",
   "execution_count": 18,
   "id": "32dceb61",
   "metadata": {},
   "outputs": [
    {
     "data": {
      "text/html": [
       "<div>\n",
       "<style scoped>\n",
       "    .dataframe tbody tr th:only-of-type {\n",
       "        vertical-align: middle;\n",
       "    }\n",
       "\n",
       "    .dataframe tbody tr th {\n",
       "        vertical-align: top;\n",
       "    }\n",
       "\n",
       "    .dataframe thead th {\n",
       "        text-align: right;\n",
       "    }\n",
       "</style>\n",
       "<table border=\"1\" class=\"dataframe\">\n",
       "  <thead>\n",
       "    <tr style=\"text-align: right;\">\n",
       "      <th></th>\n",
       "      <th>model</th>\n",
       "      <th>year</th>\n",
       "      <th>transmission</th>\n",
       "      <th>fuelType</th>\n",
       "      <th>price</th>\n",
       "    </tr>\n",
       "  </thead>\n",
       "  <tbody>\n",
       "    <tr>\n",
       "      <th>0</th>\n",
       "      <td>A1</td>\n",
       "      <td>2017</td>\n",
       "      <td>Manual</td>\n",
       "      <td>Petrol</td>\n",
       "      <td>12500</td>\n",
       "    </tr>\n",
       "    <tr>\n",
       "      <th>1</th>\n",
       "      <td>A6</td>\n",
       "      <td>2016</td>\n",
       "      <td>Automatic</td>\n",
       "      <td>Diesel</td>\n",
       "      <td>16500</td>\n",
       "    </tr>\n",
       "    <tr>\n",
       "      <th>2</th>\n",
       "      <td>A1</td>\n",
       "      <td>2016</td>\n",
       "      <td>Manual</td>\n",
       "      <td>Petrol</td>\n",
       "      <td>11000</td>\n",
       "    </tr>\n",
       "    <tr>\n",
       "      <th>3</th>\n",
       "      <td>A4</td>\n",
       "      <td>2017</td>\n",
       "      <td>Automatic</td>\n",
       "      <td>Diesel</td>\n",
       "      <td>16800</td>\n",
       "    </tr>\n",
       "    <tr>\n",
       "      <th>4</th>\n",
       "      <td>A3</td>\n",
       "      <td>2019</td>\n",
       "      <td>Manual</td>\n",
       "      <td>Petrol</td>\n",
       "      <td>17300</td>\n",
       "    </tr>\n",
       "  </tbody>\n",
       "</table>\n",
       "</div>"
      ],
      "text/plain": [
       "  model  year transmission fuelType  price\n",
       "0    A1  2017       Manual   Petrol  12500\n",
       "1    A6  2016    Automatic   Diesel  16500\n",
       "2    A1  2016       Manual   Petrol  11000\n",
       "3    A4  2017    Automatic   Diesel  16800\n",
       "4    A3  2019       Manual   Petrol  17300"
      ]
     },
     "execution_count": 18,
     "metadata": {},
     "output_type": "execute_result"
    }
   ],
   "source": [
    "df_cat.head()"
   ]
  },
  {
   "cell_type": "markdown",
   "id": "423c1369",
   "metadata": {},
   "source": [
    "## How is the fueltype related to the price?"
   ]
  },
  {
   "cell_type": "code",
   "execution_count": 19,
   "id": "1e16eaf5",
   "metadata": {},
   "outputs": [
    {
     "data": {
      "image/png": "[encoded data removed]",
      "text/plain": [
       "<Figure size 432x288 with 1 Axes>"
      ]
     },
     "metadata": {
      "needs_background": "light"
     },
     "output_type": "display_data"
    }
   ],
   "source": [
    "sns.boxplot(x='fuelType', y='price', data=df_cat, hue='transmission');\n",
    "plt.xlabel('FuelType');\n",
    "plt.title('Price vs Fueltype by Transmission');"
   ]
  },
  {
   "cell_type": "markdown",
   "id": "b40aca01",
   "metadata": {},
   "source": [
    "We can see that Petrol cars are more expensive and presents lots of outliers values. In particular, among the Petrol cars, those with Automatic and Semi-Auto transmission appears to be the most expensive, while the cars with a manual transimission are cheaper. Hybrid cars looks to have no outliers."
   ]
  },
  {
   "cell_type": "markdown",
   "id": "887c15a6",
   "metadata": {},
   "source": [
    "## How is the Transmission related to the price?"
   ]
  },
  {
   "cell_type": "code",
   "execution_count": 20,
   "id": "70c28c28",
   "metadata": {},
   "outputs": [
    {
     "data": {
      "image/png": "[encoded data removed]",
      "text/plain": [
       "<Figure size 432x288 with 1 Axes>"
      ]
     },
     "metadata": {
      "needs_background": "light"
     },
     "output_type": "display_data"
    }
   ],
   "source": [
    "sns.boxplot(x='transmission', y='price', data=df_cat, hue='fuelType');\n",
    "plt.xlabel('Transmission');\n",
    "plt.title('Price vs Transmission by Fueltype');"
   ]
  },
  {
   "cell_type": "markdown",
   "id": "b1409a7e",
   "metadata": {},
   "source": [
    "From this plot it is possible to assert that cars with an Automatic or Semi-Automatic transmission are on average more expensive than cars with manual transmission. In particular, it is possible to say that while cars with amanual transmission have a more similar price, cars with automatic or semi-auto transmission have a wider range of prices. Finally, Hybrid cars looks to have a more similar price with no outliers."
   ]
  },
  {
   "cell_type": "markdown",
   "id": "243b695c",
   "metadata": {},
   "source": [
    "## Numerical featurs analysis"
   ]
  },
  {
   "cell_type": "code",
   "execution_count": 21,
   "id": "8289d171",
   "metadata": {},
   "outputs": [
    {
     "data": {
      "text/html": [
       "<div>\n",
       "<style scoped>\n",
       "    .dataframe tbody tr th:only-of-type {\n",
       "        vertical-align: middle;\n",
       "    }\n",
       "\n",
       "    .dataframe tbody tr th {\n",
       "        vertical-align: top;\n",
       "    }\n",
       "\n",
       "    .dataframe thead th {\n",
       "        text-align: right;\n",
       "    }\n",
       "</style>\n",
       "<table border=\"1\" class=\"dataframe\">\n",
       "  <thead>\n",
       "    <tr style=\"text-align: right;\">\n",
       "      <th></th>\n",
       "      <th>mpg</th>\n",
       "      <th>mileage</th>\n",
       "      <th>tax</th>\n",
       "      <th>price</th>\n",
       "    </tr>\n",
       "  </thead>\n",
       "  <tbody>\n",
       "    <tr>\n",
       "      <th>0</th>\n",
       "      <td>55.4</td>\n",
       "      <td>15735</td>\n",
       "      <td>150</td>\n",
       "      <td>12500</td>\n",
       "    </tr>\n",
       "    <tr>\n",
       "      <th>1</th>\n",
       "      <td>64.2</td>\n",
       "      <td>36203</td>\n",
       "      <td>20</td>\n",
       "      <td>16500</td>\n",
       "    </tr>\n",
       "    <tr>\n",
       "      <th>2</th>\n",
       "      <td>55.4</td>\n",
       "      <td>29946</td>\n",
       "      <td>30</td>\n",
       "      <td>11000</td>\n",
       "    </tr>\n",
       "    <tr>\n",
       "      <th>3</th>\n",
       "      <td>67.3</td>\n",
       "      <td>25952</td>\n",
       "      <td>145</td>\n",
       "      <td>16800</td>\n",
       "    </tr>\n",
       "    <tr>\n",
       "      <th>4</th>\n",
       "      <td>49.6</td>\n",
       "      <td>1998</td>\n",
       "      <td>145</td>\n",
       "      <td>17300</td>\n",
       "    </tr>\n",
       "  </tbody>\n",
       "</table>\n",
       "</div>"
      ],
      "text/plain": [
       "    mpg  mileage  tax  price\n",
       "0  55.4    15735  150  12500\n",
       "1  64.2    36203   20  16500\n",
       "2  55.4    29946   30  11000\n",
       "3  67.3    25952  145  16800\n",
       "4  49.6     1998  145  17300"
      ]
     },
     "execution_count": 21,
     "metadata": {},
     "output_type": "execute_result"
    }
   ],
   "source": [
    "df_num=df[['mpg','mileage','tax', 'price']]\n",
    "df_num.head()"
   ]
  },
  {
   "cell_type": "markdown",
   "id": "112dada6",
   "metadata": {},
   "source": [
    "## How are the tax and mpg related to the price?"
   ]
  },
  {
   "cell_type": "code",
   "execution_count": 22,
   "id": "f1dc621c",
   "metadata": {},
   "outputs": [],
   "source": [
    "corr=df_num.corr()"
   ]
  },
  {
   "cell_type": "code",
   "execution_count": 23,
   "id": "83d04145",
   "metadata": {},
   "outputs": [
    {
     "data": {
      "text/plain": [
       "<matplotlib.colors.ListedColormap at 0x1e142251640>"
      ]
     },
     "execution_count": 23,
     "metadata": {},
     "output_type": "execute_result"
    },
    {
     "data": {
      "image/png": "[encoded data removed]",
      "text/plain": [
       "<Figure size 432x288 with 2 Axes>"
      ]
     },
     "metadata": {
      "needs_background": "light"
     },
     "output_type": "display_data"
    }
   ],
   "source": [
    "sns.heatmap(corr,annot=True, cmap='YlGnBu_r')\n",
    "sns.cubehelix_palette(as_cmap=True, reverse=True)"
   ]
  },
  {
   "cell_type": "markdown",
   "id": "0a8de261",
   "metadata": {},
   "source": [
    "From the heatmap, we can say the following about the price:<br>\n",
    "There is a quite moderate negative correlation (-0.6) between the mpg and the price. This means that cars with high mpg tends to be cheaper.<br>\n",
    "There is a quite moderate negatvie correlation (-0.54) between the mileage and the price. This means that cars with a higher mileage then to be cheaper.<br>\n",
    "There is a small positive correlation also between the tax and the price. Cars with higher tax tends to cost more.\n",
    "\n",
    "Other interesting information not related to the price are:<br>\n",
    "There is a moderate positive correlation (0.4) between the mpg and mileage: cars with high mpg tends to have a higher mileage<br>\n",
    "There is a quite moderate negative correaltion (-0.6) between tax and mpg. Cars with high mpg tends to have low tax.\n",
    "\n",
    "\n",
    "\n"
   ]
  },
  {
   "cell_type": "markdown",
   "id": "ef01c900",
   "metadata": {},
   "source": [
    "# Data Preparation for modeling"
   ]
  },
  {
   "cell_type": "markdown",
   "id": "2902349d",
   "metadata": {},
   "source": [
    "## Encoding by get dummies (not good for model deployment)"
   ]
  },
  {
   "cell_type": "code",
   "execution_count": 24,
   "id": "compatible-polyester",
   "metadata": {},
   "outputs": [],
   "source": [
    "#Create a copy of the DF where we substitue the categorical column into more cols with dummies\n",
    "encoded_df=df.copy()\n",
    "encoded_df = pd.concat([df.drop(categorical_columns, axis=1), pd.get_dummies(df[categorical_columns], drop_first=True)], axis=1)"
   ]
  },
  {
   "cell_type": "markdown",
   "id": "informed-detail",
   "metadata": {},
   "source": [
    "## One Hot encoding"
   ]
  },
  {
   "cell_type": "code",
   "execution_count": 25,
   "id": "absent-attempt",
   "metadata": {},
   "outputs": [
    {
     "data": {
      "text/plain": [
       "OneHotEncoder()"
      ]
     },
     "execution_count": 25,
     "metadata": {},
     "output_type": "execute_result"
    }
   ],
   "source": [
    "from sklearn.preprocessing import OneHotEncoder\n",
    "enc = OneHotEncoder()\n",
    "enc.fit(df[categorical_columns])"
   ]
  },
  {
   "cell_type": "code",
   "execution_count": 26,
   "id": "68d6a99f",
   "metadata": {},
   "outputs": [
    {
     "data": {
      "text/html": [
       "<div>\n",
       "<style scoped>\n",
       "    .dataframe tbody tr th:only-of-type {\n",
       "        vertical-align: middle;\n",
       "    }\n",
       "\n",
       "    .dataframe tbody tr th {\n",
       "        vertical-align: top;\n",
       "    }\n",
       "\n",
       "    .dataframe thead th {\n",
       "        text-align: right;\n",
       "    }\n",
       "</style>\n",
       "<table border=\"1\" class=\"dataframe\">\n",
       "  <thead>\n",
       "    <tr style=\"text-align: right;\">\n",
       "      <th></th>\n",
       "      <th>model</th>\n",
       "      <th>year</th>\n",
       "      <th>transmission</th>\n",
       "      <th>fuelType</th>\n",
       "    </tr>\n",
       "  </thead>\n",
       "  <tbody>\n",
       "    <tr>\n",
       "      <th>0</th>\n",
       "      <td>A1</td>\n",
       "      <td>2017</td>\n",
       "      <td>Manual</td>\n",
       "      <td>Petrol</td>\n",
       "    </tr>\n",
       "    <tr>\n",
       "      <th>1</th>\n",
       "      <td>A6</td>\n",
       "      <td>2016</td>\n",
       "      <td>Automatic</td>\n",
       "      <td>Diesel</td>\n",
       "    </tr>\n",
       "    <tr>\n",
       "      <th>2</th>\n",
       "      <td>A1</td>\n",
       "      <td>2016</td>\n",
       "      <td>Manual</td>\n",
       "      <td>Petrol</td>\n",
       "    </tr>\n",
       "    <tr>\n",
       "      <th>3</th>\n",
       "      <td>A4</td>\n",
       "      <td>2017</td>\n",
       "      <td>Automatic</td>\n",
       "      <td>Diesel</td>\n",
       "    </tr>\n",
       "    <tr>\n",
       "      <th>4</th>\n",
       "      <td>A3</td>\n",
       "      <td>2019</td>\n",
       "      <td>Manual</td>\n",
       "      <td>Petrol</td>\n",
       "    </tr>\n",
       "  </tbody>\n",
       "</table>\n",
       "</div>"
      ],
      "text/plain": [
       "  model  year transmission fuelType\n",
       "0    A1  2017       Manual   Petrol\n",
       "1    A6  2016    Automatic   Diesel\n",
       "2    A1  2016       Manual   Petrol\n",
       "3    A4  2017    Automatic   Diesel\n",
       "4    A3  2019       Manual   Petrol"
      ]
     },
     "execution_count": 26,
     "metadata": {},
     "output_type": "execute_result"
    }
   ],
   "source": [
    "df[categorical_columns].head()"
   ]
  },
  {
   "cell_type": "code",
   "execution_count": 27,
   "id": "deluxe-semester",
   "metadata": {},
   "outputs": [
    {
     "data": {
      "text/plain": [
       "['encoder.joblib']"
      ]
     },
     "execution_count": 27,
     "metadata": {},
     "output_type": "execute_result"
    }
   ],
   "source": [
    "# for model deployment, both pickle and joblib work fine\n",
    "\n",
    "import pickle\n",
    "import joblib\n",
    "\n",
    "pickle.dump(enc, open('encoder.pkl','wb'))\n",
    "joblib.dump(enc, 'encoder.joblib')"
   ]
  },
  {
   "cell_type": "code",
   "execution_count": 28,
   "id": "front-berlin",
   "metadata": {},
   "outputs": [
    {
     "data": {
      "text/html": [
       "<div>\n",
       "<style scoped>\n",
       "    .dataframe tbody tr th:only-of-type {\n",
       "        vertical-align: middle;\n",
       "    }\n",
       "\n",
       "    .dataframe tbody tr th {\n",
       "        vertical-align: top;\n",
       "    }\n",
       "\n",
       "    .dataframe thead th {\n",
       "        text-align: right;\n",
       "    }\n",
       "</style>\n",
       "<table border=\"1\" class=\"dataframe\">\n",
       "  <thead>\n",
       "    <tr style=\"text-align: right;\">\n",
       "      <th></th>\n",
       "      <th>mileage</th>\n",
       "      <th>tax</th>\n",
       "      <th>mpg</th>\n",
       "      <th>engineSize</th>\n",
       "      <th>price</th>\n",
       "      <th>model_A1</th>\n",
       "      <th>model_A2</th>\n",
       "      <th>model_A3</th>\n",
       "      <th>model_A4</th>\n",
       "      <th>model_A5</th>\n",
       "      <th>...</th>\n",
       "      <th>year_2017</th>\n",
       "      <th>year_2018</th>\n",
       "      <th>year_2019</th>\n",
       "      <th>year_2020</th>\n",
       "      <th>transmission_Automatic</th>\n",
       "      <th>transmission_Manual</th>\n",
       "      <th>transmission_Semi-Auto</th>\n",
       "      <th>fuelType_Diesel</th>\n",
       "      <th>fuelType_Hybrid</th>\n",
       "      <th>fuelType_Petrol</th>\n",
       "    </tr>\n",
       "  </thead>\n",
       "  <tbody>\n",
       "    <tr>\n",
       "      <th>0</th>\n",
       "      <td>15735</td>\n",
       "      <td>150</td>\n",
       "      <td>55.4</td>\n",
       "      <td>1.4</td>\n",
       "      <td>12500</td>\n",
       "      <td>1</td>\n",
       "      <td>0</td>\n",
       "      <td>0</td>\n",
       "      <td>0</td>\n",
       "      <td>0</td>\n",
       "      <td>...</td>\n",
       "      <td>1</td>\n",
       "      <td>0</td>\n",
       "      <td>0</td>\n",
       "      <td>0</td>\n",
       "      <td>0</td>\n",
       "      <td>1</td>\n",
       "      <td>0</td>\n",
       "      <td>0</td>\n",
       "      <td>0</td>\n",
       "      <td>1</td>\n",
       "    </tr>\n",
       "    <tr>\n",
       "      <th>1</th>\n",
       "      <td>36203</td>\n",
       "      <td>20</td>\n",
       "      <td>64.2</td>\n",
       "      <td>2.0</td>\n",
       "      <td>16500</td>\n",
       "      <td>0</td>\n",
       "      <td>0</td>\n",
       "      <td>0</td>\n",
       "      <td>0</td>\n",
       "      <td>0</td>\n",
       "      <td>...</td>\n",
       "      <td>0</td>\n",
       "      <td>0</td>\n",
       "      <td>0</td>\n",
       "      <td>0</td>\n",
       "      <td>1</td>\n",
       "      <td>0</td>\n",
       "      <td>0</td>\n",
       "      <td>1</td>\n",
       "      <td>0</td>\n",
       "      <td>0</td>\n",
       "    </tr>\n",
       "    <tr>\n",
       "      <th>2</th>\n",
       "      <td>29946</td>\n",
       "      <td>30</td>\n",
       "      <td>55.4</td>\n",
       "      <td>1.4</td>\n",
       "      <td>11000</td>\n",
       "      <td>1</td>\n",
       "      <td>0</td>\n",
       "      <td>0</td>\n",
       "      <td>0</td>\n",
       "      <td>0</td>\n",
       "      <td>...</td>\n",
       "      <td>0</td>\n",
       "      <td>0</td>\n",
       "      <td>0</td>\n",
       "      <td>0</td>\n",
       "      <td>0</td>\n",
       "      <td>1</td>\n",
       "      <td>0</td>\n",
       "      <td>0</td>\n",
       "      <td>0</td>\n",
       "      <td>1</td>\n",
       "    </tr>\n",
       "    <tr>\n",
       "      <th>3</th>\n",
       "      <td>25952</td>\n",
       "      <td>145</td>\n",
       "      <td>67.3</td>\n",
       "      <td>2.0</td>\n",
       "      <td>16800</td>\n",
       "      <td>0</td>\n",
       "      <td>0</td>\n",
       "      <td>0</td>\n",
       "      <td>1</td>\n",
       "      <td>0</td>\n",
       "      <td>...</td>\n",
       "      <td>1</td>\n",
       "      <td>0</td>\n",
       "      <td>0</td>\n",
       "      <td>0</td>\n",
       "      <td>1</td>\n",
       "      <td>0</td>\n",
       "      <td>0</td>\n",
       "      <td>1</td>\n",
       "      <td>0</td>\n",
       "      <td>0</td>\n",
       "    </tr>\n",
       "    <tr>\n",
       "      <th>4</th>\n",
       "      <td>1998</td>\n",
       "      <td>145</td>\n",
       "      <td>49.6</td>\n",
       "      <td>1.0</td>\n",
       "      <td>17300</td>\n",
       "      <td>0</td>\n",
       "      <td>0</td>\n",
       "      <td>1</td>\n",
       "      <td>0</td>\n",
       "      <td>0</td>\n",
       "      <td>...</td>\n",
       "      <td>0</td>\n",
       "      <td>0</td>\n",
       "      <td>1</td>\n",
       "      <td>0</td>\n",
       "      <td>0</td>\n",
       "      <td>1</td>\n",
       "      <td>0</td>\n",
       "      <td>0</td>\n",
       "      <td>0</td>\n",
       "      <td>1</td>\n",
       "    </tr>\n",
       "  </tbody>\n",
       "</table>\n",
       "<p>5 rows × 58 columns</p>\n",
       "</div>"
      ],
      "text/plain": [
       "   mileage  tax   mpg  engineSize  price  model_A1  model_A2  model_A3  \\\n",
       "0    15735  150  55.4         1.4  12500         1         0         0   \n",
       "1    36203   20  64.2         2.0  16500         0         0         0   \n",
       "2    29946   30  55.4         1.4  11000         1         0         0   \n",
       "3    25952  145  67.3         2.0  16800         0         0         0   \n",
       "4     1998  145  49.6         1.0  17300         0         0         1   \n",
       "\n",
       "   model_A4  model_A5  ...  year_2017  year_2018  year_2019  year_2020  \\\n",
       "0         0         0  ...          1          0          0          0   \n",
       "1         0         0  ...          0          0          0          0   \n",
       "2         0         0  ...          0          0          0          0   \n",
       "3         1         0  ...          1          0          0          0   \n",
       "4         0         0  ...          0          0          1          0   \n",
       "\n",
       "   transmission_Automatic  transmission_Manual  transmission_Semi-Auto  \\\n",
       "0                       0                    1                       0   \n",
       "1                       1                    0                       0   \n",
       "2                       0                    1                       0   \n",
       "3                       1                    0                       0   \n",
       "4                       0                    1                       0   \n",
       "\n",
       "   fuelType_Diesel  fuelType_Hybrid  fuelType_Petrol  \n",
       "0                0                0                1  \n",
       "1                1                0                0  \n",
       "2                0                0                1  \n",
       "3                1                0                0  \n",
       "4                0                0                1  \n",
       "\n",
       "[5 rows x 58 columns]"
      ]
     },
     "execution_count": 28,
     "metadata": {},
     "output_type": "execute_result"
    }
   ],
   "source": [
    "df_encode = df[categorical_columns]\n",
    "df_encode = pd.DataFrame(data=enc.transform(df_encode).toarray(),columns=enc.get_feature_names(categorical_columns), dtype=bool)\n",
    "# trasfer true and false to 1 and 0\n",
    "df_encode = df_encode * 1\n",
    "\n",
    "# concatenate data\n",
    "df_OHE = pd.concat((df.drop(categorical_columns, axis=1), df_encode), axis=1)\n",
    "df_OHE.head()"
   ]
  },
  {
   "cell_type": "code",
   "execution_count": 29,
   "id": "headed-grass",
   "metadata": {},
   "outputs": [
    {
     "data": {
      "text/html": [
       "<div>\n",
       "<style scoped>\n",
       "    .dataframe tbody tr th:only-of-type {\n",
       "        vertical-align: middle;\n",
       "    }\n",
       "\n",
       "    .dataframe tbody tr th {\n",
       "        vertical-align: top;\n",
       "    }\n",
       "\n",
       "    .dataframe thead th {\n",
       "        text-align: right;\n",
       "    }\n",
       "</style>\n",
       "<table border=\"1\" class=\"dataframe\">\n",
       "  <thead>\n",
       "    <tr style=\"text-align: right;\">\n",
       "      <th></th>\n",
       "      <th>mileage</th>\n",
       "      <th>tax</th>\n",
       "      <th>mpg</th>\n",
       "      <th>engineSize</th>\n",
       "      <th>price</th>\n",
       "      <th>model_A1</th>\n",
       "      <th>model_A2</th>\n",
       "      <th>model_A3</th>\n",
       "      <th>model_A4</th>\n",
       "      <th>model_A5</th>\n",
       "      <th>...</th>\n",
       "      <th>year_2017</th>\n",
       "      <th>year_2018</th>\n",
       "      <th>year_2019</th>\n",
       "      <th>year_2020</th>\n",
       "      <th>transmission_Automatic</th>\n",
       "      <th>transmission_Manual</th>\n",
       "      <th>transmission_Semi-Auto</th>\n",
       "      <th>fuelType_Diesel</th>\n",
       "      <th>fuelType_Hybrid</th>\n",
       "      <th>fuelType_Petrol</th>\n",
       "    </tr>\n",
       "  </thead>\n",
       "  <tbody>\n",
       "    <tr>\n",
       "      <th>0</th>\n",
       "      <td>15735</td>\n",
       "      <td>150</td>\n",
       "      <td>55.4</td>\n",
       "      <td>1.4</td>\n",
       "      <td>12500</td>\n",
       "      <td>1</td>\n",
       "      <td>0</td>\n",
       "      <td>0</td>\n",
       "      <td>0</td>\n",
       "      <td>0</td>\n",
       "      <td>...</td>\n",
       "      <td>1</td>\n",
       "      <td>0</td>\n",
       "      <td>0</td>\n",
       "      <td>0</td>\n",
       "      <td>0</td>\n",
       "      <td>1</td>\n",
       "      <td>0</td>\n",
       "      <td>0</td>\n",
       "      <td>0</td>\n",
       "      <td>1</td>\n",
       "    </tr>\n",
       "    <tr>\n",
       "      <th>1</th>\n",
       "      <td>36203</td>\n",
       "      <td>20</td>\n",
       "      <td>64.2</td>\n",
       "      <td>2.0</td>\n",
       "      <td>16500</td>\n",
       "      <td>0</td>\n",
       "      <td>0</td>\n",
       "      <td>0</td>\n",
       "      <td>0</td>\n",
       "      <td>0</td>\n",
       "      <td>...</td>\n",
       "      <td>0</td>\n",
       "      <td>0</td>\n",
       "      <td>0</td>\n",
       "      <td>0</td>\n",
       "      <td>1</td>\n",
       "      <td>0</td>\n",
       "      <td>0</td>\n",
       "      <td>1</td>\n",
       "      <td>0</td>\n",
       "      <td>0</td>\n",
       "    </tr>\n",
       "    <tr>\n",
       "      <th>2</th>\n",
       "      <td>29946</td>\n",
       "      <td>30</td>\n",
       "      <td>55.4</td>\n",
       "      <td>1.4</td>\n",
       "      <td>11000</td>\n",
       "      <td>1</td>\n",
       "      <td>0</td>\n",
       "      <td>0</td>\n",
       "      <td>0</td>\n",
       "      <td>0</td>\n",
       "      <td>...</td>\n",
       "      <td>0</td>\n",
       "      <td>0</td>\n",
       "      <td>0</td>\n",
       "      <td>0</td>\n",
       "      <td>0</td>\n",
       "      <td>1</td>\n",
       "      <td>0</td>\n",
       "      <td>0</td>\n",
       "      <td>0</td>\n",
       "      <td>1</td>\n",
       "    </tr>\n",
       "    <tr>\n",
       "      <th>3</th>\n",
       "      <td>25952</td>\n",
       "      <td>145</td>\n",
       "      <td>67.3</td>\n",
       "      <td>2.0</td>\n",
       "      <td>16800</td>\n",
       "      <td>0</td>\n",
       "      <td>0</td>\n",
       "      <td>0</td>\n",
       "      <td>1</td>\n",
       "      <td>0</td>\n",
       "      <td>...</td>\n",
       "      <td>1</td>\n",
       "      <td>0</td>\n",
       "      <td>0</td>\n",
       "      <td>0</td>\n",
       "      <td>1</td>\n",
       "      <td>0</td>\n",
       "      <td>0</td>\n",
       "      <td>1</td>\n",
       "      <td>0</td>\n",
       "      <td>0</td>\n",
       "    </tr>\n",
       "    <tr>\n",
       "      <th>4</th>\n",
       "      <td>1998</td>\n",
       "      <td>145</td>\n",
       "      <td>49.6</td>\n",
       "      <td>1.0</td>\n",
       "      <td>17300</td>\n",
       "      <td>0</td>\n",
       "      <td>0</td>\n",
       "      <td>1</td>\n",
       "      <td>0</td>\n",
       "      <td>0</td>\n",
       "      <td>...</td>\n",
       "      <td>0</td>\n",
       "      <td>0</td>\n",
       "      <td>1</td>\n",
       "      <td>0</td>\n",
       "      <td>0</td>\n",
       "      <td>1</td>\n",
       "      <td>0</td>\n",
       "      <td>0</td>\n",
       "      <td>0</td>\n",
       "      <td>1</td>\n",
       "    </tr>\n",
       "  </tbody>\n",
       "</table>\n",
       "<p>5 rows × 58 columns</p>\n",
       "</div>"
      ],
      "text/plain": [
       "   mileage  tax   mpg  engineSize  price  model_A1  model_A2  model_A3  \\\n",
       "0    15735  150  55.4         1.4  12500         1         0         0   \n",
       "1    36203   20  64.2         2.0  16500         0         0         0   \n",
       "2    29946   30  55.4         1.4  11000         1         0         0   \n",
       "3    25952  145  67.3         2.0  16800         0         0         0   \n",
       "4     1998  145  49.6         1.0  17300         0         0         1   \n",
       "\n",
       "   model_A4  model_A5  ...  year_2017  year_2018  year_2019  year_2020  \\\n",
       "0         0         0  ...          1          0          0          0   \n",
       "1         0         0  ...          0          0          0          0   \n",
       "2         0         0  ...          0          0          0          0   \n",
       "3         1         0  ...          1          0          0          0   \n",
       "4         0         0  ...          0          0          1          0   \n",
       "\n",
       "   transmission_Automatic  transmission_Manual  transmission_Semi-Auto  \\\n",
       "0                       0                    1                       0   \n",
       "1                       1                    0                       0   \n",
       "2                       0                    1                       0   \n",
       "3                       1                    0                       0   \n",
       "4                       0                    1                       0   \n",
       "\n",
       "   fuelType_Diesel  fuelType_Hybrid  fuelType_Petrol  \n",
       "0                0                0                1  \n",
       "1                1                0                0  \n",
       "2                0                0                1  \n",
       "3                1                0                0  \n",
       "4                0                0                1  \n",
       "\n",
       "[5 rows x 58 columns]"
      ]
     },
     "execution_count": 29,
     "metadata": {},
     "output_type": "execute_result"
    }
   ],
   "source": [
    "encoded_df=df_OHE\n",
    "encoded_df.head()"
   ]
  },
  {
   "cell_type": "markdown",
   "id": "parallel-october",
   "metadata": {},
   "source": [
    "I have 58 columns: 5 (numeric_cols) + 53 (unique cateogric_cols) = 58"
   ]
  },
  {
   "cell_type": "markdown",
   "id": "gentle-table",
   "metadata": {},
   "source": [
    "Now the data is ready for the learning"
   ]
  },
  {
   "cell_type": "markdown",
   "id": "defensive-dubai",
   "metadata": {},
   "source": [
    "### Prepare the data for learning"
   ]
  },
  {
   "cell_type": "code",
   "execution_count": 30,
   "id": "brazilian-ecuador",
   "metadata": {},
   "outputs": [],
   "source": [
    "X=encoded_df.drop('price', axis = 1).values"
   ]
  },
  {
   "cell_type": "code",
   "execution_count": 31,
   "id": "coordinated-second",
   "metadata": {},
   "outputs": [],
   "source": [
    "y=encoded_df['price'].values"
   ]
  },
  {
   "cell_type": "code",
   "execution_count": 32,
   "id": "recovered-father",
   "metadata": {},
   "outputs": [],
   "source": [
    "X_train, X_test, y_train, y_test = train_test_split(X, y, test_size = 0.3, random_state = 69)"
   ]
  },
  {
   "cell_type": "code",
   "execution_count": 33,
   "id": "functional-alias",
   "metadata": {},
   "outputs": [],
   "source": [
    "scaler = StandardScaler()"
   ]
  },
  {
   "cell_type": "code",
   "execution_count": 34,
   "id": "minimal-stanford",
   "metadata": {},
   "outputs": [
    {
     "data": {
      "text/plain": [
       "StandardScaler()"
      ]
     },
     "execution_count": 34,
     "metadata": {},
     "output_type": "execute_result"
    }
   ],
   "source": [
    "scaler.fit(X_train)"
   ]
  },
  {
   "cell_type": "code",
   "execution_count": 35,
   "id": "commercial-blame",
   "metadata": {},
   "outputs": [],
   "source": [
    "X_train = scaler.transform(X_train)          # Apply Standardization on X_train\n",
    "X_test = scaler.transform(X_test)            # Apply Standardization on X_test"
   ]
  },
  {
   "cell_type": "code",
   "execution_count": 36,
   "id": "ea453a9b",
   "metadata": {},
   "outputs": [],
   "source": [
    "import pickle"
   ]
  },
  {
   "cell_type": "code",
   "execution_count": 96,
   "id": "14866ad6",
   "metadata": {},
   "outputs": [],
   "source": [
    "#For model deployment, we need to pickle the scaler to scale the new input data from the user\n",
    "pickle.dump(scaler, open('scaler.pkl','wb'))"
   ]
  },
  {
   "cell_type": "markdown",
   "id": "8f6f39f3",
   "metadata": {},
   "source": [
    "## Linear Regression"
   ]
  },
  {
   "cell_type": "code",
   "execution_count": 50,
   "id": "952f827a",
   "metadata": {},
   "outputs": [],
   "source": [
    "from sklearn.linear_model import LinearRegression\n",
    "from sklearn.linear_model import Ridge, Lasso"
   ]
  },
  {
   "cell_type": "code",
   "execution_count": 45,
   "id": "aaf875e5",
   "metadata": {},
   "outputs": [],
   "source": [
    "lm = LinearRegression()"
   ]
  },
  {
   "cell_type": "code",
   "execution_count": 46,
   "id": "f7a985e0",
   "metadata": {},
   "outputs": [
    {
     "data": {
      "text/plain": [
       "LinearRegression()"
      ]
     },
     "execution_count": 46,
     "metadata": {},
     "output_type": "execute_result"
    }
   ],
   "source": [
    "lm.fit(X_train,y_train)"
   ]
  },
  {
   "cell_type": "code",
   "execution_count": 47,
   "id": "ee0b9de4",
   "metadata": {},
   "outputs": [],
   "source": [
    "y_pred_lm = lm.predict(X_test)"
   ]
  },
  {
   "cell_type": "code",
   "execution_count": 56,
   "id": "7c81b979",
   "metadata": {},
   "outputs": [
    {
     "name": "stdout",
     "output_type": "stream",
     "text": [
      "RMSE using LM:  348064037931172.7\n"
     ]
    }
   ],
   "source": [
    "mse_lm = mean_squared_error(y_test, y_pred_lm)\n",
    "print(\"RMSE using LM: \", np.sqrt(mse_lm))"
   ]
  },
  {
   "cell_type": "code",
   "execution_count": 58,
   "id": "affec6b7",
   "metadata": {},
   "outputs": [
    {
     "name": "stdout",
     "output_type": "stream",
     "text": [
      "RMSE using LASSO:  3778.695194685975\n"
     ]
    }
   ],
   "source": [
    "lm_lasso=Lasso(alpha = 2, max_iter = 10000, tol = 1e-5)\n",
    "lm_lasso.fit(X_train,y_train)\n",
    "y_pred_lm_lasso = lm_lasso.predict(X_test)\n",
    "mse_lm_lasso = mean_squared_error(y_test, y_pred_lm_lasso)\n",
    "print(\"RMSE using LASSO: \", np.sqrt(mse_lm_lasso))"
   ]
  },
  {
   "cell_type": "code",
   "execution_count": 148,
   "id": "meaning-lebanon",
   "metadata": {},
   "outputs": [],
   "source": [
    "from sklearn.svm import SVR"
   ]
  },
  {
   "cell_type": "code",
   "execution_count": 149,
   "id": "hollywood-accuracy",
   "metadata": {},
   "outputs": [],
   "source": [
    "param_SVM = {'C':[400,600,1000,2000,3000,5000,6000],\n",
    "            'gamma':[0.001,0.03,0.05,0.09,0.1,0.2,0.5,0.6]}"
   ]
  },
  {
   "cell_type": "code",
   "execution_count": 150,
   "id": "judicial-thriller",
   "metadata": {},
   "outputs": [],
   "source": [
    "svr_model=SVR()"
   ]
  },
  {
   "cell_type": "code",
   "execution_count": 151,
   "id": "outer-tuition",
   "metadata": {},
   "outputs": [],
   "source": [
    "cv_SVM = RandomizedSearchCV(estimator=svr_model, param_distributions = param_SVM, n_iter=10, cv = 3)"
   ]
  },
  {
   "cell_type": "code",
   "execution_count": 152,
   "id": "japanese-treasurer",
   "metadata": {},
   "outputs": [
    {
     "data": {
      "text/plain": [
       "RandomizedSearchCV(cv=3, estimator=SVR(),\n",
       "                   param_distributions={'C': [400, 600, 1000, 2000, 3000, 5000,\n",
       "                                              6000],\n",
       "                                        'gamma': [0.001, 0.03, 0.05, 0.09, 0.1,\n",
       "                                                  0.2, 0.5, 0.6]})"
      ]
     },
     "execution_count": 152,
     "metadata": {},
     "output_type": "execute_result"
    }
   ],
   "source": [
    "cv_SVM.fit(X_train,y_train)"
   ]
  },
  {
   "cell_type": "code",
   "execution_count": 153,
   "id": "adopted-charlotte",
   "metadata": {},
   "outputs": [],
   "source": [
    "y_pred_SVM = cv_SVM.predict(X_test)"
   ]
  },
  {
   "cell_type": "code",
   "execution_count": 154,
   "id": "common-terminal",
   "metadata": {},
   "outputs": [
    {
     "name": "stdout",
     "output_type": "stream",
     "text": [
      "Tuned SVM parameters: {'gamma': 0.03, 'C': 5000}\n"
     ]
    }
   ],
   "source": [
    "# Compute and print the metrics\n",
    "print(\"Tuned SVM parameters: {}\".format(cv_SVM.best_params_))"
   ]
  },
  {
   "cell_type": "code",
   "execution_count": 155,
   "id": "eleven-adapter",
   "metadata": {},
   "outputs": [
    {
     "name": "stdout",
     "output_type": "stream",
     "text": [
      "RMSE using SVM:  3695.7671462931576\n"
     ]
    }
   ],
   "source": [
    "mse_SVM = mean_squared_error(y_test, y_pred_SVM)\n",
    "print(\"RMSE using SVM: \", np.sqrt(mse_SVM))"
   ]
  },
  {
   "cell_type": "markdown",
   "id": "affecting-plaza",
   "metadata": {},
   "source": [
    "## XGBoost"
   ]
  },
  {
   "cell_type": "code",
   "execution_count": 97,
   "id": "alternate-potter",
   "metadata": {},
   "outputs": [],
   "source": [
    "import xgboost as xgb"
   ]
  },
  {
   "cell_type": "code",
   "execution_count": 98,
   "id": "romance-remedy",
   "metadata": {},
   "outputs": [],
   "source": [
    "# Create the parameter grid\n",
    "param_grid = {\n",
    "    'learning_rate': np.arange(0.01, 0.5, 0.01),\n",
    "    'max_depth': np.arange(3, 30, 2),\n",
    "    'n_estimators': np.arange(50, 200, 15)\n",
    "}"
   ]
  },
  {
   "cell_type": "code",
   "execution_count": 107,
   "id": "logical-journalist",
   "metadata": {},
   "outputs": [],
   "source": [
    "xgb_model=xgb.XGBRegressor()"
   ]
  },
  {
   "cell_type": "code",
   "execution_count": 108,
   "id": "comfortable-mauritius",
   "metadata": {},
   "outputs": [],
   "source": [
    "rand_neg_mse = RandomizedSearchCV(estimator=xgb_model, param_distributions=param_grid, n_iter=10, scoring='neg_mean_squared_error', cv=3)"
   ]
  },
  {
   "cell_type": "code",
   "execution_count": 109,
   "id": "funded-hearing",
   "metadata": {
    "scrolled": true
   },
   "outputs": [
    {
     "data": {
      "text/plain": [
       "XGBRegressor(base_score=0.5, booster='gbtree', colsample_bylevel=1,\n",
       "             colsample_bynode=1, colsample_bytree=1, gamma=0, gpu_id=-1,\n",
       "             importance_type='gain', interaction_constraints='',\n",
       "             learning_rate=0.300000012, max_delta_step=0, max_depth=6,\n",
       "             min_child_weight=1, missing=nan, monotone_constraints='()',\n",
       "             n_estimators=100, n_jobs=4, num_parallel_tree=1, random_state=0,\n",
       "             reg_alpha=0, reg_lambda=1, scale_pos_weight=1, subsample=1,\n",
       "             tree_method='exact', validate_parameters=1, verbosity=None)"
      ]
     },
     "execution_count": 109,
     "metadata": {},
     "output_type": "execute_result"
    }
   ],
   "source": [
    "xgb_model.fit(X_train, y_train)"
   ]
  },
  {
   "cell_type": "code",
   "execution_count": 110,
   "id": "6be8b707",
   "metadata": {},
   "outputs": [],
   "source": [
    "y_pred_xgb = xgb_model.predict(X_test)"
   ]
  },
  {
   "cell_type": "code",
   "execution_count": 111,
   "id": "c3183eb6",
   "metadata": {},
   "outputs": [],
   "source": [
    "from sklearn.metrics import mean_squared_error as MSE"
   ]
  },
  {
   "cell_type": "code",
   "execution_count": 112,
   "id": "formal-cradle",
   "metadata": {},
   "outputs": [
    {
     "name": "stdout",
     "output_type": "stream",
     "text": [
      "Best rmse: 2522.391862396832\n"
     ]
    }
   ],
   "source": [
    "print(\"Best rmse:\", np.sqrt(MSE(y_pred_xgb,y_test)))"
   ]
  },
  {
   "cell_type": "markdown",
   "id": "random-passport",
   "metadata": {},
   "source": [
    "## XGBoost with Hyperopt by Baesian method"
   ]
  },
  {
   "cell_type": "code",
   "execution_count": 204,
   "id": "painted-september",
   "metadata": {},
   "outputs": [],
   "source": [
    "import hyperopt\n",
    "from hyperopt import fmin, tpe, hp, STATUS_OK, Trials"
   ]
  },
  {
   "cell_type": "code",
   "execution_count": 205,
   "id": "organized-melbourne",
   "metadata": {},
   "outputs": [],
   "source": [
    "space={'n_estimators':hp.choice('n_estimators', range(10,200,5)),\n",
    "       'max_depth': hp.choice(\"max_depth\", np.arange(3, 20, 1)),\n",
    "        'gamma': hp.quniform('gamma', 0, 0.50, 0.01),\n",
    "        'min_child_weight' : hp.quniform('min_child_weight', 1, 10, 1),\n",
    "       'subsample' : hp.quniform('subsample', 0.1, 1, 0.01),\n",
    "        'learning_rate': hp.quniform(\"learning_rate\", 0.01, 0.5, 0.01),\n",
    "       'colsample_bytree' : hp.quniform('colsample_bytree', 0.1, 1.0, 0.01)\n",
    "      }"
   ]
  },
  {
   "cell_type": "code",
   "execution_count": 206,
   "id": "prerequisite-folder",
   "metadata": {},
   "outputs": [],
   "source": [
    "def hyperparameter_tuning(space):\n",
    "    print(space)\n",
    "    model = xgb.XGBRegressor(n_estimators=space['n_estimators'],\n",
    "                             max_depth =space['max_depth'],\n",
    "                           min_child_weight=space['min_child_weight'],\n",
    "                           gamma = space['gamma'],\n",
    "                            learning_rate=space['learning_rate'],\n",
    "                            colsample_bytree=space['colsample_bytree'],\n",
    "                            subsample=space['subsample'])\n",
    "\n",
    "    eval_set  = [( X_train, y_train), ( X_test, y_test)]\n",
    "\n",
    "    model.fit(X_train, y_train,\n",
    "            eval_set=eval_set, eval_metric=\"rmse\",\n",
    "            early_stopping_rounds=10,verbose=False)\n",
    "\n",
    "    pred = model.predict(X_test)\n",
    "    mse_scr = mean_squared_error(y_test, pred)\n",
    "    print(\"SCORE:\", np.sqrt(mse_scr))\n",
    "    #change the metric if you like\n",
    "    return {'loss':mse_scr, 'status': STATUS_OK }"
   ]
  },
  {
   "cell_type": "code",
   "execution_count": 207,
   "id": "foster-level",
   "metadata": {},
   "outputs": [
    {
     "name": "stdout",
     "output_type": "stream",
     "text": [
      "{'colsample_bytree': 0.52, 'gamma': 0.48, 'learning_rate': 0.07, 'max_depth': 3, 'min_child_weight': 2.0, 'n_estimators': 155, 'subsample': 0.36}\n",
      "SCORE:                                                                                                                 \n",
      "3107.1931236611363                                                                                                     \n",
      "{'colsample_bytree': 0.97, 'gamma': 0.2, 'learning_rate': 0.32, 'max_depth': 19, 'min_child_weight': 6.0, 'n_estimators': 155, 'subsample': 0.8}\n",
      "SCORE:                                                                                                                 \n",
      "2463.7693513290837                                                                                                     \n",
      "{'colsample_bytree': 0.78, 'gamma': 0.43, 'learning_rate': 0.43, 'max_depth': 5, 'min_child_weight': 1.0, 'n_estimators': 145, 'subsample': 0.47000000000000003}\n",
      "SCORE:                                                                                                                 \n",
      "2662.3661647858135                                                                                                     \n",
      "{'colsample_bytree': 0.52, 'gamma': 0.13, 'learning_rate': 0.09, 'max_depth': 19, 'min_child_weight': 9.0, 'n_estimators': 135, 'subsample': 0.74}\n",
      "SCORE:                                                                                                                 \n",
      "2391.0277524636745                                                                                                     \n",
      "{'colsample_bytree': 0.45, 'gamma': 0.06, 'learning_rate': 0.43, 'max_depth': 19, 'min_child_weight': 10.0, 'n_estimators': 10, 'subsample': 0.77}\n",
      "SCORE:                                                                                                                 \n",
      "2859.4413523077715                                                                                                     \n",
      "{'colsample_bytree': 0.35000000000000003, 'gamma': 0.32, 'learning_rate': 0.25, 'max_depth': 16, 'min_child_weight': 7.0, 'n_estimators': 20, 'subsample': 0.6}\n",
      "SCORE:                                                                                                                 \n",
      "2863.162601853966                                                                                                      \n",
      "{'colsample_bytree': 0.42, 'gamma': 0.41000000000000003, 'learning_rate': 0.09, 'max_depth': 8, 'min_child_weight': 5.0, 'n_estimators': 60, 'subsample': 0.52}\n",
      "SCORE:                                                                                                                 \n",
      "2660.6834434880807                                                                                                     \n",
      "{'colsample_bytree': 0.37, 'gamma': 0.16, 'learning_rate': 0.15, 'max_depth': 10, 'min_child_weight': 9.0, 'n_estimators': 50, 'subsample': 0.71}\n",
      "SCORE:                                                                                                                 \n",
      "2596.6244728807033                                                                                                     \n",
      "{'colsample_bytree': 0.37, 'gamma': 0.2, 'learning_rate': 0.3, 'max_depth': 12, 'min_child_weight': 6.0, 'n_estimators': 190, 'subsample': 0.92}\n",
      "SCORE:                                                                                                                 \n",
      "2519.8718463326927                                                                                                     \n",
      "{'colsample_bytree': 0.1, 'gamma': 0.32, 'learning_rate': 0.3, 'max_depth': 4, 'min_child_weight': 2.0, 'n_estimators': 160, 'subsample': 0.2}\n",
      "SCORE:                                                                                                                 \n",
      "3011.3633313243668                                                                                                     \n",
      "{'colsample_bytree': 0.29, 'gamma': 0.31, 'learning_rate': 0.12, 'max_depth': 11, 'min_child_weight': 2.0, 'n_estimators': 125, 'subsample': 0.8}\n",
      "SCORE:                                                                                                                 \n",
      "2389.1519320295542                                                                                                     \n",
      "{'colsample_bytree': 0.8300000000000001, 'gamma': 0.01, 'learning_rate': 0.29, 'max_depth': 17, 'min_child_weight': 5.0, 'n_estimators': 120, 'subsample': 0.12}\n",
      "SCORE:                                                                                                                 \n",
      "3347.617505580848                                                                                                      \n",
      "{'colsample_bytree': 0.36, 'gamma': 0.29, 'learning_rate': 0.15, 'max_depth': 8, 'min_child_weight': 8.0, 'n_estimators': 100, 'subsample': 0.34}\n",
      "SCORE:                                                                                                                 \n",
      "2781.352756068103                                                                                                      \n",
      "{'colsample_bytree': 0.56, 'gamma': 0.34, 'learning_rate': 0.35000000000000003, 'max_depth': 9, 'min_child_weight': 2.0, 'n_estimators': 155, 'subsample': 0.22}\n",
      "SCORE:                                                                                                                 \n",
      "2631.571630032736                                                                                                      \n",
      "{'colsample_bytree': 0.77, 'gamma': 0.4, 'learning_rate': 0.22, 'max_depth': 12, 'min_child_weight': 1.0, 'n_estimators': 125, 'subsample': 0.66}\n",
      "SCORE:                                                                                                                 \n",
      "2400.049480904542                                                                                                      \n",
      "{'colsample_bytree': 0.32, 'gamma': 0.06, 'learning_rate': 0.08, 'max_depth': 8, 'min_child_weight': 10.0, 'n_estimators': 115, 'subsample': 0.51}\n",
      "SCORE:                                                                                                                 \n",
      "2761.495905207755                                                                                                      \n",
      "{'colsample_bytree': 0.22, 'gamma': 0.3, 'learning_rate': 0.26, 'max_depth': 18, 'min_child_weight': 7.0, 'n_estimators': 80, 'subsample': 0.49}\n",
      "SCORE:                                                                                                                 \n",
      "2700.3981047954558                                                                                                     \n",
      "{'colsample_bytree': 0.91, 'gamma': 0.38, 'learning_rate': 0.04, 'max_depth': 3, 'min_child_weight': 2.0, 'n_estimators': 40, 'subsample': 0.89}\n",
      "SCORE:                                                                                                                 \n",
      "6851.420850218031                                                                                                      \n",
      "{'colsample_bytree': 0.45, 'gamma': 0.41000000000000003, 'learning_rate': 0.22, 'max_depth': 9, 'min_child_weight': 3.0, 'n_estimators': 95, 'subsample': 0.54}\n",
      "SCORE:                                                                                                                 \n",
      "2437.767167144794                                                                                                      \n",
      "{'colsample_bytree': 0.74, 'gamma': 0.09, 'learning_rate': 0.49, 'max_depth': 15, 'min_child_weight': 9.0, 'n_estimators': 15, 'subsample': 0.33}\n",
      "SCORE:                                                                                                                 \n",
      "3072.8234684726826                                                                                                     \n",
      "{'colsample_bytree': 0.65, 'gamma': 0.13, 'learning_rate': 0.01, 'max_depth': 11, 'min_child_weight': 4.0, 'n_estimators': 135, 'subsample': 0.97}\n",
      "SCORE:                                                                                                                 \n",
      "7422.172988266755                                                                                                      \n",
      "{'colsample_bytree': 0.18, 'gamma': 0.23, 'learning_rate': 0.14, 'max_depth': 11, 'min_child_weight': 4.0, 'n_estimators': 180, 'subsample': 0.8300000000000001}\n",
      "SCORE:                                                                                                                 \n",
      "2419.8015178079813                                                                                                     \n",
      "{'colsample_bytree': 0.24, 'gamma': 0.26, 'learning_rate': 0.18, 'max_depth': 13, 'min_child_weight': 8.0, 'n_estimators': 135, 'subsample': 0.99}\n",
      "SCORE:                                                                                                                 \n",
      "2479.9746746248375                                                                                                     \n",
      "{'colsample_bytree': 0.61, 'gamma': 0.14, 'learning_rate': 0.12, 'max_depth': 6, 'min_child_weight': 4.0, 'n_estimators': 55, 'subsample': 0.7000000000000001}\n",
      "SCORE:                                                                                                                 \n",
      "2611.996447085061                                                                                                      \n",
      "{'colsample_bytree': 0.26, 'gamma': 0.25, 'learning_rate': 0.02, 'max_depth': 14, 'min_child_weight': 9.0, 'n_estimators': 30, 'subsample': 0.62}\n",
      "SCORE:                                                                                                                 \n",
      "15116.36665565545                                                                                                      \n",
      "{'colsample_bytree': 0.13, 'gamma': 0.01, 'learning_rate': 0.05, 'max_depth': 11, 'min_child_weight': 3.0, 'n_estimators': 25, 'subsample': 0.89}\n",
      "SCORE:                                                                                                                 \n",
      "9848.125291207152                                                                                                      \n",
      "{'colsample_bytree': 0.66, 'gamma': 0.48, 'learning_rate': 0.19, 'max_depth': 7, 'min_child_weight': 7.0, 'n_estimators': 75, 'subsample': 0.75}\n",
      "SCORE:                                                                                                                 \n",
      "2448.575327111007                                                                                                      \n",
      "{'colsample_bytree': 0.51, 'gamma': 0.36, 'learning_rate': 0.11, 'max_depth': 19, 'min_child_weight': 8.0, 'n_estimators': 125, 'subsample': 0.84}\n",
      "SCORE:                                                                                                                 \n",
      "2360.917876336821                                                                                                      \n",
      "{'colsample_bytree': 0.29, 'gamma': 0.45, 'learning_rate': 0.11, 'max_depth': 7, 'min_child_weight': 8.0, 'n_estimators': 125, 'subsample': 0.42}\n",
      "SCORE:                                                                                                                 \n",
      "2754.884820316711                                                                                                      \n",
      "{'colsample_bytree': 0.48, 'gamma': 0.37, 'learning_rate': 0.18, 'max_depth': 10, 'min_child_weight': 3.0, 'n_estimators': 65, 'subsample': 0.8300000000000001}\n",
      "SCORE:                                                                                                                 \n",
      "2419.6948797612044                                                                                                     \n",
      "{'colsample_bytree': 0.5700000000000001, 'gamma': 0.47000000000000003, 'learning_rate': 0.05, 'max_depth': 19, 'min_child_weight': 6.0, 'n_estimators': 85, 'subsample': 0.9500000000000001}\n",
      "SCORE:                                                                                                                 \n",
      "2453.3757236521474                                                                                                     \n",
      "{'colsample_bytree': 0.16, 'gamma': 0.36, 'learning_rate': 0.39, 'max_depth': 5, 'min_child_weight': 1.0, 'n_estimators': 70, 'subsample': 0.85}\n",
      "SCORE:                                                                                                                 \n",
      "2707.537279856175                                                                                                      \n",
      "{'colsample_bytree': 0.51, 'gamma': 0.21, 'learning_rate': 0.11, 'max_depth': 16, 'min_child_weight': 5.0, 'n_estimators': 185, 'subsample': 0.62}\n",
      "SCORE:                                                                                                                 \n",
      "2319.12976768159                                                                                                       \n",
      "{'colsample_bytree': 0.6900000000000001, 'gamma': 0.19, 'learning_rate': 0.07, 'max_depth': 16, 'min_child_weight': 5.0, 'n_estimators': 175, 'subsample': 0.42}\n",
      "SCORE:                                                                                                                 \n",
      "2344.428389453644                                                                                                      \n",
      "{'colsample_bytree': 0.9, 'gamma': 0.2, 'learning_rate': 0.02, 'max_depth': 16, 'min_child_weight': 5.0, 'n_estimators': 185, 'subsample': 0.4}\n",
      "SCORE:                                                                                                                 \n",
      "2690.747958857437                                                                                                      \n",
      "{'colsample_bytree': 0.72, 'gamma': 0.18, 'learning_rate': 0.07, 'max_depth': 16, 'min_child_weight': 6.0, 'n_estimators': 175, 'subsample': 0.59}\n",
      "SCORE:                                                                                                                 \n",
      "2313.361758411701                                                                                                      \n",
      "{'colsample_bytree': 0.87, 'gamma': 0.07, 'learning_rate': 0.21, 'max_depth': 16, 'min_child_weight': 6.0, 'n_estimators': 110, 'subsample': 0.58}\n",
      "SCORE:                                                                                                                 \n",
      "2373.3614425342316                                                                                                     \n",
      "{'colsample_bytree': 0.98, 'gamma': 0.11, 'learning_rate': 0.26, 'max_depth': 16, 'min_child_weight': 7.0, 'n_estimators': 185, 'subsample': 0.63}\n",
      "SCORE:                                                                                                                 \n",
      "2518.277025485108                                                                                                      \n",
      "{'colsample_bytree': 0.7000000000000001, 'gamma': 0.23, 'learning_rate': 0.16, 'max_depth': 16, 'min_child_weight': 4.0, 'n_estimators': 35, 'subsample': 0.67}\n",
      "SCORE:                                                                                                                 \n",
      "2411.6337927033364                                                                                                     \n",
      "{'colsample_bytree': 0.61, 'gamma': 0.17, 'learning_rate': 0.48, 'max_depth': 4, 'min_child_weight': 6.0, 'n_estimators': 150, 'subsample': 0.28}\n",
      "SCORE:                                                                                                                 \n",
      "2946.8052458489356                                                                                                     \n",
      "{'colsample_bytree': 0.8300000000000001, 'gamma': 0.04, 'learning_rate': 0.35000000000000003, 'max_depth': 17, 'min_child_weight': 5.0, 'n_estimators': 45, 'subsample': 0.5700000000000001}\n",
      "SCORE:                                                                                                                 \n",
      "2546.547274874371                                                                                                      \n",
      "{'colsample_bytree': 0.4, 'gamma': 0.16, 'learning_rate': 0.09, 'max_depth': 15, 'min_child_weight': 6.0, 'n_estimators': 140, 'subsample': 0.45}\n",
      "SCORE:                                                                                                                 \n"
     ]
    },
    {
     "name": "stdout",
     "output_type": "stream",
     "text": [
      "2450.473375751404                                                                                                      \n",
      "{'colsample_bytree': 0.51, 'gamma': 0.22, 'learning_rate': 0.05, 'max_depth': 14, 'min_child_weight': 7.0, 'n_estimators': 90, 'subsample': 0.71}\n",
      "SCORE:                                                                                                                 \n",
      "2535.5571154078034                                                                                                     \n",
      "{'colsample_bytree': 0.77, 'gamma': 0.27, 'learning_rate': 0.14, 'max_depth': 13, 'min_child_weight': 3.0, 'n_estimators': 175, 'subsample': 0.79}\n",
      "SCORE:                                                                                                                 \n",
      "2307.546651200432                                                                                                      \n",
      "{'colsample_bytree': 0.9400000000000001, 'gamma': 0.28, 'learning_rate': 0.14, 'max_depth': 13, 'min_child_weight': 3.0, 'n_estimators': 175, 'subsample': 0.78}\n",
      "SCORE:                                                                                                                 \n",
      "2332.97945382907                                                                                                       \n",
      "{'colsample_bytree': 0.8200000000000001, 'gamma': 0.27, 'learning_rate': 0.23, 'max_depth': 13, 'min_child_weight': 1.0, 'n_estimators': 130, 'subsample': 0.16}\n",
      "SCORE:                                                                                                                 \n",
      "2716.751721352337                                                                                                      \n",
      "{'colsample_bytree': 0.75, 'gamma': 0.34, 'learning_rate': 0.17, 'max_depth': 18, 'min_child_weight': 4.0, 'n_estimators': 175, 'subsample': 0.54}\n",
      "SCORE:                                                                                                                 \n",
      "2365.862215673358                                                                                                      \n",
      "{'colsample_bytree': 0.8, 'gamma': 0.11, 'learning_rate': 0.2, 'max_depth': 3, 'min_child_weight': 2.0, 'n_estimators': 105, 'subsample': 0.73}\n",
      "SCORE:                                                                                                                 \n",
      "2882.0525865462855                                                                                                     \n",
      "{'colsample_bytree': 0.71, 'gamma': 0.19, 'learning_rate': 0.24, 'max_depth': 13, 'min_child_weight': 3.0, 'n_estimators': 145, 'subsample': 0.48}\n",
      "SCORE:                                                                                                                 \n",
      "2474.074609038027                                                                                                      \n",
      "{'colsample_bytree': 0.87, 'gamma': 0.33, 'learning_rate': 0.27, 'max_depth': 12, 'min_child_weight': 4.0, 'n_estimators': 170, 'subsample': 0.68}\n",
      "SCORE:                                                                                                                 \n",
      "2431.169946783624                                                                                                      \n",
      "{'colsample_bytree': 0.61, 'gamma': 0.17, 'learning_rate': 0.07, 'max_depth': 6, 'min_child_weight': 1.0, 'n_estimators': 10, 'subsample': 0.29}\n",
      "SCORE:                                                                                                                 \n",
      "13225.127443042116                                                                                                     \n",
      "{'colsample_bytree': 0.78, 'gamma': 0.04, 'learning_rate': 0.33, 'max_depth': 10, 'min_child_weight': 2.0, 'n_estimators': 165, 'subsample': 0.92}\n",
      "SCORE:                                                                                                                 \n",
      "2423.872866004004                                                                                                      \n",
      "{'colsample_bytree': 0.99, 'gamma': 0.31, 'learning_rate': 0.13, 'max_depth': 5, 'min_child_weight': 9.0, 'n_estimators': 20, 'subsample': 0.79}\n",
      "SCORE:                                                                                                                 \n",
      "3664.8041291197205                                                                                                     \n",
      "{'colsample_bytree': 0.9500000000000001, 'gamma': 0.29, 'learning_rate': 0.28, 'max_depth': 9, 'min_child_weight': 10.0, 'n_estimators': 175, 'subsample': 0.51}\n",
      "SCORE:                                                                                                                 \n",
      "2575.759801969849                                                                                                      \n",
      "{'colsample_bytree': 0.86, 'gamma': 0.24, 'learning_rate': 0.03, 'max_depth': 8, 'min_child_weight': 7.0, 'n_estimators': 195, 'subsample': 0.38}\n",
      "SCORE:                                                                                                                 \n",
      "2701.2552986099354                                                                                                     \n",
      "{'colsample_bytree': 0.65, 'gamma': 0.5, 'learning_rate': 0.16, 'max_depth': 4, 'min_child_weight': 5.0, 'n_estimators': 60, 'subsample': 0.88}\n",
      "SCORE:                                                                                                                 \n",
      "2855.402203688771                                                                                                      \n",
      "{'colsample_bytree': 0.73, 'gamma': 0.4, 'learning_rate': 0.39, 'max_depth': 13, 'min_child_weight': 6.0, 'n_estimators': 50, 'subsample': 0.75}\n",
      "SCORE:                                                                                                                 \n",
      "2433.2443546247937                                                                                                     \n",
      "{'colsample_bytree': 0.58, 'gamma': 0.43, 'learning_rate': 0.1, 'max_depth': 18, 'min_child_weight': 8.0, 'n_estimators': 100, 'subsample': 0.65}\n",
      "SCORE:                                                                                                                 \n",
      "2379.4163025323196                                                                                                     \n",
      "{'colsample_bytree': 0.44, 'gamma': 0.14, 'learning_rate': 0.3, 'max_depth': 15, 'min_child_weight': 3.0, 'n_estimators': 190, 'subsample': 0.81}\n",
      "SCORE:                                                                                                                 \n",
      "2534.128396314535                                                                                                      \n",
      "{'colsample_bytree': 0.54, 'gamma': 0.26, 'learning_rate': 0.45, 'max_depth': 17, 'min_child_weight': 4.0, 'n_estimators': 115, 'subsample': 0.6}\n",
      "SCORE:                                                                                                                 \n",
      "2636.5816844811466                                                                                                     \n",
      "{'colsample_bytree': 0.67, 'gamma': 0.08, 'learning_rate': 0.08, 'max_depth': 3, 'min_child_weight': 2.0, 'n_estimators': 155, 'subsample': 0.93}\n",
      "SCORE:                                                                                                                 \n",
      "3038.875117300876                                                                                                      \n",
      "{'colsample_bytree': 0.92, 'gamma': 0.1, 'learning_rate': 0.01, 'max_depth': 7, 'min_child_weight': 5.0, 'n_estimators': 160, 'subsample': 0.46}\n",
      "SCORE:                                                                                                                 \n",
      "6225.436125741913                                                                                                      \n",
      "{'colsample_bytree': 0.75, 'gamma': 0.03, 'learning_rate': 0.06, 'max_depth': 6, 'min_child_weight': 7.0, 'n_estimators': 120, 'subsample': 0.99}\n",
      "SCORE:                                                                                                                 \n",
      "2538.152252907791                                                                                                      \n",
      "{'colsample_bytree': 0.8, 'gamma': 0.13, 'learning_rate': 0.13, 'max_depth': 14, 'min_child_weight': 9.0, 'n_estimators': 80, 'subsample': 0.23}\n",
      "SCORE:                                                                                                                 \n",
      "3033.572914504832                                                                                                      \n",
      "{'colsample_bytree': 0.4, 'gamma': 0.15, 'learning_rate': 0.2, 'max_depth': 13, 'min_child_weight': 3.0, 'n_estimators': 15, 'subsample': 0.56}\n",
      "SCORE:                                                                                                                 \n",
      "3272.745342349071                                                                                                      \n",
      "{'colsample_bytree': 0.49, 'gamma': 0.18, 'learning_rate': 0.1, 'max_depth': 16, 'min_child_weight': 5.0, 'n_estimators': 185, 'subsample': 0.63}\n",
      "SCORE:                                                                                                                 \n",
      "2343.4612272893423                                                                                                     \n",
      "{'colsample_bytree': 0.6, 'gamma': 0.21, 'learning_rate': 0.03, 'max_depth': 16, 'min_child_weight': 6.0, 'n_estimators': 40, 'subsample': 0.6900000000000001}\n",
      "SCORE:                                                                                                                 \n",
      "8445.277681501315                                                                                                      \n",
      "{'colsample_bytree': 0.63, 'gamma': 0.25, 'learning_rate': 0.12, 'max_depth': 16, 'min_child_weight': 4.0, 'n_estimators': 95, 'subsample': 0.6}\n",
      "SCORE:                                                                                                                 \n",
      "2350.1560293691855                                                                                                     \n",
      "{'colsample_bytree': 0.54, 'gamma': 0.22, 'learning_rate': 0.14, 'max_depth': 12, 'min_child_weight': 5.0, 'n_estimators': 175, 'subsample': 0.72}\n",
      "SCORE:                                                                                                                 \n",
      "2327.6355955395425                                                                                                     \n",
      "{'colsample_bytree': 0.47000000000000003, 'gamma': 0.3, 'learning_rate': 0.18, 'max_depth': 9, 'min_child_weight': 6.0, 'n_estimators': 180, 'subsample': 0.86}\n",
      "SCORE:                                                                                                                 \n",
      "2337.1638711569954                                                                                                     \n",
      "{'colsample_bytree': 0.67, 'gamma': 0.2, 'learning_rate': 0.08, 'max_depth': 16, 'min_child_weight': 5.0, 'n_estimators': 65, 'subsample': 0.66}\n",
      "SCORE:                                                                                                                 \n",
      "2335.5430069020545                                                                                                     \n",
      "{'colsample_bytree': 0.34, 'gamma': 0.28, 'learning_rate': 0.16, 'max_depth': 19, 'min_child_weight': 7.0, 'n_estimators': 30, 'subsample': 0.76}\n",
      "SCORE:                                                                                                                 \n",
      "2806.1545110154166                                                                                                     \n",
      "{'colsample_bytree': 0.77, 'gamma': 0.32, 'learning_rate': 0.06, 'max_depth': 5, 'min_child_weight': 4.0, 'n_estimators': 85, 'subsample': 0.44}\n",
      "SCORE:                                                                                                                 \n",
      "2912.1769453119                                                                                                        \n",
      "{'colsample_bytree': 0.85, 'gamma': 0.12, 'learning_rate': 0.22, 'max_depth': 11, 'min_child_weight': 3.0, 'n_estimators': 75, 'subsample': 0.53}\n",
      "SCORE:                                                                                                                 \n",
      "2385.1716827267683                                                                                                     \n",
      "{'colsample_bytree': 0.89, 'gamma': 0.35000000000000003, 'learning_rate': 0.04, 'max_depth': 8, 'min_child_weight': 6.0, 'n_estimators': 25, 'subsample': 0.81}\n",
      "SCORE:                                                                                                                 \n",
      "9858.71155646938                                                                                                       \n",
      "{'colsample_bytree': 0.72, 'gamma': 0.39, 'learning_rate': 0.15, 'max_depth': 10, 'min_child_weight': 7.0, 'n_estimators': 55, 'subsample': 0.6}\n",
      "SCORE:                                                                                                                 \n",
      "2454.430178155143                                                                                                      \n",
      "{'colsample_bytree': 0.6900000000000001, 'gamma': 0.24, 'learning_rate': 0.1, 'max_depth': 16, 'min_child_weight': 2.0, 'n_estimators': 185, 'subsample': 0.49}\n",
      "SCORE:                                                                                                                 \n",
      "2340.2287156241396                                                                                                     \n",
      "{'colsample_bytree': 0.42, 'gamma': 0.16, 'learning_rate': 0.2, 'max_depth': 13, 'min_child_weight': 4.0, 'n_estimators': 70, 'subsample': 0.36}\n",
      "SCORE:                                                                                                                 \n",
      "2425.087283214706                                                                                                      \n",
      "{'colsample_bytree': 0.52, 'gamma': 0.22, 'learning_rate': 0.12, 'max_depth': 4, 'min_child_weight': 5.0, 'n_estimators': 110, 'subsample': 0.96}\n",
      "SCORE:                                                                                                                 \n",
      "2846.6540345415274                                                                                                     \n",
      "{'colsample_bytree': 0.5700000000000001, 'gamma': 0.18, 'learning_rate': 0.25, 'max_depth': 16, 'min_child_weight': 3.0, 'n_estimators': 35, 'subsample': 0.65}\n",
      "SCORE:                                                                                                                 \n",
      "2391.863413877011                                                                                                      \n",
      "{'colsample_bytree': 0.63, 'gamma': 0.26, 'learning_rate': 0.02, 'max_depth': 17, 'min_child_weight': 1.0, 'n_estimators': 175, 'subsample': 0.73}\n",
      "SCORE:                                                                                                                 \n",
      "2578.3403229959404                                                                                                     \n",
      "{'colsample_bytree': 0.8, 'gamma': 0.15, 'learning_rate': 0.09, 'max_depth': 7, 'min_child_weight': 8.0, 'n_estimators': 45, 'subsample': 0.32}\n",
      "SCORE:                                                                                                                 \n",
      "2981.073065727076                                                                                                      \n",
      "{'colsample_bytree': 0.31, 'gamma': 0.09, 'learning_rate': 0.24, 'max_depth': 3, 'min_child_weight': 4.0, 'n_estimators': 145, 'subsample': 0.78}\n",
      "SCORE:                                                                                                                 \n",
      "2785.276357834331                                                                                                      \n",
      "{'colsample_bytree': 0.96, 'gamma': 0.28, 'learning_rate': 0.17, 'max_depth': 15, 'min_child_weight': 2.0, 'n_estimators': 150, 'subsample': 0.58}\n",
      "SCORE:                                                                                                                 \n"
     ]
    },
    {
     "name": "stdout",
     "output_type": "stream",
     "text": [
      "2396.699799041599                                                                                                      \n",
      "{'colsample_bytree': 0.39, 'gamma': 0.3, 'learning_rate': 0.04, 'max_depth': 14, 'min_child_weight': 8.0, 'n_estimators': 90, 'subsample': 0.51}\n",
      "SCORE:                                                                                                                 \n",
      "3101.695096737324                                                                                                      \n",
      "{'colsample_bytree': 0.55, 'gamma': 0.21, 'learning_rate': 0.32, 'max_depth': 18, 'min_child_weight': 6.0, 'n_estimators': 140, 'subsample': 0.7000000000000001}\n",
      "SCORE:                                                                                                                 \n",
      "2429.8654068236524                                                                                                     \n",
      "{'colsample_bytree': 0.44, 'gamma': 0.23, 'learning_rate': 0.06, 'max_depth': 19, 'min_child_weight': 1.0, 'n_estimators': 130, 'subsample': 0.11}\n",
      "SCORE:                                                                                                                 \n",
      "2709.1254226520605                                                                                                     \n",
      "{'colsample_bytree': 0.59, 'gamma': 0.32, 'learning_rate': 0.11, 'max_depth': 6, 'min_child_weight': 5.0, 'n_estimators': 170, 'subsample': 0.62}\n",
      "SCORE:                                                                                                                 \n",
      "2469.917277036178                                                                                                      \n",
      "{'colsample_bytree': 0.63, 'gamma': 0.06, 'learning_rate': 0.07, 'max_depth': 12, 'min_child_weight': 6.0, 'n_estimators': 165, 'subsample': 0.55}\n",
      "SCORE:                                                                                                                 \n",
      "2345.2081961210192                                                                                                     \n",
      "{'colsample_bytree': 0.75, 'gamma': 0.18, 'learning_rate': 0.13, 'max_depth': 13, 'min_child_weight': 4.0, 'n_estimators': 10, 'subsample': 0.8300000000000001}\n",
      "SCORE:                                                                                                                 \n",
      "7250.068721782082                                                                                                      \n",
      "{'colsample_bytree': 0.93, 'gamma': 0.12, 'learning_rate': 0.21, 'max_depth': 11, 'min_child_weight': 7.0, 'n_estimators': 105, 'subsample': 0.87}\n",
      "SCORE:                                                                                                                 \n",
      "2411.3303946546494                                                                                                     \n",
      "{'colsample_bytree': 0.26, 'gamma': 0.37, 'learning_rate': 0.19, 'max_depth': 16, 'min_child_weight': 3.0, 'n_estimators': 20, 'subsample': 0.74}\n",
      "SCORE:                                                                                                                 \n",
      "3411.936200798422                                                                                                      \n",
      "{'colsample_bytree': 0.6900000000000001, 'gamma': 0.0, 'learning_rate': 0.09, 'max_depth': 9, 'min_child_weight': 7.0, 'n_estimators': 175, 'subsample': 0.43}\n",
      "SCORE:                                                                                                                 \n",
      "2447.154183561795                                                                                                      \n",
      "{'colsample_bytree': 0.5, 'gamma': 0.24, 'learning_rate': 0.28, 'max_depth': 5, 'min_child_weight': 5.0, 'n_estimators': 50, 'subsample': 0.4}\n",
      "SCORE:                                                                                                                 \n",
      "2848.0854241171355                                                                                                     \n",
      "{'colsample_bytree': 0.84, 'gamma': 0.34, 'learning_rate': 0.4, 'max_depth': 10, 'min_child_weight': 4.0, 'n_estimators': 60, 'subsample': 0.9}\n",
      "SCORE:                                                                                                                 \n",
      "2543.8687686859325                                                                                                     \n",
      "{'colsample_bytree': 0.47000000000000003, 'gamma': 0.19, 'learning_rate': 0.15, 'max_depth': 8, 'min_child_weight': 2.0, 'n_estimators': 135, 'subsample': 0.68}\n",
      "SCORE:                                                                                                                 \n",
      "2372.46086953008                                                                                                       \n",
      "{'colsample_bytree': 0.89, 'gamma': 0.27, 'learning_rate': 0.11, 'max_depth': 4, 'min_child_weight': 3.0, 'n_estimators': 185, 'subsample': 0.48}\n",
      "SCORE:                                                                                                                 \n",
      "2660.292598947063                                                                                                      \n",
      "{'colsample_bytree': 0.2, 'gamma': 0.14, 'learning_rate': 0.01, 'max_depth': 13, 'min_child_weight': 8.0, 'n_estimators': 195, 'subsample': 0.8}\n",
      "SCORE:                                                                                                                 \n",
      "6386.0221476311735                                                                                                     \n",
      "{'colsample_bytree': 0.35000000000000003, 'gamma': 0.29, 'learning_rate': 0.03, 'max_depth': 16, 'min_child_weight': 10.0, 'n_estimators': 160, 'subsample': 0.77}\n",
      "SCORE:                                                                                                                 \n",
      "2742.7058473939073                                                                                                     \n",
      "{'colsample_bytree': 0.1, 'gamma': 0.42, 'learning_rate': 0.17, 'max_depth': 7, 'min_child_weight': 9.0, 'n_estimators': 190, 'subsample': 0.93}\n",
      "SCORE:                                                                                                                 \n",
      "2763.5857044828313                                                                                                     \n",
      "100%|██████████████████████████████████████████████| 100/100 [02:28<00:00,  1.48s/trial, best loss: 5324771.5474663265]\n",
      "{'colsample_bytree': 0.77, 'gamma': 0.27, 'learning_rate': 0.14, 'max_depth': 10, 'min_child_weight': 3.0, 'n_estimators': 33, 'subsample': 0.79}\n"
     ]
    }
   ],
   "source": [
    "trials = Trials()\n",
    "best = fmin(fn=hyperparameter_tuning,\n",
    "            space=space,\n",
    "            algo=tpe.suggest,\n",
    "            max_evals=100,\n",
    "            trials=trials)\n",
    "\n",
    "print (best)"
   ]
  },
  {
   "cell_type": "code",
   "execution_count": 208,
   "id": "olympic-leonard",
   "metadata": {},
   "outputs": [
    {
     "name": "stdout",
     "output_type": "stream",
     "text": [
      "The best hyperparameters are :  \n",
      "\n",
      "{'colsample_bytree': 0.77, 'gamma': 0.27, 'learning_rate': 0.14, 'max_depth': 10, 'min_child_weight': 3.0, 'n_estimators': 33, 'subsample': 0.79}\n"
     ]
    }
   ],
   "source": [
    "print(\"The best hyperparameters are : \",\"\\n\")\n",
    "print(best)"
   ]
  },
  {
   "cell_type": "code",
   "execution_count": 209,
   "id": "official-exposure",
   "metadata": {},
   "outputs": [],
   "source": [
    "xgb_opt = xgb.XGBRegressor(n_estimators=best['n_estimators'],\n",
    "                             max_depth =best['max_depth'],\n",
    "                           min_child_weight=best['min_child_weight'],\n",
    "                           gamma = best['gamma'],\n",
    "                            learning_rate=best['learning_rate'],\n",
    "                            colsample_bytree=best['colsample_bytree'],\n",
    "                            subsample=best['subsample'])"
   ]
  },
  {
   "cell_type": "code",
   "execution_count": 210,
   "id": "qualified-mozambique",
   "metadata": {},
   "outputs": [
    {
     "data": {
      "text/plain": [
       "XGBRegressor(base_score=0.5, booster='gbtree', colsample_bylevel=1,\n",
       "             colsample_bynode=1, colsample_bytree=0.77, gamma=0.27, gpu_id=-1,\n",
       "             importance_type='gain', interaction_constraints='',\n",
       "             learning_rate=0.14, max_delta_step=0, max_depth=10,\n",
       "             min_child_weight=3.0, missing=nan, monotone_constraints='()',\n",
       "             n_estimators=33, n_jobs=4, num_parallel_tree=1, random_state=0,\n",
       "             reg_alpha=0, reg_lambda=1, scale_pos_weight=1, subsample=0.79,\n",
       "             tree_method='exact', validate_parameters=1, verbosity=None)"
      ]
     },
     "execution_count": 210,
     "metadata": {},
     "output_type": "execute_result"
    }
   ],
   "source": [
    "xgb_opt.fit(X_train, y_train)"
   ]
  },
  {
   "cell_type": "code",
   "execution_count": 211,
   "id": "horizontal-european",
   "metadata": {},
   "outputs": [],
   "source": [
    "# Predicting the Test set results\n",
    "y_pred_XGB_OPT = xgb_opt.predict(X_test)"
   ]
  },
  {
   "cell_type": "code",
   "execution_count": 212,
   "id": "harmful-option",
   "metadata": {},
   "outputs": [
    {
     "data": {
      "image/png": "[encoded data removed]",
      "text/plain": [
       "<Figure size 864x576 with 1 Axes>"
      ]
     },
     "metadata": {
      "needs_background": "light"
     },
     "output_type": "display_data"
    }
   ],
   "source": [
    "plt.figure(figsize = (12,8))\n",
    "\n",
    "plt.scatter(y_test, y_pred_lm_lasso, label='LASSO')\n",
    "plt.scatter(y_test, y_pred_SVM, label='SVM')\n",
    "plt.scatter(y_test, y_pred_xgb, label='XGBoost')\n",
    "plt.scatter(y_test, y_pred_XGB_OPT, label='XGBoost_HYPEROPT')\n",
    "plt.xlabel('Y Test')\n",
    "plt.ylabel('Predicted Y')\n",
    "plt.legend(loc='upper left');\n",
    "plt.grid()"
   ]
  },
  {
   "cell_type": "code",
   "execution_count": 213,
   "id": "amateur-attribute",
   "metadata": {},
   "outputs": [
    {
     "name": "stdout",
     "output_type": "stream",
     "text": [
      "RMSE using SVM:  3695.7671462931576\n",
      "RMSE using XGBoost:  2522.391862396832\n",
      "RMSE using XGBoost_HYPEROPT:  2399.0844940779966\n"
     ]
    }
   ],
   "source": [
    "mse_XGB_OPT = mean_squared_error(y_test, y_pred_XGB_OPT)\n",
    "print(\"RMSE using SVM: \", np.sqrt(mse_SVM))\n",
    "print(\"RMSE using XGBoost: \", np.sqrt(MSE(y_pred_xgb,y_test)))\n",
    "print(\"RMSE using XGBoost_HYPEROPT: \", np.sqrt(mse_XGB_OPT))\n",
    "print(\"RMSE using LASSO: \", np.sqrt(mse_lm_lasso))"
   ]
  },
  {
   "cell_type": "markdown",
   "id": "understanding-remark",
   "metadata": {},
   "source": [
    "We get better results with XGBoost and we can even improve the RMSE with the Baesian optimization"
   ]
  },
  {
   "cell_type": "code",
   "execution_count": 214,
   "id": "bizarre-black",
   "metadata": {},
   "outputs": [],
   "source": [
    "pickle.dump(xgb_opt, open('model.pkl','wb'))"
   ]
  },
  {
   "cell_type": "markdown",
   "id": "productive-spectrum",
   "metadata": {},
   "source": [
    "# DEBUG FOR ML DEPLOYMENT"
   ]
  },
  {
   "cell_type": "code",
   "execution_count": 215,
   "id": "protective-gothic",
   "metadata": {},
   "outputs": [
    {
     "data": {
      "text/html": [
       "<div>\n",
       "<style scoped>\n",
       "    .dataframe tbody tr th:only-of-type {\n",
       "        vertical-align: middle;\n",
       "    }\n",
       "\n",
       "    .dataframe tbody tr th {\n",
       "        vertical-align: top;\n",
       "    }\n",
       "\n",
       "    .dataframe thead th {\n",
       "        text-align: right;\n",
       "    }\n",
       "</style>\n",
       "<table border=\"1\" class=\"dataframe\">\n",
       "  <thead>\n",
       "    <tr style=\"text-align: right;\">\n",
       "      <th></th>\n",
       "      <th>model</th>\n",
       "      <th>year</th>\n",
       "      <th>transmission</th>\n",
       "      <th>fuelType</th>\n",
       "      <th>mileage</th>\n",
       "      <th>tax</th>\n",
       "      <th>mpg</th>\n",
       "      <th>engineSize</th>\n",
       "      <th>price</th>\n",
       "    </tr>\n",
       "  </thead>\n",
       "  <tbody>\n",
       "    <tr>\n",
       "      <th>0</th>\n",
       "      <td>A1</td>\n",
       "      <td>2017</td>\n",
       "      <td>Manual</td>\n",
       "      <td>Petrol</td>\n",
       "      <td>15735</td>\n",
       "      <td>150</td>\n",
       "      <td>55.4</td>\n",
       "      <td>1.4</td>\n",
       "      <td>12500</td>\n",
       "    </tr>\n",
       "    <tr>\n",
       "      <th>1</th>\n",
       "      <td>A6</td>\n",
       "      <td>2016</td>\n",
       "      <td>Automatic</td>\n",
       "      <td>Diesel</td>\n",
       "      <td>36203</td>\n",
       "      <td>20</td>\n",
       "      <td>64.2</td>\n",
       "      <td>2.0</td>\n",
       "      <td>16500</td>\n",
       "    </tr>\n",
       "    <tr>\n",
       "      <th>2</th>\n",
       "      <td>A1</td>\n",
       "      <td>2016</td>\n",
       "      <td>Manual</td>\n",
       "      <td>Petrol</td>\n",
       "      <td>29946</td>\n",
       "      <td>30</td>\n",
       "      <td>55.4</td>\n",
       "      <td>1.4</td>\n",
       "      <td>11000</td>\n",
       "    </tr>\n",
       "    <tr>\n",
       "      <th>3</th>\n",
       "      <td>A4</td>\n",
       "      <td>2017</td>\n",
       "      <td>Automatic</td>\n",
       "      <td>Diesel</td>\n",
       "      <td>25952</td>\n",
       "      <td>145</td>\n",
       "      <td>67.3</td>\n",
       "      <td>2.0</td>\n",
       "      <td>16800</td>\n",
       "    </tr>\n",
       "    <tr>\n",
       "      <th>4</th>\n",
       "      <td>A3</td>\n",
       "      <td>2019</td>\n",
       "      <td>Manual</td>\n",
       "      <td>Petrol</td>\n",
       "      <td>1998</td>\n",
       "      <td>145</td>\n",
       "      <td>49.6</td>\n",
       "      <td>1.0</td>\n",
       "      <td>17300</td>\n",
       "    </tr>\n",
       "  </tbody>\n",
       "</table>\n",
       "</div>"
      ],
      "text/plain": [
       "  model  year transmission fuelType  mileage  tax   mpg  engineSize  price\n",
       "0    A1  2017       Manual   Petrol    15735  150  55.4         1.4  12500\n",
       "1    A6  2016    Automatic   Diesel    36203   20  64.2         2.0  16500\n",
       "2    A1  2016       Manual   Petrol    29946   30  55.4         1.4  11000\n",
       "3    A4  2017    Automatic   Diesel    25952  145  67.3         2.0  16800\n",
       "4    A3  2019       Manual   Petrol     1998  145  49.6         1.0  17300"
      ]
     },
     "execution_count": 215,
     "metadata": {},
     "output_type": "execute_result"
    }
   ],
   "source": [
    "df.head()"
   ]
  },
  {
   "cell_type": "code",
   "execution_count": 216,
   "id": "informative-noise",
   "metadata": {},
   "outputs": [],
   "source": [
    "feat=['A1','2017','Manual','Petrol','15735','150','55.4','1.4']"
   ]
  },
  {
   "cell_type": "code",
   "execution_count": 217,
   "id": "literary-status",
   "metadata": {},
   "outputs": [
    {
     "data": {
      "text/plain": [
       "['15735', '150', '55.4', '1.4']"
      ]
     },
     "execution_count": 217,
     "metadata": {},
     "output_type": "execute_result"
    }
   ],
   "source": [
    "num_feat = feat[4:8]\n",
    "num_feat"
   ]
  },
  {
   "cell_type": "code",
   "execution_count": 218,
   "id": "interpreted-swing",
   "metadata": {},
   "outputs": [
    {
     "data": {
      "text/html": [
       "<div>\n",
       "<style scoped>\n",
       "    .dataframe tbody tr th:only-of-type {\n",
       "        vertical-align: middle;\n",
       "    }\n",
       "\n",
       "    .dataframe tbody tr th {\n",
       "        vertical-align: top;\n",
       "    }\n",
       "\n",
       "    .dataframe thead th {\n",
       "        text-align: right;\n",
       "    }\n",
       "</style>\n",
       "<table border=\"1\" class=\"dataframe\">\n",
       "  <thead>\n",
       "    <tr style=\"text-align: right;\">\n",
       "      <th></th>\n",
       "      <th>model</th>\n",
       "      <th>year</th>\n",
       "      <th>transmission</th>\n",
       "      <th>fuelType</th>\n",
       "    </tr>\n",
       "  </thead>\n",
       "  <tbody>\n",
       "    <tr>\n",
       "      <th>0</th>\n",
       "      <td>A1</td>\n",
       "      <td>2017</td>\n",
       "      <td>Manual</td>\n",
       "      <td>Petrol</td>\n",
       "    </tr>\n",
       "  </tbody>\n",
       "</table>\n",
       "</div>"
      ],
      "text/plain": [
       "  model  year transmission fuelType\n",
       "0    A1  2017       Manual   Petrol"
      ]
     },
     "execution_count": 218,
     "metadata": {},
     "output_type": "execute_result"
    }
   ],
   "source": [
    "df_cat=pd.DataFrame([feat[0:4]], columns=['model','year','transmission','fuelType'])\n",
    "df_cat"
   ]
  },
  {
   "cell_type": "code",
   "execution_count": 219,
   "id": "sought-fifth",
   "metadata": {},
   "outputs": [],
   "source": [
    "df_cat.year=int(df_cat.year)"
   ]
  },
  {
   "cell_type": "code",
   "execution_count": 220,
   "id": "occupied-maryland",
   "metadata": {},
   "outputs": [],
   "source": [
    "cat_feat = enc.transform(df_cat).toarray()"
   ]
  },
  {
   "cell_type": "code",
   "execution_count": 221,
   "id": "friendly-import",
   "metadata": {},
   "outputs": [],
   "source": [
    "enc_feat = np.append(num_feat, cat_feat)"
   ]
  },
  {
   "cell_type": "code",
   "execution_count": 222,
   "id": "second-springer",
   "metadata": {},
   "outputs": [],
   "source": [
    "scaled_feat=scaler.transform(enc_feat.reshape(1,-1))"
   ]
  },
  {
   "cell_type": "code",
   "execution_count": 223,
   "id": "1f688c3f",
   "metadata": {},
   "outputs": [
    {
     "data": {
      "text/plain": [
       "(1, 57)"
      ]
     },
     "execution_count": 223,
     "metadata": {},
     "output_type": "execute_result"
    }
   ],
   "source": [
    "scaled_feat.shape"
   ]
  },
  {
   "cell_type": "code",
   "execution_count": 224,
   "id": "massive-differential",
   "metadata": {},
   "outputs": [
    {
     "data": {
      "text/plain": [
       "13804.076"
      ]
     },
     "execution_count": 224,
     "metadata": {},
     "output_type": "execute_result"
    }
   ],
   "source": [
    "prediction = xgb_opt.predict(scaled_feat)[0]\n",
    "prediction"
   ]
  }
 ],
 "metadata": {
  "kernelspec": {
   "display_name": "Python 3",
   "language": "python",
   "name": "python3"
  },
  "language_info": {
   "codemirror_mode": {
    "name": "ipython",
    "version": 3
   },
   "file_extension": ".py",
   "mimetype": "text/x-python",
   "name": "python",
   "nbconvert_exporter": "python",
   "pygments_lexer": "ipython3",
   "version": "3.8.5"
  }
 },
 "nbformat": 4,
 "nbformat_minor": 5
}
