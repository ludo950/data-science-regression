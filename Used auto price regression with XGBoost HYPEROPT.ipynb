{
 "cells": [
  {
   "cell_type": "markdown",
   "id": "friendly-poultry",
   "metadata": {},
   "source": [
    "# Used car price prediction with ML algorithms"
   ]
  },
  {
   "cell_type": "markdown",
   "id": "9190481f",
   "metadata": {},
   "source": [
    "The following project aims to analyze a dataset containing data about audi cars to extract useful insights and to eventually develop a ML algirothm to predict the price of a used audi car given some fesatures.<br>\n",
    "The best ML algorithm for regression was Xgboost optimized by Hyperopt baesian optimization with a R2 score=0.9558 and RMSE=2415$ "
   ]
  },
  {
   "cell_type": "code",
   "execution_count": 2,
   "id": "martial-rotation",
   "metadata": {},
   "outputs": [],
   "source": [
    "from sklearn.model_selection import train_test_split\n",
    "from sklearn.model_selection import GridSearchCV, RandomizedSearchCV\n",
    "from sklearn.preprocessing import StandardScaler\n",
    "from sklearn.metrics import mean_squared_error\n",
    "import pandas as pd\n",
    "import matplotlib.pyplot as plt\n",
    "import numpy as np\n",
    "import seaborn as sns\n",
    "\n",
    "# import jtplot submodule from jupyterthemes\n",
    "from jupyterthemes import jtplot\n",
    "jtplot.style()"
   ]
  },
  {
   "cell_type": "code",
   "execution_count": 3,
   "id": "ignored-contemporary",
   "metadata": {},
   "outputs": [],
   "source": [
    "df=pd.read_csv('audi.csv',skipinitialspace=True)"
   ]
  },
  {
   "cell_type": "markdown",
   "id": "eda88869",
   "metadata": {},
   "source": [
    "During the model deployment, I noticed that the values in the model columns had a blank space in front. For this reason, I decided to add \"skipinitialspace=True\" during the creation of the dataframe."
   ]
  },
  {
   "cell_type": "code",
   "execution_count": 4,
   "id": "later-probability",
   "metadata": {},
   "outputs": [
    {
     "data": {
      "text/html": [
       "<div>\n",
       "<style scoped>\n",
       "    .dataframe tbody tr th:only-of-type {\n",
       "        vertical-align: middle;\n",
       "    }\n",
       "\n",
       "    .dataframe tbody tr th {\n",
       "        vertical-align: top;\n",
       "    }\n",
       "\n",
       "    .dataframe thead th {\n",
       "        text-align: right;\n",
       "    }\n",
       "</style>\n",
       "<table border=\"1\" class=\"dataframe\">\n",
       "  <thead>\n",
       "    <tr style=\"text-align: right;\">\n",
       "      <th></th>\n",
       "      <th>model</th>\n",
       "      <th>year</th>\n",
       "      <th>price</th>\n",
       "      <th>transmission</th>\n",
       "      <th>mileage</th>\n",
       "      <th>fuelType</th>\n",
       "      <th>tax</th>\n",
       "      <th>mpg</th>\n",
       "      <th>engineSize</th>\n",
       "    </tr>\n",
       "  </thead>\n",
       "  <tbody>\n",
       "    <tr>\n",
       "      <th>0</th>\n",
       "      <td>A1</td>\n",
       "      <td>2017</td>\n",
       "      <td>12500</td>\n",
       "      <td>Manual</td>\n",
       "      <td>15735</td>\n",
       "      <td>Petrol</td>\n",
       "      <td>150</td>\n",
       "      <td>55.4</td>\n",
       "      <td>1.4</td>\n",
       "    </tr>\n",
       "    <tr>\n",
       "      <th>1</th>\n",
       "      <td>A6</td>\n",
       "      <td>2016</td>\n",
       "      <td>16500</td>\n",
       "      <td>Automatic</td>\n",
       "      <td>36203</td>\n",
       "      <td>Diesel</td>\n",
       "      <td>20</td>\n",
       "      <td>64.2</td>\n",
       "      <td>2.0</td>\n",
       "    </tr>\n",
       "    <tr>\n",
       "      <th>2</th>\n",
       "      <td>A1</td>\n",
       "      <td>2016</td>\n",
       "      <td>11000</td>\n",
       "      <td>Manual</td>\n",
       "      <td>29946</td>\n",
       "      <td>Petrol</td>\n",
       "      <td>30</td>\n",
       "      <td>55.4</td>\n",
       "      <td>1.4</td>\n",
       "    </tr>\n",
       "    <tr>\n",
       "      <th>3</th>\n",
       "      <td>A4</td>\n",
       "      <td>2017</td>\n",
       "      <td>16800</td>\n",
       "      <td>Automatic</td>\n",
       "      <td>25952</td>\n",
       "      <td>Diesel</td>\n",
       "      <td>145</td>\n",
       "      <td>67.3</td>\n",
       "      <td>2.0</td>\n",
       "    </tr>\n",
       "    <tr>\n",
       "      <th>4</th>\n",
       "      <td>A3</td>\n",
       "      <td>2019</td>\n",
       "      <td>17300</td>\n",
       "      <td>Manual</td>\n",
       "      <td>1998</td>\n",
       "      <td>Petrol</td>\n",
       "      <td>145</td>\n",
       "      <td>49.6</td>\n",
       "      <td>1.0</td>\n",
       "    </tr>\n",
       "  </tbody>\n",
       "</table>\n",
       "</div>"
      ],
      "text/plain": [
       "  model  year  price transmission  mileage fuelType  tax   mpg  engineSize\n",
       "0    A1  2017  12500       Manual    15735   Petrol  150  55.4         1.4\n",
       "1    A6  2016  16500    Automatic    36203   Diesel   20  64.2         2.0\n",
       "2    A1  2016  11000       Manual    29946   Petrol   30  55.4         1.4\n",
       "3    A4  2017  16800    Automatic    25952   Diesel  145  67.3         2.0\n",
       "4    A3  2019  17300       Manual     1998   Petrol  145  49.6         1.0"
      ]
     },
     "execution_count": 4,
     "metadata": {},
     "output_type": "execute_result"
    }
   ],
   "source": [
    "df.head()"
   ]
  },
  {
   "cell_type": "markdown",
   "id": "intended-worry",
   "metadata": {},
   "source": [
    "I will reorder the columns to group the categorical variables first and then the numerical ones"
   ]
  },
  {
   "cell_type": "code",
   "execution_count": 5,
   "id": "caring-defeat",
   "metadata": {},
   "outputs": [],
   "source": [
    "df=df[['model','year','transmission','fuelType','mileage','tax','mpg','engineSize','price']]"
   ]
  },
  {
   "cell_type": "code",
   "execution_count": 6,
   "id": "50c13bb9",
   "metadata": {},
   "outputs": [
    {
     "data": {
      "text/html": [
       "<div>\n",
       "<style scoped>\n",
       "    .dataframe tbody tr th:only-of-type {\n",
       "        vertical-align: middle;\n",
       "    }\n",
       "\n",
       "    .dataframe tbody tr th {\n",
       "        vertical-align: top;\n",
       "    }\n",
       "\n",
       "    .dataframe thead th {\n",
       "        text-align: right;\n",
       "    }\n",
       "</style>\n",
       "<table border=\"1\" class=\"dataframe\">\n",
       "  <thead>\n",
       "    <tr style=\"text-align: right;\">\n",
       "      <th></th>\n",
       "      <th>model</th>\n",
       "      <th>year</th>\n",
       "      <th>transmission</th>\n",
       "      <th>fuelType</th>\n",
       "      <th>mileage</th>\n",
       "      <th>tax</th>\n",
       "      <th>mpg</th>\n",
       "      <th>engineSize</th>\n",
       "      <th>price</th>\n",
       "    </tr>\n",
       "  </thead>\n",
       "  <tbody>\n",
       "    <tr>\n",
       "      <th>0</th>\n",
       "      <td>A1</td>\n",
       "      <td>2017</td>\n",
       "      <td>Manual</td>\n",
       "      <td>Petrol</td>\n",
       "      <td>15735</td>\n",
       "      <td>150</td>\n",
       "      <td>55.4</td>\n",
       "      <td>1.4</td>\n",
       "      <td>12500</td>\n",
       "    </tr>\n",
       "    <tr>\n",
       "      <th>1</th>\n",
       "      <td>A6</td>\n",
       "      <td>2016</td>\n",
       "      <td>Automatic</td>\n",
       "      <td>Diesel</td>\n",
       "      <td>36203</td>\n",
       "      <td>20</td>\n",
       "      <td>64.2</td>\n",
       "      <td>2.0</td>\n",
       "      <td>16500</td>\n",
       "    </tr>\n",
       "    <tr>\n",
       "      <th>2</th>\n",
       "      <td>A1</td>\n",
       "      <td>2016</td>\n",
       "      <td>Manual</td>\n",
       "      <td>Petrol</td>\n",
       "      <td>29946</td>\n",
       "      <td>30</td>\n",
       "      <td>55.4</td>\n",
       "      <td>1.4</td>\n",
       "      <td>11000</td>\n",
       "    </tr>\n",
       "    <tr>\n",
       "      <th>3</th>\n",
       "      <td>A4</td>\n",
       "      <td>2017</td>\n",
       "      <td>Automatic</td>\n",
       "      <td>Diesel</td>\n",
       "      <td>25952</td>\n",
       "      <td>145</td>\n",
       "      <td>67.3</td>\n",
       "      <td>2.0</td>\n",
       "      <td>16800</td>\n",
       "    </tr>\n",
       "    <tr>\n",
       "      <th>4</th>\n",
       "      <td>A3</td>\n",
       "      <td>2019</td>\n",
       "      <td>Manual</td>\n",
       "      <td>Petrol</td>\n",
       "      <td>1998</td>\n",
       "      <td>145</td>\n",
       "      <td>49.6</td>\n",
       "      <td>1.0</td>\n",
       "      <td>17300</td>\n",
       "    </tr>\n",
       "    <tr>\n",
       "      <th>5</th>\n",
       "      <td>A1</td>\n",
       "      <td>2016</td>\n",
       "      <td>Automatic</td>\n",
       "      <td>Petrol</td>\n",
       "      <td>32260</td>\n",
       "      <td>30</td>\n",
       "      <td>58.9</td>\n",
       "      <td>1.4</td>\n",
       "      <td>13900</td>\n",
       "    </tr>\n",
       "    <tr>\n",
       "      <th>6</th>\n",
       "      <td>A6</td>\n",
       "      <td>2016</td>\n",
       "      <td>Automatic</td>\n",
       "      <td>Diesel</td>\n",
       "      <td>76788</td>\n",
       "      <td>30</td>\n",
       "      <td>61.4</td>\n",
       "      <td>2.0</td>\n",
       "      <td>13250</td>\n",
       "    </tr>\n",
       "    <tr>\n",
       "      <th>7</th>\n",
       "      <td>A4</td>\n",
       "      <td>2016</td>\n",
       "      <td>Manual</td>\n",
       "      <td>Diesel</td>\n",
       "      <td>75185</td>\n",
       "      <td>20</td>\n",
       "      <td>70.6</td>\n",
       "      <td>2.0</td>\n",
       "      <td>11750</td>\n",
       "    </tr>\n",
       "    <tr>\n",
       "      <th>8</th>\n",
       "      <td>A3</td>\n",
       "      <td>2015</td>\n",
       "      <td>Manual</td>\n",
       "      <td>Petrol</td>\n",
       "      <td>46112</td>\n",
       "      <td>20</td>\n",
       "      <td>60.1</td>\n",
       "      <td>1.4</td>\n",
       "      <td>10200</td>\n",
       "    </tr>\n",
       "    <tr>\n",
       "      <th>9</th>\n",
       "      <td>A1</td>\n",
       "      <td>2016</td>\n",
       "      <td>Manual</td>\n",
       "      <td>Petrol</td>\n",
       "      <td>22451</td>\n",
       "      <td>30</td>\n",
       "      <td>55.4</td>\n",
       "      <td>1.4</td>\n",
       "      <td>12000</td>\n",
       "    </tr>\n",
       "  </tbody>\n",
       "</table>\n",
       "</div>"
      ],
      "text/plain": [
       "  model  year transmission fuelType  mileage  tax   mpg  engineSize  price\n",
       "0    A1  2017       Manual   Petrol    15735  150  55.4         1.4  12500\n",
       "1    A6  2016    Automatic   Diesel    36203   20  64.2         2.0  16500\n",
       "2    A1  2016       Manual   Petrol    29946   30  55.4         1.4  11000\n",
       "3    A4  2017    Automatic   Diesel    25952  145  67.3         2.0  16800\n",
       "4    A3  2019       Manual   Petrol     1998  145  49.6         1.0  17300\n",
       "5    A1  2016    Automatic   Petrol    32260   30  58.9         1.4  13900\n",
       "6    A6  2016    Automatic   Diesel    76788   30  61.4         2.0  13250\n",
       "7    A4  2016       Manual   Diesel    75185   20  70.6         2.0  11750\n",
       "8    A3  2015       Manual   Petrol    46112   20  60.1         1.4  10200\n",
       "9    A1  2016       Manual   Petrol    22451   30  55.4         1.4  12000"
      ]
     },
     "execution_count": 6,
     "metadata": {},
     "output_type": "execute_result"
    }
   ],
   "source": [
    "df.head(10)"
   ]
  },
  {
   "cell_type": "code",
   "execution_count": 7,
   "id": "mathematical-boards",
   "metadata": {},
   "outputs": [
    {
     "name": "stdout",
     "output_type": "stream",
     "text": [
      "<class 'pandas.core.frame.DataFrame'>\n",
      "RangeIndex: 10668 entries, 0 to 10667\n",
      "Data columns (total 9 columns):\n",
      " #   Column        Non-Null Count  Dtype  \n",
      "---  ------        --------------  -----  \n",
      " 0   model         10668 non-null  object \n",
      " 1   year          10668 non-null  int64  \n",
      " 2   transmission  10668 non-null  object \n",
      " 3   fuelType      10668 non-null  object \n",
      " 4   mileage       10668 non-null  int64  \n",
      " 5   tax           10668 non-null  int64  \n",
      " 6   mpg           10668 non-null  float64\n",
      " 7   engineSize    10668 non-null  float64\n",
      " 8   price         10668 non-null  int64  \n",
      "dtypes: float64(2), int64(4), object(3)\n",
      "memory usage: 750.2+ KB\n"
     ]
    }
   ],
   "source": [
    "df.info()"
   ]
  },
  {
   "cell_type": "markdown",
   "id": "7c9882ef",
   "metadata": {},
   "source": [
    "We can see that there are no missing values."
   ]
  },
  {
   "cell_type": "markdown",
   "id": "baad8363",
   "metadata": {},
   "source": [
    "# Exploratory Data Analysis"
   ]
  },
  {
   "cell_type": "markdown",
   "id": "1c0f2a7c",
   "metadata": {},
   "source": [
    "## Analysis of engine size and mpg for each car model"
   ]
  },
  {
   "cell_type": "markdown",
   "id": "4733b5b7",
   "metadata": {},
   "source": [
    "First, we need to understand if excluding the mileage, which heavily depends on the owner of the car, the other features uniquely identify a car or not."
   ]
  },
  {
   "cell_type": "code",
   "execution_count": 147,
   "id": "c5d392b9",
   "metadata": {},
   "outputs": [
    {
     "data": {
      "text/html": [
       "<div>\n",
       "<style scoped>\n",
       "    .dataframe tbody tr th:only-of-type {\n",
       "        vertical-align: middle;\n",
       "    }\n",
       "\n",
       "    .dataframe tbody tr th {\n",
       "        vertical-align: top;\n",
       "    }\n",
       "\n",
       "    .dataframe thead th {\n",
       "        text-align: right;\n",
       "    }\n",
       "</style>\n",
       "<table border=\"1\" class=\"dataframe\">\n",
       "  <thead>\n",
       "    <tr style=\"text-align: right;\">\n",
       "      <th></th>\n",
       "      <th>model</th>\n",
       "      <th>year</th>\n",
       "      <th>transmission</th>\n",
       "      <th>fuelType</th>\n",
       "      <th>mpg</th>\n",
       "      <th>engineSize</th>\n",
       "    </tr>\n",
       "  </thead>\n",
       "  <tbody>\n",
       "    <tr>\n",
       "      <th>10632</th>\n",
       "      <td>A1</td>\n",
       "      <td>2010</td>\n",
       "      <td>Automatic</td>\n",
       "      <td>Petrol</td>\n",
       "      <td>53.3</td>\n",
       "      <td>1.4</td>\n",
       "    </tr>\n",
       "    <tr>\n",
       "      <th>9625</th>\n",
       "      <td>A1</td>\n",
       "      <td>2011</td>\n",
       "      <td>Manual</td>\n",
       "      <td>Diesel</td>\n",
       "      <td>70.6</td>\n",
       "      <td>1.6</td>\n",
       "    </tr>\n",
       "    <tr>\n",
       "      <th>9791</th>\n",
       "      <td>A1</td>\n",
       "      <td>2011</td>\n",
       "      <td>Manual</td>\n",
       "      <td>Petrol</td>\n",
       "      <td>53.3</td>\n",
       "      <td>1.4</td>\n",
       "    </tr>\n",
       "    <tr>\n",
       "      <th>7950</th>\n",
       "      <td>A1</td>\n",
       "      <td>2012</td>\n",
       "      <td>Manual</td>\n",
       "      <td>Diesel</td>\n",
       "      <td>74.3</td>\n",
       "      <td>1.6</td>\n",
       "    </tr>\n",
       "    <tr>\n",
       "      <th>8101</th>\n",
       "      <td>A1</td>\n",
       "      <td>2012</td>\n",
       "      <td>Manual</td>\n",
       "      <td>Diesel</td>\n",
       "      <td>68.9</td>\n",
       "      <td>2.0</td>\n",
       "    </tr>\n",
       "  </tbody>\n",
       "</table>\n",
       "</div>"
      ],
      "text/plain": [
       "      model  year transmission fuelType   mpg  engineSize\n",
       "10632    A1  2010    Automatic   Petrol  53.3         1.4\n",
       "9625     A1  2011       Manual   Diesel  70.6         1.6\n",
       "9791     A1  2011       Manual   Petrol  53.3         1.4\n",
       "7950     A1  2012       Manual   Diesel  74.3         1.6\n",
       "8101     A1  2012       Manual   Diesel  68.9         2.0"
      ]
     },
     "execution_count": 147,
     "metadata": {},
     "output_type": "execute_result"
    }
   ],
   "source": [
    "df_models=df.drop(['price','mileage','tax'], axis=1).drop_duplicates().sort_values(by=['model','year','fuelType'])\n",
    "df_models.head()"
   ]
  },
  {
   "cell_type": "markdown",
   "id": "33944326",
   "metadata": {},
   "source": [
    "Apparently the mpg and engineSize are not uniquely identified by the car model, year, transmission and fuelType."
   ]
  },
  {
   "cell_type": "markdown",
   "id": "4bc788c8",
   "metadata": {},
   "source": [
    "Let's consider a possible query from a customer:"
   ]
  },
  {
   "cell_type": "code",
   "execution_count": 148,
   "id": "73f8974f",
   "metadata": {},
   "outputs": [],
   "source": [
    "# Example of possible query from the user:\n",
    "feat=['A1','2017','Manual','Petrol','15735','150']"
   ]
  },
  {
   "cell_type": "code",
   "execution_count": 16,
   "id": "b82aa03c",
   "metadata": {},
   "outputs": [
    {
     "data": {
      "text/html": [
       "<div>\n",
       "<style scoped>\n",
       "    .dataframe tbody tr th:only-of-type {\n",
       "        vertical-align: middle;\n",
       "    }\n",
       "\n",
       "    .dataframe tbody tr th {\n",
       "        vertical-align: top;\n",
       "    }\n",
       "\n",
       "    .dataframe thead th {\n",
       "        text-align: right;\n",
       "    }\n",
       "</style>\n",
       "<table border=\"1\" class=\"dataframe\">\n",
       "  <thead>\n",
       "    <tr style=\"text-align: right;\">\n",
       "      <th></th>\n",
       "      <th>model</th>\n",
       "      <th>year</th>\n",
       "      <th>transmission</th>\n",
       "      <th>fuelType</th>\n",
       "      <th>mpg</th>\n",
       "      <th>engineSize</th>\n",
       "    </tr>\n",
       "  </thead>\n",
       "  <tbody>\n",
       "    <tr>\n",
       "      <th>0</th>\n",
       "      <td>A1</td>\n",
       "      <td>2017</td>\n",
       "      <td>Manual</td>\n",
       "      <td>Petrol</td>\n",
       "      <td>55.4</td>\n",
       "      <td>1.4</td>\n",
       "    </tr>\n",
       "    <tr>\n",
       "      <th>36</th>\n",
       "      <td>A1</td>\n",
       "      <td>2017</td>\n",
       "      <td>Manual</td>\n",
       "      <td>Petrol</td>\n",
       "      <td>67.3</td>\n",
       "      <td>1.0</td>\n",
       "    </tr>\n",
       "    <tr>\n",
       "      <th>94</th>\n",
       "      <td>A1</td>\n",
       "      <td>2017</td>\n",
       "      <td>Manual</td>\n",
       "      <td>Petrol</td>\n",
       "      <td>58.9</td>\n",
       "      <td>1.4</td>\n",
       "    </tr>\n",
       "    <tr>\n",
       "      <th>334</th>\n",
       "      <td>A1</td>\n",
       "      <td>2017</td>\n",
       "      <td>Manual</td>\n",
       "      <td>Petrol</td>\n",
       "      <td>57.6</td>\n",
       "      <td>1.4</td>\n",
       "    </tr>\n",
       "    <tr>\n",
       "      <th>548</th>\n",
       "      <td>A1</td>\n",
       "      <td>2017</td>\n",
       "      <td>Manual</td>\n",
       "      <td>Petrol</td>\n",
       "      <td>56.5</td>\n",
       "      <td>1.4</td>\n",
       "    </tr>\n",
       "    <tr>\n",
       "      <th>1376</th>\n",
       "      <td>A1</td>\n",
       "      <td>2017</td>\n",
       "      <td>Manual</td>\n",
       "      <td>Petrol</td>\n",
       "      <td>39.8</td>\n",
       "      <td>2.0</td>\n",
       "    </tr>\n",
       "    <tr>\n",
       "      <th>3228</th>\n",
       "      <td>A1</td>\n",
       "      <td>2017</td>\n",
       "      <td>Manual</td>\n",
       "      <td>Petrol</td>\n",
       "      <td>70.6</td>\n",
       "      <td>1.4</td>\n",
       "    </tr>\n",
       "    <tr>\n",
       "      <th>5675</th>\n",
       "      <td>A1</td>\n",
       "      <td>2017</td>\n",
       "      <td>Manual</td>\n",
       "      <td>Petrol</td>\n",
       "      <td>39.2</td>\n",
       "      <td>2.0</td>\n",
       "    </tr>\n",
       "    <tr>\n",
       "      <th>7782</th>\n",
       "      <td>A1</td>\n",
       "      <td>2017</td>\n",
       "      <td>Manual</td>\n",
       "      <td>Petrol</td>\n",
       "      <td>40.4</td>\n",
       "      <td>2.0</td>\n",
       "    </tr>\n",
       "  </tbody>\n",
       "</table>\n",
       "</div>"
      ],
      "text/plain": [
       "     model  year transmission fuelType   mpg  engineSize\n",
       "0       A1  2017       Manual   Petrol  55.4         1.4\n",
       "36      A1  2017       Manual   Petrol  67.3         1.0\n",
       "94      A1  2017       Manual   Petrol  58.9         1.4\n",
       "334     A1  2017       Manual   Petrol  57.6         1.4\n",
       "548     A1  2017       Manual   Petrol  56.5         1.4\n",
       "1376    A1  2017       Manual   Petrol  39.8         2.0\n",
       "3228    A1  2017       Manual   Petrol  70.6         1.4\n",
       "5675    A1  2017       Manual   Petrol  39.2         2.0\n",
       "7782    A1  2017       Manual   Petrol  40.4         2.0"
      ]
     },
     "execution_count": 16,
     "metadata": {},
     "output_type": "execute_result"
    }
   ],
   "source": [
    "df_models.loc[(df['model']==feat[0]) & (df_models['year']==int(feat[1])) & (df_models['transmission']==feat[2]) & (df_models['fuelType']==feat[3])]"
   ]
  },
  {
   "cell_type": "markdown",
   "id": "3da55b30",
   "metadata": {},
   "source": [
    "We can clearly see the mpg and enginesize can vary for the same car model of the same year.<br>\n",
    "This means that the car owner should manually input the values when the model will be deployed."
   ]
  },
  {
   "cell_type": "markdown",
   "id": "c15ee148",
   "metadata": {},
   "source": [
    "## Categorical features Analysis"
   ]
  },
  {
   "cell_type": "markdown",
   "id": "ed15029d",
   "metadata": {},
   "source": [
    "In the following, categorical features will be analyzed"
   ]
  },
  {
   "cell_type": "code",
   "execution_count": 8,
   "id": "through-treatment",
   "metadata": {},
   "outputs": [],
   "source": [
    "#Convert year column to object so we can include it in the categorical mask\n",
    "df['year']=df['year'].astype(object)"
   ]
  },
  {
   "cell_type": "code",
   "execution_count": 9,
   "id": "lesbian-muslim",
   "metadata": {},
   "outputs": [],
   "source": [
    "# Create a boolean mask for categorical columns\n",
    "categorical_mask = (df.dtypes == object)"
   ]
  },
  {
   "cell_type": "code",
   "execution_count": 10,
   "id": "signed-diesel",
   "metadata": {},
   "outputs": [],
   "source": [
    "categorical_columns = df.columns[categorical_mask].tolist()"
   ]
  },
  {
   "cell_type": "code",
   "execution_count": 11,
   "id": "mediterranean-burlington",
   "metadata": {},
   "outputs": [
    {
     "name": "stdout",
     "output_type": "stream",
     "text": [
      "  model  year transmission fuelType\n",
      "0    A1  2017       Manual   Petrol\n",
      "1    A6  2016    Automatic   Diesel\n",
      "2    A1  2016       Manual   Petrol\n",
      "3    A4  2017    Automatic   Diesel\n",
      "4    A3  2019       Manual   Petrol\n"
     ]
    }
   ],
   "source": [
    "print(df[categorical_columns].head())"
   ]
  },
  {
   "cell_type": "code",
   "execution_count": 298,
   "id": "03b218b4",
   "metadata": {},
   "outputs": [],
   "source": [
    "df_cat=df[categorical_columns]"
   ]
  },
  {
   "cell_type": "code",
   "execution_count": 299,
   "id": "b40e527c",
   "metadata": {},
   "outputs": [
    {
     "name": "stderr",
     "output_type": "stream",
     "text": [
      "<ipython-input-299-04a1ab906471>:1: SettingWithCopyWarning: \n",
      "A value is trying to be set on a copy of a slice from a DataFrame.\n",
      "Try using .loc[row_indexer,col_indexer] = value instead\n",
      "\n",
      "See the caveats in the documentation: https://pandas.pydata.org/pandas-docs/stable/user_guide/indexing.html#returning-a-view-versus-a-copy\n",
      "  df_cat['price']=df['price'];\n"
     ]
    }
   ],
   "source": [
    "df_cat['price']=df['price'];"
   ]
  },
  {
   "cell_type": "code",
   "execution_count": 300,
   "id": "32dceb61",
   "metadata": {},
   "outputs": [
    {
     "data": {
      "text/html": [
       "<div>\n",
       "<style scoped>\n",
       "    .dataframe tbody tr th:only-of-type {\n",
       "        vertical-align: middle;\n",
       "    }\n",
       "\n",
       "    .dataframe tbody tr th {\n",
       "        vertical-align: top;\n",
       "    }\n",
       "\n",
       "    .dataframe thead th {\n",
       "        text-align: right;\n",
       "    }\n",
       "</style>\n",
       "<table border=\"1\" class=\"dataframe\">\n",
       "  <thead>\n",
       "    <tr style=\"text-align: right;\">\n",
       "      <th></th>\n",
       "      <th>model</th>\n",
       "      <th>year</th>\n",
       "      <th>transmission</th>\n",
       "      <th>fuelType</th>\n",
       "      <th>price</th>\n",
       "    </tr>\n",
       "  </thead>\n",
       "  <tbody>\n",
       "    <tr>\n",
       "      <th>0</th>\n",
       "      <td>A1</td>\n",
       "      <td>2017</td>\n",
       "      <td>Manual</td>\n",
       "      <td>Petrol</td>\n",
       "      <td>12500</td>\n",
       "    </tr>\n",
       "    <tr>\n",
       "      <th>1</th>\n",
       "      <td>A6</td>\n",
       "      <td>2016</td>\n",
       "      <td>Automatic</td>\n",
       "      <td>Diesel</td>\n",
       "      <td>16500</td>\n",
       "    </tr>\n",
       "    <tr>\n",
       "      <th>2</th>\n",
       "      <td>A1</td>\n",
       "      <td>2016</td>\n",
       "      <td>Manual</td>\n",
       "      <td>Petrol</td>\n",
       "      <td>11000</td>\n",
       "    </tr>\n",
       "    <tr>\n",
       "      <th>3</th>\n",
       "      <td>A4</td>\n",
       "      <td>2017</td>\n",
       "      <td>Automatic</td>\n",
       "      <td>Diesel</td>\n",
       "      <td>16800</td>\n",
       "    </tr>\n",
       "    <tr>\n",
       "      <th>4</th>\n",
       "      <td>A3</td>\n",
       "      <td>2019</td>\n",
       "      <td>Manual</td>\n",
       "      <td>Petrol</td>\n",
       "      <td>17300</td>\n",
       "    </tr>\n",
       "  </tbody>\n",
       "</table>\n",
       "</div>"
      ],
      "text/plain": [
       "  model  year transmission fuelType  price\n",
       "0    A1  2017       Manual   Petrol  12500\n",
       "1    A6  2016    Automatic   Diesel  16500\n",
       "2    A1  2016       Manual   Petrol  11000\n",
       "3    A4  2017    Automatic   Diesel  16800\n",
       "4    A3  2019       Manual   Petrol  17300"
      ]
     },
     "execution_count": 300,
     "metadata": {},
     "output_type": "execute_result"
    }
   ],
   "source": [
    "df_cat.head()"
   ]
  },
  {
   "cell_type": "markdown",
   "id": "423c1369",
   "metadata": {},
   "source": [
    "### How is the fueltype related to the price?"
   ]
  },
  {
   "cell_type": "code",
   "execution_count": 301,
   "id": "1e16eaf5",
   "metadata": {},
   "outputs": [
    {
     "data": {
      "image/png": "[encoded data removed]",
      "text/plain": [
       "<Figure size 460.8x403.2 with 1 Axes>"
      ]
     },
     "metadata": {},
     "output_type": "display_data"
    }
   ],
   "source": [
    "sns.boxplot(x='fuelType', y='price', data=df_cat, hue='transmission');\n",
    "plt.xlabel('FuelType');\n",
    "plt.title('Price vs Fueltype by Transmission');"
   ]
  },
  {
   "cell_type": "markdown",
   "id": "b40aca01",
   "metadata": {},
   "source": [
    "We can see that Petrol cars are more expensive and present lots of outliers values. In particular, among the Petrol cars, those with Automatic and Semi-Auto transmission appears to be the most expensive, while the cars with a manual transimission are cheaper.<br>\n",
    "Hybrid cars looks like to have no outliers."
   ]
  },
  {
   "cell_type": "markdown",
   "id": "887c15a6",
   "metadata": {},
   "source": [
    "### How is the Transmission related to the price?"
   ]
  },
  {
   "cell_type": "code",
   "execution_count": 21,
   "id": "70c28c28",
   "metadata": {},
   "outputs": [
    {
     "data": {
      "image/png": "[encoded data removed]",
      "text/plain": [
       "<Figure size 460.8x403.2 with 1 Axes>"
      ]
     },
     "metadata": {},
     "output_type": "display_data"
    }
   ],
   "source": [
    "sns.boxplot(x='transmission', y='price', data=df_cat, hue='fuelType');\n",
    "plt.xlabel('Transmission');\n",
    "plt.title('Price vs Transmission by Fueltype');"
   ]
  },
  {
   "cell_type": "markdown",
   "id": "b1409a7e",
   "metadata": {},
   "source": [
    "From this plot it is possible to assert that cars with an Automatic or Semi-Automatic transmission are on average more expensive than cars with manual transmission. In particular, it is possible to say that while cars with manual transmission have a more similar price, cars with automatic or semi-auto transmission have a wider range of prices. Finally, Hybrid cars looks to have a more similar price with no outliers."
   ]
  },
  {
   "cell_type": "markdown",
   "id": "243b695c",
   "metadata": {},
   "source": [
    "## Numerical featurs analysis"
   ]
  },
  {
   "cell_type": "code",
   "execution_count": 277,
   "id": "baee8d65",
   "metadata": {},
   "outputs": [
    {
     "ename": "SyntaxError",
     "evalue": "invalid syntax (<ipython-input-277-6ace6c4592fc>, line 1)",
     "output_type": "error",
     "traceback": [
      "\u001b[1;36m  File \u001b[1;32m\"<ipython-input-277-6ace6c4592fc>\"\u001b[1;36m, line \u001b[1;32m1\u001b[0m\n\u001b[1;33m    In the following, the numerical features of the dataset will be analyed.\u001b[0m\n\u001b[1;37m       ^\u001b[0m\n\u001b[1;31mSyntaxError\u001b[0m\u001b[1;31m:\u001b[0m invalid syntax\n"
     ]
    }
   ],
   "source": [
    "In the following, the numerical features of the dataset will be analyed."
   ]
  },
  {
   "cell_type": "code",
   "execution_count": null,
   "id": "8289d171",
   "metadata": {},
   "outputs": [],
   "source": [
    "#create a dataframe with only the numerical features\n",
    "df_num=df[['mpg','mileage','tax', 'price']]\n",
    "df_num.head()"
   ]
  },
  {
   "cell_type": "markdown",
   "id": "112dada6",
   "metadata": {},
   "source": [
    "### How are tax and mpg related to the price?"
   ]
  },
  {
   "cell_type": "code",
   "execution_count": 23,
   "id": "f1dc621c",
   "metadata": {},
   "outputs": [],
   "source": [
    "corr=df_num.corr()"
   ]
  },
  {
   "cell_type": "code",
   "execution_count": 24,
   "id": "83d04145",
   "metadata": {},
   "outputs": [
    {
     "data": {
      "text/plain": [
       "<matplotlib.colors.ListedColormap at 0x1f44a8fa310>"
      ]
     },
     "execution_count": 24,
     "metadata": {},
     "output_type": "execute_result"
    },
    {
     "data": {
      "image/png": "[encoded data removed]",
      "text/plain": [
       "<Figure size 460.8x403.2 with 2 Axes>"
      ]
     },
     "metadata": {},
     "output_type": "display_data"
    }
   ],
   "source": [
    "sns.heatmap(corr,annot=True, cmap='YlGnBu_r')\n",
    "sns.cubehelix_palette(as_cmap=True, reverse=True)"
   ]
  },
  {
   "cell_type": "markdown",
   "id": "0a8de261",
   "metadata": {},
   "source": [
    "From the heatmap, we can say the following about the price:<br>\n",
    "There is a quite moderate negative correlation (-0.6) between the mpg and the price. This means that cars with high mpg tends to be cheaper.<br>\n",
    "There is a quite moderate negatvie correlation (-0.54) between the mileage and the price. This means that cars with a higher mileage then to be cheaper.<br>\n",
    "There is a small positive correlation also between the tax and the price. Cars with higher tax tends to cost more.\n",
    "\n",
    "Other interesting information not related to the price are:<br>\n",
    "There is a moderate positive correlation (0.4) between the mpg and mileage: cars with high mpg tends to have a higher mileage<br>\n",
    "There is a quite moderate negative correaltion (-0.6) between tax and mpg. Cars with high mpg tends to have low tax.\n",
    "\n",
    "\n",
    "\n"
   ]
  },
  {
   "cell_type": "markdown",
   "id": "ef01c900",
   "metadata": {},
   "source": [
    "# Data Preparation for modeling"
   ]
  },
  {
   "cell_type": "markdown",
   "id": "c19a3efe",
   "metadata": {},
   "source": [
    "The categorical features will be encoded by one hot encoding (OHE). This method is preferred compared to the pandas function 'get_dummies' since for model deployment we must to be able to export the encoding model for reproducibility."
   ]
  },
  {
   "cell_type": "markdown",
   "id": "informed-detail",
   "metadata": {},
   "source": [
    "## One Hot encoding"
   ]
  },
  {
   "cell_type": "code",
   "execution_count": 278,
   "id": "absent-attempt",
   "metadata": {},
   "outputs": [
    {
     "data": {
      "text/plain": [
       "OneHotEncoder()"
      ]
     },
     "execution_count": 278,
     "metadata": {},
     "output_type": "execute_result"
    }
   ],
   "source": [
    "from sklearn.preprocessing import OneHotEncoder\n",
    "enc = OneHotEncoder()\n",
    "enc.fit(df[categorical_columns])"
   ]
  },
  {
   "cell_type": "code",
   "execution_count": 279,
   "id": "68d6a99f",
   "metadata": {},
   "outputs": [
    {
     "data": {
      "text/html": [
       "<div>\n",
       "<style scoped>\n",
       "    .dataframe tbody tr th:only-of-type {\n",
       "        vertical-align: middle;\n",
       "    }\n",
       "\n",
       "    .dataframe tbody tr th {\n",
       "        vertical-align: top;\n",
       "    }\n",
       "\n",
       "    .dataframe thead th {\n",
       "        text-align: right;\n",
       "    }\n",
       "</style>\n",
       "<table border=\"1\" class=\"dataframe\">\n",
       "  <thead>\n",
       "    <tr style=\"text-align: right;\">\n",
       "      <th></th>\n",
       "      <th>model</th>\n",
       "      <th>year</th>\n",
       "      <th>transmission</th>\n",
       "      <th>fuelType</th>\n",
       "    </tr>\n",
       "  </thead>\n",
       "  <tbody>\n",
       "    <tr>\n",
       "      <th>0</th>\n",
       "      <td>A1</td>\n",
       "      <td>2017</td>\n",
       "      <td>Manual</td>\n",
       "      <td>Petrol</td>\n",
       "    </tr>\n",
       "    <tr>\n",
       "      <th>1</th>\n",
       "      <td>A6</td>\n",
       "      <td>2016</td>\n",
       "      <td>Automatic</td>\n",
       "      <td>Diesel</td>\n",
       "    </tr>\n",
       "    <tr>\n",
       "      <th>2</th>\n",
       "      <td>A1</td>\n",
       "      <td>2016</td>\n",
       "      <td>Manual</td>\n",
       "      <td>Petrol</td>\n",
       "    </tr>\n",
       "    <tr>\n",
       "      <th>3</th>\n",
       "      <td>A4</td>\n",
       "      <td>2017</td>\n",
       "      <td>Automatic</td>\n",
       "      <td>Diesel</td>\n",
       "    </tr>\n",
       "    <tr>\n",
       "      <th>4</th>\n",
       "      <td>A3</td>\n",
       "      <td>2019</td>\n",
       "      <td>Manual</td>\n",
       "      <td>Petrol</td>\n",
       "    </tr>\n",
       "  </tbody>\n",
       "</table>\n",
       "</div>"
      ],
      "text/plain": [
       "  model  year transmission fuelType\n",
       "0    A1  2017       Manual   Petrol\n",
       "1    A6  2016    Automatic   Diesel\n",
       "2    A1  2016       Manual   Petrol\n",
       "3    A4  2017    Automatic   Diesel\n",
       "4    A3  2019       Manual   Petrol"
      ]
     },
     "execution_count": 279,
     "metadata": {},
     "output_type": "execute_result"
    }
   ],
   "source": [
    "df[categorical_columns].head()"
   ]
  },
  {
   "cell_type": "code",
   "execution_count": 280,
   "id": "deluxe-semester",
   "metadata": {},
   "outputs": [
    {
     "data": {
      "text/plain": [
       "['encoder.joblib']"
      ]
     },
     "execution_count": 280,
     "metadata": {},
     "output_type": "execute_result"
    }
   ],
   "source": [
    "import pickle\n",
    "import joblib\n",
    "#the encoder can be exported via joblib or pickle\n",
    "pickle.dump(enc, open('encoder.pkl','wb'))\n",
    "joblib.dump(enc, 'encoder.joblib')\n",
    "# both joblib and pickle works the same in this case"
   ]
  },
  {
   "cell_type": "code",
   "execution_count": 29,
   "id": "front-berlin",
   "metadata": {},
   "outputs": [
    {
     "data": {
      "text/html": [
       "<div>\n",
       "<style scoped>\n",
       "    .dataframe tbody tr th:only-of-type {\n",
       "        vertical-align: middle;\n",
       "    }\n",
       "\n",
       "    .dataframe tbody tr th {\n",
       "        vertical-align: top;\n",
       "    }\n",
       "\n",
       "    .dataframe thead th {\n",
       "        text-align: right;\n",
       "    }\n",
       "</style>\n",
       "<table border=\"1\" class=\"dataframe\">\n",
       "  <thead>\n",
       "    <tr style=\"text-align: right;\">\n",
       "      <th></th>\n",
       "      <th>mileage</th>\n",
       "      <th>tax</th>\n",
       "      <th>mpg</th>\n",
       "      <th>engineSize</th>\n",
       "      <th>price</th>\n",
       "      <th>model_A1</th>\n",
       "      <th>model_A2</th>\n",
       "      <th>model_A3</th>\n",
       "      <th>model_A4</th>\n",
       "      <th>model_A5</th>\n",
       "      <th>...</th>\n",
       "      <th>year_2017</th>\n",
       "      <th>year_2018</th>\n",
       "      <th>year_2019</th>\n",
       "      <th>year_2020</th>\n",
       "      <th>transmission_Automatic</th>\n",
       "      <th>transmission_Manual</th>\n",
       "      <th>transmission_Semi-Auto</th>\n",
       "      <th>fuelType_Diesel</th>\n",
       "      <th>fuelType_Hybrid</th>\n",
       "      <th>fuelType_Petrol</th>\n",
       "    </tr>\n",
       "  </thead>\n",
       "  <tbody>\n",
       "    <tr>\n",
       "      <th>0</th>\n",
       "      <td>15735</td>\n",
       "      <td>150</td>\n",
       "      <td>55.4</td>\n",
       "      <td>1.4</td>\n",
       "      <td>12500</td>\n",
       "      <td>1</td>\n",
       "      <td>0</td>\n",
       "      <td>0</td>\n",
       "      <td>0</td>\n",
       "      <td>0</td>\n",
       "      <td>...</td>\n",
       "      <td>1</td>\n",
       "      <td>0</td>\n",
       "      <td>0</td>\n",
       "      <td>0</td>\n",
       "      <td>0</td>\n",
       "      <td>1</td>\n",
       "      <td>0</td>\n",
       "      <td>0</td>\n",
       "      <td>0</td>\n",
       "      <td>1</td>\n",
       "    </tr>\n",
       "    <tr>\n",
       "      <th>1</th>\n",
       "      <td>36203</td>\n",
       "      <td>20</td>\n",
       "      <td>64.2</td>\n",
       "      <td>2.0</td>\n",
       "      <td>16500</td>\n",
       "      <td>0</td>\n",
       "      <td>0</td>\n",
       "      <td>0</td>\n",
       "      <td>0</td>\n",
       "      <td>0</td>\n",
       "      <td>...</td>\n",
       "      <td>0</td>\n",
       "      <td>0</td>\n",
       "      <td>0</td>\n",
       "      <td>0</td>\n",
       "      <td>1</td>\n",
       "      <td>0</td>\n",
       "      <td>0</td>\n",
       "      <td>1</td>\n",
       "      <td>0</td>\n",
       "      <td>0</td>\n",
       "    </tr>\n",
       "    <tr>\n",
       "      <th>2</th>\n",
       "      <td>29946</td>\n",
       "      <td>30</td>\n",
       "      <td>55.4</td>\n",
       "      <td>1.4</td>\n",
       "      <td>11000</td>\n",
       "      <td>1</td>\n",
       "      <td>0</td>\n",
       "      <td>0</td>\n",
       "      <td>0</td>\n",
       "      <td>0</td>\n",
       "      <td>...</td>\n",
       "      <td>0</td>\n",
       "      <td>0</td>\n",
       "      <td>0</td>\n",
       "      <td>0</td>\n",
       "      <td>0</td>\n",
       "      <td>1</td>\n",
       "      <td>0</td>\n",
       "      <td>0</td>\n",
       "      <td>0</td>\n",
       "      <td>1</td>\n",
       "    </tr>\n",
       "    <tr>\n",
       "      <th>3</th>\n",
       "      <td>25952</td>\n",
       "      <td>145</td>\n",
       "      <td>67.3</td>\n",
       "      <td>2.0</td>\n",
       "      <td>16800</td>\n",
       "      <td>0</td>\n",
       "      <td>0</td>\n",
       "      <td>0</td>\n",
       "      <td>1</td>\n",
       "      <td>0</td>\n",
       "      <td>...</td>\n",
       "      <td>1</td>\n",
       "      <td>0</td>\n",
       "      <td>0</td>\n",
       "      <td>0</td>\n",
       "      <td>1</td>\n",
       "      <td>0</td>\n",
       "      <td>0</td>\n",
       "      <td>1</td>\n",
       "      <td>0</td>\n",
       "      <td>0</td>\n",
       "    </tr>\n",
       "    <tr>\n",
       "      <th>4</th>\n",
       "      <td>1998</td>\n",
       "      <td>145</td>\n",
       "      <td>49.6</td>\n",
       "      <td>1.0</td>\n",
       "      <td>17300</td>\n",
       "      <td>0</td>\n",
       "      <td>0</td>\n",
       "      <td>1</td>\n",
       "      <td>0</td>\n",
       "      <td>0</td>\n",
       "      <td>...</td>\n",
       "      <td>0</td>\n",
       "      <td>0</td>\n",
       "      <td>1</td>\n",
       "      <td>0</td>\n",
       "      <td>0</td>\n",
       "      <td>1</td>\n",
       "      <td>0</td>\n",
       "      <td>0</td>\n",
       "      <td>0</td>\n",
       "      <td>1</td>\n",
       "    </tr>\n",
       "  </tbody>\n",
       "</table>\n",
       "<p>5 rows × 58 columns</p>\n",
       "</div>"
      ],
      "text/plain": [
       "   mileage  tax   mpg  engineSize  price  model_A1  model_A2  model_A3  \\\n",
       "0    15735  150  55.4         1.4  12500         1         0         0   \n",
       "1    36203   20  64.2         2.0  16500         0         0         0   \n",
       "2    29946   30  55.4         1.4  11000         1         0         0   \n",
       "3    25952  145  67.3         2.0  16800         0         0         0   \n",
       "4     1998  145  49.6         1.0  17300         0         0         1   \n",
       "\n",
       "   model_A4  model_A5  ...  year_2017  year_2018  year_2019  year_2020  \\\n",
       "0         0         0  ...          1          0          0          0   \n",
       "1         0         0  ...          0          0          0          0   \n",
       "2         0         0  ...          0          0          0          0   \n",
       "3         1         0  ...          1          0          0          0   \n",
       "4         0         0  ...          0          0          1          0   \n",
       "\n",
       "   transmission_Automatic  transmission_Manual  transmission_Semi-Auto  \\\n",
       "0                       0                    1                       0   \n",
       "1                       1                    0                       0   \n",
       "2                       0                    1                       0   \n",
       "3                       1                    0                       0   \n",
       "4                       0                    1                       0   \n",
       "\n",
       "   fuelType_Diesel  fuelType_Hybrid  fuelType_Petrol  \n",
       "0                0                0                1  \n",
       "1                1                0                0  \n",
       "2                0                0                1  \n",
       "3                1                0                0  \n",
       "4                0                0                1  \n",
       "\n",
       "[5 rows x 58 columns]"
      ]
     },
     "execution_count": 29,
     "metadata": {},
     "output_type": "execute_result"
    }
   ],
   "source": [
    "df_encode = df[categorical_columns]\n",
    "df_encode = pd.DataFrame(data=enc.transform(df_encode).toarray(),columns=enc.get_feature_names(categorical_columns), dtype=bool)\n",
    "# trasfer true and false to 1 and 0\n",
    "df_encode = df_encode * 1\n",
    "\n",
    "# concatenate data\n",
    "df_OHE = pd.concat((df.drop(categorical_columns, axis=1), df_encode), axis=1)\n",
    "df_OHE.head()"
   ]
  },
  {
   "cell_type": "code",
   "execution_count": 30,
   "id": "headed-grass",
   "metadata": {},
   "outputs": [
    {
     "data": {
      "text/html": [
       "<div>\n",
       "<style scoped>\n",
       "    .dataframe tbody tr th:only-of-type {\n",
       "        vertical-align: middle;\n",
       "    }\n",
       "\n",
       "    .dataframe tbody tr th {\n",
       "        vertical-align: top;\n",
       "    }\n",
       "\n",
       "    .dataframe thead th {\n",
       "        text-align: right;\n",
       "    }\n",
       "</style>\n",
       "<table border=\"1\" class=\"dataframe\">\n",
       "  <thead>\n",
       "    <tr style=\"text-align: right;\">\n",
       "      <th></th>\n",
       "      <th>mileage</th>\n",
       "      <th>tax</th>\n",
       "      <th>mpg</th>\n",
       "      <th>engineSize</th>\n",
       "      <th>price</th>\n",
       "      <th>model_A1</th>\n",
       "      <th>model_A2</th>\n",
       "      <th>model_A3</th>\n",
       "      <th>model_A4</th>\n",
       "      <th>model_A5</th>\n",
       "      <th>...</th>\n",
       "      <th>year_2017</th>\n",
       "      <th>year_2018</th>\n",
       "      <th>year_2019</th>\n",
       "      <th>year_2020</th>\n",
       "      <th>transmission_Automatic</th>\n",
       "      <th>transmission_Manual</th>\n",
       "      <th>transmission_Semi-Auto</th>\n",
       "      <th>fuelType_Diesel</th>\n",
       "      <th>fuelType_Hybrid</th>\n",
       "      <th>fuelType_Petrol</th>\n",
       "    </tr>\n",
       "  </thead>\n",
       "  <tbody>\n",
       "    <tr>\n",
       "      <th>0</th>\n",
       "      <td>15735</td>\n",
       "      <td>150</td>\n",
       "      <td>55.4</td>\n",
       "      <td>1.4</td>\n",
       "      <td>12500</td>\n",
       "      <td>1</td>\n",
       "      <td>0</td>\n",
       "      <td>0</td>\n",
       "      <td>0</td>\n",
       "      <td>0</td>\n",
       "      <td>...</td>\n",
       "      <td>1</td>\n",
       "      <td>0</td>\n",
       "      <td>0</td>\n",
       "      <td>0</td>\n",
       "      <td>0</td>\n",
       "      <td>1</td>\n",
       "      <td>0</td>\n",
       "      <td>0</td>\n",
       "      <td>0</td>\n",
       "      <td>1</td>\n",
       "    </tr>\n",
       "    <tr>\n",
       "      <th>1</th>\n",
       "      <td>36203</td>\n",
       "      <td>20</td>\n",
       "      <td>64.2</td>\n",
       "      <td>2.0</td>\n",
       "      <td>16500</td>\n",
       "      <td>0</td>\n",
       "      <td>0</td>\n",
       "      <td>0</td>\n",
       "      <td>0</td>\n",
       "      <td>0</td>\n",
       "      <td>...</td>\n",
       "      <td>0</td>\n",
       "      <td>0</td>\n",
       "      <td>0</td>\n",
       "      <td>0</td>\n",
       "      <td>1</td>\n",
       "      <td>0</td>\n",
       "      <td>0</td>\n",
       "      <td>1</td>\n",
       "      <td>0</td>\n",
       "      <td>0</td>\n",
       "    </tr>\n",
       "    <tr>\n",
       "      <th>2</th>\n",
       "      <td>29946</td>\n",
       "      <td>30</td>\n",
       "      <td>55.4</td>\n",
       "      <td>1.4</td>\n",
       "      <td>11000</td>\n",
       "      <td>1</td>\n",
       "      <td>0</td>\n",
       "      <td>0</td>\n",
       "      <td>0</td>\n",
       "      <td>0</td>\n",
       "      <td>...</td>\n",
       "      <td>0</td>\n",
       "      <td>0</td>\n",
       "      <td>0</td>\n",
       "      <td>0</td>\n",
       "      <td>0</td>\n",
       "      <td>1</td>\n",
       "      <td>0</td>\n",
       "      <td>0</td>\n",
       "      <td>0</td>\n",
       "      <td>1</td>\n",
       "    </tr>\n",
       "    <tr>\n",
       "      <th>3</th>\n",
       "      <td>25952</td>\n",
       "      <td>145</td>\n",
       "      <td>67.3</td>\n",
       "      <td>2.0</td>\n",
       "      <td>16800</td>\n",
       "      <td>0</td>\n",
       "      <td>0</td>\n",
       "      <td>0</td>\n",
       "      <td>1</td>\n",
       "      <td>0</td>\n",
       "      <td>...</td>\n",
       "      <td>1</td>\n",
       "      <td>0</td>\n",
       "      <td>0</td>\n",
       "      <td>0</td>\n",
       "      <td>1</td>\n",
       "      <td>0</td>\n",
       "      <td>0</td>\n",
       "      <td>1</td>\n",
       "      <td>0</td>\n",
       "      <td>0</td>\n",
       "    </tr>\n",
       "    <tr>\n",
       "      <th>4</th>\n",
       "      <td>1998</td>\n",
       "      <td>145</td>\n",
       "      <td>49.6</td>\n",
       "      <td>1.0</td>\n",
       "      <td>17300</td>\n",
       "      <td>0</td>\n",
       "      <td>0</td>\n",
       "      <td>1</td>\n",
       "      <td>0</td>\n",
       "      <td>0</td>\n",
       "      <td>...</td>\n",
       "      <td>0</td>\n",
       "      <td>0</td>\n",
       "      <td>1</td>\n",
       "      <td>0</td>\n",
       "      <td>0</td>\n",
       "      <td>1</td>\n",
       "      <td>0</td>\n",
       "      <td>0</td>\n",
       "      <td>0</td>\n",
       "      <td>1</td>\n",
       "    </tr>\n",
       "  </tbody>\n",
       "</table>\n",
       "<p>5 rows × 58 columns</p>\n",
       "</div>"
      ],
      "text/plain": [
       "   mileage  tax   mpg  engineSize  price  model_A1  model_A2  model_A3  \\\n",
       "0    15735  150  55.4         1.4  12500         1         0         0   \n",
       "1    36203   20  64.2         2.0  16500         0         0         0   \n",
       "2    29946   30  55.4         1.4  11000         1         0         0   \n",
       "3    25952  145  67.3         2.0  16800         0         0         0   \n",
       "4     1998  145  49.6         1.0  17300         0         0         1   \n",
       "\n",
       "   model_A4  model_A5  ...  year_2017  year_2018  year_2019  year_2020  \\\n",
       "0         0         0  ...          1          0          0          0   \n",
       "1         0         0  ...          0          0          0          0   \n",
       "2         0         0  ...          0          0          0          0   \n",
       "3         1         0  ...          1          0          0          0   \n",
       "4         0         0  ...          0          0          1          0   \n",
       "\n",
       "   transmission_Automatic  transmission_Manual  transmission_Semi-Auto  \\\n",
       "0                       0                    1                       0   \n",
       "1                       1                    0                       0   \n",
       "2                       0                    1                       0   \n",
       "3                       1                    0                       0   \n",
       "4                       0                    1                       0   \n",
       "\n",
       "   fuelType_Diesel  fuelType_Hybrid  fuelType_Petrol  \n",
       "0                0                0                1  \n",
       "1                1                0                0  \n",
       "2                0                0                1  \n",
       "3                1                0                0  \n",
       "4                0                0                1  \n",
       "\n",
       "[5 rows x 58 columns]"
      ]
     },
     "execution_count": 30,
     "metadata": {},
     "output_type": "execute_result"
    }
   ],
   "source": [
    "encoded_df=df_OHE\n",
    "encoded_df.head()"
   ]
  },
  {
   "cell_type": "markdown",
   "id": "parallel-october",
   "metadata": {},
   "source": [
    "I have 58 columns: 5 (numeric_cols) + 53 (unique cateogric_cols) = 58"
   ]
  },
  {
   "cell_type": "markdown",
   "id": "gentle-table",
   "metadata": {},
   "source": [
    "Now the data is ready for the learning"
   ]
  },
  {
   "cell_type": "markdown",
   "id": "defensive-dubai",
   "metadata": {},
   "source": [
    "## Prepare the data for learning"
   ]
  },
  {
   "cell_type": "code",
   "execution_count": 209,
   "id": "brazilian-ecuador",
   "metadata": {},
   "outputs": [],
   "source": [
    "X=encoded_df.drop('price', axis = 1).values"
   ]
  },
  {
   "cell_type": "code",
   "execution_count": 210,
   "id": "coordinated-second",
   "metadata": {},
   "outputs": [],
   "source": [
    "y=encoded_df['price'].values"
   ]
  },
  {
   "cell_type": "code",
   "execution_count": 211,
   "id": "recovered-father",
   "metadata": {},
   "outputs": [],
   "source": [
    "X_train, X_test, y_train, y_test = train_test_split(X, y, test_size = 0.3, random_state = 69)"
   ]
  },
  {
   "cell_type": "code",
   "execution_count": 212,
   "id": "functional-alias",
   "metadata": {},
   "outputs": [],
   "source": [
    "scaler = StandardScaler()"
   ]
  },
  {
   "cell_type": "code",
   "execution_count": 213,
   "id": "minimal-stanford",
   "metadata": {},
   "outputs": [
    {
     "data": {
      "text/plain": [
       "StandardScaler()"
      ]
     },
     "execution_count": 213,
     "metadata": {},
     "output_type": "execute_result"
    }
   ],
   "source": [
    "scaler.fit(X_train)"
   ]
  },
  {
   "cell_type": "code",
   "execution_count": 214,
   "id": "commercial-blame",
   "metadata": {},
   "outputs": [],
   "source": [
    "X_train = scaler.transform(X_train)          # Apply Standardization on X_train\n",
    "X_test = scaler.transform(X_test)            # Apply Standardization on X_test"
   ]
  },
  {
   "cell_type": "code",
   "execution_count": 37,
   "id": "ea453a9b",
   "metadata": {},
   "outputs": [],
   "source": [
    "import pickle"
   ]
  },
  {
   "cell_type": "code",
   "execution_count": 38,
   "id": "14866ad6",
   "metadata": {},
   "outputs": [],
   "source": [
    "#For model deployment, we need to pickle the scaler to scale the new input data from the user\n",
    "pickle.dump(scaler, open('scaler.pkl','wb'))"
   ]
  },
  {
   "cell_type": "markdown",
   "id": "8f6f39f3",
   "metadata": {},
   "source": [
    "## Linear Regression"
   ]
  },
  {
   "cell_type": "code",
   "execution_count": 281,
   "id": "952f827a",
   "metadata": {},
   "outputs": [],
   "source": [
    "from sklearn.linear_model import LinearRegression\n",
    "from sklearn.linear_model import Ridge, Lasso"
   ]
  },
  {
   "cell_type": "code",
   "execution_count": 282,
   "id": "aaf875e5",
   "metadata": {},
   "outputs": [],
   "source": [
    "lm = LinearRegression()"
   ]
  },
  {
   "cell_type": "code",
   "execution_count": 283,
   "id": "f7a985e0",
   "metadata": {},
   "outputs": [
    {
     "data": {
      "text/plain": [
       "LinearRegression()"
      ]
     },
     "execution_count": 283,
     "metadata": {},
     "output_type": "execute_result"
    }
   ],
   "source": [
    "lm.fit(X_train,y_train)"
   ]
  },
  {
   "cell_type": "code",
   "execution_count": 284,
   "id": "ee0b9de4",
   "metadata": {},
   "outputs": [],
   "source": [
    "y_pred_lm = lm.predict(X_test)"
   ]
  },
  {
   "cell_type": "code",
   "execution_count": 43,
   "id": "7c81b979",
   "metadata": {},
   "outputs": [
    {
     "name": "stdout",
     "output_type": "stream",
     "text": [
      "RMSE using LM:  100917086805795.38\n"
     ]
    }
   ],
   "source": [
    "mse_lm = mean_squared_error(y_test, y_pred_lm)\n",
    "print(\"RMSE using LM: \", np.sqrt(mse_lm))"
   ]
  },
  {
   "cell_type": "code",
   "execution_count": 44,
   "id": "affec6b7",
   "metadata": {},
   "outputs": [
    {
     "name": "stdout",
     "output_type": "stream",
     "text": [
      "RMSE using LASSO:  3778.695194685978\n"
     ]
    }
   ],
   "source": [
    "lm_lasso=Lasso(alpha = 2, max_iter = 10000, tol = 1e-5)\n",
    "lm_lasso.fit(X_train,y_train)\n",
    "y_pred_lm_lasso = lm_lasso.predict(X_test)\n",
    "mse_lm_lasso = mean_squared_error(y_test, y_pred_lm_lasso)\n",
    "print(\"RMSE using LASSO: \", np.sqrt(mse_lm_lasso))"
   ]
  },
  {
   "cell_type": "code",
   "execution_count": 265,
   "id": "meaning-lebanon",
   "metadata": {},
   "outputs": [],
   "source": [
    "from sklearn.svm import SVR"
   ]
  },
  {
   "cell_type": "code",
   "execution_count": 270,
   "id": "hollywood-accuracy",
   "metadata": {},
   "outputs": [],
   "source": [
    "param_SVM = {'C':[1000,2000,3000,5000,6000,7000,8000],\n",
    "            'gamma':[0.0001,0.001,0.03,0.05,0.1,0.2,0.5]}"
   ]
  },
  {
   "cell_type": "code",
   "execution_count": 271,
   "id": "judicial-thriller",
   "metadata": {},
   "outputs": [],
   "source": [
    "svr_model=SVR()"
   ]
  },
  {
   "cell_type": "code",
   "execution_count": 272,
   "id": "outer-tuition",
   "metadata": {},
   "outputs": [],
   "source": [
    "cv_SVM = RandomizedSearchCV(estimator=svr_model, param_distributions = param_SVM, n_iter=10, cv = 3)"
   ]
  },
  {
   "cell_type": "code",
   "execution_count": 273,
   "id": "japanese-treasurer",
   "metadata": {},
   "outputs": [
    {
     "data": {
      "text/plain": [
       "RandomizedSearchCV(cv=3, estimator=SVR(),\n",
       "                   param_distributions={'C': [1000, 2000, 3000, 5000, 6000,\n",
       "                                              7000, 8000],\n",
       "                                        'gamma': [0.0001, 0.001, 0.03, 0.05,\n",
       "                                                  0.1, 0.2, 0.5]})"
      ]
     },
     "execution_count": 273,
     "metadata": {},
     "output_type": "execute_result"
    }
   ],
   "source": [
    "cv_SVM.fit(X_train,y_train)"
   ]
  },
  {
   "cell_type": "code",
   "execution_count": 274,
   "id": "adopted-charlotte",
   "metadata": {},
   "outputs": [],
   "source": [
    "y_pred_SVM = cv_SVM.predict(X_test)"
   ]
  },
  {
   "cell_type": "code",
   "execution_count": 275,
   "id": "common-terminal",
   "metadata": {},
   "outputs": [
    {
     "name": "stdout",
     "output_type": "stream",
     "text": [
      "Tuned SVM parameters: {'gamma': 0.05, 'C': 8000}\n"
     ]
    }
   ],
   "source": [
    "# Compute and print the metrics\n",
    "print(\"Tuned SVM parameters: {}\".format(cv_SVM.best_params_))"
   ]
  },
  {
   "cell_type": "code",
   "execution_count": 276,
   "id": "eleven-adapter",
   "metadata": {},
   "outputs": [
    {
     "name": "stdout",
     "output_type": "stream",
     "text": [
      "RMSE using SVM:  3476.0584446469043\n"
     ]
    }
   ],
   "source": [
    "mse_SVM = mean_squared_error(y_test, y_pred_SVM)\n",
    "print(\"RMSE using SVM: \", np.sqrt(mse_SVM))"
   ]
  },
  {
   "cell_type": "markdown",
   "id": "affecting-plaza",
   "metadata": {},
   "source": [
    "## XGBoost"
   ]
  },
  {
   "cell_type": "code",
   "execution_count": 53,
   "id": "alternate-potter",
   "metadata": {},
   "outputs": [],
   "source": [
    "import xgboost as xgb"
   ]
  },
  {
   "cell_type": "code",
   "execution_count": 54,
   "id": "romance-remedy",
   "metadata": {},
   "outputs": [],
   "source": [
    "# Create the parameter grid\n",
    "param_grid = {\n",
    "    'learning_rate': np.arange(0.01, 0.5, 0.01),\n",
    "    'max_depth': np.arange(3, 30, 2),\n",
    "    'n_estimators': np.arange(50, 200, 15)\n",
    "}"
   ]
  },
  {
   "cell_type": "code",
   "execution_count": 55,
   "id": "logical-journalist",
   "metadata": {},
   "outputs": [],
   "source": [
    "xgb_model=xgb.XGBRegressor()"
   ]
  },
  {
   "cell_type": "code",
   "execution_count": 56,
   "id": "comfortable-mauritius",
   "metadata": {},
   "outputs": [],
   "source": [
    "rand_neg_mse = RandomizedSearchCV(estimator=xgb_model, param_distributions=param_grid, n_iter=10, scoring='neg_mean_squared_error', cv=3)"
   ]
  },
  {
   "cell_type": "code",
   "execution_count": 57,
   "id": "funded-hearing",
   "metadata": {
    "scrolled": true
   },
   "outputs": [
    {
     "data": {
      "text/plain": [
       "XGBRegressor(base_score=0.5, booster='gbtree', colsample_bylevel=1,\n",
       "             colsample_bynode=1, colsample_bytree=1, gamma=0, gpu_id=-1,\n",
       "             importance_type='gain', interaction_constraints='',\n",
       "             learning_rate=0.300000012, max_delta_step=0, max_depth=6,\n",
       "             min_child_weight=1, missing=nan, monotone_constraints='()',\n",
       "             n_estimators=100, n_jobs=4, num_parallel_tree=1, random_state=0,\n",
       "             reg_alpha=0, reg_lambda=1, scale_pos_weight=1, subsample=1,\n",
       "             tree_method='exact', validate_parameters=1, verbosity=None)"
      ]
     },
     "execution_count": 57,
     "metadata": {},
     "output_type": "execute_result"
    }
   ],
   "source": [
    "xgb_model.fit(X_train, y_train)"
   ]
  },
  {
   "cell_type": "code",
   "execution_count": 58,
   "id": "6be8b707",
   "metadata": {},
   "outputs": [],
   "source": [
    "y_pred_xgb = xgb_model.predict(X_test)"
   ]
  },
  {
   "cell_type": "code",
   "execution_count": 59,
   "id": "c3183eb6",
   "metadata": {},
   "outputs": [],
   "source": [
    "from sklearn.metrics import mean_squared_error as MSE"
   ]
  },
  {
   "cell_type": "code",
   "execution_count": 60,
   "id": "formal-cradle",
   "metadata": {},
   "outputs": [
    {
     "name": "stdout",
     "output_type": "stream",
     "text": [
      "Best rmse: 2522.391862396832\n"
     ]
    }
   ],
   "source": [
    "print(\"Best rmse:\", np.sqrt(MSE(y_pred_xgb,y_test)))"
   ]
  },
  {
   "cell_type": "markdown",
   "id": "random-passport",
   "metadata": {},
   "source": [
    "## XGBoost with HYPEROPT Baesian optimization"
   ]
  },
  {
   "cell_type": "code",
   "execution_count": 285,
   "id": "painted-september",
   "metadata": {},
   "outputs": [],
   "source": [
    "import hyperopt\n",
    "from hyperopt import fmin, tpe, hp, STATUS_OK, Trials"
   ]
  },
  {
   "cell_type": "code",
   "execution_count": 354,
   "id": "organized-melbourne",
   "metadata": {},
   "outputs": [],
   "source": [
    "space={'n_estimators':hp.choice('n_estimators', np.arange(2,30,1)),\n",
    "       'max_depth': hp.choice(\"max_depth\", np.arange(2, 20, 1)),\n",
    "       'eta': hp.quniform('eta', 0.001, 0.8, 0.001),\n",
    "        'gamma': hp.quniform('gamma', 0, 10, 0.1),\n",
    "        'min_child_weight' : hp.quniform('min_child_weight', 0, 10, 1),\n",
    "       'subsample' : hp.quniform('subsample', 0.01, 1, 0.01),\n",
    "       'colsample_bytree' : hp.quniform('colsample_bytree', 0.1, 1.0, 0.01)\n",
    "      }"
   ]
  },
  {
   "cell_type": "code",
   "execution_count": 355,
   "id": "prerequisite-folder",
   "metadata": {},
   "outputs": [],
   "source": [
    "def hyperparameter_tuning(space):\n",
    "    print(space)\n",
    "    model = xgb.XGBRegressor(n_estimators=space['n_estimators'],\n",
    "                             max_depth =space['max_depth'],\n",
    "                             eta=space['eta'],\n",
    "                             gamma=space['gamma'],\n",
    "                           min_child_weight=space['min_child_weight'],\n",
    "                            colsample_bytree=space['colsample_bytree'],\n",
    "                            subsample=space['subsample'])\n",
    "\n",
    "    eval_set  = [( X_train, y_train), ( X_test, y_test)]\n",
    "\n",
    "    model.fit(X_train, y_train,\n",
    "            eval_set=eval_set, eval_metric=\"rmse\",\n",
    "            early_stopping_rounds=15,verbose=False)\n",
    "\n",
    "    pred = model.predict(X_test)\n",
    "    mse_scr = mean_squared_error(y_test, pred)\n",
    "    print(\"SCORE:\", np.sqrt(mse_scr))\n",
    "    #change the metric if you like\n",
    "    return {'loss':mse_scr, 'status': STATUS_OK }"
   ]
  },
  {
   "cell_type": "code",
   "execution_count": 356,
   "id": "foster-level",
   "metadata": {},
   "outputs": [
    {
     "name": "stdout",
     "output_type": "stream",
     "text": [
      "{'colsample_bytree': 0.4, 'eta': 0.449, 'gamma': 4.3, 'max_depth': 10, 'min_child_weight': 5.0, 'n_estimators': 13, 'subsample': 0.36}\n",
      "SCORE:                                                                                                                 \n",
      "3134.3417725397508                                                                                                     \n",
      "{'colsample_bytree': 0.72, 'eta': 0.318, 'gamma': 3.2, 'max_depth': 5, 'min_child_weight': 0.0, 'n_estimators': 27, 'subsample': 0.65}\n",
      "SCORE:                                                                                                                 \n",
      "2766.249928806491                                                                                                      \n",
      "{'colsample_bytree': 0.5, 'eta': 0.541, 'gamma': 0.4, 'max_depth': 10, 'min_child_weight': 2.0, 'n_estimators': 16, 'subsample': 0.45}\n",
      "SCORE:                                                                                                                 \n",
      "3116.921533996841                                                                                                      \n",
      "{'colsample_bytree': 0.62, 'eta': 0.356, 'gamma': 2.2, 'max_depth': 10, 'min_child_weight': 5.0, 'n_estimators': 24, 'subsample': 0.22}\n",
      "SCORE:                                                                                                                 \n",
      "2910.3090776280774                                                                                                     \n",
      "{'colsample_bytree': 0.99, 'eta': 0.029, 'gamma': 1.1, 'max_depth': 7, 'min_child_weight': 10.0, 'n_estimators': 9, 'subsample': 0.61}\n",
      "SCORE:                                                                                                                 \n",
      "19863.67718671548                                                                                                      \n",
      "{'colsample_bytree': 0.43, 'eta': 0.304, 'gamma': 6.9, 'max_depth': 7, 'min_child_weight': 1.0, 'n_estimators': 10, 'subsample': 0.74}\n",
      "SCORE:                                                                                                                 \n",
      "3302.8816759770875                                                                                                     \n",
      "{'colsample_bytree': 0.71, 'eta': 0.774, 'gamma': 4.9, 'max_depth': 11, 'min_child_weight': 3.0, 'n_estimators': 14, 'subsample': 0.21}\n",
      "SCORE:                                                                                                                 \n",
      "3614.184821832626                                                                                                      \n",
      "{'colsample_bytree': 0.8, 'eta': 0.438, 'gamma': 6.300000000000001, 'max_depth': 8, 'min_child_weight': 9.0, 'n_estimators': 6, 'subsample': 0.27}\n",
      "SCORE:                                                                                                                 \n",
      "3661.7701769682767                                                                                                     \n",
      "{'colsample_bytree': 0.41000000000000003, 'eta': 0.136, 'gamma': 4.4, 'max_depth': 16, 'min_child_weight': 7.0, 'n_estimators': 11, 'subsample': 0.75}\n",
      "SCORE:                                                                                                                 \n",
      "6660.695255997893                                                                                                      \n",
      "{'colsample_bytree': 0.74, 'eta': 0.168, 'gamma': 6.2, 'max_depth': 12, 'min_child_weight': 2.0, 'n_estimators': 11, 'subsample': 0.29}\n",
      "SCORE:                                                                                                                 \n",
      "4884.248569100285                                                                                                      \n",
      "{'colsample_bytree': 0.9400000000000001, 'eta': 0.053, 'gamma': 0.8, 'max_depth': 14, 'min_child_weight': 1.0, 'n_estimators': 7, 'subsample': 0.48}\n",
      "SCORE:                                                                                                                 \n",
      "17807.572369291476                                                                                                     \n",
      "{'colsample_bytree': 0.46, 'eta': 0.252, 'gamma': 4.3, 'max_depth': 16, 'min_child_weight': 5.0, 'n_estimators': 26, 'subsample': 0.26}\n",
      "SCORE:                                                                                                                 \n",
      "2845.267862080572                                                                                                      \n",
      "{'colsample_bytree': 0.45, 'eta': 0.535, 'gamma': 7.4, 'max_depth': 10, 'min_child_weight': 4.0, 'n_estimators': 27, 'subsample': 0.64}\n",
      "SCORE:                                                                                                                 \n",
      "2658.737549597882                                                                                                      \n",
      "{'colsample_bytree': 0.39, 'eta': 0.24, 'gamma': 1.5, 'max_depth': 5, 'min_child_weight': 9.0, 'n_estimators': 5, 'subsample': 0.32}\n",
      "SCORE:                                                                                                                 \n",
      "8372.355451716763                                                                                                      \n",
      "{'colsample_bytree': 0.32, 'eta': 0.311, 'gamma': 4.4, 'max_depth': 13, 'min_child_weight': 4.0, 'n_estimators': 29, 'subsample': 0.9500000000000001}\n",
      "SCORE:                                                                                                                 \n",
      "2651.2796166922185                                                                                                     \n",
      "{'colsample_bytree': 0.65, 'eta': 0.541, 'gamma': 8.0, 'max_depth': 8, 'min_child_weight': 7.0, 'n_estimators': 9, 'subsample': 0.61}\n",
      "SCORE:                                                                                                                 \n",
      "2882.2924159412596                                                                                                     \n",
      "{'colsample_bytree': 0.91, 'eta': 0.22, 'gamma': 3.8000000000000003, 'max_depth': 6, 'min_child_weight': 2.0, 'n_estimators': 28, 'subsample': 0.9400000000000001}\n",
      "SCORE:                                                                                                                 \n",
      "2663.0654399077202                                                                                                     \n",
      "{'colsample_bytree': 0.33, 'eta': 0.294, 'gamma': 1.2000000000000002, 'max_depth': 14, 'min_child_weight': 0.0, 'n_estimators': 18, 'subsample': 0.42}\n",
      "SCORE:                                                                                                                 \n",
      "3054.739086388235                                                                                                      \n",
      "{'colsample_bytree': 0.61, 'eta': 0.008, 'gamma': 3.1, 'max_depth': 12, 'min_child_weight': 9.0, 'n_estimators': 2, 'subsample': 0.1}\n",
      "SCORE:                                                                                                                 \n",
      "25186.07347796289                                                                                                      \n",
      "{'colsample_bytree': 0.26, 'eta': 0.558, 'gamma': 6.5, 'max_depth': 3, 'min_child_weight': 9.0, 'n_estimators': 29, 'subsample': 0.11}\n",
      "SCORE:                                                                                                                 \n",
      "4549.502858668922                                                                                                      \n",
      "{'colsample_bytree': 0.15, 'eta': 0.709, 'gamma': 9.9, 'max_depth': 13, 'min_child_weight': 4.0, 'n_estimators': 20, 'subsample': 0.97}\n",
      "SCORE:                                                                                                                 \n",
      "3241.635826835983                                                                                                      \n",
      "{'colsample_bytree': 0.15, 'eta': 0.639, 'gamma': 9.4, 'max_depth': 4, 'min_child_weight': 6.0, 'n_estimators': 29, 'subsample': 0.87}\n",
      "SCORE:                                                                                                                 \n",
      "3238.2811798211783                                                                                                     \n",
      "{'colsample_bytree': 0.26, 'eta': 0.404, 'gamma': 8.3, 'max_depth': 13, 'min_child_weight': 4.0, 'n_estimators': 27, 'subsample': 0.84}\n",
      "SCORE:                                                                                                                 \n",
      "2835.273276126608                                                                                                      \n",
      "{'colsample_bytree': 0.25, 'eta': 0.617, 'gamma': 5.7, 'max_depth': 19, 'min_child_weight': 4.0, 'n_estimators': 25, 'subsample': 0.76}\n",
      "SCORE:                                                                                                                 \n",
      "3251.472998583424                                                                                                      \n",
      "{'colsample_bytree': 0.55, 'eta': 0.49, 'gamma': 7.4, 'max_depth': 15, 'min_child_weight': 3.0, 'n_estimators': 3, 'subsample': 0.5700000000000001}\n",
      "SCORE:                                                                                                                 \n",
      "5065.169276598484                                                                                                      \n",
      "{'colsample_bytree': 0.53, 'eta': 0.792, 'gamma': 5.300000000000001, 'max_depth': 2, 'min_child_weight': 6.0, 'n_estimators': 8, 'subsample': 0.86}\n",
      "SCORE:                                                                                                                 \n",
      "4770.696316968734                                                                                                      \n",
      "{'colsample_bytree': 0.1, 'eta': 0.656, 'gamma': 7.7, 'max_depth': 9, 'min_child_weight': 3.0, 'n_estimators': 21, 'subsample': 0.7000000000000001}\n",
      "SCORE:                                                                                                                 \n",
      "3360.020541242991                                                                                                      \n",
      "{'colsample_bytree': 0.33, 'eta': 0.372, 'gamma': 8.9, 'max_depth': 17, 'min_child_weight': 6.0, 'n_estimators': 23, 'subsample': 0.99}\n",
      "SCORE:                                                                                                                 \n",
      "2735.308884882337                                                                                                      \n",
      "{'colsample_bytree': 0.34, 'eta': 0.468, 'gamma': 2.3000000000000003, 'max_depth': 18, 'min_child_weight': 7.0, 'n_estimators': 12, 'subsample': 0.92}\n",
      "SCORE:                                                                                                                 \n",
      "2835.045256176318                                                                                                      \n",
      "{'colsample_bytree': 0.2, 'eta': 0.734, 'gamma': 8.700000000000001, 'max_depth': 13, 'min_child_weight': 4.0, 'n_estimators': 19, 'subsample': 0.52}\n",
      "SCORE:                                                                                                                 \n",
      "3622.8736287502265                                                                                                     \n",
      "{'colsample_bytree': 0.36, 'eta': 0.101, 'gamma': 7.0, 'max_depth': 10, 'min_child_weight': 5.0, 'n_estimators': 17, 'subsample': 0.02}\n",
      "SCORE:                                                                                                                 \n",
      "7461.921023876928                                                                                                      \n",
      "{'colsample_bytree': 0.51, 'eta': 0.497, 'gamma': 3.4000000000000004, 'max_depth': 10, 'min_child_weight': 1.0, 'n_estimators': 15, 'subsample': 0.38}\n",
      "SCORE:                                                                                                                 \n",
      "2943.914449587375                                                                                                      \n",
      "{'colsample_bytree': 0.45, 'eta': 0.588, 'gamma': 0.0, 'max_depth': 13, 'min_child_weight': 3.0, 'n_estimators': 22, 'subsample': 0.8}\n",
      "SCORE:                                                                                                                 \n",
      "2775.7958431232087                                                                                                     \n",
      "{'colsample_bytree': 0.58, 'eta': 0.418, 'gamma': 5.6000000000000005, 'max_depth': 18, 'min_child_weight': 6.0, 'n_estimators': 4, 'subsample': 0.68}\n",
      "SCORE:                                                                                                                 \n",
      "4320.822035257094                                                                                                      \n",
      "{'colsample_bytree': 0.29, 'eta': 0.34600000000000003, 'gamma': 4.800000000000001, 'max_depth': 10, 'min_child_weight': 8.0, 'n_estimators': 13, 'subsample': 0.52}\n",
      "SCORE:                                                                                                                 \n",
      "3379.768626991111                                                                                                      \n",
      "{'colsample_bytree': 0.47000000000000003, 'eta': 0.202, 'gamma': 2.6, 'max_depth': 11, 'min_child_weight': 0.0, 'n_estimators': 24, 'subsample': 0.66}\n",
      "SCORE:                                                                                                                 \n",
      "2552.3506943659468                                                                                                     \n",
      "{'colsample_bytree': 0.67, 'eta': 0.18, 'gamma': 2.5, 'max_depth': 11, 'min_child_weight': 0.0, 'n_estimators': 24, 'subsample': 0.92}\n",
      "SCORE:                                                                                                                 \n",
      "2368.8914427882823                                                                                                     \n",
      "{'colsample_bytree': 0.85, 'eta': 0.183, 'gamma': 2.1, 'max_depth': 11, 'min_child_weight': 0.0, 'n_estimators': 24, 'subsample': 0.9}\n",
      "SCORE:                                                                                                                 \n",
      "2445.1478624996344                                                                                                     \n",
      "{'colsample_bytree': 0.8, 'eta': 0.073, 'gamma': 1.7000000000000002, 'max_depth': 11, 'min_child_weight': 1.0, 'n_estimators': 24, 'subsample': 0.9}\n",
      "SCORE:                                                                                                                 \n",
      "5135.489705586192                                                                                                      \n",
      "{'colsample_bytree': 0.88, 'eta': 0.138, 'gamma': 0.30000000000000004, 'max_depth': 11, 'min_child_weight': 0.0, 'n_estimators': 24, 'subsample': 1.0}\n",
      "SCORE:                                                                                                                 \n",
      "2592.2866336684006                                                                                                     \n",
      "{'colsample_bytree': 0.8300000000000001, 'eta': 0.17400000000000002, 'gamma': 2.8000000000000003, 'max_depth': 11, 'min_child_weight': 2.0, 'n_estimators': 16, 'subsample': 0.76}\n",
      "SCORE:                                                                                                                 \n",
      "2852.7621176029966                                                                                                     \n",
      "{'colsample_bytree': 1.0, 'eta': 0.003, 'gamma': 2.1, 'max_depth': 11, 'min_child_weight': 1.0, 'n_estimators': 10, 'subsample': 0.58}\n",
      "SCORE:                                                                                                                 \n",
      "24834.458723190244                                                                                                     \n",
      "{'colsample_bytree': 0.72, 'eta': 0.257, 'gamma': 0.6000000000000001, 'max_depth': 2, 'min_child_weight': 1.0, 'n_estimators': 24, 'subsample': 0.81}\n"
     ]
    },
    {
     "name": "stdout",
     "output_type": "stream",
     "text": [
      "SCORE:                                                                                                                 \n",
      "3913.4726959049012                                                                                                     \n",
      "{'colsample_bytree': 0.67, 'eta': 0.098, 'gamma': 3.8000000000000003, 'max_depth': 7, 'min_child_weight': 0.0, 'n_estimators': 14, 'subsample': 0.72}\n",
      "SCORE:                                                                                                                 \n",
      "7000.758650764101                                                                                                      \n",
      "{'colsample_bytree': 0.96, 'eta': 0.135, 'gamma': 3.7, 'max_depth': 6, 'min_child_weight': 2.0, 'n_estimators': 6, 'subsample': 0.91}\n",
      "SCORE:                                                                                                                 \n",
      "11348.415291008296                                                                                                     \n",
      "{'colsample_bytree': 0.77, 'eta': 0.28300000000000003, 'gamma': 1.8, 'max_depth': 5, 'min_child_weight': 0.0, 'n_estimators': 7, 'subsample': 0.81}\n",
      "SCORE:                                                                                                                 \n",
      "4424.061066519782                                                                                                      \n",
      "{'colsample_bytree': 0.87, 'eta': 0.34700000000000003, 'gamma': 1.3, 'max_depth': 15, 'min_child_weight': 10.0, 'n_estimators': 26, 'subsample': 0.99}\n",
      "SCORE:                                                                                                                 \n",
      "2451.446429599732                                                                                                      \n",
      "{'colsample_bytree': 0.6900000000000001, 'eta': 0.056, 'gamma': 1.0, 'max_depth': 19, 'min_child_weight': 1.0, 'n_estimators': 24, 'subsample': 0.19}\n",
      "SCORE:                                                                                                                 \n",
      "7606.084940337881                                                                                                      \n",
      "{'colsample_bytree': 0.63, 'eta': 0.17400000000000002, 'gamma': 0.0, 'max_depth': 3, 'min_child_weight': 2.0, 'n_estimators': 5, 'subsample': 0.46}\n",
      "SCORE:                                                                                                                 \n",
      "11226.044035466075                                                                                                     \n",
      "{'colsample_bytree': 0.74, 'eta': 0.023, 'gamma': 3.0, 'max_depth': 16, 'min_child_weight': 3.0, 'n_estimators': 18, 'subsample': 0.88}\n",
      "SCORE:                                                                                                                 \n",
      "17154.703320425368                                                                                                     \n",
      "{'colsample_bytree': 0.84, 'eta': 0.20500000000000002, 'gamma': 2.5, 'max_depth': 4, 'min_child_weight': 1.0, 'n_estimators': 28, 'subsample': 0.35000000000000003}\n",
      "SCORE:                                                                                                                 \n",
      "3215.0674205575533                                                                                                     \n",
      "{'colsample_bytree': 0.9500000000000001, 'eta': 0.105, 'gamma': 4.7, 'max_depth': 8, 'min_child_weight': 0.0, 'n_estimators': 11, 'subsample': 0.62}\n",
      "SCORE:                                                                                                                 \n",
      "8341.96102987525                                                                                                       \n",
      "{'colsample_bytree': 0.78, 'eta': 0.281, 'gamma': 2.0, 'max_depth': 17, 'min_child_weight': 2.0, 'n_estimators': 20, 'subsample': 0.9500000000000001}\n",
      "SCORE:                                                                                                                 \n",
      "2572.4891243717584                                                                                                     \n",
      "{'colsample_bytree': 0.98, 'eta': 0.373, 'gamma': 3.4000000000000004, 'max_depth': 11, 'min_child_weight': 3.0, 'n_estimators': 9, 'subsample': 0.56}\n",
      "SCORE:                                                                                                                 \n",
      "2684.2861079861364                                                                                                     \n",
      "{'colsample_bytree': 0.92, 'eta': 0.333, 'gamma': 4.2, 'max_depth': 9, 'min_child_weight': 0.0, 'n_estimators': 3, 'subsample': 0.78}\n",
      "SCORE:                                                                                                                 \n",
      "8473.719879166716                                                                                                      \n",
      "{'colsample_bytree': 0.58, 'eta': 0.23500000000000001, 'gamma': 0.8, 'max_depth': 14, 'min_child_weight': 2.0, 'n_estimators': 8, 'subsample': 0.8300000000000001}\n",
      "SCORE:                                                                                                                 \n",
      "4306.266166241963                                                                                                      \n",
      "{'colsample_bytree': 0.68, 'eta': 0.045, 'gamma': 0.4, 'max_depth': 12, 'min_child_weight': 8.0, 'n_estimators': 23, 'subsample': 0.72}\n",
      "SCORE:                                                                                                                 \n",
      "9618.411277100311                                                                                                      \n",
      "{'colsample_bytree': 0.89, 'eta': 0.314, 'gamma': 3.9000000000000004, 'max_depth': 7, 'min_child_weight': 10.0, 'n_estimators': 2, 'subsample': 0.15}\n",
      "SCORE:                                                                                                                 \n",
      "13187.133281660022                                                                                                     \n",
      "{'colsample_bytree': 0.6, 'eta': 0.444, 'gamma': 1.5, 'max_depth': 11, 'min_child_weight': 5.0, 'n_estimators': 25, 'subsample': 0.65}\n",
      "SCORE:                                                                                                                 \n",
      "2515.0851219262267                                                                                                     \n",
      "{'colsample_bytree': 0.85, 'eta': 0.159, 'gamma': 5.300000000000001, 'max_depth': 5, 'min_child_weight': 1.0, 'n_estimators': 12, 'subsample': 0.96}\n",
      "SCORE:                                                                                                                 \n",
      "4738.34437416997                                                                                                       \n",
      "{'colsample_bytree': 0.4, 'eta': 0.27, 'gamma': 6.4, 'max_depth': 6, 'min_child_weight': 2.0, 'n_estimators': 15, 'subsample': 0.43}\n",
      "SCORE:                                                                                                                 \n",
      "3130.7232806276397                                                                                                     \n",
      "{'colsample_bytree': 0.65, 'eta': 0.378, 'gamma': 3.3000000000000003, 'max_depth': 3, 'min_child_weight': 8.0, 'n_estimators': 17, 'subsample': 0.86}\n",
      "SCORE:                                                                                                                 \n",
      "3475.724843993658                                                                                                      \n",
      "{'colsample_bytree': 0.75, 'eta': 0.20600000000000002, 'gamma': 2.6, 'max_depth': 16, 'min_child_weight': 0.0, 'n_estimators': 19, 'subsample': 0.93}\n",
      "SCORE:                                                                                                                 \n",
      "2435.894243086232                                                                                                      \n",
      "{'colsample_bytree': 0.75, 'eta': 0.23700000000000002, 'gamma': 6.0, 'max_depth': 16, 'min_child_weight': 7.0, 'n_estimators': 19, 'subsample': 0.27}\n",
      "SCORE:                                                                                                                 \n",
      "2839.8704186785235                                                                                                     \n",
      "{'colsample_bytree': 0.81, 'eta': 0.079, 'gamma': 4.3, 'max_depth': 16, 'min_child_weight': 4.0, 'n_estimators': 19, 'subsample': 0.04}\n",
      "SCORE:                                                                                                                 \n",
      "7491.402924874904                                                                                                      \n",
      "{'colsample_bytree': 0.71, 'eta': 0.20800000000000002, 'gamma': 2.7, 'max_depth': 16, 'min_child_weight': 0.0, 'n_estimators': 21, 'subsample': 0.93}\n",
      "SCORE:                                                                                                                 \n",
      "2369.2353276555914                                                                                                     \n",
      "{'colsample_bytree': 0.54, 'eta': 0.131, 'gamma': 2.8000000000000003, 'max_depth': 16, 'min_child_weight': 0.0, 'n_estimators': 21, 'subsample': 0.93}\n",
      "SCORE:                                                                                                                 \n",
      "3033.93528981563                                                                                                       \n",
      "{'colsample_bytree': 0.72, 'eta': 0.213, 'gamma': 5.1000000000000005, 'max_depth': 16, 'min_child_weight': 1.0, 'n_estimators': 21, 'subsample': 0.97}\n",
      "SCORE:                                                                                                                 \n",
      "2426.481429953664                                                                                                      \n",
      "{'colsample_bytree': 0.49, 'eta': 0.146, 'gamma': 5.1000000000000005, 'max_depth': 16, 'min_child_weight': 1.0, 'n_estimators': 21, 'subsample': 0.99}\n",
      "SCORE:                                                                                                                 \n",
      "2868.5850527459356                                                                                                     \n",
      "{'colsample_bytree': 0.7000000000000001, 'eta': 0.309, 'gamma': 5.800000000000001, 'max_depth': 16, 'min_child_weight': 3.0, 'n_estimators': 21, 'subsample': 0.85}\n",
      "SCORE:                                                                                                                 \n",
      "2422.253560454008                                                                                                      \n",
      "{'colsample_bytree': 0.64, 'eta': 0.41000000000000003, 'gamma': 6.7, 'max_depth': 18, 'min_child_weight': 3.0, 'n_estimators': 21, 'subsample': 0.6900000000000001}\n",
      "SCORE:                                                                                                                 \n",
      "2533.7412294444994                                                                                                     \n",
      "{'colsample_bytree': 0.58, 'eta': 0.47300000000000003, 'gamma': 6.0, 'max_depth': 15, 'min_child_weight': 5.0, 'n_estimators': 4, 'subsample': 0.79}\n",
      "SCORE:                                                                                                                 \n",
      "3658.9464093745846                                                                                                     \n",
      "{'colsample_bytree': 0.67, 'eta': 0.328, 'gamma': 7.0, 'max_depth': 4, 'min_child_weight': 4.0, 'n_estimators': 13, 'subsample': 0.8300000000000001}\n",
      "SCORE:                                                                                                                 \n",
      "3273.322134766225                                                                                                      \n",
      "{'colsample_bytree': 0.42, 'eta': 0.297, 'gamma': 4.6000000000000005, 'max_depth': 2, 'min_child_weight': 3.0, 'n_estimators': 22, 'subsample': 0.74}\n",
      "SCORE:                                                                                                                 \n",
      "3909.3330190912816                                                                                                     \n",
      "{'colsample_bytree': 0.7000000000000001, 'eta': 0.504, 'gamma': 5.5, 'max_depth': 19, 'min_child_weight': 6.0, 'n_estimators': 27, 'subsample': 0.87}\n",
      "SCORE:                                                                                                                 \n",
      "2568.438545991161                                                                                                      \n",
      "{'colsample_bytree': 0.52, 'eta': 0.428, 'gamma': 4.0, 'max_depth': 8, 'min_child_weight': 2.0, 'n_estimators': 21, 'subsample': 0.77}\n",
      "SCORE:                                                                                                                 \n",
      "2596.359559369384                                                                                                      \n",
      "{'colsample_bytree': 0.56, 'eta': 0.25, 'gamma': 8.0, 'max_depth': 9, 'min_child_weight': 5.0, 'n_estimators': 10, 'subsample': 0.49}\n",
      "SCORE:                                                                                                                 \n",
      "3570.693776052287                                                                                                      \n",
      "{'colsample_bytree': 0.49, 'eta': 0.39, 'gamma': 7.4, 'max_depth': 17, 'min_child_weight': 1.0, 'n_estimators': 6, 'subsample': 0.89}\n",
      "SCORE:                                                                                                                 \n",
      "3385.1452927715613                                                                                                     \n",
      "{'colsample_bytree': 0.62, 'eta': 0.124, 'gamma': 3.6, 'max_depth': 12, 'min_child_weight': 4.0, 'n_estimators': 14, 'subsample': 0.84}\n",
      "SCORE:                                                                                                                 \n",
      "5120.725136158402                                                                                                      \n",
      "{'colsample_bytree': 0.8200000000000001, 'eta': 0.258, 'gamma': 5.800000000000001, 'max_depth': 16, 'min_child_weight': 3.0, 'n_estimators': 16, 'subsample': 0.59}\n",
      "SCORE:                                                                                                                 \n",
      "2550.603218389059                                                                                                      \n",
      "{'colsample_bytree': 0.78, 'eta': 0.186, 'gamma': 3.0, 'max_depth': 7, 'min_child_weight': 2.0, 'n_estimators': 29, 'subsample': 0.54}\n",
      "SCORE:                                                                                                                 \n",
      "2626.0836386271517                                                                                                     \n",
      "{'colsample_bytree': 0.38, 'eta': 0.361, 'gamma': 9.200000000000001, 'max_depth': 16, 'min_child_weight': 0.0, 'n_estimators': 26, 'subsample': 0.73}\n",
      "SCORE:                                                                                                                 \n",
      "2697.340735272119                                                                                                      \n",
      "{'colsample_bytree': 0.72, 'eta': 0.226, 'gamma': 6.7, 'max_depth': 5, 'min_child_weight': 6.0, 'n_estimators': 5, 'subsample': 0.67}\n",
      "SCORE:                                                                                                                 \n",
      "8156.475308815595                                                                                                      \n",
      "{'colsample_bytree': 0.66, 'eta': 0.109, 'gamma': 1.8, 'max_depth': 14, 'min_child_weight': 1.0, 'n_estimators': 7, 'subsample': 1.0}\n",
      "SCORE:                                                                                                                 \n",
      "11922.539467718629                                                                                                     \n",
      "{'colsample_bytree': 0.61, 'eta': 0.527, 'gamma': 9.9, 'max_depth': 10, 'min_child_weight': 3.0, 'n_estimators': 21, 'subsample': 0.61}\n"
     ]
    },
    {
     "name": "stdout",
     "output_type": "stream",
     "text": [
      "SCORE:                                                                                                                 \n",
      "2821.4505077159497                                                                                                     \n",
      "{'colsample_bytree': 0.92, 'eta': 0.156, 'gamma': 2.4000000000000004, 'max_depth': 18, 'min_child_weight': 0.0, 'n_estimators': 18, 'subsample': 0.38}\n",
      "SCORE:                                                                                                                 \n",
      "3052.9084802576945                                                                                                     \n",
      "{'colsample_bytree': 0.47000000000000003, 'eta': 0.035, 'gamma': 4.6000000000000005, 'max_depth': 6, 'min_child_weight': 2.0, 'n_estimators': 28, 'subsample': 0.85}\n",
      "SCORE:                                                                                                                 \n",
      "10460.292342428062                                                                                                     \n",
      "{'colsample_bytree': 0.56, 'eta': 0.07200000000000001, 'gamma': 3.5, 'max_depth': 13, 'min_child_weight': 4.0, 'n_estimators': 20, 'subsample': 0.71}\n",
      "SCORE:                                                                                                                 \n",
      "6832.646631400895                                                                                                      \n",
      "{'colsample_bytree': 0.77, 'eta': 0.192, 'gamma': 4.9, 'max_depth': 3, 'min_child_weight': 0.0, 'n_estimators': 11, 'subsample': 0.23}\n",
      "SCORE:                                                                                                                 \n",
      "5182.563913107929                                                                                                      \n",
      "{'colsample_bytree': 0.6900000000000001, 'eta': 0.31, 'gamma': 1.4000000000000001, 'max_depth': 15, 'min_child_weight': 7.0, 'n_estimators': 2, 'subsample': 0.63}\n",
      "SCORE:                                                                                                                 \n",
      "12863.531736357185                                                                                                     \n",
      "{'colsample_bytree': 0.44, 'eta': 0.273, 'gamma': 0.9, 'max_depth': 19, 'min_child_weight': 1.0, 'n_estimators': 3, 'subsample': 0.8200000000000001}\n",
      "SCORE:                                                                                                                 \n",
      "10862.799635380115                                                                                                     \n",
      "{'colsample_bytree': 0.8, 'eta': 0.578, 'gamma': 4.1000000000000005, 'max_depth': 2, 'min_child_weight': 5.0, 'n_estimators': 9, 'subsample': 0.75}\n",
      "SCORE:                                                                                                                 \n",
      "4391.881780060548                                                                                                      \n",
      "{'colsample_bytree': 0.59, 'eta': 0.012, 'gamma': 8.5, 'max_depth': 8, 'min_child_weight': 9.0, 'n_estimators': 25, 'subsample': 0.97}\n",
      "SCORE:                                                                                                                 \n",
      "19219.077692312738                                                                                                     \n",
      "{'colsample_bytree': 0.87, 'eta': 0.341, 'gamma': 6.2, 'max_depth': 11, 'min_child_weight': 2.0, 'n_estimators': 12, 'subsample': 0.91}\n",
      "SCORE:                                                                                                                 \n",
      "2577.9873844362282                                                                                                     \n",
      "{'colsample_bytree': 0.63, 'eta': 0.397, 'gamma': 2.8000000000000003, 'max_depth': 4, 'min_child_weight': 3.0, 'n_estimators': 24, 'subsample': 0.9500000000000001}\n",
      "SCORE:                                                                                                                 \n",
      "3029.843642251083                                                                                                      \n",
      "{'colsample_bytree': 0.74, 'eta': 0.468, 'gamma': 7.7, 'max_depth': 9, 'min_child_weight': 7.0, 'n_estimators': 23, 'subsample': 0.79}\n",
      "SCORE:                                                                                                                 \n",
      "2532.6833298699685                                                                                                     \n",
      "{'colsample_bytree': 0.89, 'eta': 0.093, 'gamma': 1.2000000000000002, 'max_depth': 17, 'min_child_weight': 1.0, 'n_estimators': 8, 'subsample': 0.93}\n",
      "SCORE:                                                                                                                 \n",
      "12197.531060134334                                                                                                     \n",
      "{'colsample_bytree': 0.71, 'eta': 0.299, 'gamma': 3.1, 'max_depth': 16, 'min_child_weight': 6.0, 'n_estimators': 15, 'subsample': 0.87}\n",
      "SCORE:                                                                                                                 \n",
      "2437.87078001701                                                                                                       \n",
      "{'colsample_bytree': 0.5, 'eta': 0.756, 'gamma': 0.2, 'max_depth': 16, 'min_child_weight': 8.0, 'n_estimators': 21, 'subsample': 0.89}\n",
      "SCORE:                                                                                                                 \n",
      "3051.7676792140587                                                                                                     \n",
      "{'colsample_bytree': 0.79, 'eta': 0.678, 'gamma': 7.2, 'max_depth': 14, 'min_child_weight': 4.0, 'n_estimators': 22, 'subsample': 0.6900000000000001}\n",
      "SCORE:                                                                                                                 \n",
      "2876.643132474305                                                                                                      \n",
      "100%|██████████████████████████████████████████████| 100/100 [00:39<00:00,  2.55trial/s, best loss: 5611646.6677155495]\n",
      "{'colsample_bytree': 0.67, 'eta': 0.18, 'gamma': 2.5, 'max_depth': 9, 'min_child_weight': 0.0, 'n_estimators': 22, 'subsample': 0.92}\n"
     ]
    }
   ],
   "source": [
    "trials = Trials()\n",
    "best = fmin(fn=hyperparameter_tuning,\n",
    "            space=space,\n",
    "            algo=tpe.suggest,\n",
    "            max_evals=100,\n",
    "            trials=trials)\n",
    "\n",
    "print (best)"
   ]
  },
  {
   "cell_type": "code",
   "execution_count": 357,
   "id": "olympic-leonard",
   "metadata": {},
   "outputs": [
    {
     "name": "stdout",
     "output_type": "stream",
     "text": [
      "The best hyperparameters are :  \n",
      "\n",
      "{'colsample_bytree': 0.67, 'eta': 0.18, 'gamma': 2.5, 'max_depth': 9, 'min_child_weight': 0.0, 'n_estimators': 22, 'subsample': 0.92}\n"
     ]
    }
   ],
   "source": [
    "print(\"The best hyperparameters are : \",\"\\n\")\n",
    "print(best)"
   ]
  },
  {
   "cell_type": "code",
   "execution_count": 358,
   "id": "official-exposure",
   "metadata": {},
   "outputs": [],
   "source": [
    "xgb_opt = xgb.XGBRegressor(n_estimators=best['n_estimators'],\n",
    "                             max_depth =best['max_depth'],\n",
    "                           min_child_weight=best['min_child_weight'],\n",
    "                           gamma = best['gamma'],\n",
    "                            colsample_bytree=best['colsample_bytree'],\n",
    "                            subsample=best['subsample'])"
   ]
  },
  {
   "cell_type": "code",
   "execution_count": 359,
   "id": "qualified-mozambique",
   "metadata": {},
   "outputs": [
    {
     "data": {
      "text/plain": [
       "XGBRegressor(base_score=0.5, booster='gbtree', colsample_bylevel=1,\n",
       "             colsample_bynode=1, colsample_bytree=0.67, gamma=2.5, gpu_id=-1,\n",
       "             importance_type='gain', interaction_constraints='',\n",
       "             learning_rate=0.300000012, max_delta_step=0, max_depth=9,\n",
       "             min_child_weight=0.0, missing=nan, monotone_constraints='()',\n",
       "             n_estimators=22, n_jobs=4, num_parallel_tree=1, random_state=0,\n",
       "             reg_alpha=0, reg_lambda=1, scale_pos_weight=1, subsample=0.92,\n",
       "             tree_method='exact', validate_parameters=1, verbosity=None)"
      ]
     },
     "execution_count": 359,
     "metadata": {},
     "output_type": "execute_result"
    }
   ],
   "source": [
    "xgb_opt.fit(X_train, y_train)"
   ]
  },
  {
   "cell_type": "code",
   "execution_count": 360,
   "id": "horizontal-european",
   "metadata": {},
   "outputs": [],
   "source": [
    "# Predicting the Test set results\n",
    "y_pred_XGB_OPT = xgb_opt.predict(X_test)"
   ]
  },
  {
   "cell_type": "code",
   "execution_count": 361,
   "id": "harmful-option",
   "metadata": {},
   "outputs": [
    {
     "data": {
      "image/png": "[encoded data removed]",
      "text/plain": [
       "<Figure size 864x576 with 1 Axes>"
      ]
     },
     "metadata": {},
     "output_type": "display_data"
    }
   ],
   "source": [
    "plt.figure(figsize = (12,8))\n",
    "plt.scatter(y_test, y_pred_lm_lasso, label='LASSO')\n",
    "plt.scatter(y_test, y_pred_SVM, label='SVM')\n",
    "plt.scatter(y_test, y_pred_xgb, label='XGBoost')\n",
    "plt.scatter(y_test, y_pred_XGB_OPT, label='XGBoost_HYPEROPT')\n",
    "plt.xlabel('Y Test')\n",
    "plt.ylabel('Predicted Y')\n",
    "plt.legend(loc='upper left');\n",
    "plt.grid()"
   ]
  },
  {
   "cell_type": "code",
   "execution_count": 362,
   "id": "amateur-attribute",
   "metadata": {},
   "outputs": [
    {
     "name": "stdout",
     "output_type": "stream",
     "text": [
      "RMSE using LASSO:  3778.695194685978\n",
      "RMSE using SVM:  3476.0584446469043\n",
      "RMSE using XGBoost:  2522.391862396832\n",
      "RMSE using XGBoost_HYPEROPT:  2415.8701473699252\n"
     ]
    }
   ],
   "source": [
    "mse_XGB_OPT = mean_squared_error(y_test, y_pred_XGB_OPT)\n",
    "print(\"RMSE using LASSO: \", np.sqrt(mse_lm_lasso))\n",
    "print(\"RMSE using SVM: \", np.sqrt(mse_SVM))\n",
    "print(\"RMSE using XGBoost: \", np.sqrt(MSE(y_pred_xgb,y_test)))\n",
    "print(\"RMSE using XGBoost_HYPEROPT: \", np.sqrt(mse_XGB_OPT))"
   ]
  },
  {
   "cell_type": "code",
   "execution_count": 363,
   "id": "31ebd9e2",
   "metadata": {},
   "outputs": [
    {
     "name": "stdout",
     "output_type": "stream",
     "text": [
      "R2 using LASSO:  0.891787437676187\n",
      "R2 using SVM:  0.9084268617951761\n",
      "R2 using XGBoost:  0.9517809031981962\n",
      "R2 using XGBoost_HYPEROPT:  0.9557675360081904\n"
     ]
    }
   ],
   "source": [
    "from sklearn.metrics import r2_score\n",
    "print(\"R2 using LASSO: \", r2_score(y_test, y_pred_lm_lasso))\n",
    "print(\"R2 using SVM: \",  r2_score(y_test, y_pred_SVM))\n",
    "print(\"R2 using XGBoost: \", r2_score(y_test, y_pred_xgb))\n",
    "print(\"R2 using XGBoost_HYPEROPT: \", r2_score(y_test, y_pred_XGB_OPT))"
   ]
  },
  {
   "cell_type": "markdown",
   "id": "understanding-remark",
   "metadata": {},
   "source": [
    "By looking at the RMSE and R2 scores, we can conclude that the best performing algorithm is Xgboost."
   ]
  },
  {
   "cell_type": "markdown",
   "id": "6752b410",
   "metadata": {},
   "source": [
    "Finally, for model deployment, we need to export the xgboost model:"
   ]
  },
  {
   "cell_type": "code",
   "execution_count": 71,
   "id": "bizarre-black",
   "metadata": {},
   "outputs": [],
   "source": [
    "pickle.dump(xgb_opt, open('model.pkl','wb'))"
   ]
  },
  {
   "cell_type": "markdown",
   "id": "productive-spectrum",
   "metadata": {},
   "source": [
    "# DEBUG FOR ML DEPLOYMENT"
   ]
  },
  {
   "cell_type": "code",
   "execution_count": 72,
   "id": "protective-gothic",
   "metadata": {},
   "outputs": [
    {
     "data": {
      "text/html": [
       "<div>\n",
       "<style scoped>\n",
       "    .dataframe tbody tr th:only-of-type {\n",
       "        vertical-align: middle;\n",
       "    }\n",
       "\n",
       "    .dataframe tbody tr th {\n",
       "        vertical-align: top;\n",
       "    }\n",
       "\n",
       "    .dataframe thead th {\n",
       "        text-align: right;\n",
       "    }\n",
       "</style>\n",
       "<table border=\"1\" class=\"dataframe\">\n",
       "  <thead>\n",
       "    <tr style=\"text-align: right;\">\n",
       "      <th></th>\n",
       "      <th>model</th>\n",
       "      <th>year</th>\n",
       "      <th>transmission</th>\n",
       "      <th>fuelType</th>\n",
       "      <th>mileage</th>\n",
       "      <th>tax</th>\n",
       "      <th>mpg</th>\n",
       "      <th>engineSize</th>\n",
       "      <th>price</th>\n",
       "    </tr>\n",
       "  </thead>\n",
       "  <tbody>\n",
       "    <tr>\n",
       "      <th>0</th>\n",
       "      <td>A1</td>\n",
       "      <td>2017</td>\n",
       "      <td>Manual</td>\n",
       "      <td>Petrol</td>\n",
       "      <td>15735</td>\n",
       "      <td>150</td>\n",
       "      <td>55.4</td>\n",
       "      <td>1.4</td>\n",
       "      <td>12500</td>\n",
       "    </tr>\n",
       "    <tr>\n",
       "      <th>1</th>\n",
       "      <td>A6</td>\n",
       "      <td>2016</td>\n",
       "      <td>Automatic</td>\n",
       "      <td>Diesel</td>\n",
       "      <td>36203</td>\n",
       "      <td>20</td>\n",
       "      <td>64.2</td>\n",
       "      <td>2.0</td>\n",
       "      <td>16500</td>\n",
       "    </tr>\n",
       "    <tr>\n",
       "      <th>2</th>\n",
       "      <td>A1</td>\n",
       "      <td>2016</td>\n",
       "      <td>Manual</td>\n",
       "      <td>Petrol</td>\n",
       "      <td>29946</td>\n",
       "      <td>30</td>\n",
       "      <td>55.4</td>\n",
       "      <td>1.4</td>\n",
       "      <td>11000</td>\n",
       "    </tr>\n",
       "    <tr>\n",
       "      <th>3</th>\n",
       "      <td>A4</td>\n",
       "      <td>2017</td>\n",
       "      <td>Automatic</td>\n",
       "      <td>Diesel</td>\n",
       "      <td>25952</td>\n",
       "      <td>145</td>\n",
       "      <td>67.3</td>\n",
       "      <td>2.0</td>\n",
       "      <td>16800</td>\n",
       "    </tr>\n",
       "    <tr>\n",
       "      <th>4</th>\n",
       "      <td>A3</td>\n",
       "      <td>2019</td>\n",
       "      <td>Manual</td>\n",
       "      <td>Petrol</td>\n",
       "      <td>1998</td>\n",
       "      <td>145</td>\n",
       "      <td>49.6</td>\n",
       "      <td>1.0</td>\n",
       "      <td>17300</td>\n",
       "    </tr>\n",
       "  </tbody>\n",
       "</table>\n",
       "</div>"
      ],
      "text/plain": [
       "  model  year transmission fuelType  mileage  tax   mpg  engineSize  price\n",
       "0    A1  2017       Manual   Petrol    15735  150  55.4         1.4  12500\n",
       "1    A6  2016    Automatic   Diesel    36203   20  64.2         2.0  16500\n",
       "2    A1  2016       Manual   Petrol    29946   30  55.4         1.4  11000\n",
       "3    A4  2017    Automatic   Diesel    25952  145  67.3         2.0  16800\n",
       "4    A3  2019       Manual   Petrol     1998  145  49.6         1.0  17300"
      ]
     },
     "execution_count": 72,
     "metadata": {},
     "output_type": "execute_result"
    }
   ],
   "source": [
    "df.head()"
   ]
  },
  {
   "cell_type": "code",
   "execution_count": 73,
   "id": "informative-noise",
   "metadata": {},
   "outputs": [],
   "source": [
    "feat=['A1','2017','Manual','Petrol','15735','150','55.4','1.4']"
   ]
  },
  {
   "cell_type": "code",
   "execution_count": 74,
   "id": "literary-status",
   "metadata": {},
   "outputs": [
    {
     "data": {
      "text/plain": [
       "['15735', '150', '55.4', '1.4']"
      ]
     },
     "execution_count": 74,
     "metadata": {},
     "output_type": "execute_result"
    }
   ],
   "source": [
    "num_feat = feat[4:8]\n",
    "num_feat"
   ]
  },
  {
   "cell_type": "code",
   "execution_count": 75,
   "id": "interpreted-swing",
   "metadata": {},
   "outputs": [
    {
     "data": {
      "text/html": [
       "<div>\n",
       "<style scoped>\n",
       "    .dataframe tbody tr th:only-of-type {\n",
       "        vertical-align: middle;\n",
       "    }\n",
       "\n",
       "    .dataframe tbody tr th {\n",
       "        vertical-align: top;\n",
       "    }\n",
       "\n",
       "    .dataframe thead th {\n",
       "        text-align: right;\n",
       "    }\n",
       "</style>\n",
       "<table border=\"1\" class=\"dataframe\">\n",
       "  <thead>\n",
       "    <tr style=\"text-align: right;\">\n",
       "      <th></th>\n",
       "      <th>model</th>\n",
       "      <th>year</th>\n",
       "      <th>transmission</th>\n",
       "      <th>fuelType</th>\n",
       "    </tr>\n",
       "  </thead>\n",
       "  <tbody>\n",
       "    <tr>\n",
       "      <th>0</th>\n",
       "      <td>A1</td>\n",
       "      <td>2017</td>\n",
       "      <td>Manual</td>\n",
       "      <td>Petrol</td>\n",
       "    </tr>\n",
       "  </tbody>\n",
       "</table>\n",
       "</div>"
      ],
      "text/plain": [
       "  model  year transmission fuelType\n",
       "0    A1  2017       Manual   Petrol"
      ]
     },
     "execution_count": 75,
     "metadata": {},
     "output_type": "execute_result"
    }
   ],
   "source": [
    "df_cat=pd.DataFrame([feat[0:4]], columns=['model','year','transmission','fuelType'])\n",
    "df_cat"
   ]
  },
  {
   "cell_type": "code",
   "execution_count": 76,
   "id": "sought-fifth",
   "metadata": {},
   "outputs": [],
   "source": [
    "df_cat.year=int(df_cat.year)"
   ]
  },
  {
   "cell_type": "code",
   "execution_count": 77,
   "id": "occupied-maryland",
   "metadata": {},
   "outputs": [],
   "source": [
    "cat_feat = enc.transform(df_cat).toarray()"
   ]
  },
  {
   "cell_type": "code",
   "execution_count": 78,
   "id": "friendly-import",
   "metadata": {},
   "outputs": [],
   "source": [
    "enc_feat = np.append(num_feat, cat_feat)"
   ]
  },
  {
   "cell_type": "code",
   "execution_count": 79,
   "id": "second-springer",
   "metadata": {},
   "outputs": [],
   "source": [
    "scaled_feat=scaler.transform(enc_feat.reshape(1,-1))"
   ]
  },
  {
   "cell_type": "code",
   "execution_count": 80,
   "id": "1f688c3f",
   "metadata": {},
   "outputs": [
    {
     "data": {
      "text/plain": [
       "(1, 57)"
      ]
     },
     "execution_count": 80,
     "metadata": {},
     "output_type": "execute_result"
    }
   ],
   "source": [
    "scaled_feat.shape"
   ]
  },
  {
   "cell_type": "code",
   "execution_count": 81,
   "id": "massive-differential",
   "metadata": {},
   "outputs": [
    {
     "data": {
      "text/plain": [
       "14252.043"
      ]
     },
     "execution_count": 81,
     "metadata": {},
     "output_type": "execute_result"
    }
   ],
   "source": [
    "prediction = xgb_opt.predict(scaled_feat)[0]\n",
    "prediction"
   ]
  }
 ],
 "metadata": {
  "kernelspec": {
   "display_name": "Python 3",
   "language": "python",
   "name": "python3"
  },
  "language_info": {
   "codemirror_mode": {
    "name": "ipython",
    "version": 3
   },
   "file_extension": ".py",
   "mimetype": "text/x-python",
   "name": "python",
   "nbconvert_exporter": "python",
   "pygments_lexer": "ipython3",
   "version": "3.8.5"
  }
 },
 "nbformat": 4,
 "nbformat_minor": 5
}
